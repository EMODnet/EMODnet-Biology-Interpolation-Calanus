{
 "cells": [
  {
   "cell_type": "markdown",
   "id": "covered-mozambique",
   "metadata": {},
   "source": [
    "Plots of the observations, the mask and some histograms.      \n",
    "The interpolation will be performed in notebook [interp_Calanus](interp_Calanus.ipynb)."
   ]
  },
  {
   "cell_type": "code",
   "execution_count": 1,
   "id": "formal-relief",
   "metadata": {},
   "outputs": [
    {
     "data": {
      "text/plain": [
       "PyPlot"
      ]
     },
     "execution_count": 1,
     "metadata": {},
     "output_type": "execute_result"
    }
   ],
   "source": [
    "using CSV\n",
    "using Dates\n",
    "using DelimitedFiles \n",
    "using NCDatasets\n",
    "using PyPlot\n",
    "using DIVAnd\n",
    "using Statistics\n",
    "const plt=PyPlot\n",
    "\n",
    "using PyCall\n",
    "using PyPlot\n",
    "colors = PyCall.pyimport(\"matplotlib.colors\")\n",
    "ccrs = PyCall.pyimport(\"cartopy.crs\")\n",
    "cfeature = PyCall.pyimport(\"cartopy.feature\")\n",
    "mticker = PyCall.pyimport(\"matplotlib.ticker\")\n",
    "coast = cfeature.GSHHSFeature(scale=\"full\");\n",
    "cartopyticker = PyCall.pyimport(\"cartopy.mpl.ticker\")\n",
    "lon_formatter = cartopyticker.LongitudeFormatter()\n",
    "lat_formatter = cartopyticker.LatitudeFormatter()\n",
    "cmocean = PyCall.pyimport(\"cmocean\")"
   ]
  },
  {
   "cell_type": "markdown",
   "id": "intermediate-generic",
   "metadata": {},
   "source": [
    "## 1. Setting\n",
    "### 1.1 Colors, domain, projection "
   ]
  },
  {
   "cell_type": "code",
   "execution_count": 74,
   "id": "expired-operator",
   "metadata": {},
   "outputs": [],
   "source": [
    "mycolor = \"#6667AB\"\n",
    "mycolor2 = \"#456A30\" # Green treetop\n",
    "dom = [-20.5, 11.75, 41.25, 67.]\n",
    "mainproj = ccrs.Mercator(central_longitude=0.5*(dom[1] + dom[2]),\n",
    "    min_latitude=dom[3], max_latitude=dom[4])\n",
    "datacrs = ccrs.PlateCarree();"
   ]
  },
  {
   "cell_type": "markdown",
   "id": "located-importance",
   "metadata": {},
   "source": [
    "### 1.2 Files and directories"
   ]
  },
  {
   "cell_type": "code",
   "execution_count": 75,
   "id": "inclusive-proportion",
   "metadata": {},
   "outputs": [
    {
     "data": {
      "text/plain": [
       "(true, true)"
      ]
     },
     "execution_count": 75,
     "metadata": {},
     "output_type": "execute_result"
    }
   ],
   "source": [
    "datadir = \"../data/\"\n",
    "figdir = \"../figures/L05\"\n",
    "resdir = \"../results/L05\"\n",
    "resdirm = \"../results/monthly/L05\"\n",
    "isdir(resdir) ? @debug(\"already there\") : mkpath(resdir)\n",
    "isdir(resdirm) ? @debug(\"already there\") : mkpath(resdirm)\n",
    "isdir(figdir) ? @debug(\"already there\") : mkpath(figdir)\n",
    "datafile = joinpath(datadir, \"MBA_CPRdata_Emodnet_21Jan22.csv\")\n",
    "isfile(datafile) ? @debug(\"already downloaded\") : download(\"https://dox.ulg.ac.be/index.php/s/hjWKf1F3C1Pzz1r/download\", datafile)\n",
    "bathfile = joinpath(datadir, \"gebco_30sec_16.nc\")\n",
    "isfile(datafile), isfile(bathfile)"
   ]
  },
  {
   "cell_type": "markdown",
   "id": "removable-shopper",
   "metadata": {},
   "source": [
    "### 1.3 Grid configuration"
   ]
  },
  {
   "cell_type": "code",
   "execution_count": 78,
   "id": "indoor-cricket",
   "metadata": {},
   "outputs": [
    {
     "data": {
      "text/plain": [
       "41.25:0.5:66.75"
      ]
     },
     "execution_count": 78,
     "metadata": {},
     "output_type": "execute_result"
    }
   ],
   "source": [
    "Δlon = 0.5\n",
    "Δlat = 0.5\n",
    "longrid = dom[1]:Δlon:dom[2]\n",
    "latgrid = dom[3]:Δlat:dom[4]"
   ]
  },
  {
   "cell_type": "markdown",
   "id": "beginning-petite",
   "metadata": {},
   "source": [
    "## 2. Analysis preparation\n",
    "### 2.1 Metrics"
   ]
  },
  {
   "cell_type": "code",
   "execution_count": 79,
   "id": "incoming-glance",
   "metadata": {},
   "outputs": [
    {
     "name": "stderr",
     "output_type": "stream",
     "text": [
      "┌ Info: (65, 52)\n",
      "└ @ Main In[79]:2\n"
     ]
    }
   ],
   "source": [
    "_, (pm, pn), (xi, yi) = DIVAnd_rectdom(longrid, latgrid);\n",
    "@info(size(xi));"
   ]
  },
  {
   "cell_type": "markdown",
   "id": "hindu-settlement",
   "metadata": {},
   "source": [
    "### Prepare mask"
   ]
  },
  {
   "cell_type": "code",
   "execution_count": 80,
   "id": "necessary-cologne",
   "metadata": {},
   "outputs": [
    {
     "name": "stdout",
     "output_type": "stream",
     "text": [
      "size(b) = (65, 52)\n"
     ]
    },
    {
     "data": {
      "text/plain": [
       "(65, 52)"
      ]
     },
     "execution_count": 80,
     "metadata": {},
     "output_type": "execute_result"
    }
   ],
   "source": [
    "bx, by, b = DIVAnd.load_bath(bathfile, true, longrid, latgrid)\n",
    "@show size(b)"
   ]
  },
  {
   "cell_type": "code",
   "execution_count": 81,
   "id": "scheduled-excitement",
   "metadata": {},
   "outputs": [],
   "source": [
    "if makeplot\n",
    "    fig = plt.figure(figsize=(12, 12))\n",
    "    ax = plt.subplot(111, projection=mainproj)\n",
    "    pcm = ax.pcolormesh(bx, by, b', vmin=0., cmap=PyPlot.cm.gist_earth, transform=datacrs);\n",
    "    ax.add_feature(coast, facecolor=\"#363636\", edgecolor=\"k\", zorder=5)\n",
    "\n",
    "    gl = ax.gridlines(crs=ccrs.PlateCarree(), draw_labels=true,\n",
    "                          linewidth=.5, color=\"gray\", alpha=1, linestyle=\"--\")\n",
    "    gl.top_labels = false\n",
    "    gl.right_labels = false\n",
    "    gl.xformatter = lon_formatter\n",
    "    gl.yformatter = lat_formatter\n",
    "    gl.xlabel_style = Dict(\"size\" => 10)\n",
    "    gl.ylabel_style = Dict(\"size\" => 10)\n",
    "\n",
    "    cb = plt.colorbar(pcm, orientation=\"vertical\")\n",
    "    cb.set_label(\"Depth (m)\", rotation=0, ha=\"left\")\n",
    "    plt.savefig(joinpath(figdir, \"domain_bathy_050\"), dpi=300, bbox_inches=\"tight\")\n",
    "    plt.close()\n",
    "end"
   ]
  },
  {
   "cell_type": "code",
   "execution_count": 82,
   "id": "demonstrated-favorite",
   "metadata": {},
   "outputs": [],
   "source": [
    "_, _, mask = DIVAnd.load_mask(bathfile, true, longrid, latgrid, 0.0);\n",
    "# Remove Mediterranean Sea\n",
    "\n",
    "# - Resolution = 0.1°\n",
    "# mask[220:end,1:60] .= 0;\n",
    "\n",
    "# - Resolution = 0.5°\n",
    "maskindex = findall((xi .>= 0.) .& (yi .<= 47.))\n",
    "mask[maskindex] .= 0.;"
   ]
  },
  {
   "cell_type": "code",
   "execution_count": 83,
   "id": "written-operation",
   "metadata": {},
   "outputs": [],
   "source": [
    "if makeplot\n",
    "\n",
    "    fig = plt.figure(figsize=(12, 12))\n",
    "    ax = plt.subplot(111, projection=mainproj)\n",
    "    pcm = ax.pcolormesh(bx, by, mask', cmap=PyPlot.cm.binary, transform=datacrs)\n",
    "    gl = ax.gridlines(crs=ccrs.PlateCarree(), draw_labels=true,\n",
    "        linewidth=.5, color=\"gray\", alpha=1, linestyle=\"--\")\n",
    "    gl.top_labels = false\n",
    "    gl.right_labels = false\n",
    "    gl.xformatter = lon_formatter\n",
    "    gl.yformatter = lat_formatter\n",
    "    gl.xlabel_style = Dict(\"size\" => 10)\n",
    "    gl.ylabel_style = Dict(\"size\" => 10)\n",
    "\n",
    "    # plt.savefig(joinpath(figdir, \"domain_mask_050\"), dpi=300, bbox_inches=\"tight\")\n",
    "    plt.show()\n",
    "end"
   ]
  },
  {
   "cell_type": "markdown",
   "id": "surprised-investment",
   "metadata": {},
   "source": [
    "## Data reading\n",
    "### Read the CSV files and separate by columns"
   ]
  },
  {
   "cell_type": "code",
   "execution_count": 84,
   "id": "charming-switzerland",
   "metadata": {},
   "outputs": [],
   "source": [
    "data = readdlm(datafile, ',', skipstart=1);\n",
    "\n",
    "lon = data[:,3]\n",
    "lat = data[:,2]\n",
    "year = data[:,4]\n",
    "month = data[:,5]\n",
    "thedates = Date.(year, month)\n",
    "calanus_finmarchicus = data[:,6]\n",
    "calanus_helgolandicus = data[:,7];"
   ]
  },
  {
   "cell_type": "code",
   "execution_count": 85,
   "id": "determined-martial",
   "metadata": {},
   "outputs": [
    {
     "name": "stderr",
     "output_type": "stream",
     "text": [
      "┌ Info: 60\n",
      "└ @ Main In[85]:2\n",
      "┌ Info: (1959, 2018)\n",
      "└ @ Main In[85]:4\n"
     ]
    }
   ],
   "source": [
    "nyears = maximum(year) - minimum(year) + 1\n",
    "@info(nyears)\n",
    "yearcount = zeros(nyears);\n",
    "@info(extrema(year));"
   ]
  },
  {
   "cell_type": "code",
   "execution_count": 86,
   "id": "mysterious-texture",
   "metadata": {},
   "outputs": [
    {
     "data": {
      "text/plain": [
       "count_years_months (generic function with 1 method)"
      ]
     },
     "execution_count": 86,
     "metadata": {},
     "output_type": "execute_result"
    }
   ],
   "source": [
    "function count_years_months(year::Array, month::Array)\n",
    "    \n",
    "    nyears = maximum(year) - minimum(year) + 1\n",
    "    @info(nyears)\n",
    "    yearcount = zeros(nyears)\n",
    "    monthcount = zeros(12)\n",
    "    \n",
    "    ii = 0\n",
    "    for yyyy in minimum(year):maximum(year)\n",
    "        ii += 1\n",
    "        yearcount[ii] = sum(year .== yyyy)\n",
    "    end\n",
    "    \n",
    "    for mm in 1:12\n",
    "        monthcount[mm] = sum(month .== mm)\n",
    "    end\n",
    "       \n",
    "    return yearcount, monthcount\n",
    "end"
   ]
  },
  {
   "cell_type": "code",
   "execution_count": 87,
   "id": "speaking-disabled",
   "metadata": {},
   "outputs": [
    {
     "name": "stderr",
     "output_type": "stream",
     "text": [
      "┌ Info: 60\n",
      "└ @ Main In[86]:4\n"
     ]
    }
   ],
   "source": [
    "yearcount, monthcount = count_years_months(year, month);"
   ]
  },
  {
   "cell_type": "markdown",
   "id": "organizational-police",
   "metadata": {},
   "source": [
    "### Year histogram"
   ]
  },
  {
   "cell_type": "code",
   "execution_count": 88,
   "id": "rough-germany",
   "metadata": {},
   "outputs": [],
   "source": [
    "if makeplot\n",
    "\n",
    "    fig = plt.figure(figsize=(12, 8))\n",
    "    ax = plt.subplot(111)\n",
    "    plt.bar(minimum(year):maximum(year), yearcount, color=mycolor)\n",
    "    plt.savefig(joinpath(figdir, \"time_histogram_year\"), dpi=300, bbox_inches=\"tight\")\n",
    "    # plt.show()\n",
    "    plt.close()\n",
    "end"
   ]
  },
  {
   "cell_type": "markdown",
   "id": "joined-acrylic",
   "metadata": {},
   "source": [
    "### Month histogram"
   ]
  },
  {
   "cell_type": "code",
   "execution_count": 89,
   "id": "conceptual-globe",
   "metadata": {},
   "outputs": [],
   "source": [
    "if makeplot\n",
    "\n",
    "    fig = plt.figure(figsize=(12, 8))\n",
    "    ax = plt.subplot(111)\n",
    "    plt.bar(1:12, monthcount, color=mycolor)\n",
    "    ax.set_xticks(collect(1:12), Dates.monthname.(1:12))\n",
    "    fig.autofmt_xdate()\n",
    "    plt.savefig(joinpath(figdir, \"time_histogram_month\"), dpi=300, bbox_inches=\"tight\")\n",
    "    plt.show()\n",
    "    plt.close()\n",
    "end"
   ]
  },
  {
   "cell_type": "markdown",
   "id": "arbitrary-saudi",
   "metadata": {},
   "source": [
    "### Polar"
   ]
  },
  {
   "cell_type": "code",
   "execution_count": 90,
   "id": "several-cycle",
   "metadata": {},
   "outputs": [],
   "source": [
    "if makeplot\n",
    "\n",
    "    N = 12\n",
    "    theta = LinRange(0, 2 * π - π/6, N)\n",
    "    width = (1.8 * π) / N\n",
    "    fig = plt.figure(figsize=(10, 10))\n",
    "    ax = plt.subplot(111, polar=true)\n",
    "    ax.set_thetagrids(collect(0:30:330), Dates.monthname.(1:12))\n",
    "    ax.set_theta_zero_location(\"N\")\n",
    "    bars = ax.bar(theta, monthcount, width=width, color=mycolor)\n",
    "    plt.savefig(joinpath(figdir, \"time_histogram_month_polar\"), dpi=300, bbox_inches=\"tight\")\n",
    "    plt.close()\n",
    "end"
   ]
  },
  {
   "cell_type": "markdown",
   "id": "grand-david",
   "metadata": {},
   "source": [
    "## Spatial distribution"
   ]
  },
  {
   "cell_type": "code",
   "execution_count": 91,
   "id": "operating-operation",
   "metadata": {},
   "outputs": [],
   "source": [
    "if makeplot\n",
    "\n",
    "    fig = plt.figure(figsize=(12, 12))\n",
    "    ax = plt.subplot(111, projection=mainproj)\n",
    "    ax.plot(lon, lat, \"ko\", markersize=1, transform=datacrs)\n",
    "    ax.add_feature(coast, facecolor=\"#363636\", edgecolor=\"k\", zorder=5)\n",
    "\n",
    "    gl = ax.gridlines(crs=ccrs.PlateCarree(), draw_labels=true,\n",
    "                          linewidth=.5, color=\"gray\", alpha=1, linestyle=\"--\")\n",
    "    gl.top_labels = false\n",
    "    gl.right_labels = false\n",
    "    gl.xformatter = lon_formatter\n",
    "    gl.yformatter = lat_formatter\n",
    "    gl.xlabel_style = Dict(\"size\" => 10)\n",
    "    gl.ylabel_style = Dict(\"size\" => 10)\n",
    "    ax.set_title(\"Locations of the observations\")\n",
    "    plt.savefig(joinpath(figdir, \"location_obs\"), dpi=300, bbox_inches=\"tight\")\n",
    "    plt.show()\n",
    "    plt.close()\n",
    "end"
   ]
  },
  {
   "cell_type": "markdown",
   "id": "acceptable-giant",
   "metadata": {},
   "source": [
    "### Finmarchicus"
   ]
  },
  {
   "cell_type": "code",
   "execution_count": 92,
   "id": "agreed-victorian",
   "metadata": {},
   "outputs": [],
   "source": [
    "if makeplot\n",
    "    countmin = 5\n",
    "    fig = plt.figure(figsize=(12, 12))\n",
    "    ax = plt.subplot(111, projection=mainproj)\n",
    "    ax.scatter(lon, lat, s=.1, lw=.1, color=\"k\", transform=datacrs)\n",
    "    indexplot = findall(calanus_finmarchicus .>= countmin)\n",
    "    scat = ax.scatter(lon[indexplot], lat[indexplot], s=1, c=calanus_finmarchicus[indexplot], \n",
    "                      cmap=plt.cm.inferno_r, vmin=countmin, vmax=50., transform=datacrs)\n",
    "\n",
    "    cb = plt.colorbar(scat, extend=\"both\")\n",
    "\n",
    "    ax.add_feature(coast, facecolor=\"#363636\", edgecolor=\"k\", zorder=5)\n",
    "\n",
    "    gl = ax.gridlines(crs=ccrs.PlateCarree(), draw_labels=true,\n",
    "                          linewidth=.5, color=\"gray\", alpha=1, linestyle=\"--\")\n",
    "    gl.top_labels = false\n",
    "    gl.right_labels = false\n",
    "    gl.xformatter = lon_formatter\n",
    "    gl.yformatter = lat_formatter\n",
    "    gl.xlabel_style = Dict(\"size\" => 10)\n",
    "    gl.ylabel_style = Dict(\"size\" => 10)\n",
    "    ax.set_title(\"Calanus_finmarchicus observations\")\n",
    "\n",
    "    plt.savefig(joinpath(figdir, \"count_calanus_finmarchicus2.jpg\"), dpi=300, bbox_inches=\"tight\")\n",
    "\n",
    "    plt.show()\n",
    "end"
   ]
  },
  {
   "cell_type": "markdown",
   "id": "certain-eating",
   "metadata": {},
   "source": [
    "#### Location of zeros"
   ]
  },
  {
   "cell_type": "code",
   "execution_count": 93,
   "id": "smart-sheet",
   "metadata": {},
   "outputs": [],
   "source": [
    "zerosloc1 = findall(calanus_finmarchicus .== 0.)\n",
    "lonz1 = lon[zerosloc1]\n",
    "latz1 = lat[zerosloc1]\n",
    "zerosloc2 = findall(calanus_helgolandicus .== 0.)\n",
    "lonz2 = lon[zerosloc2]\n",
    "latz2 = lat[zerosloc2]\n",
    "\n",
    "if makeplot\n",
    "\n",
    "    fig = plt.figure(figsize=(12, 12))\n",
    "    ax = plt.subplot(111, projection=mainproj)\n",
    "    #ax.scatter(0, 0, s=2, lw=.1, alpha=.95, color=mycolor, transform=datacrs, label=\"0's for Calanus finmarchicus\")\n",
    "    #ax.scatter(0, 0, s=2, lw=.1, alpha=.95, color=\"#FF9935\", transform=datacrs, label=\"0's for Calanus helgolandicus\")\n",
    "    ax.scatter(lonz1, latz1, s=.5, lw=.1, alpha=.5, color=mycolor, transform=datacrs)\n",
    "    #ax.scatter(lonz2, latz2, s=.5, lw=.1, alpha=.5, color=\"#FF9935\", transform=datacrs)\n",
    "    #ax.legend()\n",
    "\n",
    "    ax.add_feature(coast, facecolor=\"#363636\", edgecolor=\"k\", zorder=5)\n",
    "\n",
    "    gl = ax.gridlines(crs=ccrs.PlateCarree(), draw_labels=true,\n",
    "                          linewidth=.5, color=\"gray\", alpha=1, linestyle=\"--\")\n",
    "    gl.top_labels = false\n",
    "    gl.right_labels = false\n",
    "    gl.xformatter = lon_formatter\n",
    "    gl.yformatter = lat_formatter\n",
    "    gl.xlabel_style = Dict(\"size\" => 10)\n",
    "    gl.ylabel_style = Dict(\"size\" => 10)\n",
    "    ax.set_title(\"Zeros for Calanus finmarchicus\")\n",
    "\n",
    "    plt.savefig(joinpath(figdir, \"zeros_calanus_finmarchicus3.jpg\"), dpi=300, bbox_inches=\"tight\")\n",
    "\n",
    "    plt.close()\n",
    "\n",
    "    fig = plt.figure(figsize=(12, 12))\n",
    "    ax = plt.subplot(111, projection=mainproj)\n",
    "    ax.scatter(lonz2, latz2, s=.5, lw=.1, alpha=.5, color=mycolor, transform=datacrs)\n",
    "\n",
    "    ax.add_feature(coast, facecolor=\"#363636\", edgecolor=\"k\", zorder=5)\n",
    "\n",
    "    gl = ax.gridlines(crs=ccrs.PlateCarree(), draw_labels=true,\n",
    "                          linewidth=.5, color=\"gray\", alpha=1, linestyle=\"--\")\n",
    "    gl.top_labels = false\n",
    "    gl.right_labels = false\n",
    "    gl.xformatter = lon_formatter\n",
    "    gl.yformatter = lat_formatter\n",
    "    gl.xlabel_style = Dict(\"size\" => 10)\n",
    "    gl.ylabel_style = Dict(\"size\" => 10)\n",
    "    ax.set_title(\"Zeros for Calanus helgolandicus\")\n",
    "\n",
    "    plt.savefig(joinpath(figdir, \"zeros_calanus_helgolandicus3.jpg\"), dpi=300, bbox_inches=\"tight\")\n",
    "\n",
    "    plt.show()\n",
    "end"
   ]
  },
  {
   "cell_type": "code",
   "execution_count": 94,
   "id": "charitable-segment",
   "metadata": {},
   "outputs": [
    {
     "data": {
      "text/plain": [
       "(0.7259951559271474, 0.6285184526334515)"
      ]
     },
     "execution_count": 94,
     "metadata": {},
     "output_type": "execute_result"
    }
   ],
   "source": [
    "length(lonz1)/length(lon), length(latz2)/length(lat)"
   ]
  },
  {
   "cell_type": "markdown",
   "id": "banner-montana",
   "metadata": {},
   "source": [
    "#### Calanus helgolandicus"
   ]
  },
  {
   "cell_type": "code",
   "execution_count": 95,
   "id": "personal-tribune",
   "metadata": {},
   "outputs": [],
   "source": [
    "if makeplot\n",
    "\n",
    "    countmin = 5\n",
    "    fig = plt.figure(figsize=(12, 12))\n",
    "    ax = plt.subplot(111, projection=mainproj)\n",
    "\n",
    "    ax.scatter(lon[calanus_helgolandicus .> 0], lat[calanus_helgolandicus .> 0], \n",
    "        s=.1, lw=.1, color=\"k\", transform=datacrs)\n",
    "    indexplot = findall(calanus_helgolandicus .>= countmin)\n",
    "    scat = ax.scatter(lon[indexplot], lat[indexplot], s=1, c=calanus_helgolandicus[indexplot], \n",
    "                      cmap=plt.cm.inferno_r, vmin=countmin, vmax=50., transform=datacrs)\n",
    "\n",
    "    cb = plt.colorbar(scat, extend=\"both\")\n",
    "\n",
    "    ax.add_feature(coast, facecolor=\"#363636\", edgecolor=\"k\", zorder=5)\n",
    "\n",
    "    gl = ax.gridlines(crs=ccrs.PlateCarree(), draw_labels=true,\n",
    "                          linewidth=.5, color=\"gray\", alpha=1, linestyle=\"--\")\n",
    "    gl.top_labels = false\n",
    "    gl.right_labels = false\n",
    "    gl.xformatter = lon_formatter\n",
    "    gl.yformatter = lat_formatter\n",
    "    gl.xlabel_style = Dict(\"size\" => 10)\n",
    "    gl.ylabel_style = Dict(\"size\" => 10)\n",
    "    ax.set_title(\"Calanus helgolandicus observations\")\n",
    "\n",
    "    plt.savefig(joinpath(figdir, \"count_calanus_helgolandicus2.jpg\"), dpi=300, bbox_inches=\"tight\")\n",
    "\n",
    "    plt.close()\n",
    "end"
   ]
  }
 ],
 "metadata": {
  "@webio": {
   "lastCommId": null,
   "lastKernelId": null
  },
  "kernelspec": {
   "display_name": "Julia 1.7.0",
   "language": "julia",
   "name": "julia-1.7"
  },
  "language_info": {
   "file_extension": ".jl",
   "mimetype": "application/julia",
   "name": "julia",
   "version": "1.7.0"
  }
 },
 "nbformat": 4,
 "nbformat_minor": 5
}
