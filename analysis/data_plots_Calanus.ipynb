{
 "cells": [
  {
   "cell_type": "markdown",
   "metadata": {},
   "source": [
    "# Data plots Calanus"
   ]
  },
  {
   "cell_type": "markdown",
   "metadata": {},
   "source": [
    "Plots of the observations, the mask and some histograms based on the observations.      \n",
    "The interpolation will be performed in notebook [interp_Calanus](interp_Calanus.ipynb)."
   ]
  },
  {
   "cell_type": "code",
   "execution_count": null,
   "metadata": {},
   "outputs": [],
   "source": [
    "using CSV\n",
    "using Dates\n",
    "using DelimitedFiles \n",
    "using NCDatasets\n",
    "using PyPlot\n",
    "using DIVAnd\n",
    "using TOML\n",
    "using Statistics\n",
    "const plt=PyPlot\n",
    "using PyCall\n",
    "using PyPlot\n",
    "mpl = PyCall.pyimport(\"matplotlib\")\n",
    "ccrs = PyCall.pyimport(\"cartopy.crs\")\n",
    "cfeature = PyCall.pyimport(\"cartopy.feature\")\n",
    "coast = cfeature.GSHHSFeature(scale=\"high\");\n",
    "cartopyticker = PyCall.pyimport(\"cartopy.mpl.ticker\")\n",
    "lon_formatter = cartopyticker.LongitudeFormatter()\n",
    "lat_formatter = cartopyticker.LatitudeFormatter()\n",
    "include(\"../src/InterpCalanus.jl\")\n",
    "mpl.style.use(\"calanus.mplstyle\")"
   ]
  },
  {
   "cell_type": "code",
   "execution_count": null,
   "metadata": {},
   "outputs": [],
   "source": [
    "makeplot = true\n",
    "usecartopy = false"
   ]
  },
  {
   "cell_type": "markdown",
   "metadata": {},
   "source": [
    "## 1. Setting"
   ]
  },
  {
   "cell_type": "code",
   "execution_count": null,
   "metadata": {},
   "outputs": [],
   "source": [
    "config = TOML.parsefile(\"./config.ini\")"
   ]
  },
  {
   "cell_type": "markdown",
   "metadata": {},
   "source": [
    "### 1.1 Colors, domain, projection "
   ]
  },
  {
   "cell_type": "code",
   "execution_count": null,
   "metadata": {},
   "outputs": [],
   "source": [
    "makeplot = true\n",
    "mycolor = \"#6667AB\"\n",
    "dom = config[\"domain\"]\n",
    "\n",
    "if usecartopy\n",
    "    mainproj = ccrs.Mercator(central_longitude=0.5*(dom[1] + dom[2]),\n",
    "        min_latitude=dom[3], max_latitude=dom[4])\n",
    "    datacrs = ccrs.PlateCarree()\n",
    "end"
   ]
  },
  {
   "cell_type": "markdown",
   "metadata": {},
   "source": [
    "### 1.2 Files and directories"
   ]
  },
  {
   "cell_type": "code",
   "execution_count": null,
   "metadata": {},
   "outputs": [],
   "source": [
    "datadir = config[\"directories\"][\"datadir\"]\n",
    "figdir = config[\"directories\"][\"resfigdir\"]\n",
    "resdir = config[\"directories\"][\"resdir\"]\n",
    "resdirm = config[\"directories\"][\"resdirm\"]\n",
    "isdir(datadir) ? @debug(\"already there\") : mkpath(datadir)\n",
    "isdir(resdir) ? @debug(\"already there\") : mkpath(resdir)\n",
    "isdir(resdirm) ? @debug(\"already there\") : mkpath(resdirm)\n",
    "isdir(figdir) ? @debug(\"already there\") : mkpath(figdir)\n",
    "datafile = joinpath(datadir, \"MBA_CPRdata_Emodnet_21Jan22.csv\")\n",
    "isfile(datafile) ? @debug(\"already downloaded\") : download(\"https://dox.ulg.ac.be/index.php/s/hjWKf1F3C1Pzz1r/download\", datafile)\n",
    "bathfile = joinpath(datadir, \"gebco_30sec_16.nc\")\n",
    "isfile(bathfile) ? @debug(\"already downloaded\") : download(\"https://dox.ulg.ac.be/index.php/s/U0pqyXhcQrXjEUX/download\", bathfile)\n",
    "isfile(datafile), isfile(bathfile)"
   ]
  },
  {
   "cell_type": "markdown",
   "metadata": {},
   "source": [
    "### 1.3 Grid configuration"
   ]
  },
  {
   "cell_type": "code",
   "execution_count": null,
   "metadata": {},
   "outputs": [],
   "source": [
    "Δlon = config[\"dlon\"]\n",
    "Δlat = config[\"dlat\"]\n",
    "longrid = dom[1]:Δlon:dom[2]\n",
    "latgrid = dom[3]:Δlat:dom[4]"
   ]
  },
  {
   "cell_type": "markdown",
   "metadata": {},
   "source": [
    "## 2. Analysis preparation\n",
    "### 2.1 Metrics"
   ]
  },
  {
   "cell_type": "code",
   "execution_count": null,
   "metadata": {},
   "outputs": [],
   "source": [
    "_, (pm, pn), (xi, yi) = DIVAnd_rectdom(longrid, latgrid);\n",
    "@info(size(xi));"
   ]
  },
  {
   "cell_type": "markdown",
   "metadata": {},
   "source": [
    "### Prepare mask"
   ]
  },
  {
   "cell_type": "code",
   "execution_count": null,
   "metadata": {},
   "outputs": [],
   "source": [
    "bx, by, b = DIVAnd.load_bath(bathfile, true, longrid, latgrid)\n",
    "@show size(b), size(bx), size(by)"
   ]
  },
  {
   "cell_type": "code",
   "execution_count": null,
   "metadata": {},
   "outputs": [],
   "source": [
    "if makeplot\n",
    "    fig = plt.figure(figsize=(12, 12))\n",
    "    ax = plt.subplot(111, projection=mainproj)\n",
    "    ax.set_extend(dom)\n",
    "\n",
    "    pcm = ax.pcolormesh(bx, by, b', vmin=0., vmax=5000., cmap=PyPlot.cm.gist_earth, transform=datacrs);\n",
    "    ax.add_feature(coast, facecolor=\"#363636\", edgecolor=\"k\", zorder=5)\n",
    "\n",
    "    gl = ax.gridlines(crs=ccrs.PlateCarree(), draw_labels=true,\n",
    "                          linewidth=.5, color=\"gray\", alpha=1, linestyle=\"--\")\n",
    "    gl.top_labels = false\n",
    "    gl.right_labels = false\n",
    "    gl.xformatter = lon_formatter\n",
    "    gl.yformatter = lat_formatter\n",
    "   \n",
    "    cb = plt.colorbar(pcm, orientation=\"vertical\", extend=\"max\")\n",
    "    cb.set_label(\"Depth (m)\", rotation=0, ha=\"left\")\n",
    "    # plt.savefig(joinpath(figdir, \"domain_bathy_050\"))\n",
    "    plt.show()\n",
    "    # plt.close()\n",
    "end"
   ]
  },
  {
   "cell_type": "code",
   "execution_count": null,
   "metadata": {},
   "outputs": [],
   "source": [
    "_, _, mask = DIVAnd.load_mask(bathfile, true, longrid, latgrid, 5.0);\n",
    "# Remove Mediterranean Sea\n",
    "\n",
    "# - Resolution = 0.1°\n",
    "# mask[220:end,1:60] .= 0;\n",
    "\n",
    "# - Resolution = 0.5°\n",
    "maskindex = findall((xi .>= 0.) .& (yi .<= 47.))\n",
    "mask[maskindex] .= 0.;"
   ]
  },
  {
   "cell_type": "code",
   "execution_count": null,
   "metadata": {},
   "outputs": [],
   "source": [
    "if makeplot\n",
    "\n",
    "    fig = plt.figure(figsize=(12, 12))\n",
    "    ax = plt.subplot(111, projection=mainproj)\n",
    "    ax.set_extend(dom)\n",
    "\n",
    "    pcm = ax.pcolormesh(bx, by, mask', cmap=PyPlot.cm.binary, transform=datacrs)\n",
    "    gl = ax.gridlines(crs=ccrs.PlateCarree(), draw_labels=true,\n",
    "        linewidth=.5, color=\"gray\", alpha=1, linestyle=\"--\")\n",
    "    gl.top_labels = false\n",
    "    gl.right_labels = false\n",
    "    gl.xformatter = lon_formatter\n",
    "    gl.yformatter = lat_formatter\n",
    "\n",
    "    plt.savefig(joinpath(figdir, \"domain_mask_05_5meters\"))\n",
    "    plt.show()\n",
    "end"
   ]
  },
  {
   "cell_type": "markdown",
   "metadata": {},
   "source": [
    "## Data reading\n",
    "### Read the CSV files and separate by columns"
   ]
  },
  {
   "cell_type": "code",
   "execution_count": null,
   "metadata": {},
   "outputs": [],
   "source": [
    "@time lon, lat, dates, calanus_finmarchicus, calanus_helgolandicus = InterpCalanus.read_data_calanus(datafile);"
   ]
  },
  {
   "cell_type": "code",
   "execution_count": null,
   "metadata": {},
   "outputs": [],
   "source": [
    "yearcount, monthcount = InterpCalanus.count_years_months(dates)"
   ]
  },
  {
   "cell_type": "markdown",
   "metadata": {},
   "source": [
    "### Year histogram"
   ]
  },
  {
   "cell_type": "code",
   "execution_count": null,
   "metadata": {},
   "outputs": [],
   "source": [
    "yearlist = collect(minimum(Dates.year.(dates)):maximum(Dates.year.(dates)));"
   ]
  },
  {
   "cell_type": "code",
   "execution_count": null,
   "metadata": {},
   "outputs": [],
   "source": [
    "if makeplot\n",
    "\n",
    "    fig = plt.figure(figsize=(12, 8))\n",
    "    ax = plt.subplot(111)\n",
    "    ax.set_xlim(yearlist[1] - 0.5, yearlist[end] + 0.5)\n",
    "    ax.spines[\"top\"].set_visible(false)\n",
    "    ax.spines[\"right\"].set_visible(false)\n",
    "    ax.annotate(\"Min. observations\\n($(yearlist[argmin(yearcount)]))\", \n",
    "        xy=(yearlist[argmin(yearcount)], minimum(yearcount)), \n",
    "            xycoords=\"data\",\n",
    "            xytext=(yearlist[argmin(yearcount)], minimum(yearcount)+ 1100.), textcoords=\"data\",\n",
    "            horizontalalignment=\"center\", verticalalignment=\"top\",\n",
    "            )\n",
    "    plt.bar(yearlist[argmin(yearcount)], minimum(yearcount), color=\".2\", zorder=2)\n",
    "    \n",
    "    ax.text(0, 1, \" Max. observations\\n($(yearlist[argmax(yearcount)]))\", \n",
    "        transform=ax.transAxes, \n",
    "        horizontalalignment=\"left\", verticalalignment=\"top\")\n",
    "     \n",
    "\n",
    "    plt.bar(yearlist[argmax(yearcount)], maximum(yearcount), color=\".2\", zorder=2)\n",
    "    \n",
    "    plt.bar(yearlist, yearcount, color=mycolor)\n",
    "    plt.savefig(joinpath(figdir, \"time_histogram_year\"))\n",
    "    #plt.show()\n",
    "    plt.close()\n",
    "end"
   ]
  },
  {
   "cell_type": "markdown",
   "metadata": {},
   "source": [
    "### Month histogram"
   ]
  },
  {
   "cell_type": "code",
   "execution_count": null,
   "metadata": {},
   "outputs": [],
   "source": [
    "if makeplot\n",
    "    fig = plt.figure(figsize=(12, 8))\n",
    "    ax = plt.subplot(111)\n",
    "    plt.bar(1:12, monthcount, color=mycolor)\n",
    "    ax.set_title(\"Distribution of observations by month\")\n",
    "    ax.set_xlim(0.5, 12.5)\n",
    "    ax.spines[\"top\"].set_visible(false)\n",
    "    ax.spines[\"right\"].set_visible(false)\n",
    "    ax.set_xticks(collect(1:12), Dates.monthname.(1:12))\n",
    "    fig.autofmt_xdate()\n",
    "    plt.savefig(joinpath(figdir, \"time_histogram_month\"))\n",
    "    #plt.show()\n",
    "    plt.close()\n",
    "end"
   ]
  },
  {
   "cell_type": "markdown",
   "metadata": {},
   "source": [
    "### Polar"
   ]
  },
  {
   "cell_type": "code",
   "execution_count": null,
   "metadata": {},
   "outputs": [],
   "source": [
    "if makeplot\n",
    "\n",
    "    N = 12\n",
    "    theta = LinRange(0, 2 * π - π/6, N)\n",
    "    width = (1.8 * π) / N\n",
    "    fig = plt.figure(figsize=(10, 10))\n",
    "    ax = plt.subplot(111, polar=true)\n",
    "    ax.set_thetagrids(collect(0:30:330), Dates.monthname.(1:12), color=\"k\")\n",
    "    ax.set_theta_zero_location(\"N\")\n",
    "    bars = ax.bar(theta, monthcount, width=width, color=mycolor)\n",
    "    plt.savefig(joinpath(figdir, \"time_histogram_month_polar\"))\n",
    "    plt.close()\n",
    "end"
   ]
  },
  {
   "cell_type": "markdown",
   "metadata": {},
   "source": [
    "## Spatial distribution"
   ]
  },
  {
   "cell_type": "code",
   "execution_count": null,
   "metadata": {},
   "outputs": [],
   "source": [
    "if makeplot\n",
    "\n",
    "    fig = plt.figure(figsize=(12, 12))\n",
    "    ax = plt.subplot(111, projection=mainproj)\n",
    "    ax.set_extend(dom)\n",
    "    ax.plot(lon, lat, \"ko\", markersize=1, transform=datacrs)\n",
    "    ax.add_feature(coast, facecolor=\"#363636\", edgecolor=\"k\", zorder=5)\n",
    "\n",
    "    gl = ax.gridlines(crs=ccrs.PlateCarree(), draw_labels=true,\n",
    "                          linewidth=.5, color=\"gray\", alpha=1, linestyle=\"--\")\n",
    "    gl.top_labels = false\n",
    "    gl.right_labels = false\n",
    "    gl.xformatter = lon_formatter\n",
    "    gl.yformatter = lat_formatter\n",
    "    ax.set_title(\"Locations of the observations\")\n",
    "    plt.savefig(joinpath(figdir, \"location_obs\")\")\n",
    "    #plt.show()\n",
    "    plt.close()\n",
    "end"
   ]
  },
  {
   "cell_type": "markdown",
   "metadata": {},
   "source": [
    "### Hexbin maps"
   ]
  },
  {
   "cell_type": "code",
   "execution_count": null,
   "metadata": {},
   "outputs": [],
   "source": [
    "if makeplot\n",
    "\n",
    "    fig = plt.figure(figsize=(12, 12))\n",
    "    ax = plt.subplot(111, projection=mainproj)\n",
    "    ax.set_extend(dom)\n",
    "\n",
    "    ax.hexbin(lon, lat, transform=datacrs, cmap=plt.cm.hot_r, gridsize=75)\n",
    "    ax.add_feature(coast, facecolor=\"#363636\", edgecolor=\"k\", zorder=5)\n",
    "\n",
    "    gl = ax.gridlines(crs=ccrs.PlateCarree(), draw_labels=true,\n",
    "                          linewidth=.5, color=\"gray\", alpha=1, linestyle=\"--\")\n",
    "    gl.top_labels = false\n",
    "    gl.right_labels = false\n",
    "    gl.xformatter = lon_formatter\n",
    "    gl.yformatter = lat_formatter\n",
    "    \n",
    "    ax.set_title(\"Locations of the observations\")\n",
    "    plt.savefig(joinpath(figdir, \"location_hexbin\"))\n",
    "    #plt.show()\n",
    "    plt.close()\n",
    "end"
   ]
  },
  {
   "cell_type": "markdown",
   "metadata": {},
   "source": [
    "### Finmarchicus"
   ]
  },
  {
   "cell_type": "code",
   "execution_count": null,
   "metadata": {},
   "outputs": [],
   "source": [
    "if makeplot\n",
    "    countmin = 5\n",
    "    fig = plt.figure(figsize=(12, 12))\n",
    "    ax = plt.subplot(111, projection=mainproj)\n",
    "    ax.set_extend(dom)\n",
    "    ax.scatter(lon, lat, s=.1, lw=.1, color=\"k\", transform=datacrs)\n",
    "    indexplot = findall(calanus_finmarchicus .>= countmin)\n",
    "    scat = ax.scatter(lon[indexplot], lat[indexplot], s=1, c=calanus_finmarchicus[indexplot], \n",
    "                      cmap=plt.cm.inferno_r, vmin=countmin, vmax=50., transform=datacrs)\n",
    "\n",
    "    cb = plt.colorbar(scat, extend=\"both\")\n",
    "\n",
    "    ax.add_feature(coast, facecolor=\"#363636\", edgecolor=\"k\", zorder=5)\n",
    "\n",
    "    gl = ax.gridlines(crs=ccrs.PlateCarree(), draw_labels=true,\n",
    "                          linewidth=.5, color=\"gray\", alpha=1, linestyle=\"--\")\n",
    "    gl.top_labels = false\n",
    "    gl.right_labels = false\n",
    "    gl.xformatter = lon_formatter\n",
    "    gl.yformatter = lat_formatter\n",
    "    ax.set_title(\"Calanus_finmarchicus observations\")\n",
    "\n",
    "    plt.savefig(joinpath(figdir, \"count_calanus_finmarchicus2.jpg\"))\n",
    "\n",
    "    plt.close()\n",
    "end"
   ]
  },
  {
   "cell_type": "code",
   "execution_count": null,
   "metadata": {},
   "outputs": [],
   "source": [
    "if makeplot\n",
    "    fig = plt.figure(figsize=(12, 12))\n",
    "    ax = plt.subplot(111, projection=mainproj)\n",
    "    ax.set_extent(dom)\n",
    "    hb = ax.hexbin(lon, lat, C=calanus_finmarchicus, transform=datacrs, cmap=plt.cm.hot_r, gridsize=75)\n",
    "    cb = plt.colorbar(hb)\n",
    "    ax.add_feature(coast, facecolor=\"#363636\", edgecolor=\"k\", zorder=5)\n",
    "\n",
    "    gl = ax.gridlines(crs=ccrs.PlateCarree(), draw_labels=true,\n",
    "                          linewidth=.5, color=\"gray\", alpha=1, linestyle=\"--\")\n",
    "    gl.top_labels = false\n",
    "    gl.right_labels = false\n",
    "    gl.xformatter = lon_formatter\n",
    "    gl.yformatter = lat_formatter\n",
    "    gl.xlabel_style = Dict(\"size\" => 10)\n",
    "    gl.ylabel_style = Dict(\"size\" => 10)\n",
    "    ax.set_title(\"Calanus finmarchicus observations\")\n",
    "\n",
    "    plt.savefig(joinpath(figdir, \"count_calanus_finmarchicus_hexbin.jpg\"))\n",
    "\n",
    "    plt.close()\n",
    "end"
   ]
  },
  {
   "cell_type": "code",
   "execution_count": null,
   "metadata": {},
   "outputs": [],
   "source": [
    "if makeplot\n",
    "    fig = plt.figure(figsize=(12, 12))\n",
    "    ax = plt.subplot(111, projection=mainproj)\n",
    "    ax.set_extend(dom)\n",
    "\n",
    "    hb = ax.hexbin(lon, lat, C=calanus_helgolandicus, transform=datacrs, cmap=plt.cm.hot_r, gridsize=75, \n",
    "    vmax=75.)\n",
    "    cb = plt.colorbar(hb, extend=\"max\")\n",
    "    ax.add_feature(coast, facecolor=\"#363636\", edgecolor=\"k\", zorder=5)\n",
    "\n",
    "    gl = ax.gridlines(crs=ccrs.PlateCarree(), draw_labels=true,\n",
    "                          linewidth=.5, color=\"gray\", alpha=1, linestyle=\"--\")\n",
    "    gl.top_labels = false\n",
    "    gl.right_labels = false\n",
    "    gl.xformatter = lon_formatter\n",
    "    gl.yformatter = lat_formatter\n",
    "    gl.xlabel_style = Dict(\"size\" => 10)\n",
    "    gl.ylabel_style = Dict(\"size\" => 10)\n",
    "    ax.set_title(\"Calanus helgolandicus observations\")\n",
    "\n",
    "    plt.savefig(joinpath(figdir, \"count_calanus_helgolandicus_hexbin.jpg\"))\n",
    "\n",
    "    plt.close()\n",
    "end"
   ]
  },
  {
   "cell_type": "markdown",
   "metadata": {},
   "source": [
    "#### Location of zeros"
   ]
  },
  {
   "cell_type": "code",
   "execution_count": null,
   "metadata": {},
   "outputs": [],
   "source": [
    "zerosloc1 = findall(calanus_finmarchicus .== 0.)\n",
    "lonz1 = lon[zerosloc1]\n",
    "latz1 = lat[zerosloc1]\n",
    "zerosloc2 = findall(calanus_helgolandicus .== 0.)\n",
    "lonz2 = lon[zerosloc2]\n",
    "latz2 = lat[zerosloc2]\n",
    "\n",
    "if makeplot\n",
    "\n",
    "    fig = plt.figure(figsize=(12, 12))\n",
    "    ax = plt.subplot(111, projection=mainproj)\n",
    "    ax.set_extend(dom)\n",
    "\n",
    "    #ax.scatter(0, 0, s=2, lw=.1, alpha=.95, color=mycolor, transform=datacrs, label=\"0's for Calanus finmarchicus\")\n",
    "    #ax.scatter(0, 0, s=2, lw=.1, alpha=.95, color=\"#FF9935\", transform=datacrs, label=\"0's for Calanus helgolandicus\")\n",
    "    ax.scatter(lonz1, latz1, s=.5, lw=.1, alpha=.5, color=mycolor, transform=datacrs)\n",
    "    #ax.scatter(lonz2, latz2, s=.5, lw=.1, alpha=.5, color=\"#FF9935\", transform=datacrs)\n",
    "    #ax.legend()\n",
    "\n",
    "    ax.add_feature(coast, facecolor=\"#363636\", edgecolor=\"k\", zorder=5)\n",
    "\n",
    "    gl = ax.gridlines(crs=ccrs.PlateCarree(), draw_labels=true,\n",
    "                          linewidth=.5, color=\"gray\", alpha=1, linestyle=\"--\")\n",
    "    gl.top_labels = false\n",
    "    gl.right_labels = false\n",
    "    gl.xformatter = lon_formatter\n",
    "    gl.yformatter = lat_formatter\n",
    "    gl.xlabel_style = Dict(\"size\" => 10)\n",
    "    gl.ylabel_style = Dict(\"size\" => 10)\n",
    "    ax.set_title(\"Zeros for Calanus finmarchicus\")\n",
    "\n",
    "    plt.savefig(joinpath(figdir, \"zeros_calanus_finmarchicus3.jpg\"))\n",
    "\n",
    "    plt.close()\n",
    "\n",
    "    fig = plt.figure(figsize=(12, 12))\n",
    "    ax = plt.subplot(111, projection=mainproj)\n",
    "    ax.scatter(lonz2, latz2, s=.5, lw=.1, alpha=.5, color=mycolor, transform=datacrs)\n",
    "\n",
    "    ax.add_feature(coast, facecolor=\"#363636\", edgecolor=\"k\", zorder=5)\n",
    "\n",
    "    gl = ax.gridlines(crs=ccrs.PlateCarree(), draw_labels=true,\n",
    "                          linewidth=.5, color=\"gray\", alpha=1, linestyle=\"--\")\n",
    "    gl.top_labels = false\n",
    "    gl.right_labels = false\n",
    "    gl.xformatter = lon_formatter\n",
    "    gl.yformatter = lat_formatter\n",
    "    gl.xlabel_style = Dict(\"size\" => 10)\n",
    "    gl.ylabel_style = Dict(\"size\" => 10)\n",
    "    ax.set_title(\"Zeros for Calanus helgolandicus\")\n",
    "\n",
    "    plt.savefig(joinpath(figdir, \"zeros_calanus_helgolandicus3.jpg\"))\n",
    "    plt.close()\n",
    "end"
   ]
  },
  {
   "cell_type": "markdown",
   "metadata": {},
   "source": [
    "#### Calanus helgolandicus"
   ]
  },
  {
   "cell_type": "code",
   "execution_count": null,
   "metadata": {},
   "outputs": [],
   "source": [
    "if makeplot\n",
    "\n",
    "    countmin = 5\n",
    "    fig = plt.figure(figsize=(12, 12))\n",
    "    ax = plt.subplot(111, projection=mainproj)\n",
    "    ax.set_extend(dom)\n",
    "    ax.scatter(lon[calanus_helgolandicus .> 0], lat[calanus_helgolandicus .> 0], \n",
    "        s=.1, lw=.1, color=\"k\", transform=datacrs)\n",
    "    indexplot = findall(calanus_helgolandicus .>= countmin)\n",
    "    scat = ax.scatter(lon[indexplot], lat[indexplot], s=1, c=calanus_helgolandicus[indexplot], \n",
    "                      cmap=plt.cm.inferno_r, vmin=countmin, vmax=50., transform=datacrs)\n",
    "\n",
    "    cb = plt.colorbar(scat, extend=\"both\")\n",
    "\n",
    "    ax.add_feature(coast, facecolor=\"#363636\", edgecolor=\"k\", zorder=5)\n",
    "\n",
    "    gl = ax.gridlines(crs=ccrs.PlateCarree(), draw_labels=true,\n",
    "                          linewidth=.5, color=\"gray\", alpha=1, linestyle=\"--\")\n",
    "    gl.top_labels = false\n",
    "    gl.right_labels = false\n",
    "    gl.xformatter = lon_formatter\n",
    "    gl.yformatter = lat_formatter\n",
    "    gl.xlabel_style = Dict(\"size\" => 10)\n",
    "    gl.ylabel_style = Dict(\"size\" => 10)\n",
    "    ax.set_title(\"Calanus helgolandicus observations\")\n",
    "\n",
    "    plt.savefig(joinpath(figdir, \"count_calanus_helgolandicus2.jpg\"))\n",
    "\n",
    "    plt.close()\n",
    "end"
   ]
  }
 ],
 "metadata": {
  "@webio": {
   "lastCommId": null,
   "lastKernelId": null
  },
  "kernelspec": {
   "display_name": "Julia 1.8.5",
   "language": "julia",
   "name": "julia-1.8"
  },
  "language_info": {
   "file_extension": ".jl",
   "mimetype": "application/julia",
   "name": "julia",
   "version": "1.8.5"
  }
 },
 "nbformat": 4,
 "nbformat_minor": 5
}
