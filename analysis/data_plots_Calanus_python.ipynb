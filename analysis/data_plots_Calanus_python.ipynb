{
 "cells": [
  {
   "cell_type": "markdown",
   "metadata": {},
   "source": [
    "# Plot data distributions\n",
    "Due to some issues of `cartopy` to work in Julia, the plots are prepared in this notebook in Python."
   ]
  },
  {
   "cell_type": "code",
   "execution_count": 18,
   "metadata": {},
   "outputs": [],
   "source": [
    "import os\n",
    "import netCDF4\n",
    "import toml\n",
    "import numpy as np\n",
    "import calendar\n",
    "import matplotlib.pyplot as plt\n",
    "import cartopy.crs as ccrs\n",
    "import cartopy.feature as cfeature \n",
    "import cartopy.mpl.ticker as cartopyticker\n",
    "coast = cfeature.GSHHSFeature(scale=\"high\")\n",
    "lon_formatter = cartopyticker.LongitudeFormatter()\n",
    "lat_formatter = cartopyticker.LatitudeFormatter()\n",
    "plt.style.use(\"calanus.mplstyle\")"
   ]
  },
  {
   "cell_type": "markdown",
   "metadata": {},
   "source": [
    "### Settings\n",
    "### Read configuration file"
   ]
  },
  {
   "cell_type": "code",
   "execution_count": 2,
   "metadata": {},
   "outputs": [
    {
     "data": {
      "text/plain": [
       "{'title': 'Calanus interpolation parameters',\n",
       " 'domain': [-20.5, 11.75, 41.25, 67.0],\n",
       " 'dlon': 0.25,\n",
       " 'dlat': 0.25,\n",
       " 'directories': {'datadir': '../data/',\n",
       "  'figdir': '../figures/',\n",
       "  'datafigdir': '../figures/observations/',\n",
       "  'resfigdir': '../figures/L025/',\n",
       "  'resdir': '../results/L025/',\n",
       "  'resdirm': '../results/month/L025'},\n",
       " 'files': {'datafile': 'MBA_CPRdata_Emodnet_21Jan22.csv',\n",
       "  'datafileURL': 'https://dox.ulg.ac.be/index.php/s/hjWKf1F3C1Pzz1r/download',\n",
       "  'bathyfile': 'gebco_30sec_16.nc'}}"
      ]
     },
     "execution_count": 2,
     "metadata": {},
     "output_type": "execute_result"
    }
   ],
   "source": [
    "config = toml.load(\"config.ini\")\n",
    "config"
   ]
  },
  {
   "cell_type": "markdown",
   "metadata": {},
   "source": [
    "### Domain and projections"
   ]
  },
  {
   "cell_type": "code",
   "execution_count": 13,
   "metadata": {},
   "outputs": [],
   "source": [
    "dom = config[\"domain\"]\n",
    "mainproj = ccrs.Mercator(central_longitude=0.5*(dom[0] + dom[1]),\n",
    "    min_latitude=dom[2], max_latitude=dom[3])\n",
    "datacrs = ccrs.PlateCarree();"
   ]
  },
  {
   "cell_type": "markdown",
   "metadata": {},
   "source": [
    "### Directories and files"
   ]
  },
  {
   "cell_type": "code",
   "execution_count": 7,
   "metadata": {},
   "outputs": [],
   "source": [
    "datadir = config[\"directories\"][\"datadir\"]\n",
    "figdir = config[\"directories\"][\"figdir\"]\n",
    "resdir = config[\"directories\"][\"resdir\"]\n",
    "datafigdir = config[\"directories\"][\"datafigdir\"]\n",
    "datafile = os.path.join(datadir, \"MBA_CPRdata_Emodnet_21Jan22.csv\")\n",
    "woafile = \"../data/WOD/temperature_surface_WOD2.nc\"\n",
    "bathfile = os.path.join(datadir, \"gebco_30sec_16.nc\")\n",
    "outputfile1 = os.path.join(resdir, \"calanus_finmarchicus_year_month.nc\")\n",
    "outputfile2 = os.path.join(resdir, \"calanus_helgolandicus_year_month.nc\")"
   ]
  },
  {
   "cell_type": "markdown",
   "metadata": {},
   "source": [
    "## Load observations"
   ]
  },
  {
   "cell_type": "code",
   "execution_count": 8,
   "metadata": {},
   "outputs": [],
   "source": [
    "def read_data_csv(datafile):\n",
    "    lon = []\n",
    "    lat = []\n",
    "    year = []\n",
    "    month = []\n",
    "    calanusfinmarchicus = []\n",
    "    calanushelgolandicus = []\n",
    "    with open(datafile, \"r\") as df:\n",
    "        df.readline()\n",
    "        for lines in df:\n",
    "            lsplit = lines.rstrip().split(',')\n",
    "            lat.append(float(lsplit[1]))\n",
    "            lon.append(float(lsplit[2]))\n",
    "            year.append(int(lsplit[3]))\n",
    "            month.append(int(lsplit[4]))\n",
    "            calanusfinmarchicus.append(float(lsplit[5]))\n",
    "            calanushelgolandicus.append(float(lsplit[6]))\n",
    "            \n",
    "    return np.array(lon), np.array(lat), np.array(year), np.array(month), np.array(calanusfinmarchicus), np.array(calanushelgolandicus)"
   ]
  },
  {
   "cell_type": "code",
   "execution_count": 9,
   "metadata": {},
   "outputs": [],
   "source": [
    "lonobs, latobs, yearobs, monthobs, calanusfinmarchicus, calanushelgolandicus = read_data_csv(datafile)"
   ]
  },
  {
   "cell_type": "markdown",
   "metadata": {},
   "source": [
    "## Plots\n",
    "### All observations"
   ]
  },
  {
   "cell_type": "code",
   "execution_count": 7,
   "metadata": {},
   "outputs": [],
   "source": [
    "fig = plt.figure(figsize=(12, 12))\n",
    "ax = plt.subplot(111, projection=mainproj)\n",
    "ax.plot(lonobs, latobs, \"ko\", markersize=1, transform=datacrs)\n",
    "ax.add_feature(coast, facecolor=\"#363636\", edgecolor=\"k\", zorder=5)\n",
    "\n",
    "gl = ax.gridlines(crs=ccrs.PlateCarree(), draw_labels=True,\n",
    "                      linewidth=.5, color=\"gray\", alpha=1, linestyle=\"--\")\n",
    "gl.top_labels = False\n",
    "gl.right_labels = False\n",
    "gl.xformatter = lon_formatter\n",
    "gl.yformatter = lat_formatter\n",
    "ax.set_title(\"Locations of the observations\")\n",
    "plt.savefig(os.path.join(figdir, \"location_obs\"))\n",
    "plt.close()"
   ]
  },
  {
   "cell_type": "markdown",
   "metadata": {},
   "source": [
    "### Hexbin plots"
   ]
  },
  {
   "cell_type": "code",
   "execution_count": 8,
   "metadata": {},
   "outputs": [],
   "source": [
    "fig = plt.figure(figsize=(12, 12))\n",
    "ax = plt.subplot(111, projection=mainproj)\n",
    "hb = ax.hexbin(lonobs, latobs, transform=datacrs, cmap=plt.cm.hot_r, gridsize=70, vmax=50)\n",
    "cb = plt.colorbar(hb, extend=\"max\")\n",
    "ax.add_feature(coast, facecolor=\"#363636\", edgecolor=\"k\", zorder=5)\n",
    "ax.set_extent(dom)\n",
    "gl = ax.gridlines(crs=ccrs.PlateCarree(), draw_labels=True,\n",
    "                      linewidth=.5, color=\"gray\", alpha=1, linestyle=\"--\")\n",
    "gl.top_labels = False\n",
    "gl.right_labels = False\n",
    "gl.xformatter = lon_formatter\n",
    "gl.yformatter = lat_formatter\n",
    "ax.set_title(\"Density of observations\")\n",
    "plt.savefig(os.path.join(figdir, \"location_hexbin\"))\n",
    "plt.close()"
   ]
  },
  {
   "cell_type": "markdown",
   "metadata": {},
   "source": [
    "### Scatter plots by species"
   ]
  },
  {
   "cell_type": "code",
   "execution_count": 9,
   "metadata": {},
   "outputs": [],
   "source": [
    "countmin = 5\n",
    "fig = plt.figure(figsize=(12, 12))\n",
    "ax = plt.subplot(111, projection=mainproj)\n",
    "ax.set_extent(dom)\n",
    "ax.scatter(lonobs, latobs, s=.1, lw=.1, color=\"k\", transform=datacrs)\n",
    "indexplot = np.where(calanusfinmarchicus >= countmin)[0]\n",
    "scat = ax.scatter(lonobs[indexplot], latobs[indexplot], s=1, c=calanusfinmarchicus[indexplot], \n",
    "                  cmap=plt.cm.inferno_r, vmin=countmin, vmax=50., transform=datacrs)\n",
    "\n",
    "cb = plt.colorbar(scat, extend=\"both\")\n",
    "\n",
    "ax.add_feature(coast, facecolor=\"#363636\", edgecolor=\"k\", zorder=5)\n",
    "\n",
    "gl = ax.gridlines(crs=ccrs.PlateCarree(), draw_labels=True,\n",
    "                      linewidth=.5, color=\"gray\", alpha=1, linestyle=\"--\")\n",
    "gl.top_labels = False\n",
    "gl.right_labels = False\n",
    "gl.xformatter = lon_formatter\n",
    "gl.yformatter = lat_formatter\n",
    "ax.set_title(\"Calanus finmarchicus observations\")\n",
    "\n",
    "plt.savefig(os.path.join(figdir, \"count_calanus_finmarchicus2\"))\n",
    "plt.close()"
   ]
  },
  {
   "cell_type": "code",
   "execution_count": 10,
   "metadata": {},
   "outputs": [],
   "source": [
    "countmin = 5\n",
    "fig = plt.figure(figsize=(12, 12))\n",
    "ax = plt.subplot(111, projection=mainproj)\n",
    "ax.scatter(lonobs, latobs, s=.1, lw=.1, color=\"k\", transform=datacrs)\n",
    "ax.set_extent(dom)\n",
    "indexplot = np.where(calanushelgolandicus >= countmin)[0]\n",
    "scat = ax.scatter(lonobs[indexplot], latobs[indexplot], s=1, c=calanushelgolandicus[indexplot], \n",
    "                  cmap=plt.cm.inferno_r, vmin=countmin, vmax=50., transform=datacrs)\n",
    "\n",
    "cb = plt.colorbar(scat, extend=\"both\")\n",
    "\n",
    "ax.add_feature(coast, facecolor=\"#363636\", edgecolor=\"k\", zorder=5)\n",
    "\n",
    "gl = ax.gridlines(crs=ccrs.PlateCarree(), draw_labels=True,\n",
    "                      linewidth=.5, color=\"gray\", alpha=1, linestyle=\"--\")\n",
    "gl.top_labels = False\n",
    "gl.right_labels = False\n",
    "gl.xformatter = lon_formatter\n",
    "gl.yformatter = lat_formatter\n",
    "ax.set_title(\"Calanus helgolandicus observations\")\n",
    "\n",
    "plt.savefig(os.path.join(figdir, \"count_calanus_helgolandicus2.jpg\"))\n",
    "plt.close()"
   ]
  },
  {
   "cell_type": "markdown",
   "metadata": {},
   "source": [
    "### Hexbin plots by species"
   ]
  },
  {
   "cell_type": "code",
   "execution_count": 11,
   "metadata": {},
   "outputs": [],
   "source": [
    "fig = plt.figure(figsize=(12, 12))\n",
    "ax = plt.subplot(111, projection=mainproj)\n",
    "ax.set_extent(dom)\n",
    "hb = ax.hexbin(lonobs, latobs, C=calanusfinmarchicus, transform=datacrs, \n",
    "               cmap=plt.cm.hot_r, gridsize=75, vmax=75.)\n",
    "cb = plt.colorbar(hb, extend=\"max\")\n",
    "ax.add_feature(coast, facecolor=\"#363636\", edgecolor=\"k\", zorder=5)\n",
    "\n",
    "gl = ax.gridlines(crs=ccrs.PlateCarree(), draw_labels=True,\n",
    "                      linewidth=.5, color=\"gray\", alpha=1, linestyle=\"--\")\n",
    "gl.top_labels = False\n",
    "gl.right_labels = False\n",
    "gl.xformatter = lon_formatter\n",
    "gl.yformatter = lat_formatter\n",
    "ax.set_title(\"Calanus finmarchicus hexbin map\")\n",
    "plt.savefig(os.path.join(figdir, \"count_calanus_finmarchicus_hexbin\"))\n",
    "plt.close()"
   ]
  },
  {
   "cell_type": "code",
   "execution_count": 12,
   "metadata": {},
   "outputs": [],
   "source": [
    "fig = plt.figure(figsize=(12, 12))\n",
    "ax = plt.subplot(111, projection=mainproj)\n",
    "ax.set_extent(dom)\n",
    "hb = ax.hexbin(lonobs, latobs, C=calanushelgolandicus, transform=datacrs, \n",
    "               cmap=plt.cm.hot_r, gridsize=75, vmax=75.)\n",
    "cb = plt.colorbar(hb, extend=\"max\")\n",
    "ax.add_feature(coast, facecolor=\"#363636\", edgecolor=\"k\", zorder=5)\n",
    "\n",
    "gl = ax.gridlines(crs=ccrs.PlateCarree(), draw_labels=True,\n",
    "                      linewidth=.5, color=\"gray\", alpha=1, linestyle=\"--\")\n",
    "gl.top_labels = False\n",
    "gl.right_labels = False\n",
    "gl.xformatter = lon_formatter\n",
    "gl.yformatter = lat_formatter\n",
    "ax.set_title(\"Calanus helgolandicus hexbin map\")\n",
    "plt.savefig(os.path.join(figdir, \"count_calanus_helgolandicus_hexbin\"))\n",
    "plt.close()"
   ]
  },
  {
   "cell_type": "markdown",
   "metadata": {},
   "source": [
    "## Plots by year and month"
   ]
  },
  {
   "cell_type": "code",
   "execution_count": 25,
   "metadata": {},
   "outputs": [],
   "source": [
    "for yyyy in range(2001, 2003):\n",
    "    \n",
    "    for mm in range(1, 13):\n",
    "        \n",
    "        goodtime = np.where((yearobs == yyyy) & (monthobs == mm))[0]\n",
    "    \n",
    "        fig = plt.figure(figsize=(12, 8))\n",
    "        ax.set_extent(dom)\n",
    "        ax = plt.subplot(111, projection=mainproj)\n",
    "        \n",
    "        ax.plot(lonobs[goodtime], latobs[goodtime], \"ko\", ms=.25, transform=datacrs, zorder=3)\n",
    "        sca = ax.scatter(lonobs[goodtime], latobs[goodtime], s=8, c=calanusfinmarchicus[goodtime],\n",
    "                           cmap=plt.cm.hot_r, vmin=0., vmax=25., transform=datacrs, zorder=2)\n",
    "\n",
    "        cb = plt.colorbar(sca, extend=\"max\")\n",
    "\n",
    "        ax.add_feature(coast, facecolor=\"#363636\", edgecolor=\"k\", zorder=5)\n",
    "        ax.set_extent(dom)\n",
    "        gl = ax.gridlines(crs=ccrs.PlateCarree(), draw_labels=True,\n",
    "                              linewidth=.5, color=\"gray\", alpha=1, linestyle=\"--\")\n",
    "        gl.top_labels = False\n",
    "        gl.right_labels = False\n",
    "        gl.xformatter = lon_formatter\n",
    "        gl.yformatter = lat_formatter\n",
    "        ax.set_title(f\"Canalus finmarchicus observations\\n{calendar.month_name[mm]} {yyyy}\")\n",
    "\n",
    "        figname = f\"Canalus_finmarchicus_obs_{yyyy}{str(mm).zfill(2)}\"\n",
    "        plt.savefig(os.path.join(datafigdir, figname))\n",
    "        plt.close()"
   ]
  },
  {
   "cell_type": "code",
   "execution_count": 27,
   "metadata": {},
   "outputs": [],
   "source": [
    "for yyyy in range(2001, 2002):\n",
    "    \n",
    "    for mm in range(1, 5):\n",
    "        \n",
    "        goodtime = np.where((yearobs == yyyy) & (monthobs == mm))[0]\n",
    "    \n",
    "        fig = plt.figure(figsize=(12, 8))\n",
    "        ax.set_extent(dom)\n",
    "        ax = plt.subplot(111, projection=mainproj)\n",
    "        \n",
    "        ax.plot(lonobs[goodtime], latobs[goodtime], \"ko\", ms=.25, transform=datacrs, zorder=3)\n",
    "        sca = ax.scatter(lonobs[goodtime], latobs[goodtime], s=8, c=calanushelgolandicus[goodtime],\n",
    "                           cmap=plt.cm.hot_r, vmin=0., vmax=25., transform=datacrs, zorder=2)\n",
    "\n",
    "        cb = plt.colorbar(sca, extend=\"max\")\n",
    "\n",
    "        ax.add_feature(coast, facecolor=\"#363636\", edgecolor=\"k\", zorder=5)\n",
    "        ax.set_extent(dom)\n",
    "        gl = ax.gridlines(crs=ccrs.PlateCarree(), draw_labels=True,\n",
    "                              linewidth=.5, color=\"gray\", alpha=1, linestyle=\"--\")\n",
    "        gl.top_labels = False\n",
    "        gl.right_labels = False\n",
    "        gl.xformatter = lon_formatter\n",
    "        gl.yformatter = lat_formatter\n",
    "        ax.set_title(f\"Canalus helgolandicus observations\\n{calendar.month_name[mm]} {yyyy}\")\n",
    "\n",
    "        figname = f\"Canalus_helgolandicus_obs_{yyyy}{str(mm).zfill(2)}\"\n",
    "        plt.savefig(os.path.join(datafigdir, figname))\n",
    "        plt.close()"
   ]
  },
  {
   "cell_type": "markdown",
   "metadata": {},
   "source": [
    "### WOA observations"
   ]
  },
  {
   "cell_type": "code",
   "execution_count": 28,
   "metadata": {},
   "outputs": [],
   "source": [
    "with netCDF4.Dataset(woafile, \"r\") as nc:\n",
    "    lonWOA = nc.get_variables_by_attributes(standard_name=\"longitude\")[0][:]\n",
    "    latWOA = nc.get_variables_by_attributes(standard_name=\"latitude\")[0][:]\n",
    "    time = nc.get_variables_by_attributes(standard_name=\"time\")[0]\n",
    "    T = nc.variables[\"Temperature\"][:]\n",
    "    datesWOA = netCDF4.num2date(time[:], time.units, only_use_cftime_datetimes=False)\n",
    "yearsWOA = np.array([dd.year for dd in datesWOA])\n",
    "monthWOA = np.array([dd.month for dd in datesWOA])"
   ]
  },
  {
   "cell_type": "code",
   "execution_count": 31,
   "metadata": {},
   "outputs": [],
   "source": [
    "for yyyy in range(2001, 2002):\n",
    "    \n",
    "    for mm in range(1, 13):\n",
    "        \n",
    "        goodtime = np.where((yearsWOA == yyyy) & (monthWOA == mm))[0]\n",
    "    \n",
    "        fig = plt.figure(figsize=(12, 8))\n",
    "        ax = plt.subplot(111, projection=mainproj)\n",
    "        ax.set_extent(dom)\n",
    "        sca = ax.scatter(lonWOA[goodtime], latWOA[goodtime], s=8, c=T[goodtime],\n",
    "                           cmap=plt.cm.RdYlBu_r, vmin=2., vmax=15., transform=datacrs)\n",
    "\n",
    "        cb = plt.colorbar(sca, extend=\"both\")\n",
    "        cb.set_label(\"°C\", rotation=0, ha=\"left\")\n",
    "\n",
    "        ax.add_feature(coast, facecolor=\"#363636\", edgecolor=\"k\", zorder=5)\n",
    "        ax.set_extent(dom)\n",
    "        gl = ax.gridlines(crs=ccrs.PlateCarree(), draw_labels=True,\n",
    "                              linewidth=.5, color=\"gray\", alpha=1, linestyle=\"--\")\n",
    "        gl.top_labels = False\n",
    "        gl.right_labels = False\n",
    "        gl.xformatter = lon_formatter\n",
    "        gl.yformatter = lat_formatter\n",
    "        ax.set_title(f\"Temperature observations\\n {calendar.month_name[mm]} {yyyy}\")\n",
    "\n",
    "        figname = f\"temperature_obs_{yyyy}{str(mm).zfill(2)}\"\n",
    "        plt.savefig(os.path.join(datafigdir, figname))\n",
    "        plt.close()"
   ]
  }
 ],
 "metadata": {
  "@webio": {
   "lastCommId": null,
   "lastKernelId": null
  },
  "kernelspec": {
   "display_name": "Rando GC",
   "language": "python",
   "name": "randogc"
  },
  "language_info": {
   "codemirror_mode": {
    "name": "ipython",
    "version": 3
   },
   "file_extension": ".py",
   "mimetype": "text/x-python",
   "name": "python",
   "nbconvert_exporter": "python",
   "pygments_lexer": "ipython3",
   "version": "3.8.0"
  }
 },
 "nbformat": 4,
 "nbformat_minor": 4
}
