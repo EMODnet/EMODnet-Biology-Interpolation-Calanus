{
 "cells": [
  {
   "cell_type": "markdown",
   "metadata": {},
   "source": [
    "# Interpolate Calanus\n",
    "Interpolate the observations of _Calanus Finmarchicus_ and _Calanus Holandicus_.\n",
    "\n",
    "The fields are prepared over a region covering the Northeast Atlantic.      \n",
    "Different resolutions are tested: 0.5° X 0.5°, 1° X 1° and 2° X 2°.\n",
    "\n",
    "In order to modify the directories, the spatial resolution, edit the [configuration file](./config.ini)."
   ]
  },
  {
   "cell_type": "code",
   "execution_count": null,
   "metadata": {},
   "outputs": [],
   "source": [
    "using CSV\n",
    "using Dates\n",
    "using DelimitedFiles \n",
    "using NCDatasets\n",
    "using PyPlot\n",
    "using DIVAnd\n",
    "using Statistics\n",
    "const plt=PyPlot\n",
    "using PyCall\n",
    "using PyPlot\n",
    "using TOML\n",
    "using GeoArrays\n",
    "colors = PyCall.pyimport(\"matplotlib.colors\")\n",
    "mticker = PyCall.pyimport(\"matplotlib.ticker\")\n",
    "cmocean = PyCall.pyimport(\"cmocean\")\n",
    "plt.rc(\"font\", family=\"Times New Roman\", size=16)\n",
    "include(\"../src/InterpCalanus.jl\")\n",
    "makeplot = false\n",
    "usecartopy = false"
   ]
  },
  {
   "cell_type": "markdown",
   "metadata": {},
   "source": [
    "## User settings\n",
    "Read configuration file"
   ]
  },
  {
   "cell_type": "code",
   "execution_count": null,
   "metadata": {},
   "outputs": [],
   "source": [
    "config = TOML.parsefile(\"./config.ini\")\n",
    "dom = config[\"domain\"]"
   ]
  },
  {
   "cell_type": "markdown",
   "metadata": {},
   "source": [
    "## Install `Cartopy`\n",
    "Set `usecartopy` to `false` if you don't want to use it."
   ]
  },
  {
   "cell_type": "code",
   "execution_count": null,
   "metadata": {},
   "outputs": [],
   "source": [
    "if usecartopy\n",
    "    @info(\"Will try to use Cartopy for the plots\")\n",
    "    cartopy = PyCall.pyimport(\"cartopy\")\n",
    "    ccrs = PyCall.pyimport(\"cartopy.crs\")\n",
    "    cfeature = PyCall.pyimport(\"cartopy.feature\")\n",
    "    mticker = PyCall.pyimport(\"matplotlib.ticker\")\n",
    "    coast = cfeature.GSHHSFeature(scale=\"full\");\n",
    "    cartopyticker = PyCall.pyimport(\"cartopy.mpl.ticker\")\n",
    "    lon_formatter = cartopyticker.LongitudeFormatter()\n",
    "    lat_formatter = cartopyticker.LatitudeFormatter()\n",
    "    mainproj = ccrs.Mercator(central_longitude=0.5*(dom[1] + dom[2]), \n",
    "        min_latitude=dom[3], max_latitude=dom[4])\n",
    "    datacrs = ccrs.PlateCarree();\n",
    "else\n",
    "    @info(\"Won't use cartopy\")\n",
    "end"
   ]
  },
  {
   "cell_type": "markdown",
   "metadata": {},
   "source": [
    "## User inputs\n",
    "### Type of analysis to be performed"
   ]
  },
  {
   "cell_type": "code",
   "execution_count": null,
   "metadata": {},
   "outputs": [],
   "source": [
    "run_year = false\n",
    "run_month = true\n",
    "makeplot = true"
   ]
  },
  {
   "cell_type": "markdown",
   "metadata": {},
   "source": [
    "### Files and directories"
   ]
  },
  {
   "cell_type": "code",
   "execution_count": null,
   "metadata": {},
   "outputs": [],
   "source": [
    "resdir = config[\"directories\"][\"resdir\"]\n",
    "figdir = config[\"directories\"][\"figdir\"]\n",
    "isdir(\"resdir\") ? @debug(\"already there\") : mkpath(\"resdir\")\n",
    "isdir(figdir) ? @debug(\"already there\") : mkpath(figdir)\n",
    "datadir = config[\"directories\"][\"datadir\"]\n",
    "datafile = joinpath(datadir, config[\"files\"][\"datafile\"])\n",
    "isfile(datafile) ? @debug(\"already downloaded\") : download(config[\"files\"][\"datafileURL\"], datafile)\n",
    "bathfile = joinpath(datadir, config[\"files\"][\"bathyfile\"])\n",
    "isfile(datafile), isfile(bathfile)"
   ]
  },
  {
   "cell_type": "markdown",
   "metadata": {},
   "source": [
    "## Grid configuration"
   ]
  },
  {
   "cell_type": "code",
   "execution_count": null,
   "metadata": {},
   "outputs": [],
   "source": [
    "longrid = dom[1]:config[\"dlon\"]:dom[2]\n",
    "latgrid = dom[3]:config[\"dlat\"]:dom[4]\n",
    "@info(\"Size of the grid: $(length(longrid)) X $(length(latgrid))\")"
   ]
  },
  {
   "cell_type": "markdown",
   "metadata": {},
   "source": [
    "### Metrics"
   ]
  },
  {
   "cell_type": "code",
   "execution_count": null,
   "metadata": {},
   "outputs": [],
   "source": [
    "_, (pm, pn), (xi, yi) = DIVAnd_rectdom(longrid, latgrid);\n",
    "@info(size(xi));"
   ]
  },
  {
   "cell_type": "markdown",
   "metadata": {},
   "source": [
    "### Prepare land-sea mask"
   ]
  },
  {
   "cell_type": "code",
   "execution_count": null,
   "metadata": {},
   "outputs": [],
   "source": [
    "bx, by, b = DIVAnd.load_bath(bathfile, true, longrid, latgrid)\n",
    "@show size(b)"
   ]
  },
  {
   "cell_type": "code",
   "execution_count": null,
   "metadata": {},
   "outputs": [],
   "source": [
    "_, _, mask = DIVAnd.load_mask(bathfile, true, longrid, latgrid, 5.0);\n",
    "# Remove Mediterranean Sea\n",
    "\n",
    "# - Resolution = 0.1°\n",
    "# mask[220:end,1:60] .= 0;\n",
    "\n",
    "# - Resolution = 0.5°\n",
    "maskindex = findall((xi .>= 0.) .& (yi .<= 47.))\n",
    "mask[maskindex] .= 0.;"
   ]
  },
  {
   "cell_type": "markdown",
   "metadata": {},
   "source": [
    "## Data reading\n",
    "### Read the CSV files and separate by columns"
   ]
  },
  {
   "cell_type": "code",
   "execution_count": null,
   "metadata": {},
   "outputs": [],
   "source": [
    "@time lon, lat, dates, calanus_finmarchicus, calanus_helgolandicus = InterpCalanus.read_data_calanus(datafile);"
   ]
  },
  {
   "cell_type": "markdown",
   "metadata": {},
   "source": [
    "## Analysis\n",
    "### 1. Basic analysis: all data together"
   ]
  },
  {
   "cell_type": "code",
   "execution_count": null,
   "metadata": {},
   "outputs": [],
   "source": [
    "L = 2.5\n",
    "epsilon2 = 5.\n",
    "dom"
   ]
  },
  {
   "cell_type": "code",
   "execution_count": null,
   "metadata": {},
   "outputs": [],
   "source": [
    "@time f_finmarchicus, s = DIVAndrun(mask, (pm,pn), (xi,yi), (lon, lat), \n",
    "    calanus_finmarchicus .- 0. * mean(calanus_finmarchicus), (L, L), epsilon2);\n",
    "@time f_helgolandicus, s = DIVAndrun(mask, (pm,pn), (xi,yi), (lon, lat), \n",
    "    calanus_helgolandicus .- 0. * mean(calanus_helgolandicus), (L, L), epsilon2);"
   ]
  },
  {
   "cell_type": "markdown",
   "metadata": {},
   "source": [
    "### 2. Long correlation length"
   ]
  },
  {
   "cell_type": "code",
   "execution_count": null,
   "metadata": {},
   "outputs": [],
   "source": [
    "Llong = 100\n",
    "epsilon2 = 5.\n",
    "@time f_finmarchicus, s = DIVAndrun(mask, (pm,pn), (xi,yi), (lon, lat), \n",
    "    calanus_finmarchicus .- 0. * mean(calanus_finmarchicus), (Llong, Llong), epsilon2);\n",
    "@time f_helgolandicus, s = DIVAndrun(mask, (pm,pn), (xi,yi), (lon, lat), \n",
    "    calanus_helgolandicus .- 0. * mean(calanus_helgolandicus), (Llong, Llong), epsilon2);\n",
    "\n",
    "if makeplot\n",
    "    figname = joinpath(figdir, \"analysis_calanus_finmarchicus_large.jpg\")\n",
    "    PlottingCalanus.make_plot_analysis(longrid, latgrid, f_finmarchicus, \n",
    "                       \"Calanus finmarchicus analysis (L = $(Llong), eps2 = $(epsilon2))\", figname,\n",
    "                       mainproj)\n",
    "end"
   ]
  },
  {
   "cell_type": "markdown",
   "metadata": {},
   "source": [
    "### 3. Short correlation length"
   ]
  },
  {
   "cell_type": "code",
   "execution_count": null,
   "metadata": {},
   "outputs": [],
   "source": [
    "Lshort = 0.5\n",
    "epsilon2 = 5.\n",
    "@time f_finmarchicus, s = DIVAndrun(mask, (pm,pn), (xi,yi), (lon, lat), \n",
    "    calanus_finmarchicus .- 0. * mean(calanus_finmarchicus), (Lshort, Lshort), epsilon2);\n",
    "@time f_helgolandicus, s = DIVAndrun(mask, (pm,pn), (xi,yi), (lon, lat), \n",
    "    calanus_helgolandicus .- 0. * mean(calanus_helgolandicus), (Lshort, Lshort), epsilon2);\n",
    "\n",
    "if makeplot\n",
    "    figname = joinpath(figdir, \"analysis_calanus_finmarchicus_short.jpg\")\n",
    "    PlottingCalanus.make_plot_analysis(longrid, latgrid, f_finmarchicus, \n",
    "                       \"Calanus finmarchicus analysis (L = $(Lshort), eps2 = $(epsilon2))\", figname,\n",
    "                       mainproj)\n",
    "end"
   ]
  },
  {
   "cell_type": "markdown",
   "metadata": {},
   "source": [
    "## Time analysis\n",
    "### Yearly\n",
    "In these yearly analysis all the data are taken, whatever the month.     \n",
    "Create the (empty) netCDF files:"
   ]
  },
  {
   "cell_type": "code",
   "execution_count": null,
   "metadata": {},
   "outputs": [],
   "source": [
    "include(\"../src/InterpCalanus.jl\")\n",
    "resfileyear1 = joinpath(resdir, \"calanus_finmarchicus_year.nc\")\n",
    "resfileyear2 = joinpath(resdir, \"calanus_helgolandicus_year.nc\")\n",
    "InterpCalanus.create_nc_results_time(resfileyear1, longrid, latgrid,  \n",
    "                      \"Calanus finmarchicus\"; valex=-999.9, \n",
    "                      varname=\"abundance\",\n",
    "                      long_name=\"Abundance of Calanus finmarchicus\",\n",
    "                      domain=dom,\n",
    "                      aphiaID=Int32(104464), L, epsilon2);\n",
    "\n",
    "InterpCalanus.create_nc_results_time(resfileyear2, longrid, latgrid,  \n",
    "                      \"Calanus helgolandicus\"; valex=-999.9, \n",
    "                      varname=\"abundance\",\n",
    "                      long_name=\"Abundance of Calanus helgolandicus\",\n",
    "                      domain=dom,\n",
    "                      aphiaID=Int32(104466), L, epsilon2);"
   ]
  },
  {
   "cell_type": "markdown",
   "metadata": {},
   "source": [
    "Loop on the years:"
   ]
  },
  {
   "cell_type": "code",
   "execution_count": null,
   "metadata": {},
   "outputs": [],
   "source": [
    "run_year = true\n",
    "if run_year \n",
    "    for (iii, yyyy) in enumerate(1959:2018)\n",
    "        goodyear = findall(Dates.year.(dates) .== yyyy)\n",
    "        @info(\"Number of observations for year $(yyyy): $(length(goodyear))\")\n",
    "\n",
    "        # Analysis\n",
    "        f_finmarchicus, s_fin = DIVAndrun(mask, (pm,pn), (xi,yi), (lon[goodyear], lat[goodyear]), \n",
    "            calanus_finmarchicus[goodyear] .- 0. * mean(calanus_finmarchicus[goodyear]), (L, L), epsilon2);\n",
    "        f_helgolandicus, s_hel = DIVAndrun(mask, (pm,pn), (xi,yi), (lon[goodyear], lat[goodyear]), \n",
    "            calanus_helgolandicus[goodyear] .- 0. * mean(calanus_helgolandicus[goodyear]), (L, L), epsilon2);\n",
    "        \n",
    "        # Error field\n",
    "        cpme = DIVAnd_cpme(mask, (pm, pn), (xi, yi), (lon[goodyear], lat[goodyear]), \n",
    "            calanus_finmarchicus[goodyear], L, epsilon2);\n",
    "        \n",
    "        #cpme_helgo = DIVAnd_cpme(mask, (pm, pn), (xi, yi), (lon[goodyear], lat[goodyear]), \n",
    "        #    calanus_helgolandicus[goodyear], L, epsilon2);\n",
    "        \n",
    "        if makeplot\n",
    "            # Figures\n",
    "            figname = joinpath(figdir, \"analysis_calanus_finmarchicus_$(yyyy).jpg\")\n",
    "            PlottingCalanus.make_plot_analysis(longrid, latgrid, f_finmarchicus .+ 0. * mean(calanus_finmarchicus[goodyear]), \n",
    "                \"Calanus finmarchicus analysis ($(yyyy))\", figname, mainproj)\n",
    "\n",
    "            figname = joinpath(figdir, \"analysis_calanus_helgolandicus_$(yyyy).jpg\")\n",
    "            PlottingCalanus.make_plot_analysis(longrid, latgrid, f_helgolandicus .+ 0. * mean(calanus_helgolandicus[goodyear]), \n",
    "                \"Calanus helgolandicus analysis ($(yyyy))\", figname, mainproj)\n",
    "\n",
    "            figname = joinpath(figdir, \"error_calanus_finmarchicus_$(yyyy).jpg\")\n",
    "            PlottingCalanus.make_plot_error(longrid, latgrid, cpme, lon[goodyear], lat[goodyear], \n",
    "                \"Relative error field\", figname, mainproj)\n",
    "        end\n",
    "        \n",
    "        #figname = joinpath(figdir, \"error_calanus_helgolandicus_$(yyyy).jpg\")\n",
    "        #PlottingCalanus.make_plot_error(longrid, latgrid, cpme_helgo, lon[goodyear], lat[goodyear], \n",
    "        #    \"Relative error field\", figname, mainproj)\n",
    "        \n",
    "        # write single netCDF files\n",
    "        InterpCalanus.create_nc_results(joinpath(resdir, \"finmarchicus_$(yyyy).nc\"), \n",
    "                      longrid, latgrid, (Dates.Date(yyyy, 1, 1) - Dates.Date(1950, 1, 1)).value, \n",
    "                      f_finmarchicus .+ 0. * mean(calanus_finmarchicus[goodyear]), L, epsilon2,\n",
    "                      \"Calanus finmarchicus\"; valex=-999.9, \n",
    "                      varname=\"abundance\",\n",
    "                      long_name=\"Abundance of Calanus finmarchicus\",\n",
    "                      domain=dom,\n",
    "                      aphiaID=Int32(104464)\n",
    "                   )\n",
    "        \n",
    "        InterpCalanus.write_nc_error(joinpath(resdir, \"finmarchicus_$(yyyy).nc\"), cpme)\n",
    "\n",
    "        InterpCalanus.create_nc_results(joinpath(resdir, \"helgolandicus_$(yyyy).nc\"), \n",
    "                  longrid, latgrid, (Dates.Date(yyyy, 1, 1) - Dates.Date(1950, 1, 1)).value, \n",
    "                  f_helgolandicus .+ 0. * mean(calanus_helgolandicus[goodyear]), L, epsilon2, \n",
    "                  \"Calanus helgolandicus\"; valex=-999.9, \n",
    "                  varname=\"abundance\",\n",
    "                  long_name=\"Abundance of Calanus helgolandicus\",\n",
    "                  domain=dom,\n",
    "                  aphiaID=Int32(104466)\n",
    "               )\n",
    "        \n",
    "        InterpCalanus.write_nc_error(joinpath(resdir, \"helgolandicus_$(yyyy).nc\"), cpme)\n",
    "        \n",
    "        # Write common netCDF files\n",
    "        Dataset(resfileyear1, \"a\") do ds\n",
    "            ds[\"time\"][iii] = (Dates.Date(yyyy, 1, 1) - Dates.Date(1950, 1, 1)).value\n",
    "            ds[\"error\"][:,:,iii] = cpme\n",
    "            ds[\"abundance\"][:,:,iii] = f_finmarchicus\n",
    "        end\n",
    "\n",
    "        Dataset(resfileyear2, \"a\") do ds\n",
    "            ds[\"time\"][iii] = (Dates.Date(yyyy, 1, 1) - Dates.Date(1950, 1, 1)).value\n",
    "            ds[\"error\"][:,:,iii] = cpme\n",
    "            ds[\"abundance\"][:,:,iii] = f_helgolandicus\n",
    "        end\n",
    "        \n",
    "        # geoTIFF files\n",
    "        InterpCalanus.write_geotiff(joinpath(resdir, \"finmarchicus_$(yyyy).tif\"), f_finmarchicus, dom)\n",
    "        InterpCalanus.write_geotiff(joinpath(resdir, \"helgolandicus_$(yyyy).tif\"), f_helgolandicus, dom)\n",
    "        InterpCalanus.write_geotiff(joinpath(resdir, \"finmarchicus_error_$(yyyy).tif\"), cpme, dom)\n",
    "        #InterpCalanus.write_geotiff(joinpath(resdir, \"helgolandicus_error_$(yyyy).tif\"), cpme_helgo, dom)\n",
    "\n",
    "    end\n",
    "end"
   ]
  },
  {
   "cell_type": "markdown",
   "metadata": {},
   "source": [
    "### Monthly"
   ]
  },
  {
   "cell_type": "code",
   "execution_count": null,
   "metadata": {},
   "outputs": [],
   "source": [
    "resfilemonth1 = joinpath(resdir, \"calanus_finmarchicus_year_month.nc\")\n",
    "resfilemonth2 = joinpath(resdir, \"calanus_helgolandicus_year_month.nc\")\n",
    "\n",
    "InterpCalanus.create_nc_results_time(resfilemonth1, longrid, latgrid,  \n",
    "                      \"Calanus finmarchicus\"; valex=-999.9, \n",
    "                      varname=\"abundance\",\n",
    "                      long_name=\"Abundance of Calanus finmarchicus\",\n",
    "                      domain=dom,\n",
    "                      aphiaID=Int32(104464), L, epsilon2);\n",
    "\n",
    "InterpCalanus.create_nc_results_time(resfilemonth2, longrid, latgrid,  \n",
    "                      \"Calanus helgolandicus\"; valex=-999.9, \n",
    "                      varname=\"abundance\",\n",
    "                      long_name=\"Abundance of Calanus helgolandicus\",\n",
    "                      domain=dom,\n",
    "                      aphiaID=Int32(104466), L, epsilon2);"
   ]
  },
  {
   "cell_type": "code",
   "execution_count": null,
   "metadata": {},
   "outputs": [],
   "source": [
    "iii = 0\n",
    "for yyyy in 1959:2018\n",
    "\n",
    "    for m in 1:12\n",
    "        \n",
    "        iii += 1\n",
    "\n",
    "        mm = lpad(string(m), 2, '0')\n",
    "        goodtime = findall( (Dates.year.(dates) .== yyyy) .& (Dates.month.(dates) .== m) )\n",
    "        @info(\"Found $(length(goodtime)) dates points for year $(yyyy) | month $(mm)\")\n",
    "        \n",
    "        if length(goodtime) > 0\n",
    "\n",
    "            @time f_finmarchicus, s = DIVAndrun(mask, (pm,pn), (xi,yi), (lon[goodtime], lat[goodtime]), \n",
    "                calanus_finmarchicus[goodtime] .- 0. * mean(calanus_finmarchicus[goodtime]), (L, L), epsilon2);\n",
    "            @time f_helgolandicus, s = DIVAndrun(mask, (pm,pn), (xi,yi), (lon[goodtime], lat[goodtime]), \n",
    "                calanus_helgolandicus[goodtime] .- 0. * mean(calanus_helgolandicus[goodtime]), (L, L), epsilon2);\n",
    "            \n",
    "            # Error field\n",
    "            cpme_fin = DIVAnd_cpme(mask, (pm, pn), (xi, yi), (lon[goodtime], lat[goodtime]), \n",
    "                calanus_finmarchicus[goodtime], L, epsilon2);\n",
    "            cpme_hel = DIVAnd_cpme(mask, (pm, pn), (xi, yi), (lon[goodtime], lat[goodtime]), \n",
    "                calanus_helgolandicus[goodtime], L, epsilon2);\n",
    "            \n",
    "            if makeplot\n",
    "                figname = joinpath(figdir, \"analysis_calanus_finmarchicus_$(yyyy)$(mm).jpg\")         \n",
    "                PlottingCalanus.make_plot_analysis(longrid, latgrid, f_finmarchicus, \n",
    "                \"Calanus finmarchicus analysis ($(Dates.monthname(m)) $(yyyy))\", figname, mainproj)\n",
    "\n",
    "                figname = joinpath(figdir, \"analysis_calanus_helgolandicus_$(yyyy)$(mm).jpg\")\n",
    "                #make_plot_analysis(longrid, latgrid, f_helgolandicus .+ mean(calanus_helgolandicus[goodtime]), \n",
    "                #    \"Calanus finmarchicus analysis ($(Dates.monthname(m)) $(yyyy))\", figname)\n",
    "            end\n",
    "         \n",
    "            Dataset(resfilemonth1, \"a\") do ds\n",
    "                ds[\"time\"][iii] = (Dates.Date(yyyy, m, 1) - Dates.Date(1950, 1, 1)).value\n",
    "                ds[\"error\"][:,:,iii] = cpme_fin\n",
    "                ds[\"abundance\"][:,:,iii] = f_finmarchicus\n",
    "            end\n",
    "            \n",
    "            Dataset(resfilemonth2, \"a\") do ds\n",
    "                ds[\"time\"][iii] = (Dates.Date(yyyy, m, 1) - Dates.Date(1950, 1, 1)).value\n",
    "                ds[\"error\"][:,:,iii] = cpme_hel\n",
    "                ds[\"abundance\"][:,:,iii] = f_helgolandicus\n",
    "            end\n",
    "            \n",
    "        else\n",
    "            @warn(\"No data to perform analysis\")\n",
    "        end\n",
    "\n",
    "    end\n",
    "\n",
    "end"
   ]
  },
  {
   "cell_type": "code",
   "execution_count": null,
   "metadata": {},
   "outputs": [],
   "source": [
    "@info(\"Results writtin in directory $(resdir)\");"
   ]
  },
  {
   "cell_type": "code",
   "execution_count": null,
   "metadata": {},
   "outputs": [],
   "source": []
  }
 ],
 "metadata": {
  "@webio": {
   "lastCommId": null,
   "lastKernelId": null
  },
  "kernelspec": {
   "display_name": "Julia 1.8.5",
   "language": "julia",
   "name": "julia-1.8"
  },
  "language_info": {
   "file_extension": ".jl",
   "mimetype": "application/julia",
   "name": "julia",
   "version": "1.8.5"
  }
 },
 "nbformat": 4,
 "nbformat_minor": 5
}
