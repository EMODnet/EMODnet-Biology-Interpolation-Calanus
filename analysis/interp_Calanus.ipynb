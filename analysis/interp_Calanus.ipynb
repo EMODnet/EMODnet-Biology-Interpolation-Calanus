{
 "cells": [
  {
   "cell_type": "markdown",
   "metadata": {},
   "source": [
    "# Interpolate Calanus\n",
    "Interpolate (univariate) the observations of _Calanus finmarchicus_ and _Calanus helgolandicus_.\n",
    "\n",
    "The fields are prepared over a region covering the Northeast Atlantic.      \n",
    "Different resolutions are tested: 0.5° X 0.5°, 1° X 1° and 2° X 2°.\n",
    "\n",
    "In order to modify the directories, the spatial resolution, edit the configuration file [config.jl](../src/config.jl)."
   ]
  },
  {
   "cell_type": "code",
   "execution_count": 1,
   "metadata": {},
   "outputs": [
    {
     "data": {
      "text/plain": [
       "Main.InterpCalanus"
      ]
     },
     "execution_count": 1,
     "metadata": {},
     "output_type": "execute_result"
    }
   ],
   "source": [
    "using Dates\n",
    "using NCDatasets\n",
    "using PyPlot\n",
    "using DIVAnd\n",
    "using Statistics\n",
    "const plt=PyPlot\n",
    "using PyCall\n",
    "using PyPlot\n",
    "include(\"../src/InterpCalanus.jl\")"
   ]
  },
  {
   "cell_type": "code",
   "execution_count": 2,
   "metadata": {},
   "outputs": [
    {
     "name": "stderr",
     "output_type": "stream",
     "text": [
      "\u001b[36m\u001b[1m[ \u001b[22m\u001b[39m\u001b[36m\u001b[1mInfo: \u001b[22m\u001b[39mWorkig at resoluton 1.0° X 1.0°\n",
      "\u001b[36m\u001b[1m[ \u001b[22m\u001b[39m\u001b[36m\u001b[1mInfo: \u001b[22m\u001b[39mObservation file already downloaded\n",
      "\u001b[36m\u001b[1m[ \u001b[22m\u001b[39m\u001b[36m\u001b[1mInfo: \u001b[22m\u001b[39mBathymetry file already downloaded\n",
      "\u001b[36m\u001b[1m[ \u001b[22m\u001b[39m\u001b[36m\u001b[1mInfo: \u001b[22m\u001b[39mTemperature file already downloaded\n"
     ]
    },
    {
     "data": {
      "text/plain": [
       "\"#456A30\""
      ]
     },
     "execution_count": 2,
     "metadata": {},
     "output_type": "execute_result"
    }
   ],
   "source": [
    "include(\"../src/config.jl\")"
   ]
  },
  {
   "cell_type": "markdown",
   "metadata": {},
   "source": [
    "## Install `Cartopy`\n",
    "Set `usecartopy` to `false` if you don't want to use it."
   ]
  },
  {
   "cell_type": "code",
   "execution_count": 3,
   "metadata": {},
   "outputs": [
    {
     "name": "stderr",
     "output_type": "stream",
     "text": [
      "\u001b[36m\u001b[1m[ \u001b[22m\u001b[39m\u001b[36m\u001b[1mInfo: \u001b[22m\u001b[39mWon't use cartopy\n"
     ]
    }
   ],
   "source": [
    "if usecartopy\n",
    "    @info(\"Will try to use Cartopy for the plots\")\n",
    "    cartopy = PyCall.pyimport(\"cartopy\")\n",
    "    ccrs = PyCall.pyimport(\"cartopy.crs\")\n",
    "    cfeature = PyCall.pyimport(\"cartopy.feature\")\n",
    "    coast = cfeature.GSHHSFeature(scale=\"full\");\n",
    "    cartopyticker = PyCall.pyimport(\"cartopy.mpl.ticker\")\n",
    "    lon_formatter = cartopyticker.LongitudeFormatter()\n",
    "    lat_formatter = cartopyticker.LatitudeFormatter()\n",
    "    mainproj = ccrs.Mercator(central_longitude=0.5*(domain[1] + domain[2]), \n",
    "        min_latitude=domain[3], max_latitude=domain[4])\n",
    "    datacrs = ccrs.PlateCarree();\n",
    "else\n",
    "    @info(\"Won't use cartopy\")\n",
    "end"
   ]
  },
  {
   "cell_type": "markdown",
   "metadata": {},
   "source": [
    "## User inputs\n",
    "### Type of analysis to be performed\n",
    "Set the values (`true` or `false`) for the parameters `run_year` and `run_month = true in `config.jl`."
   ]
  },
  {
   "cell_type": "markdown",
   "metadata": {},
   "source": [
    "## Grid configuration"
   ]
  },
  {
   "cell_type": "code",
   "execution_count": 4,
   "metadata": {},
   "outputs": [
    {
     "name": "stderr",
     "output_type": "stream",
     "text": [
      "\u001b[36m\u001b[1m[ \u001b[22m\u001b[39m\u001b[36m\u001b[1mInfo: \u001b[22m\u001b[39mSize of the grid: 33 X 26\n"
     ]
    }
   ],
   "source": [
    "longrid = domain[1]:dlon:domain[2]\n",
    "latgrid = domain[3]:dlat:domain[4]\n",
    "@info(\"Size of the grid: $(length(longrid)) X $(length(latgrid))\")"
   ]
  },
  {
   "cell_type": "markdown",
   "metadata": {},
   "source": [
    "### Compute metrics"
   ]
  },
  {
   "cell_type": "code",
   "execution_count": 5,
   "metadata": {},
   "outputs": [
    {
     "name": "stderr",
     "output_type": "stream",
     "text": [
      "\u001b[36m\u001b[1m[ \u001b[22m\u001b[39m\u001b[36m\u001b[1mInfo: \u001b[22m\u001b[39m(33, 26)\n"
     ]
    }
   ],
   "source": [
    "_, (pm, pn), (xi, yi) = DIVAnd_rectdom(longrid, latgrid);\n",
    "@info(size(xi));"
   ]
  },
  {
   "cell_type": "markdown",
   "metadata": {},
   "source": [
    "### Prepare land-sea mask\n",
    "Using depth ≃ 5 meters"
   ]
  },
  {
   "cell_type": "code",
   "execution_count": 6,
   "metadata": {},
   "outputs": [
    {
     "name": "stdout",
     "output_type": "stream",
     "text": [
      "size(b) = (33, 26)\n"
     ]
    }
   ],
   "source": [
    "bx, by, b = DIVAnd.load_bath(bathyfile, true, longrid, latgrid)\n",
    "@show size(b);\n",
    "\n",
    "_, _, mask = DIVAnd.load_mask(bathyfile, true, longrid, latgrid, 5.0);\n",
    "# Remove Mediterranean Sea\n",
    "maskindex = findall((xi .>= 0.) .& (yi .<= 47.))\n",
    "mask[maskindex] .= 0.;"
   ]
  },
  {
   "cell_type": "markdown",
   "metadata": {},
   "source": [
    "## Data reading\n",
    "### Read the CSV files and separate by columns"
   ]
  },
  {
   "cell_type": "code",
   "execution_count": 7,
   "metadata": {},
   "outputs": [
    {
     "name": "stdout",
     "output_type": "stream",
     "text": [
      "  1.193117 seconds (5.66 M allocations: 191.113 MiB, 5.42% gc time, 67.45% compilation time)\n"
     ]
    },
    {
     "name": "stderr",
     "output_type": "stream",
     "text": [
      "\u001b[36m\u001b[1m[ \u001b[22m\u001b[39m\u001b[36m\u001b[1mInfo: \u001b[22m\u001b[39m(-20.447, 11.703)\n",
      "\u001b[36m\u001b[1m[ \u001b[22m\u001b[39m\u001b[36m\u001b[1mInfo: \u001b[22m\u001b[39m(41.2567, 66.808)\n"
     ]
    }
   ],
   "source": [
    "@time lon, lat, dates, calanus_finmarchicus, calanus_helgolandicus = InterpCalanus.read_data_calanus(datafile);"
   ]
  },
  {
   "cell_type": "markdown",
   "metadata": {},
   "source": [
    "## Analysis\n",
    "### 1. Basic analysis: all data together\n",
    "- The objective is to show the results of the analysis with short, medium and large correlation lengths.\n",
    "- The background field is set to zero: no observations means that there is 'nothing'."
   ]
  },
  {
   "cell_type": "code",
   "execution_count": 8,
   "metadata": {},
   "outputs": [
    {
     "data": {
      "text/plain": [
       "5.0"
      ]
     },
     "execution_count": 8,
     "metadata": {},
     "output_type": "execute_result"
    }
   ],
   "source": [
    "L = 2.5\n",
    "epsilon2 = 5."
   ]
  },
  {
   "cell_type": "code",
   "execution_count": 9,
   "metadata": {},
   "outputs": [
    {
     "name": "stdout",
     "output_type": "stream",
     "text": [
      " 21.444272 seconds (47.06 M allocations: 2.465 GiB, 4.46% gc time, 98.35% compilation time)\n",
      "  0.286181 seconds (2.05 M allocations: 148.363 MiB)\n"
     ]
    }
   ],
   "source": [
    "@time f_finmarchicus, s = DIVAndrun(mask, (pm,pn), (xi,yi), (lon, lat), \n",
    "    calanus_finmarchicus .- 0. * mean(calanus_finmarchicus), (L, L), epsilon2);\n",
    "@time f_helgolandicus, s = DIVAndrun(mask, (pm,pn), (xi,yi), (lon, lat), \n",
    "    calanus_helgolandicus .- 0. * mean(calanus_helgolandicus), (L, L), epsilon2);"
   ]
  },
  {
   "cell_type": "markdown",
   "metadata": {},
   "source": [
    "### 2. Long correlation length"
   ]
  },
  {
   "cell_type": "code",
   "execution_count": 10,
   "metadata": {},
   "outputs": [
    {
     "name": "stdout",
     "output_type": "stream",
     "text": [
      "  2.390701 seconds (6.35 M allocations: 361.632 MiB, 5.06% gc time, 83.65% compilation time)\n",
      "  0.314608 seconds (2.05 M allocations: 148.363 MiB)\n"
     ]
    }
   ],
   "source": [
    "Llong = 100\n",
    "epsilon2 = 5.\n",
    "@time f_finmarchicus, s = DIVAndrun(mask, (pm,pn), (xi,yi), (lon, lat), \n",
    "    calanus_finmarchicus .- 0. * mean(calanus_finmarchicus), (Llong, Llong), epsilon2);\n",
    "@time f_helgolandicus, s = DIVAndrun(mask, (pm,pn), (xi,yi), (lon, lat), \n",
    "    calanus_helgolandicus .- 0. * mean(calanus_helgolandicus), (Llong, Llong), epsilon2);\n",
    "\n",
    "if makeplot\n",
    "    figname = joinpath(figdir, \"analysis_calanus_finmarchicus_large.jpg\")\n",
    "    PlottingCalanus.make_plot_analysis(longrid, latgrid, f_finmarchicus, \n",
    "                       \"Calanus finmarchicus analysis (L = $(Llong), eps2 = $(epsilon2))\", figname,\n",
    "                       mainproj)\n",
    "end"
   ]
  },
  {
   "cell_type": "markdown",
   "metadata": {},
   "source": [
    "### 3. Short correlation length"
   ]
  },
  {
   "cell_type": "code",
   "execution_count": 11,
   "metadata": {},
   "outputs": [
    {
     "name": "stdout",
     "output_type": "stream",
     "text": [
      "  0.371461 seconds (2.05 M allocations: 148.292 MiB, 7.92% gc time)\n",
      "  0.352493 seconds (2.05 M allocations: 148.292 MiB, 7.82% gc time)\n"
     ]
    }
   ],
   "source": [
    "Lshort = 0.5\n",
    "epsilon2 = 5.\n",
    "@time f_finmarchicus, s = DIVAndrun(mask, (pm,pn), (xi,yi), (lon, lat), \n",
    "    calanus_finmarchicus .- 0. * mean(calanus_finmarchicus), (Lshort, Lshort), epsilon2);\n",
    "@time f_helgolandicus, s = DIVAndrun(mask, (pm,pn), (xi,yi), (lon, lat), \n",
    "    calanus_helgolandicus .- 0. * mean(calanus_helgolandicus), (Lshort, Lshort), epsilon2);\n",
    "\n",
    "if makeplot\n",
    "    figname = joinpath(figdir, \"analysis_calanus_finmarchicus_short.jpg\")\n",
    "    PlottingCalanus.make_plot_analysis(longrid, latgrid, f_finmarchicus, \n",
    "                       \"Calanus finmarchicus analysis (L = $(Lshort), eps2 = $(epsilon2))\", figname,\n",
    "                       mainproj)\n",
    "end"
   ]
  },
  {
   "cell_type": "markdown",
   "metadata": {},
   "source": [
    "## Time analysis\n",
    "### Yearly\n",
    "In these yearly analysis all the data are taken, whatever the month of the observation.     \n",
    "\n",
    "#### Create the (empty) netCDF files:"
   ]
  },
  {
   "cell_type": "code",
   "execution_count": 12,
   "metadata": {},
   "outputs": [
    {
     "data": {
      "text/plain": [
       "21-element Vector{Char}:\n",
       " 'C': ASCII/Unicode U+0043 (category Lu: Letter, uppercase)\n",
       " 'a': ASCII/Unicode U+0061 (category Ll: Letter, lowercase)\n",
       " 'l': ASCII/Unicode U+006C (category Ll: Letter, lowercase)\n",
       " 'a': ASCII/Unicode U+0061 (category Ll: Letter, lowercase)\n",
       " 'n': ASCII/Unicode U+006E (category Ll: Letter, lowercase)\n",
       " 'u': ASCII/Unicode U+0075 (category Ll: Letter, lowercase)\n",
       " 's': ASCII/Unicode U+0073 (category Ll: Letter, lowercase)\n",
       " '_': ASCII/Unicode U+005F (category Pc: Punctuation, connector)\n",
       " 'h': ASCII/Unicode U+0068 (category Ll: Letter, lowercase)\n",
       " 'e': ASCII/Unicode U+0065 (category Ll: Letter, lowercase)\n",
       " 'l': ASCII/Unicode U+006C (category Ll: Letter, lowercase)\n",
       " 'g': ASCII/Unicode U+0067 (category Ll: Letter, lowercase)\n",
       " 'o': ASCII/Unicode U+006F (category Ll: Letter, lowercase)\n",
       " 'l': ASCII/Unicode U+006C (category Ll: Letter, lowercase)\n",
       " 'a': ASCII/Unicode U+0061 (category Ll: Letter, lowercase)\n",
       " 'n': ASCII/Unicode U+006E (category Ll: Letter, lowercase)\n",
       " 'd': ASCII/Unicode U+0064 (category Ll: Letter, lowercase)\n",
       " 'i': ASCII/Unicode U+0069 (category Ll: Letter, lowercase)\n",
       " 'c': ASCII/Unicode U+0063 (category Ll: Letter, lowercase)\n",
       " 'u': ASCII/Unicode U+0075 (category Ll: Letter, lowercase)\n",
       " 's': ASCII/Unicode U+0073 (category Ll: Letter, lowercase)"
      ]
     },
     "execution_count": 12,
     "metadata": {},
     "output_type": "execute_result"
    }
   ],
   "source": [
    "resfileyear_combined = joinpath(resdir, \"calanus_finmarchicus_helgolandicus_year.nc\")\n",
    "\n",
    "ntimes = (1 - yearmin + yearmax)\n",
    "InterpCalanus.create_nc_results_time(resfileyear_combined, longrid, latgrid, ntimes,  \n",
    "                      [\"Calanus_finmarchicus\", \"Calanus_helgolandicus\"]; valex=-999.9, \n",
    "                      varname=\"abundance\",\n",
    "                      long_name=\"Interpolated abundance\",\n",
    "                      domain=domain,\n",
    "                      aphiaID=[Int32(104464), Int32(104466)], L, epsilon2)"
   ]
  },
  {
   "cell_type": "markdown",
   "metadata": {},
   "source": [
    "#### Loop on the years"
   ]
  },
  {
   "cell_type": "code",
   "execution_count": 13,
   "metadata": {},
   "outputs": [
    {
     "name": "stderr",
     "output_type": "stream",
     "text": [
      "\u001b[36m\u001b[1m[ \u001b[22m\u001b[39m\u001b[36m\u001b[1mInfo: \u001b[22m\u001b[39mNumber of observations for year 1959: 2364\n",
      "\u001b[36m\u001b[1m[ \u001b[22m\u001b[39m\u001b[36m\u001b[1mInfo: \u001b[22m\u001b[39mNumber of observations for year 1960: 2321\n",
      "\u001b[36m\u001b[1m[ \u001b[22m\u001b[39m\u001b[36m\u001b[1mInfo: \u001b[22m\u001b[39mNumber of observations for year 1961: 2382\n",
      "\u001b[36m\u001b[1m[ \u001b[22m\u001b[39m\u001b[36m\u001b[1mInfo: \u001b[22m\u001b[39mNumber of observations for year 1962: 2564\n",
      "\u001b[36m\u001b[1m[ \u001b[22m\u001b[39m\u001b[36m\u001b[1mInfo: \u001b[22m\u001b[39mNumber of observations for year 1963: 2465\n",
      "\u001b[36m\u001b[1m[ \u001b[22m\u001b[39m\u001b[36m\u001b[1mInfo: \u001b[22m\u001b[39mNumber of observations for year 1964: 2556\n",
      "\u001b[36m\u001b[1m[ \u001b[22m\u001b[39m\u001b[36m\u001b[1mInfo: \u001b[22m\u001b[39mNumber of observations for year 1965: 2777\n",
      "\u001b[36m\u001b[1m[ \u001b[22m\u001b[39m\u001b[36m\u001b[1mInfo: \u001b[22m\u001b[39mNumber of observations for year 1966: 2422\n",
      "\u001b[36m\u001b[1m[ \u001b[22m\u001b[39m\u001b[36m\u001b[1mInfo: \u001b[22m\u001b[39mNumber of observations for year 1967: 2679\n",
      "\u001b[36m\u001b[1m[ \u001b[22m\u001b[39m\u001b[36m\u001b[1mInfo: \u001b[22m\u001b[39mNumber of observations for year 1968: 2489\n",
      "\u001b[36m\u001b[1m[ \u001b[22m\u001b[39m\u001b[36m\u001b[1mInfo: \u001b[22m\u001b[39mNumber of observations for year 1969: 2863\n",
      "\u001b[36m\u001b[1m[ \u001b[22m\u001b[39m\u001b[36m\u001b[1mInfo: \u001b[22m\u001b[39mNumber of observations for year 1970: 2701\n",
      "\u001b[36m\u001b[1m[ \u001b[22m\u001b[39m\u001b[36m\u001b[1mInfo: \u001b[22m\u001b[39mNumber of observations for year 1971: 2964\n",
      "\u001b[36m\u001b[1m[ \u001b[22m\u001b[39m\u001b[36m\u001b[1mInfo: \u001b[22m\u001b[39mNumber of observations for year 1972: 2808\n",
      "\u001b[36m\u001b[1m[ \u001b[22m\u001b[39m\u001b[36m\u001b[1mInfo: \u001b[22m\u001b[39mNumber of observations for year 1973: 2788\n",
      "\u001b[36m\u001b[1m[ \u001b[22m\u001b[39m\u001b[36m\u001b[1mInfo: \u001b[22m\u001b[39mNumber of observations for year 1974: 2600\n",
      "\u001b[36m\u001b[1m[ \u001b[22m\u001b[39m\u001b[36m\u001b[1mInfo: \u001b[22m\u001b[39mNumber of observations for year 1975: 2490\n",
      "\u001b[36m\u001b[1m[ \u001b[22m\u001b[39m\u001b[36m\u001b[1mInfo: \u001b[22m\u001b[39mNumber of observations for year 1976: 2361\n",
      "\u001b[36m\u001b[1m[ \u001b[22m\u001b[39m\u001b[36m\u001b[1mInfo: \u001b[22m\u001b[39mNumber of observations for year 1977: 2267\n",
      "\u001b[36m\u001b[1m[ \u001b[22m\u001b[39m\u001b[36m\u001b[1mInfo: \u001b[22m\u001b[39mNumber of observations for year 1978: 1841\n",
      "\u001b[36m\u001b[1m[ \u001b[22m\u001b[39m\u001b[36m\u001b[1mInfo: \u001b[22m\u001b[39mNumber of observations for year 1979: 1925\n",
      "\u001b[36m\u001b[1m[ \u001b[22m\u001b[39m\u001b[36m\u001b[1mInfo: \u001b[22m\u001b[39mNumber of observations for year 1980: 2047\n",
      "\u001b[36m\u001b[1m[ \u001b[22m\u001b[39m\u001b[36m\u001b[1mInfo: \u001b[22m\u001b[39mNumber of observations for year 1981: 2141\n",
      "\u001b[36m\u001b[1m[ \u001b[22m\u001b[39m\u001b[36m\u001b[1mInfo: \u001b[22m\u001b[39mNumber of observations for year 1982: 2192\n",
      "\u001b[36m\u001b[1m[ \u001b[22m\u001b[39m\u001b[36m\u001b[1mInfo: \u001b[22m\u001b[39mNumber of observations for year 1983: 2505\n",
      "\u001b[36m\u001b[1m[ \u001b[22m\u001b[39m\u001b[36m\u001b[1mInfo: \u001b[22m\u001b[39mNumber of observations for year 1984: 2219\n",
      "\u001b[36m\u001b[1m[ \u001b[22m\u001b[39m\u001b[36m\u001b[1mInfo: \u001b[22m\u001b[39mNumber of observations for year 1985: 2482\n",
      "\u001b[36m\u001b[1m[ \u001b[22m\u001b[39m\u001b[36m\u001b[1mInfo: \u001b[22m\u001b[39mNumber of observations for year 1986: 2493\n",
      "\u001b[36m\u001b[1m[ \u001b[22m\u001b[39m\u001b[36m\u001b[1mInfo: \u001b[22m\u001b[39mNumber of observations for year 1987: 2052\n",
      "\u001b[36m\u001b[1m[ \u001b[22m\u001b[39m\u001b[36m\u001b[1mInfo: \u001b[22m\u001b[39mNumber of observations for year 1988: 2107\n",
      "\u001b[36m\u001b[1m[ \u001b[22m\u001b[39m\u001b[36m\u001b[1mInfo: \u001b[22m\u001b[39mNumber of observations for year 1989: 1999\n",
      "\u001b[36m\u001b[1m[ \u001b[22m\u001b[39m\u001b[36m\u001b[1mInfo: \u001b[22m\u001b[39mNumber of observations for year 1990: 1989\n",
      "\u001b[36m\u001b[1m[ \u001b[22m\u001b[39m\u001b[36m\u001b[1mInfo: \u001b[22m\u001b[39mNumber of observations for year 1991: 2184\n",
      "\u001b[36m\u001b[1m[ \u001b[22m\u001b[39m\u001b[36m\u001b[1mInfo: \u001b[22m\u001b[39mNumber of observations for year 1992: 2087\n",
      "\u001b[36m\u001b[1m[ \u001b[22m\u001b[39m\u001b[36m\u001b[1mInfo: \u001b[22m\u001b[39mNumber of observations for year 1993: 2479\n",
      "\u001b[36m\u001b[1m[ \u001b[22m\u001b[39m\u001b[36m\u001b[1mInfo: \u001b[22m\u001b[39mNumber of observations for year 1994: 2535\n",
      "\u001b[36m\u001b[1m[ \u001b[22m\u001b[39m\u001b[36m\u001b[1mInfo: \u001b[22m\u001b[39mNumber of observations for year 1995: 2435\n",
      "\u001b[36m\u001b[1m[ \u001b[22m\u001b[39m\u001b[36m\u001b[1mInfo: \u001b[22m\u001b[39mNumber of observations for year 1996: 1890\n",
      "\u001b[36m\u001b[1m[ \u001b[22m\u001b[39m\u001b[36m\u001b[1mInfo: \u001b[22m\u001b[39mNumber of observations for year 1997: 2513\n",
      "\u001b[36m\u001b[1m[ \u001b[22m\u001b[39m\u001b[36m\u001b[1mInfo: \u001b[22m\u001b[39mNumber of observations for year 1998: 2299\n",
      "\u001b[36m\u001b[1m[ \u001b[22m\u001b[39m\u001b[36m\u001b[1mInfo: \u001b[22m\u001b[39mNumber of observations for year 1999: 2424\n",
      "\u001b[36m\u001b[1m[ \u001b[22m\u001b[39m\u001b[36m\u001b[1mInfo: \u001b[22m\u001b[39mNumber of observations for year 2000: 2315\n",
      "\u001b[36m\u001b[1m[ \u001b[22m\u001b[39m\u001b[36m\u001b[1mInfo: \u001b[22m\u001b[39mNumber of observations for year 2001: 2536\n",
      "\u001b[36m\u001b[1m[ \u001b[22m\u001b[39m\u001b[36m\u001b[1mInfo: \u001b[22m\u001b[39mNumber of observations for year 2002: 2680\n",
      "\u001b[36m\u001b[1m[ \u001b[22m\u001b[39m\u001b[36m\u001b[1mInfo: \u001b[22m\u001b[39mNumber of observations for year 2003: 2414\n",
      "\u001b[36m\u001b[1m[ \u001b[22m\u001b[39m\u001b[36m\u001b[1mInfo: \u001b[22m\u001b[39mNumber of observations for year 2004: 2598\n",
      "\u001b[36m\u001b[1m[ \u001b[22m\u001b[39m\u001b[36m\u001b[1mInfo: \u001b[22m\u001b[39mNumber of observations for year 2005: 2771\n",
      "\u001b[36m\u001b[1m[ \u001b[22m\u001b[39m\u001b[36m\u001b[1mInfo: \u001b[22m\u001b[39mNumber of observations for year 2006: 2674\n",
      "\u001b[36m\u001b[1m[ \u001b[22m\u001b[39m\u001b[36m\u001b[1mInfo: \u001b[22m\u001b[39mNumber of observations for year 2007: 2331\n",
      "\u001b[36m\u001b[1m[ \u001b[22m\u001b[39m\u001b[36m\u001b[1mInfo: \u001b[22m\u001b[39mNumber of observations for year 2008: 2544\n",
      "\u001b[36m\u001b[1m[ \u001b[22m\u001b[39m\u001b[36m\u001b[1mInfo: \u001b[22m\u001b[39mNumber of observations for year 2009: 2515\n",
      "\u001b[36m\u001b[1m[ \u001b[22m\u001b[39m\u001b[36m\u001b[1mInfo: \u001b[22m\u001b[39mNumber of observations for year 2010: 2764\n",
      "\u001b[36m\u001b[1m[ \u001b[22m\u001b[39m\u001b[36m\u001b[1mInfo: \u001b[22m\u001b[39mNumber of observations for year 2011: 2747\n",
      "\u001b[36m\u001b[1m[ \u001b[22m\u001b[39m\u001b[36m\u001b[1mInfo: \u001b[22m\u001b[39mNumber of observations for year 2012: 2517\n",
      "\u001b[36m\u001b[1m[ \u001b[22m\u001b[39m\u001b[36m\u001b[1mInfo: \u001b[22m\u001b[39mNumber of observations for year 2013: 2827\n",
      "\u001b[36m\u001b[1m[ \u001b[22m\u001b[39m\u001b[36m\u001b[1mInfo: \u001b[22m\u001b[39mNumber of observations for year 2014: 2798\n",
      "\u001b[36m\u001b[1m[ \u001b[22m\u001b[39m\u001b[36m\u001b[1mInfo: \u001b[22m\u001b[39mNumber of observations for year 2015: 2486\n",
      "\u001b[36m\u001b[1m[ \u001b[22m\u001b[39m\u001b[36m\u001b[1mInfo: \u001b[22m\u001b[39mNumber of observations for year 2016: 2695\n",
      "\u001b[36m\u001b[1m[ \u001b[22m\u001b[39m\u001b[36m\u001b[1mInfo: \u001b[22m\u001b[39mNumber of observations for year 2017: 2041\n",
      "\u001b[36m\u001b[1m[ \u001b[22m\u001b[39m\u001b[36m\u001b[1mInfo: \u001b[22m\u001b[39mNumber of observations for year 2018: 2206\n"
     ]
    }
   ],
   "source": [
    "if run_year \n",
    "    for (iii, yyyy) in enumerate(yearmin:yearmax)\n",
    "        goodyear = findall(Dates.year.(dates) .== yyyy)\n",
    "        @info(\"Number of observations for year $(yyyy): $(length(goodyear))\")\n",
    "\n",
    "        # Analysis\n",
    "        f_finmarchicus, s_fin = DIVAndrun(mask, (pm,pn), (xi,yi), (lon[goodyear], lat[goodyear]), \n",
    "            calanus_finmarchicus[goodyear] .- 0. * mean(calanus_finmarchicus[goodyear]), (L, L), epsilon2);\n",
    "        f_helgolandicus, s_hel = DIVAndrun(mask, (pm,pn), (xi,yi), (lon[goodyear], lat[goodyear]), \n",
    "            calanus_helgolandicus[goodyear] .- 0. * mean(calanus_helgolandicus[goodyear]), (L, L), epsilon2);\n",
    "        \n",
    "        # Error field\n",
    "        cpme = DIVAnd_cpme(mask, (pm, pn), (xi, yi), (lon[goodyear], lat[goodyear]), \n",
    "            calanus_finmarchicus[goodyear], L, epsilon2);\n",
    "        \n",
    "        #cpme_helgo = DIVAnd_cpme(mask, (pm, pn), (xi, yi), (lon[goodyear], lat[goodyear]), \n",
    "        #    calanus_helgolandicus[goodyear], L, epsilon2);\n",
    "        \n",
    "        if makeplot\n",
    "            # Figures\n",
    "            figname = joinpath(figdir, \"analysis_calanus_finmarchicus_$(yyyy).jpg\")\n",
    "            PlottingCalanus.make_plot_analysis(longrid, latgrid, f_finmarchicus .+ 0. * mean(calanus_finmarchicus[goodyear]), \n",
    "                \"Calanus finmarchicus analysis ($(yyyy))\", figname, mainproj)\n",
    "\n",
    "            figname = joinpath(figdir, \"analysis_calanus_helgolandicus_$(yyyy).jpg\")\n",
    "            PlottingCalanus.make_plot_analysis(longrid, latgrid, f_helgolandicus .+ 0. * mean(calanus_helgolandicus[goodyear]), \n",
    "                \"Calanus helgolandicus analysis ($(yyyy))\", figname, mainproj)\n",
    "\n",
    "            figname = joinpath(figdir, \"error_calanus_finmarchicus_$(yyyy).jpg\")\n",
    "            PlottingCalanus.make_plot_error(longrid, latgrid, cpme, lon[goodyear], lat[goodyear], \n",
    "                \"Relative error field\", figname, mainproj)\n",
    "        end\n",
    "        \n",
    "        #figname = joinpath(figdir, \"error_calanus_helgolandicus_$(yyyy).jpg\")\n",
    "        #PlottingCalanus.make_plot_error(longrid, latgrid, cpme_helgo, lon[goodyear], lat[goodyear], \n",
    "        #    \"Relative error field\", figname, mainproj)\n",
    "        \n",
    "        # write single netCDF files\n",
    "        #InterpCalanus.create_nc_results(joinpath(resdirnc, \"calanus_finmarchicus_$(yyyy).nc\"), \n",
    "        #              longrid, latgrid, (Dates.Date(yyyy, 1, 1) - Dates.Date(1950, 1, 1)).value, \n",
    "        #              f_finmarchicus .+ 0. * mean(calanus_finmarchicus[goodyear]), L, epsilon2,\n",
    "        #              \"Calanus finmarchicus\"; valex=-999.9, \n",
    "        #              varname=\"abundance\",\n",
    "        #              long_name=\"Abundance of Calanus finmarchicus\",\n",
    "        #              domain=domain,\n",
    "        #              aphiaID=Int32(104464)\n",
    "        #           )\n",
    "        \n",
    "        #InterpCalanus.write_nc_error(joinpath(resdirnc, \"calanus_finmarchicus_$(yyyy).nc\"), cpme)\n",
    "\n",
    "        #InterpCalanus.create_nc_results(joinpath(resdirnc, \"calanus_helgolandicus_$(yyyy).nc\"), \n",
    "        #          longrid, latgrid, (Dates.Date(yyyy, 1, 1) - Dates.Date(1950, 1, 1)).value, \n",
    "        #          f_helgolandicus .+ 0. * mean(calanus_helgolandicus[goodyear]), L, epsilon2, \n",
    "        #          \"Calanus helgolandicus\"; valex=-999.9, \n",
    "        #          varname=\"abundance\",\n",
    "        #          long_name=\"Abundance of Calanus helgolandicus\",\n",
    "        #          domain=domain,\n",
    "        #          aphiaID=Int32(104466)\n",
    "        #       )\n",
    "        \n",
    "        #InterpCalanus.write_nc_error(joinpath(resdirnc, \"calanus_helgolandicus_$(yyyy).nc\"), cpme)\n",
    "        \n",
    "        # Write common netCDF files\n",
    "        Dataset(resfileyear_combined, \"a\") do ds\n",
    "            ds[\"time\"][iii] = (Dates.Date(yyyy, 1, 1) - Dates.Date(1950, 1, 1)).value\n",
    "            ds[\"error\"][:,:,iii,1] = cpme\n",
    "            ds[\"error\"][:,:,iii,2] = cpme\n",
    "            ds[\"abundance\"][:,:,iii,1] = f_finmarchicus\n",
    "            ds[\"abundance\"][:,:,iii,2] = f_helgolandicus\n",
    "        end\n",
    "\n",
    "       \n",
    "        # geoTIFF files\n",
    "        #InterpCalanus.write_geotiff(joinpath(resdirtif, \"calanus_finmarchicus_$(yyyy).tif\"), f_finmarchicus, domain)\n",
    "        #InterpCalanus.write_geotiff(joinpath(resdirtif, \"calanus_helgolandicus_$(yyyy).tif\"), f_helgolandicus, domain)\n",
    "        #InterpCalanus.write_geotiff(joinpath(resdirtif, \"calanus_finmarchicus_error_$(yyyy).tif\"), cpme, domain)\n",
    "        #InterpCalanus.write_geotiff(joinpath(resdir, \"calanus_helgolandicus_error_$(yyyy).tif\"), cpme_helgo, dom)\n",
    "\n",
    "    end\n",
    "end"
   ]
  },
  {
   "cell_type": "markdown",
   "metadata": {},
   "source": [
    "### Monthly"
   ]
  },
  {
   "cell_type": "code",
   "execution_count": 50,
   "metadata": {},
   "outputs": [],
   "source": [
    "resfilemonth_combined = joinpath(resdir, \"calanus_finmarchicus_helgolandicus_year_month.nc\")\n",
    "\n",
    "InterpCalanus.create_nc_results_time(resfilemonth_combined, longrid, latgrid,  \n",
    "                      [\"Calanus_finmarchicus\", \"Calanus_helgolandicus\"]; valex=-999.9, \n",
    "                      varname=\"abundance\",\n",
    "                      long_name=\"Abundance\",\n",
    "                      domain=domain,\n",
    "                      aphiaID=[Int32(104464), Int32(104466)], L, epsilon2);"
   ]
  },
  {
   "cell_type": "code",
   "execution_count": 51,
   "metadata": {},
   "outputs": [
    {
     "name": "stderr",
     "output_type": "stream",
     "text": [
      "\u001b[36m\u001b[1m[ \u001b[22m\u001b[39m\u001b[36m\u001b[1mInfo: \u001b[22m\u001b[39mFound 141 dates points for year 1959 | month 01\n",
      "\u001b[36m\u001b[1m[ \u001b[22m\u001b[39m\u001b[36m\u001b[1mInfo: \u001b[22m\u001b[39mFound 144 dates points for year 1959 | month 02\n",
      "\u001b[36m\u001b[1m[ \u001b[22m\u001b[39m\u001b[36m\u001b[1mInfo: \u001b[22m\u001b[39mFound 247 dates points for year 1959 | month 03\n",
      "\u001b[36m\u001b[1m[ \u001b[22m\u001b[39m\u001b[36m\u001b[1mInfo: \u001b[22m\u001b[39mFound 124 dates points for year 1959 | month 04\n",
      "\u001b[36m\u001b[1m[ \u001b[22m\u001b[39m\u001b[36m\u001b[1mInfo: \u001b[22m\u001b[39mFound 202 dates points for year 1959 | month 05\n",
      "\u001b[36m\u001b[1m[ \u001b[22m\u001b[39m\u001b[36m\u001b[1mInfo: \u001b[22m\u001b[39mFound 227 dates points for year 1959 | month 06\n",
      "\u001b[36m\u001b[1m[ \u001b[22m\u001b[39m\u001b[36m\u001b[1mInfo: \u001b[22m\u001b[39mFound 216 dates points for year 1959 | month 07\n",
      "\u001b[36m\u001b[1m[ \u001b[22m\u001b[39m\u001b[36m\u001b[1mInfo: \u001b[22m\u001b[39mFound 220 dates points for year 1959 | month 08\n",
      "\u001b[36m\u001b[1m[ \u001b[22m\u001b[39m\u001b[36m\u001b[1mInfo: \u001b[22m\u001b[39mFound 239 dates points for year 1959 | month 09\n",
      "\u001b[36m\u001b[1m[ \u001b[22m\u001b[39m\u001b[36m\u001b[1mInfo: \u001b[22m\u001b[39mFound 270 dates points for year 1959 | month 10\n",
      "\u001b[36m\u001b[1m[ \u001b[22m\u001b[39m\u001b[36m\u001b[1mInfo: \u001b[22m\u001b[39mFound 183 dates points for year 1959 | month 11\n",
      "\u001b[36m\u001b[1m[ \u001b[22m\u001b[39m\u001b[36m\u001b[1mInfo: \u001b[22m\u001b[39mFound 151 dates points for year 1959 | month 12\n",
      "\u001b[36m\u001b[1m[ \u001b[22m\u001b[39m\u001b[36m\u001b[1mInfo: \u001b[22m\u001b[39mFound 160 dates points for year 1960 | month 01\n",
      "\u001b[36m\u001b[1m[ \u001b[22m\u001b[39m\u001b[36m\u001b[1mInfo: \u001b[22m\u001b[39mFound 186 dates points for year 1960 | month 02\n",
      "\u001b[36m\u001b[1m[ \u001b[22m\u001b[39m\u001b[36m\u001b[1mInfo: \u001b[22m\u001b[39mFound 197 dates points for year 1960 | month 03\n",
      "\u001b[36m\u001b[1m[ \u001b[22m\u001b[39m\u001b[36m\u001b[1mInfo: \u001b[22m\u001b[39mFound 196 dates points for year 1960 | month 04\n",
      "\u001b[36m\u001b[1m[ \u001b[22m\u001b[39m\u001b[36m\u001b[1mInfo: \u001b[22m\u001b[39mFound 245 dates points for year 1960 | month 05\n",
      "\u001b[36m\u001b[1m[ \u001b[22m\u001b[39m\u001b[36m\u001b[1mInfo: \u001b[22m\u001b[39mFound 179 dates points for year 1960 | month 06\n",
      "\u001b[36m\u001b[1m[ \u001b[22m\u001b[39m\u001b[36m\u001b[1mInfo: \u001b[22m\u001b[39mFound 214 dates points for year 1960 | month 07\n",
      "\u001b[36m\u001b[1m[ \u001b[22m\u001b[39m\u001b[36m\u001b[1mInfo: \u001b[22m\u001b[39mFound 188 dates points for year 1960 | month 08\n",
      "\u001b[36m\u001b[1m[ \u001b[22m\u001b[39m\u001b[36m\u001b[1mInfo: \u001b[22m\u001b[39mFound 229 dates points for year 1960 | month 09\n",
      "\u001b[36m\u001b[1m[ \u001b[22m\u001b[39m\u001b[36m\u001b[1mInfo: \u001b[22m\u001b[39mFound 171 dates points for year 1960 | month 10\n",
      "\u001b[36m\u001b[1m[ \u001b[22m\u001b[39m\u001b[36m\u001b[1mInfo: \u001b[22m\u001b[39mFound 213 dates points for year 1960 | month 11\n",
      "\u001b[36m\u001b[1m[ \u001b[22m\u001b[39m\u001b[36m\u001b[1mInfo: \u001b[22m\u001b[39mFound 143 dates points for year 1960 | month 12\n",
      "\u001b[36m\u001b[1m[ \u001b[22m\u001b[39m\u001b[36m\u001b[1mInfo: \u001b[22m\u001b[39mFound 200 dates points for year 1961 | month 01\n",
      "\u001b[36m\u001b[1m[ \u001b[22m\u001b[39m\u001b[36m\u001b[1mInfo: \u001b[22m\u001b[39mFound 230 dates points for year 1961 | month 02\n",
      "\u001b[36m\u001b[1m[ \u001b[22m\u001b[39m\u001b[36m\u001b[1mInfo: \u001b[22m\u001b[39mFound 166 dates points for year 1961 | month 03\n",
      "\u001b[36m\u001b[1m[ \u001b[22m\u001b[39m\u001b[36m\u001b[1mInfo: \u001b[22m\u001b[39mFound 195 dates points for year 1961 | month 04\n",
      "\u001b[36m\u001b[1m[ \u001b[22m\u001b[39m\u001b[36m\u001b[1mInfo: \u001b[22m\u001b[39mFound 162 dates points for year 1961 | month 05\n",
      "\u001b[36m\u001b[1m[ \u001b[22m\u001b[39m\u001b[36m\u001b[1mInfo: \u001b[22m\u001b[39mFound 195 dates points for year 1961 | month 06\n",
      "\u001b[36m\u001b[1m[ \u001b[22m\u001b[39m\u001b[36m\u001b[1mInfo: \u001b[22m\u001b[39mFound 168 dates points for year 1961 | month 07\n",
      "\u001b[36m\u001b[1m[ \u001b[22m\u001b[39m\u001b[36m\u001b[1mInfo: \u001b[22m\u001b[39mFound 207 dates points for year 1961 | month 08\n",
      "\u001b[36m\u001b[1m[ \u001b[22m\u001b[39m\u001b[36m\u001b[1mInfo: \u001b[22m\u001b[39mFound 212 dates points for year 1961 | month 09\n",
      "\u001b[36m\u001b[1m[ \u001b[22m\u001b[39m\u001b[36m\u001b[1mInfo: \u001b[22m\u001b[39mFound 220 dates points for year 1961 | month 10\n",
      "\u001b[36m\u001b[1m[ \u001b[22m\u001b[39m\u001b[36m\u001b[1mInfo: \u001b[22m\u001b[39mFound 199 dates points for year 1961 | month 11\n",
      "\u001b[36m\u001b[1m[ \u001b[22m\u001b[39m\u001b[36m\u001b[1mInfo: \u001b[22m\u001b[39mFound 228 dates points for year 1961 | month 12\n"
     ]
    }
   ],
   "source": [
    "if run_month\n",
    "    iii = 0\n",
    "    for yyyy in 1959:1961\n",
    "\n",
    "        for m in 1:12\n",
    "\n",
    "            iii += 1\n",
    "\n",
    "            mm = lpad(string(m), 2, '0')\n",
    "            # Select the good observations\n",
    "            goodtime = findall( (Dates.year.(dates) .== yyyy) .& (Dates.month.(dates) .== m) )\n",
    "            @info(\"Found $(length(goodtime)) dates points for year $(yyyy) | month $(mm)\")\n",
    "\n",
    "            if length(goodtime) > 0\n",
    "\n",
    "                f_finmarchicus, s = DIVAndrun(mask, (pm,pn), (xi,yi), (lon[goodtime], lat[goodtime]), \n",
    "                    calanus_finmarchicus[goodtime] .- 0. * mean(calanus_finmarchicus[goodtime]), (L, L), epsilon2);\n",
    "                f_helgolandicus, s = DIVAndrun(mask, (pm,pn), (xi,yi), (lon[goodtime], lat[goodtime]), \n",
    "                    calanus_helgolandicus[goodtime] .- 0. * mean(calanus_helgolandicus[goodtime]), (L, L), epsilon2);\n",
    "\n",
    "                # Error field\n",
    "                cpme_fin = DIVAnd_cpme(mask, (pm, pn), (xi, yi), (lon[goodtime], lat[goodtime]), \n",
    "                    calanus_finmarchicus[goodtime], L, epsilon2);\n",
    "                cpme_hel = DIVAnd_cpme(mask, (pm, pn), (xi, yi), (lon[goodtime], lat[goodtime]), \n",
    "                    calanus_helgolandicus[goodtime], L, epsilon2);\n",
    "\n",
    "                if makeplot\n",
    "                    figname = joinpath(figdir, \"analysis_calanus_finmarchicus_$(yyyy)$(mm).jpg\")         \n",
    "                    PlottingCalanus.make_plot_analysis(longrid, latgrid, f_finmarchicus, \n",
    "                    \"Calanus finmarchicus analysis ($(Dates.monthname(m)) $(yyyy))\", figname, mainproj)\n",
    "\n",
    "                    figname = joinpath(figdir, \"analysis_calanus_helgolandicus_$(yyyy)$(mm).jpg\")\n",
    "                    #make_plot_analysis(longrid, latgrid, f_helgolandicus .+ mean(calanus_helgolandicus[goodtime]), \n",
    "                    #    \"Calanus finmarchicus analysis ($(Dates.monthname(m)) $(yyyy))\", figname)\n",
    "                end\n",
    "\n",
    "                Dataset(resfilemonth_combined, \"a\") do ds\n",
    "                    ds[\"time\"][iii] = (Dates.Date(yyyy, m, 1) - Dates.Date(1950, 1, 1)).value\n",
    "                    ds[\"error\"][:,:,iii,1] = cpme_fin\n",
    "                    ds[\"error\"][:,:,iii,2] = cpme_hel\n",
    "                    ds[\"abundance\"][:,:,iii,1] = f_finmarchicus\n",
    "                    ds[\"abundance\"][:,:,iii,2] = f_helgolandicus\n",
    "                end\n",
    "\n",
    "            else\n",
    "                @warn(\"No data to perform analysis\")\n",
    "            end\n",
    "\n",
    "        end\n",
    "\n",
    "    end\n",
    "end"
   ]
  },
  {
   "cell_type": "code",
   "execution_count": 52,
   "metadata": {},
   "outputs": [
    {
     "name": "stderr",
     "output_type": "stream",
     "text": [
      "\u001b[36m\u001b[1m[ \u001b[22m\u001b[39m\u001b[36m\u001b[1mInfo: \u001b[22m\u001b[39mResults writtin in directory ../results/multivariate/1deg_test/\n"
     ]
    }
   ],
   "source": [
    "@info(\"Results writtin in directory $(resdir)\");"
   ]
  },
  {
   "cell_type": "markdown",
   "metadata": {},
   "source": [
    "## Plots\n",
    "If `cartopy` could not be installed properly in Julia, you can use the Python notebook [plot_results_map_python](plot_results_map_python.ipynb) to create the figures using the netCDF files."
   ]
  }
 ],
 "metadata": {
  "@webio": {
   "lastCommId": null,
   "lastKernelId": null
  },
  "kernelspec": {
   "display_name": "Julia 1.8.5",
   "language": "julia",
   "name": "julia-1.8"
  },
  "language_info": {
   "file_extension": ".jl",
   "mimetype": "application/julia",
   "name": "julia",
   "version": "1.8.5"
  }
 },
 "nbformat": 4,
 "nbformat_minor": 5
}
