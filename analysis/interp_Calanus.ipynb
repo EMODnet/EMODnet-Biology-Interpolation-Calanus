{
 "cells": [
  {
   "cell_type": "markdown",
   "metadata": {},
   "source": [
    "# Interpolate Calanus\n",
    "Interpolate the observations of _Calanus Finmarchicus_ and _Calanus Holandicus_.\n",
    "\n",
    "The fields are prepared over a region covering the Northeast Atlantic.      \n",
    "Different resolutions are tested: 0.5° X 0.5°, 1° X 1° and 2° X 2°.\n",
    "\n",
    "In order to modify the directories, the spatial resolution, edit the [configuration file](./config.ini)."
   ]
  },
  {
   "cell_type": "code",
   "execution_count": 1,
   "metadata": {},
   "outputs": [
    {
     "data": {
      "text/plain": [
       "false"
      ]
     },
     "execution_count": 1,
     "metadata": {},
     "output_type": "execute_result"
    }
   ],
   "source": [
    "using CSV\n",
    "using Dates\n",
    "using DelimitedFiles \n",
    "using NCDatasets\n",
    "using PyPlot\n",
    "using DIVAnd\n",
    "using Statistics\n",
    "const plt=PyPlot\n",
    "using PyCall\n",
    "using PyPlot\n",
    "using TOML\n",
    "using GeoArrays\n",
    "colors = PyCall.pyimport(\"matplotlib.colors\")\n",
    "mticker = PyCall.pyimport(\"matplotlib.ticker\")\n",
    "cmocean = PyCall.pyimport(\"cmocean\")\n",
    "plt.rc(\"font\", family=\"Times New Roman\", size=16)\n",
    "include(\"../src/InterpCalanus.jl\")\n",
    "makeplot = false\n",
    "usecartopy = false"
   ]
  },
  {
   "cell_type": "markdown",
   "metadata": {},
   "source": [
    "## User settings\n",
    "Read configuration file"
   ]
  },
  {
   "cell_type": "code",
   "execution_count": 2,
   "metadata": {},
   "outputs": [
    {
     "data": {
      "text/plain": [
       "4-element Vector{Float64}:\n",
       " -20.5\n",
       "  11.75\n",
       "  41.25\n",
       "  67.0"
      ]
     },
     "execution_count": 2,
     "metadata": {},
     "output_type": "execute_result"
    }
   ],
   "source": [
    "config = TOML.parsefile(\"./config.ini\")\n",
    "dom = config[\"domain\"]"
   ]
  },
  {
   "cell_type": "markdown",
   "metadata": {},
   "source": [
    "## Install `Cartopy`\n",
    "Set `usecartopy` to `false` if you don't want to use it."
   ]
  },
  {
   "cell_type": "code",
   "execution_count": 3,
   "metadata": {},
   "outputs": [
    {
     "name": "stderr",
     "output_type": "stream",
     "text": [
      "┌ Info: Won't use cartopy\n",
      "└ @ Main In[3]:15\n"
     ]
    }
   ],
   "source": [
    "if usecartopy\n",
    "    @info(\"Will try to use Cartopy for the plots\")\n",
    "    cartopy = PyCall.pyimport(\"cartopy\")\n",
    "    ccrs = PyCall.pyimport(\"cartopy.crs\")\n",
    "    cfeature = PyCall.pyimport(\"cartopy.feature\")\n",
    "    mticker = PyCall.pyimport(\"matplotlib.ticker\")\n",
    "    coast = cfeature.GSHHSFeature(scale=\"full\");\n",
    "    cartopyticker = PyCall.pyimport(\"cartopy.mpl.ticker\")\n",
    "    lon_formatter = cartopyticker.LongitudeFormatter()\n",
    "    lat_formatter = cartopyticker.LatitudeFormatter()\n",
    "    mainproj = ccrs.Mercator(central_longitude=0.5*(dom[1] + dom[2]), \n",
    "        min_latitude=dom[3], max_latitude=dom[4])\n",
    "    datacrs = ccrs.PlateCarree();\n",
    "else\n",
    "    @info(\"Won't use cartopy\")\n",
    "end"
   ]
  },
  {
   "cell_type": "markdown",
   "metadata": {},
   "source": [
    "## User inputs\n",
    "### Type of analysis to be performed"
   ]
  },
  {
   "cell_type": "code",
   "execution_count": 4,
   "metadata": {},
   "outputs": [
    {
     "data": {
      "text/plain": [
       "true"
      ]
     },
     "execution_count": 4,
     "metadata": {},
     "output_type": "execute_result"
    }
   ],
   "source": [
    "run_year = true\n",
    "run_month = true"
   ]
  },
  {
   "cell_type": "markdown",
   "metadata": {},
   "source": [
    "### Files and directories"
   ]
  },
  {
   "cell_type": "code",
   "execution_count": 5,
   "metadata": {},
   "outputs": [
    {
     "data": {
      "text/plain": [
       "(true, true)"
      ]
     },
     "execution_count": 5,
     "metadata": {},
     "output_type": "execute_result"
    }
   ],
   "source": [
    "resdir = config[\"directories\"][\"resdir\"]\n",
    "figdir = config[\"directories\"][\"figdir\"]\n",
    "isdir(\"resdir\") ? @debug(\"already there\") : mkpath(\"resdir\")\n",
    "isdir(figdir) ? @debug(\"already there\") : mkpath(figdir)\n",
    "datadir = config[\"directories\"][\"datadir\"]\n",
    "datafile = joinpath(datadir, config[\"files\"][\"datafile\"])\n",
    "isfile(datafile) ? @debug(\"already downloaded\") : download(config[\"files\"][\"datafileURL\"], datafile)\n",
    "bathfile = joinpath(datadir, config[\"files\"][\"bathyfile\"])\n",
    "isfile(datafile), isfile(bathfile)"
   ]
  },
  {
   "cell_type": "markdown",
   "metadata": {},
   "source": [
    "## Grid configuration"
   ]
  },
  {
   "cell_type": "code",
   "execution_count": 6,
   "metadata": {},
   "outputs": [
    {
     "name": "stderr",
     "output_type": "stream",
     "text": [
      "┌ Info: Size of the grid: 130 X 104\n",
      "└ @ Main In[6]:3\n"
     ]
    }
   ],
   "source": [
    "longrid = dom[1]:config[\"dlon\"]:dom[2]\n",
    "latgrid = dom[3]:config[\"dlat\"]:dom[4]\n",
    "@info(\"Size of the grid: $(length(longrid)) X $(length(latgrid))\")"
   ]
  },
  {
   "cell_type": "markdown",
   "metadata": {},
   "source": [
    "### Metrics"
   ]
  },
  {
   "cell_type": "code",
   "execution_count": 7,
   "metadata": {},
   "outputs": [
    {
     "name": "stderr",
     "output_type": "stream",
     "text": [
      "┌ Info: (130, 104)\n",
      "└ @ Main In[7]:2\n"
     ]
    }
   ],
   "source": [
    "_, (pm, pn), (xi, yi) = DIVAnd_rectdom(longrid, latgrid);\n",
    "@info(size(xi));"
   ]
  },
  {
   "cell_type": "markdown",
   "metadata": {},
   "source": [
    "### Prepare land-sea mask"
   ]
  },
  {
   "cell_type": "code",
   "execution_count": 8,
   "metadata": {},
   "outputs": [
    {
     "name": "stdout",
     "output_type": "stream",
     "text": [
      "size(b) = (130, 104)\n"
     ]
    },
    {
     "data": {
      "text/plain": [
       "(130, 104)"
      ]
     },
     "execution_count": 8,
     "metadata": {},
     "output_type": "execute_result"
    }
   ],
   "source": [
    "bx, by, b = DIVAnd.load_bath(bathfile, true, longrid, latgrid)\n",
    "@show size(b)"
   ]
  },
  {
   "cell_type": "code",
   "execution_count": 9,
   "metadata": {},
   "outputs": [],
   "source": [
    "_, _, mask = DIVAnd.load_mask(bathfile, true, longrid, latgrid, 5.0);\n",
    "# Remove Mediterranean Sea\n",
    "\n",
    "# - Resolution = 0.1°\n",
    "# mask[220:end,1:60] .= 0;\n",
    "\n",
    "# - Resolution = 0.5°\n",
    "maskindex = findall((xi .>= 0.) .& (yi .<= 47.))\n",
    "mask[maskindex] .= 0.;"
   ]
  },
  {
   "cell_type": "markdown",
   "metadata": {},
   "source": [
    "## Data reading\n",
    "### Read the CSV files and separate by columns"
   ]
  },
  {
   "cell_type": "code",
   "execution_count": 10,
   "metadata": {},
   "outputs": [
    {
     "name": "stdout",
     "output_type": "stream",
     "text": [
      "  1.745828 seconds (5.64 M allocations: 190.164 MiB, 3.01% gc time, 66.59% compilation time: 3% of which was recompilation)\n"
     ]
    },
    {
     "name": "stderr",
     "output_type": "stream",
     "text": [
      "┌ Info: (-20.447, 11.703)\n",
      "└ @ Main.InterpCalanus /home/ctroupin/Projects/EMODnet/EMODnet-Bio-Interp-Calanus/src/InterpCalanus.jl:39\n",
      "┌ Info: (41.2567, 66.808)\n",
      "└ @ Main.InterpCalanus /home/ctroupin/Projects/EMODnet/EMODnet-Bio-Interp-Calanus/src/InterpCalanus.jl:40\n"
     ]
    }
   ],
   "source": [
    "@time lon, lat, dates, calanus_finmarchicus, calanus_helgolandicus = InterpCalanus.read_data_calanus(datafile);"
   ]
  },
  {
   "cell_type": "markdown",
   "metadata": {},
   "source": [
    "## Analysis\n",
    "### 1. Basic analysis: all data together"
   ]
  },
  {
   "cell_type": "code",
   "execution_count": 11,
   "metadata": {},
   "outputs": [
    {
     "data": {
      "text/plain": [
       "5.0"
      ]
     },
     "execution_count": 11,
     "metadata": {},
     "output_type": "execute_result"
    }
   ],
   "source": [
    "L = 2.5\n",
    "epsilon2 = 5."
   ]
  },
  {
   "cell_type": "code",
   "execution_count": 12,
   "metadata": {},
   "outputs": [
    {
     "name": "stdout",
     "output_type": "stream",
     "text": [
      " 26.147841 seconds (48.08 M allocations: 2.666 GiB, 4.19% gc time, 97.35% compilation time)\n",
      "  0.476857 seconds (2.07 M allocations: 295.693 MiB, 4.58% gc time, 9.11% compilation time)\n"
     ]
    }
   ],
   "source": [
    "@time f_finmarchicus, s = DIVAndrun(mask, (pm,pn), (xi,yi), (lon, lat), \n",
    "    calanus_finmarchicus .- 0. * mean(calanus_finmarchicus), (L, L), epsilon2);\n",
    "@time f_helgolandicus, s = DIVAndrun(mask, (pm,pn), (xi,yi), (lon, lat), \n",
    "    calanus_helgolandicus .- 0. * mean(calanus_helgolandicus), (L, L), epsilon2);"
   ]
  },
  {
   "cell_type": "markdown",
   "metadata": {},
   "source": [
    "### 2. Long correlation length"
   ]
  },
  {
   "cell_type": "code",
   "execution_count": 13,
   "metadata": {},
   "outputs": [
    {
     "name": "stdout",
     "output_type": "stream",
     "text": [
      "  3.141856 seconds (6.33 M allocations: 506.518 MiB, 15.96% gc time, 67.96% compilation time)\n",
      "  0.795094 seconds (2.05 M allocations: 294.422 MiB, 35.97% gc time)\n"
     ]
    }
   ],
   "source": [
    "Llong = 100\n",
    "epsilon2 = 5.\n",
    "@time f_finmarchicus, s = DIVAndrun(mask, (pm,pn), (xi,yi), (lon, lat), \n",
    "    calanus_finmarchicus .- 0. * mean(calanus_finmarchicus), (Llong, Llong), epsilon2);\n",
    "@time f_helgolandicus, s = DIVAndrun(mask, (pm,pn), (xi,yi), (lon, lat), \n",
    "    calanus_helgolandicus .- 0. * mean(calanus_helgolandicus), (Llong, Llong), epsilon2);\n",
    "\n",
    "if makeplot\n",
    "    figname = joinpath(figdir, \"analysis_calanus_finmarchicus_large.jpg\")\n",
    "    PlottingCalanus.make_plot_analysis(longrid, latgrid, f_finmarchicus, \n",
    "                       \"Calanus finmarchicus analysis (L = $(Llong), eps2 = $(epsilon2))\", figname,\n",
    "                       mainproj)\n",
    "end"
   ]
  },
  {
   "cell_type": "markdown",
   "metadata": {},
   "source": [
    "### 3. Short correlation length"
   ]
  },
  {
   "cell_type": "code",
   "execution_count": 14,
   "metadata": {},
   "outputs": [
    {
     "name": "stdout",
     "output_type": "stream",
     "text": [
      "  0.494926 seconds (2.05 M allocations: 294.423 MiB, 3.29% gc time)\n",
      "  0.527618 seconds (2.05 M allocations: 294.422 MiB, 3.47% gc time)\n"
     ]
    }
   ],
   "source": [
    "Lshort = 0.5\n",
    "epsilon2 = 5.\n",
    "@time f_finmarchicus, s = DIVAndrun(mask, (pm,pn), (xi,yi), (lon, lat), \n",
    "    calanus_finmarchicus .- 0. * mean(calanus_finmarchicus), (Lshort, Lshort), epsilon2);\n",
    "@time f_helgolandicus, s = DIVAndrun(mask, (pm,pn), (xi,yi), (lon, lat), \n",
    "    calanus_helgolandicus .- 0. * mean(calanus_helgolandicus), (Lshort, Lshort), epsilon2);\n",
    "\n",
    "if makeplot\n",
    "    figname = joinpath(figdir, \"analysis_calanus_finmarchicus_short.jpg\")\n",
    "    PlottingCalanus.make_plot_analysis(longrid, latgrid, f_finmarchicus, \n",
    "                       \"Calanus finmarchicus analysis (L = $(Lshort), eps2 = $(epsilon2))\", figname,\n",
    "                       mainproj)\n",
    "end"
   ]
  },
  {
   "cell_type": "markdown",
   "metadata": {},
   "source": [
    "## Time analysis\n",
    "### Yearly\n",
    "In these yearly analysis all the data are taken, whatever the month.     \n",
    "Create the (empty) netCDF files:"
   ]
  },
  {
   "cell_type": "code",
   "execution_count": 15,
   "metadata": {},
   "outputs": [
    {
     "name": "stderr",
     "output_type": "stream",
     "text": [
      "WARNING: replacing module InterpCalanus.\n"
     ]
    }
   ],
   "source": [
    "include(\"../src/InterpCalanus.jl\")\n",
    "resfileyear1 = joinpath(resdir, \"calanus_finmarchicus_year.nc\")\n",
    "resfileyear2 = joinpath(resdir, \"calanus_helgolandicus_year.nc\")\n",
    "InterpCalanus.create_nc_results_time(resfileyear1, longrid, latgrid,  \n",
    "                      \"Calanus finmarchicus\"; valex=-999.9, \n",
    "                      varname=\"abundance\",\n",
    "                      long_name=\"Abundance of Calanus finmarchicus\",\n",
    "                      domain=dom,\n",
    "                      aphiaID=Int32(104464), L, epsilon2);\n",
    "\n",
    "InterpCalanus.create_nc_results_time(resfileyear2, longrid, latgrid,  \n",
    "                      \"Calanus helgolandicus\"; valex=-999.9, \n",
    "                      varname=\"abundance\",\n",
    "                      long_name=\"Abundance of Calanus helgolandicus\",\n",
    "                      domain=dom,\n",
    "                      aphiaID=Int32(104466), L, epsilon2);"
   ]
  },
  {
   "cell_type": "markdown",
   "metadata": {},
   "source": [
    "Loop on the years:"
   ]
  },
  {
   "cell_type": "code",
   "execution_count": 16,
   "metadata": {},
   "outputs": [
    {
     "name": "stderr",
     "output_type": "stream",
     "text": [
      "┌ Info: Number of observations for year 1959: 2364\n",
      "└ @ Main In[16]:4\n",
      "┌ Info: Number of observations for year 1960: 2321\n",
      "└ @ Main In[16]:4\n",
      "┌ Info: Number of observations for year 1961: 2382\n",
      "└ @ Main In[16]:4\n",
      "┌ Info: Number of observations for year 1962: 2564\n",
      "└ @ Main In[16]:4\n",
      "┌ Info: Number of observations for year 1963: 2465\n",
      "└ @ Main In[16]:4\n",
      "┌ Info: Number of observations for year 1964: 2556\n",
      "└ @ Main In[16]:4\n",
      "┌ Info: Number of observations for year 1965: 2777\n",
      "└ @ Main In[16]:4\n",
      "┌ Info: Number of observations for year 1966: 2422\n",
      "└ @ Main In[16]:4\n",
      "┌ Info: Number of observations for year 1967: 2679\n",
      "└ @ Main In[16]:4\n",
      "┌ Info: Number of observations for year 1968: 2489\n",
      "└ @ Main In[16]:4\n",
      "┌ Info: Number of observations for year 1969: 2863\n",
      "└ @ Main In[16]:4\n",
      "┌ Info: Number of observations for year 1970: 2701\n",
      "└ @ Main In[16]:4\n",
      "┌ Info: Number of observations for year 1971: 2964\n",
      "└ @ Main In[16]:4\n",
      "┌ Info: Number of observations for year 1972: 2808\n",
      "└ @ Main In[16]:4\n",
      "┌ Info: Number of observations for year 1973: 2788\n",
      "└ @ Main In[16]:4\n",
      "┌ Info: Number of observations for year 1974: 2600\n",
      "└ @ Main In[16]:4\n",
      "┌ Info: Number of observations for year 1975: 2490\n",
      "└ @ Main In[16]:4\n",
      "┌ Info: Number of observations for year 1976: 2361\n",
      "└ @ Main In[16]:4\n",
      "┌ Info: Number of observations for year 1977: 2267\n",
      "└ @ Main In[16]:4\n",
      "┌ Info: Number of observations for year 1978: 1841\n",
      "└ @ Main In[16]:4\n",
      "┌ Info: Number of observations for year 1979: 1925\n",
      "└ @ Main In[16]:4\n",
      "┌ Info: Number of observations for year 1980: 2047\n",
      "└ @ Main In[16]:4\n",
      "┌ Info: Number of observations for year 1981: 2141\n",
      "└ @ Main In[16]:4\n",
      "┌ Info: Number of observations for year 1982: 2192\n",
      "└ @ Main In[16]:4\n",
      "┌ Info: Number of observations for year 1983: 2505\n",
      "└ @ Main In[16]:4\n",
      "┌ Info: Number of observations for year 1984: 2219\n",
      "└ @ Main In[16]:4\n",
      "┌ Info: Number of observations for year 1985: 2482\n",
      "└ @ Main In[16]:4\n",
      "┌ Info: Number of observations for year 1986: 2493\n",
      "└ @ Main In[16]:4\n",
      "┌ Info: Number of observations for year 1987: 2052\n",
      "└ @ Main In[16]:4\n",
      "┌ Info: Number of observations for year 1988: 2107\n",
      "└ @ Main In[16]:4\n",
      "┌ Info: Number of observations for year 1989: 1999\n",
      "└ @ Main In[16]:4\n",
      "┌ Info: Number of observations for year 1990: 1989\n",
      "└ @ Main In[16]:4\n",
      "┌ Info: Number of observations for year 1991: 2184\n",
      "└ @ Main In[16]:4\n",
      "┌ Info: Number of observations for year 1992: 2087\n",
      "└ @ Main In[16]:4\n",
      "┌ Info: Number of observations for year 1993: 2479\n",
      "└ @ Main In[16]:4\n",
      "┌ Info: Number of observations for year 1994: 2535\n",
      "└ @ Main In[16]:4\n",
      "┌ Info: Number of observations for year 1995: 2435\n",
      "└ @ Main In[16]:4\n",
      "┌ Info: Number of observations for year 1996: 1890\n",
      "└ @ Main In[16]:4\n",
      "┌ Info: Number of observations for year 1997: 2513\n",
      "└ @ Main In[16]:4\n",
      "┌ Info: Number of observations for year 1998: 2299\n",
      "└ @ Main In[16]:4\n",
      "┌ Info: Number of observations for year 1999: 2424\n",
      "└ @ Main In[16]:4\n",
      "┌ Info: Number of observations for year 2000: 2315\n",
      "└ @ Main In[16]:4\n",
      "┌ Info: Number of observations for year 2001: 2536\n",
      "└ @ Main In[16]:4\n",
      "┌ Info: Number of observations for year 2002: 2680\n",
      "└ @ Main In[16]:4\n",
      "┌ Info: Number of observations for year 2003: 2414\n",
      "└ @ Main In[16]:4\n",
      "┌ Info: Number of observations for year 2004: 2598\n",
      "└ @ Main In[16]:4\n",
      "┌ Info: Number of observations for year 2005: 2771\n",
      "└ @ Main In[16]:4\n",
      "┌ Info: Number of observations for year 2006: 2674\n",
      "└ @ Main In[16]:4\n",
      "┌ Info: Number of observations for year 2007: 2331\n",
      "└ @ Main In[16]:4\n",
      "┌ Info: Number of observations for year 2008: 2544\n",
      "└ @ Main In[16]:4\n",
      "┌ Info: Number of observations for year 2009: 2515\n",
      "└ @ Main In[16]:4\n",
      "┌ Info: Number of observations for year 2010: 2764\n",
      "└ @ Main In[16]:4\n",
      "┌ Info: Number of observations for year 2011: 2747\n",
      "└ @ Main In[16]:4\n",
      "┌ Info: Number of observations for year 2012: 2517\n",
      "└ @ Main In[16]:4\n",
      "┌ Info: Number of observations for year 2013: 2827\n",
      "└ @ Main In[16]:4\n",
      "┌ Info: Number of observations for year 2014: 2798\n",
      "└ @ Main In[16]:4\n",
      "┌ Info: Number of observations for year 2015: 2486\n",
      "└ @ Main In[16]:4\n",
      "┌ Info: Number of observations for year 2016: 2695\n",
      "└ @ Main In[16]:4\n",
      "┌ Info: Number of observations for year 2017: 2041\n",
      "└ @ Main In[16]:4\n",
      "┌ Info: Number of observations for year 2018: 2206\n",
      "└ @ Main In[16]:4\n"
     ]
    }
   ],
   "source": [
    "if run_year \n",
    "    for (iii, yyyy) in enumerate(1959:2018)\n",
    "        goodyear = findall(Dates.year.(dates) .== yyyy)\n",
    "        @info(\"Number of observations for year $(yyyy): $(length(goodyear))\")\n",
    "\n",
    "        # Analysis\n",
    "        f_finmarchicus, s_fin = DIVAndrun(mask, (pm,pn), (xi,yi), (lon[goodyear], lat[goodyear]), \n",
    "            calanus_finmarchicus[goodyear] .- 0. * mean(calanus_finmarchicus[goodyear]), (L, L), epsilon2);\n",
    "        f_helgolandicus, s_hel = DIVAndrun(mask, (pm,pn), (xi,yi), (lon[goodyear], lat[goodyear]), \n",
    "            calanus_helgolandicus[goodyear] .- 0. * mean(calanus_helgolandicus[goodyear]), (L, L), epsilon2);\n",
    "        \n",
    "        # Error field\n",
    "        cpme = DIVAnd_cpme(mask, (pm, pn), (xi, yi), (lon[goodyear], lat[goodyear]), \n",
    "            calanus_finmarchicus[goodyear], L, epsilon2);\n",
    "        \n",
    "        #cpme_helgo = DIVAnd_cpme(mask, (pm, pn), (xi, yi), (lon[goodyear], lat[goodyear]), \n",
    "        #    calanus_helgolandicus[goodyear], L, epsilon2);\n",
    "        \n",
    "        if makeplot\n",
    "            # Figures\n",
    "            figname = joinpath(figdir, \"analysis_calanus_finmarchicus_$(yyyy).jpg\")\n",
    "            PlottingCalanus.make_plot_analysis(longrid, latgrid, f_finmarchicus .+ 0. * mean(calanus_finmarchicus[goodyear]), \n",
    "                \"Calanus finmarchicus analysis ($(yyyy))\", figname, mainproj)\n",
    "\n",
    "            figname = joinpath(figdir, \"analysis_calanus_helgolandicus_$(yyyy).jpg\")\n",
    "            PlottingCalanus.make_plot_analysis(longrid, latgrid, f_helgolandicus .+ 0. * mean(calanus_helgolandicus[goodyear]), \n",
    "                \"Calanus helgolandicus analysis ($(yyyy))\", figname, mainproj)\n",
    "\n",
    "            figname = joinpath(figdir, \"error_calanus_finmarchicus_$(yyyy).jpg\")\n",
    "            PlottingCalanus.make_plot_error(longrid, latgrid, cpme, lon[goodyear], lat[goodyear], \n",
    "                \"Relative error field\", figname, mainproj)\n",
    "        end\n",
    "        \n",
    "        #figname = joinpath(figdir, \"error_calanus_helgolandicus_$(yyyy).jpg\")\n",
    "        #PlottingCalanus.make_plot_error(longrid, latgrid, cpme_helgo, lon[goodyear], lat[goodyear], \n",
    "        #    \"Relative error field\", figname, mainproj)\n",
    "        \n",
    "        # write single netCDF files\n",
    "        InterpCalanus.create_nc_results(joinpath(resdir, \"finmarchicus_$(yyyy).nc\"), \n",
    "                      longrid, latgrid, (Dates.Date(yyyy, 1, 1) - Dates.Date(1950, 1, 1)).value, \n",
    "                      f_finmarchicus .+ 0. * mean(calanus_finmarchicus[goodyear]), L, epsilon2,\n",
    "                      \"Calanus finmarchicus\"; valex=-999.9, \n",
    "                      varname=\"abundance\",\n",
    "                      long_name=\"Abundance of Calanus finmarchicus\",\n",
    "                      domain=dom,\n",
    "                      aphiaID=Int32(104464)\n",
    "                   )\n",
    "        \n",
    "        InterpCalanus.write_nc_error(joinpath(resdir, \"finmarchicus_$(yyyy).nc\"), cpme)\n",
    "\n",
    "        InterpCalanus.create_nc_results(joinpath(resdir, \"helgolandicus_$(yyyy).nc\"), \n",
    "                  longrid, latgrid, (Dates.Date(yyyy, 1, 1) - Dates.Date(1950, 1, 1)).value, \n",
    "                  f_helgolandicus .+ 0. * mean(calanus_helgolandicus[goodyear]), L, epsilon2, \n",
    "                  \"Calanus helgolandicus\"; valex=-999.9, \n",
    "                  varname=\"abundance\",\n",
    "                  long_name=\"Abundance of Calanus helgolandicus\",\n",
    "                  domain=dom,\n",
    "                  aphiaID=Int32(104466)\n",
    "               )\n",
    "        \n",
    "        InterpCalanus.write_nc_error(joinpath(resdir, \"helgolandicus_$(yyyy).nc\"), cpme)\n",
    "        \n",
    "        # Write common netCDF files\n",
    "        Dataset(resfileyear1, \"a\") do ds\n",
    "            ds[\"time\"][iii] = (Dates.Date(yyyy, 1, 1) - Dates.Date(1950, 1, 1)).value\n",
    "            ds[\"error\"][:,:,iii] = cpme\n",
    "            ds[\"abundance\"][:,:,iii] = f_finmarchicus\n",
    "        end\n",
    "\n",
    "        Dataset(resfileyear2, \"a\") do ds\n",
    "            ds[\"time\"][iii] = (Dates.Date(yyyy, 1, 1) - Dates.Date(1950, 1, 1)).value\n",
    "            ds[\"error\"][:,:,iii] = cpme\n",
    "            ds[\"abundance\"][:,:,iii] = f_helgolandicus\n",
    "        end\n",
    "        \n",
    "        # geoTIFF files\n",
    "        InterpCalanus.write_geotiff(joinpath(resdir, \"finmarchicus_$(yyyy).tif\"), f_finmarchicus, dom)\n",
    "        InterpCalanus.write_geotiff(joinpath(resdir, \"helgolandicus_$(yyyy).tif\"), f_helgolandicus, dom)\n",
    "        InterpCalanus.write_geotiff(joinpath(resdir, \"finmarchicus_error_$(yyyy).tif\"), cpme, dom)\n",
    "        #InterpCalanus.write_geotiff(joinpath(resdir, \"helgolandicus_error_$(yyyy).tif\"), cpme_helgo, dom)\n",
    "\n",
    "    end\n",
    "end"
   ]
  },
  {
   "cell_type": "markdown",
   "metadata": {},
   "source": [
    "### Monthly"
   ]
  },
  {
   "cell_type": "code",
   "execution_count": 17,
   "metadata": {},
   "outputs": [],
   "source": [
    "resfilemonth1 = joinpath(resdir, \"calanus_finmarchicus_year_month.nc\")\n",
    "resfilemonth2 = joinpath(resdir, \"calanus_helgolandicus_year_month.nc\")\n",
    "\n",
    "InterpCalanus.create_nc_results_time(resfilemonth1, longrid, latgrid,  \n",
    "                      \"Calanus finmarchicus\"; valex=-999.9, \n",
    "                      varname=\"abundance\",\n",
    "                      long_name=\"Abundance of Calanus finmarchicus\",\n",
    "                      domain=dom,\n",
    "                      aphiaID=Int32(104464), L, epsilon2);\n",
    "\n",
    "InterpCalanus.create_nc_results_time(resfilemonth2, longrid, latgrid,  \n",
    "                      \"Calanus helgolandicus\"; valex=-999.9, \n",
    "                      varname=\"abundance\",\n",
    "                      long_name=\"Abundance of Calanus helgolandicus\",\n",
    "                      domain=dom,\n",
    "                      aphiaID=Int32(104466), L, epsilon2);"
   ]
  },
  {
   "cell_type": "code",
   "execution_count": 18,
   "metadata": {},
   "outputs": [
    {
     "name": "stderr",
     "output_type": "stream",
     "text": [
      "┌ Info: Found 141 dates points for year 1959 | month 01\n",
      "└ @ Main In[18]:10\n"
     ]
    },
    {
     "name": "stdout",
     "output_type": "stream",
     "text": [
      "  0.093676 seconds (13.89 k allocations: 118.897 MiB)\n",
      "  0.109175 seconds (4.59 k allocations: 118.374 MiB, 14.97% gc time)\n",
      "  0.080792 seconds (4.62 k allocations: 118.377 MiB)\n"
     ]
    },
    {
     "name": "stderr",
     "output_type": "stream",
     "text": [
      "┌ Info: Found 144 dates points for year 1959 | month 02\n",
      "└ @ Main In[18]:10\n"
     ]
    },
    {
     "name": "stdout",
     "output_type": "stream",
     "text": [
      "  0.086654 seconds (4.62 k allocations: 118.378 MiB, 13.73% gc time)\n",
      "  0.079631 seconds (5.97 k allocations: 118.525 MiB, 8.51% gc time)\n"
     ]
    },
    {
     "name": "stderr",
     "output_type": "stream",
     "text": [
      "┌ Info: Found 247 dates points for year 1959 | month 03\n",
      "└ @ Main In[18]:10\n"
     ]
    },
    {
     "name": "stdout",
     "output_type": "stream",
     "text": [
      "  0.059808 seconds (5.96 k allocations: 118.525 MiB)\n"
     ]
    },
    {
     "name": "stderr",
     "output_type": "stream",
     "text": [
      "┌ Info: Found 124 dates points for year 1959 | month 04\n",
      "└ @ Main In[18]:10\n"
     ]
    },
    {
     "name": "stdout",
     "output_type": "stream",
     "text": [
      "  0.127166 seconds (4.36 k allocations: 118.341 MiB, 3.05% gc time)\n",
      "  0.101550 seconds (4.36 k allocations: 118.341 MiB)\n",
      "  0.075255 seconds (5.37 k allocations: 118.462 MiB)\n"
     ]
    },
    {
     "name": "stderr",
     "output_type": "stream",
     "text": [
      "┌ Info: Found 202 dates points for year 1959 | month 05\n",
      "└ @ Main In[18]:10\n"
     ]
    },
    {
     "name": "stdout",
     "output_type": "stream",
     "text": [
      "  0.083871 seconds (5.38 k allocations: 118.462 MiB, 3.41% gc time)\n",
      "  0.090722 seconds (5.70 k allocations: 118.500 MiB)\n"
     ]
    },
    {
     "name": "stderr",
     "output_type": "stream",
     "text": [
      "┌ Info: Found 227 dates points for year 1959 | month 06\n",
      "└ @ Main In[18]:10\n"
     ]
    },
    {
     "name": "stdout",
     "output_type": "stream",
     "text": [
      "  0.105207 seconds (5.70 k allocations: 118.500 MiB)\n",
      "  0.069610 seconds (5.56 k allocations: 118.480 MiB, 4.48% gc time)\n"
     ]
    },
    {
     "name": "stderr",
     "output_type": "stream",
     "text": [
      "┌ Info: Found 216 dates points for year 1959 | month 07\n",
      "└ @ Main In[18]:10\n"
     ]
    },
    {
     "name": "stdout",
     "output_type": "stream",
     "text": [
      "  0.060822 seconds (5.55 k allocations: 118.479 MiB)\n",
      "  0.065224 seconds (5.61 k allocations: 118.490 MiB)\n"
     ]
    },
    {
     "name": "stderr",
     "output_type": "stream",
     "text": [
      "┌ Info: Found 220 dates points for year 1959 | month 08\n",
      "└ @ Main In[18]:10\n"
     ]
    },
    {
     "name": "stdout",
     "output_type": "stream",
     "text": [
      "  0.066062 seconds (5.61 k allocations: 118.491 MiB, 4.56% gc time)\n",
      "  0.066041 seconds (5.86 k allocations: 118.514 MiB, 4.28% gc time)\n"
     ]
    },
    {
     "name": "stderr",
     "output_type": "stream",
     "text": [
      "┌ Info: Found 239 dates points for year 1959 | month 09\n",
      "└ @ Main In[18]:10\n"
     ]
    },
    {
     "name": "stdout",
     "output_type": "stream",
     "text": [
      "  0.063760 seconds (5.85 k allocations: 118.514 MiB)\n",
      "  0.061205 seconds (6.26 k allocations: 118.611 MiB)\n"
     ]
    },
    {
     "name": "stderr",
     "output_type": "stream",
     "text": [
      "┌ Info: Found 270 dates points for year 1959 | month 10\n",
      "└ @ Main In[18]:10\n"
     ]
    },
    {
     "name": "stdout",
     "output_type": "stream",
     "text": [
      "  0.126041 seconds (6.28 k allocations: 118.611 MiB, 2.74% gc time)\n",
      "  0.095504 seconds (5.12 k allocations: 118.438 MiB)\n"
     ]
    },
    {
     "name": "stderr",
     "output_type": "stream",
     "text": [
      "┌ Info: Found 183 dates points for year 1959 | month 11\n",
      "└ @ Main In[18]:10\n"
     ]
    },
    {
     "name": "stdout",
     "output_type": "stream",
     "text": [
      "  0.067340 seconds (5.13 k allocations: 118.438 MiB, 4.15% gc time)\n",
      "  0.073600 seconds (4.72 k allocations: 118.390 MiB, 5.06% gc time)\n"
     ]
    },
    {
     "name": "stderr",
     "output_type": "stream",
     "text": [
      "┌ Info: Found 151 dates points for year 1959 | month 12\n",
      "└ @ Main In[18]:10\n"
     ]
    },
    {
     "name": "stdout",
     "output_type": "stream",
     "text": [
      "  0.065949 seconds (4.71 k allocations: 118.389 MiB)\n",
      "  0.072083 seconds (4.82 k allocations: 118.403 MiB)\n"
     ]
    },
    {
     "name": "stderr",
     "output_type": "stream",
     "text": [
      "┌ Info: Found 160 dates points for year 1960 | month 01\n",
      "└ @ Main In[18]:10\n"
     ]
    },
    {
     "name": "stdout",
     "output_type": "stream",
     "text": [
      "  0.096541 seconds (4.83 k allocations: 118.403 MiB, 3.61% gc time)\n"
     ]
    },
    {
     "name": "stderr",
     "output_type": "stream",
     "text": [
      "┌ Info: Found 186 dates points for year 1960 | month 02\n",
      "└ @ Main In[18]:10\n"
     ]
    },
    {
     "name": "stdout",
     "output_type": "stream",
     "text": [
      "  0.112169 seconds (5.16 k allocations: 118.441 MiB)\n",
      "  0.117823 seconds (5.16 k allocations: 118.441 MiB)\n",
      "  0.068055 seconds (5.31 k allocations: 118.456 MiB, 4.10% gc time)\n"
     ]
    },
    {
     "name": "stderr",
     "output_type": "stream",
     "text": [
      "┌ Info: Found 197 dates points for year 1960 | month 03\n",
      "└ @ Main In[18]:10\n"
     ]
    },
    {
     "name": "stdout",
     "output_type": "stream",
     "text": [
      "  0.081013 seconds (5.30 k allocations: 118.455 MiB)\n",
      "  0.069120 seconds (5.29 k allocations: 118.453 MiB)\n"
     ]
    },
    {
     "name": "stderr",
     "output_type": "stream",
     "text": [
      "┌ Info: Found 196 dates points for year 1960 | month 04\n",
      "└ @ Main In[18]:10\n"
     ]
    },
    {
     "name": "stdout",
     "output_type": "stream",
     "text": [
      "  0.083038 seconds (5.30 k allocations: 118.453 MiB, 3.53% gc time)\n",
      "  0.067656 seconds (5.94 k allocations: 118.446 MiB, 4.20% gc time)\n"
     ]
    },
    {
     "name": "stderr",
     "output_type": "stream",
     "text": [
      "┌ Info: Found 245 dates points for year 1960 | month 05\n",
      "└ @ Main In[18]:10\n"
     ]
    },
    {
     "name": "stdout",
     "output_type": "stream",
     "text": [
      "  0.063893 seconds (5.93 k allocations: 118.446 MiB)\n"
     ]
    },
    {
     "name": "stderr",
     "output_type": "stream",
     "text": [
      "┌ Info: Found 179 dates points for year 1960 | month 06\n",
      "└ @ Main In[18]:10\n"
     ]
    },
    {
     "name": "stdout",
     "output_type": "stream",
     "text": [
      "  0.135588 seconds (5.07 k allocations: 118.428 MiB)\n",
      "  0.127620 seconds (5.08 k allocations: 118.428 MiB, 3.75% gc time)\n"
     ]
    },
    {
     "name": "stderr",
     "output_type": "stream",
     "text": [
      "┌ Info: Found 214 dates points for year 1960 | month 07\n",
      "└ @ Main In[18]:10\n"
     ]
    },
    {
     "name": "stdout",
     "output_type": "stream",
     "text": [
      "  0.124012 seconds (5.53 k allocations: 118.475 MiB)\n",
      "  0.132703 seconds (5.53 k allocations: 118.475 MiB)\n"
     ]
    },
    {
     "name": "stderr",
     "output_type": "stream",
     "text": [
      "┌ Info: Found 188 dates points for year 1960 | month 08\n",
      "└ @ Main In[18]:10\n"
     ]
    },
    {
     "name": "stdout",
     "output_type": "stream",
     "text": [
      "  0.113813 seconds (5.20 k allocations: 118.439 MiB, 3.25% gc time)\n",
      "  0.111463 seconds (5.19 k allocations: 118.439 MiB)\n",
      "  0.083406 seconds (5.72 k allocations: 118.498 MiB)\n"
     ]
    },
    {
     "name": "stderr",
     "output_type": "stream",
     "text": [
      "┌ Info: Found 229 dates points for year 1960 | month 09\n",
      "└ @ Main In[18]:10\n"
     ]
    },
    {
     "name": "stdout",
     "output_type": "stream",
     "text": [
      "  0.132638 seconds (5.73 k allocations: 118.499 MiB, 3.15% gc time)\n"
     ]
    },
    {
     "name": "stderr",
     "output_type": "stream",
     "text": [
      "┌ Info: Found 171 dates points for year 1960 | month 10\n",
      "└ @ Main In[18]:10\n"
     ]
    },
    {
     "name": "stdout",
     "output_type": "stream",
     "text": [
      "  0.104852 seconds (4.98 k allocations: 118.418 MiB, 3.65% gc time)\n",
      "  0.071708 seconds (4.97 k allocations: 118.417 MiB)\n",
      "  0.070348 seconds (5.51 k allocations: 118.477 MiB)\n"
     ]
    },
    {
     "name": "stderr",
     "output_type": "stream",
     "text": [
      "┌ Info: Found 213 dates points for year 1960 | month 11\n",
      "└ @ Main In[18]:10\n"
     ]
    },
    {
     "name": "stdout",
     "output_type": "stream",
     "text": [
      "  0.073764 seconds (5.53 k allocations: 118.477 MiB, 3.90% gc time)\n",
      "  0.070597 seconds (4.60 k allocations: 118.377 MiB)\n"
     ]
    },
    {
     "name": "stderr",
     "output_type": "stream",
     "text": [
      "┌ Info: Found 143 dates points for year 1960 | month 12\n",
      "└ @ Main In[18]:10\n"
     ]
    },
    {
     "name": "stdout",
     "output_type": "stream",
     "text": [
      "  0.066667 seconds (4.60 k allocations: 118.377 MiB)\n",
      "  0.065793 seconds (5.35 k allocations: 118.460 MiB, 4.60% gc time)\n"
     ]
    },
    {
     "name": "stderr",
     "output_type": "stream",
     "text": [
      "┌ Info: Found 200 dates points for year 1961 | month 01\n",
      "└ @ Main In[18]:10\n"
     ]
    },
    {
     "name": "stdout",
     "output_type": "stream",
     "text": [
      "  0.067656 seconds (5.34 k allocations: 118.460 MiB)\n",
      "  0.098448 seconds (5.74 k allocations: 118.503 MiB)\n"
     ]
    },
    {
     "name": "stderr",
     "output_type": "stream",
     "text": [
      "┌ Info: Found 230 dates points for year 1961 | month 02\n",
      "└ @ Main In[18]:10\n"
     ]
    },
    {
     "name": "stdout",
     "output_type": "stream",
     "text": [
      "  0.127946 seconds (5.75 k allocations: 118.504 MiB, 2.74% gc time)\n",
      "  0.078283 seconds (4.91 k allocations: 118.410 MiB, 4.17% gc time)\n"
     ]
    },
    {
     "name": "stderr",
     "output_type": "stream",
     "text": [
      "┌ Info: Found 166 dates points for year 1961 | month 03\n",
      "└ @ Main In[18]:10\n"
     ]
    },
    {
     "name": "stdout",
     "output_type": "stream",
     "text": [
      "  0.078183 seconds (4.90 k allocations: 118.410 MiB)\n",
      "  0.074868 seconds (5.28 k allocations: 118.453 MiB)\n"
     ]
    },
    {
     "name": "stderr",
     "output_type": "stream",
     "text": [
      "┌ Info: Found 195 dates points for year 1961 | month 04\n",
      "└ @ Main In[18]:10\n"
     ]
    },
    {
     "name": "stdout",
     "output_type": "stream",
     "text": [
      "  0.072430 seconds (5.29 k allocations: 118.453 MiB, 4.78% gc time)\n",
      "  0.071808 seconds (4.86 k allocations: 118.403 MiB, 5.09% gc time)\n"
     ]
    },
    {
     "name": "stderr",
     "output_type": "stream",
     "text": [
      "┌ Info: Found 162 dates points for year 1961 | month 05\n",
      "└ @ Main In[18]:10\n"
     ]
    },
    {
     "name": "stdout",
     "output_type": "stream",
     "text": [
      "  0.070419 seconds (4.85 k allocations: 118.403 MiB)\n",
      "  0.063833 seconds (5.28 k allocations: 118.451 MiB)\n"
     ]
    },
    {
     "name": "stderr",
     "output_type": "stream",
     "text": [
      "┌ Info: Found 195 dates points for year 1961 | month 06\n",
      "└ @ Main In[18]:10\n"
     ]
    },
    {
     "name": "stdout",
     "output_type": "stream",
     "text": [
      "  0.067505 seconds (5.29 k allocations: 118.451 MiB, 5.06% gc time)\n",
      "  0.079401 seconds (4.93 k allocations: 118.413 MiB)\n"
     ]
    },
    {
     "name": "stderr",
     "output_type": "stream",
     "text": [
      "┌ Info: Found 168 dates points for year 1961 | month 07\n",
      "└ @ Main In[18]:10\n"
     ]
    },
    {
     "name": "stdout",
     "output_type": "stream",
     "text": [
      "  0.070957 seconds (4.93 k allocations: 118.413 MiB, 4.73% gc time)\n",
      "  0.070658 seconds (5.45 k allocations: 118.472 MiB, 4.53% gc time)\n"
     ]
    },
    {
     "name": "stderr",
     "output_type": "stream",
     "text": [
      "┌ Info: Found 207 dates points for year 1961 | month 08\n",
      "└ @ Main In[18]:10\n"
     ]
    },
    {
     "name": "stdout",
     "output_type": "stream",
     "text": [
      "  0.069184 seconds (5.44 k allocations: 118.472 MiB)\n",
      "  0.065366 seconds (5.50 k allocations: 118.477 MiB)\n"
     ]
    },
    {
     "name": "stderr",
     "output_type": "stream",
     "text": [
      "┌ Info: Found 212 dates points for year 1961 | month 09\n",
      "└ @ Main In[18]:10\n"
     ]
    },
    {
     "name": "stdout",
     "output_type": "stream",
     "text": [
      "  0.103205 seconds (5.51 k allocations: 118.477 MiB, 5.85% gc time)\n"
     ]
    },
    {
     "name": "stderr",
     "output_type": "stream",
     "text": [
      "┌ Info: Found 220 dates points for year 1961 | month 10\n",
      "└ @ Main In[18]:10\n"
     ]
    },
    {
     "name": "stdout",
     "output_type": "stream",
     "text": [
      "  0.100313 seconds (5.60 k allocations: 118.490 MiB)\n",
      "  0.067720 seconds (5.60 k allocations: 118.490 MiB)\n",
      "  0.066627 seconds (5.34 k allocations: 118.459 MiB, 4.26% gc time)\n"
     ]
    },
    {
     "name": "stderr",
     "output_type": "stream",
     "text": [
      "┌ Info: Found 199 dates points for year 1961 | month 11\n",
      "└ @ Main In[18]:10\n"
     ]
    },
    {
     "name": "stdout",
     "output_type": "stream",
     "text": [
      "  0.064948 seconds (5.33 k allocations: 118.459 MiB)\n",
      "  0.065117 seconds (5.71 k allocations: 118.499 MiB)\n"
     ]
    },
    {
     "name": "stderr",
     "output_type": "stream",
     "text": [
      "┌ Info: Found 228 dates points for year 1961 | month 12\n",
      "└ @ Main In[18]:10\n"
     ]
    },
    {
     "name": "stdout",
     "output_type": "stream",
     "text": [
      "  0.063416 seconds (5.71 k allocations: 118.499 MiB)\n",
      "  0.066637 seconds (5.39 k allocations: 118.464 MiB, 4.52% gc time)\n"
     ]
    },
    {
     "name": "stderr",
     "output_type": "stream",
     "text": [
      "┌ Info: Found 203 dates points for year 1962 | month 01\n",
      "└ @ Main In[18]:10\n"
     ]
    },
    {
     "name": "stdout",
     "output_type": "stream",
     "text": [
      "  0.062759 seconds (5.38 k allocations: 118.464 MiB)\n",
      "  0.062876 seconds (5.06 k allocations: 118.427 MiB)\n"
     ]
    },
    {
     "name": "stderr",
     "output_type": "stream",
     "text": [
      "┌ Info: Found 178 dates points for year 1962 | month 02\n",
      "└ @ Main In[18]:10\n"
     ]
    },
    {
     "name": "stdout",
     "output_type": "stream",
     "text": [
      "  0.083579 seconds (5.07 k allocations: 118.427 MiB, 4.16% gc time)\n",
      "  0.064025 seconds (5.76 k allocations: 118.505 MiB)\n"
     ]
    },
    {
     "name": "stderr",
     "output_type": "stream",
     "text": [
      "┌ Info: Found 232 dates points for year 1962 | month 03\n",
      "└ @ Main In[18]:10\n"
     ]
    },
    {
     "name": "stdout",
     "output_type": "stream",
     "text": [
      "  0.063471 seconds (5.76 k allocations: 118.505 MiB)\n",
      "  0.068087 seconds (5.75 k allocations: 118.507 MiB)\n"
     ]
    },
    {
     "name": "stderr",
     "output_type": "stream",
     "text": [
      "┌ Info: Found 231 dates points for year 1962 | month 04\n",
      "└ @ Main In[18]:10\n"
     ]
    },
    {
     "name": "stdout",
     "output_type": "stream",
     "text": [
      "  0.068697 seconds (5.76 k allocations: 118.508 MiB, 4.82% gc time)\n",
      "  0.067416 seconds (5.70 k allocations: 118.500 MiB)\n"
     ]
    },
    {
     "name": "stderr",
     "output_type": "stream",
     "text": [
      "┌ Info: Found 227 dates points for year 1962 | month 05\n",
      "└ @ Main In[18]:10\n"
     ]
    },
    {
     "name": "stdout",
     "output_type": "stream",
     "text": [
      "  0.066996 seconds (5.70 k allocations: 118.500 MiB)\n",
      "  0.070052 seconds (5.60 k allocations: 118.484 MiB, 4.68% gc time)\n"
     ]
    },
    {
     "name": "stderr",
     "output_type": "stream",
     "text": [
      "┌ Info: Found 219 dates points for year 1962 | month 06\n",
      "└ @ Main In[18]:10\n"
     ]
    },
    {
     "name": "stdout",
     "output_type": "stream",
     "text": [
      "  0.064402 seconds (5.59 k allocations: 118.484 MiB)\n",
      "  0.067259 seconds (5.92 k allocations: 118.523 MiB)\n"
     ]
    },
    {
     "name": "stderr",
     "output_type": "stream",
     "text": [
      "┌ Info: Found 244 dates points for year 1962 | month 07\n",
      "└ @ Main In[18]:10\n"
     ]
    },
    {
     "name": "stdout",
     "output_type": "stream",
     "text": [
      "  0.070722 seconds (5.93 k allocations: 118.523 MiB, 4.42% gc time)\n",
      "  0.073799 seconds (5.59 k allocations: 118.483 MiB, 4.35% gc time)\n"
     ]
    },
    {
     "name": "stderr",
     "output_type": "stream",
     "text": [
      "┌ Info: Found 218 dates points for year 1962 | month 08\n",
      "└ @ Main In[18]:10\n"
     ]
    },
    {
     "name": "stdout",
     "output_type": "stream",
     "text": [
      "  0.061134 seconds (5.58 k allocations: 118.483 MiB)\n",
      "  0.061382 seconds (6.16 k allocations: 118.600 MiB)\n"
     ]
    },
    {
     "name": "stderr",
     "output_type": "stream",
     "text": [
      "┌ Info: Found 262 dates points for year 1962 | month 09\n",
      "└ @ Main In[18]:10\n"
     ]
    },
    {
     "name": "stdout",
     "output_type": "stream",
     "text": [
      "  0.070037 seconds (6.17 k allocations: 118.600 MiB, 4.50% gc time)\n",
      "  0.063125 seconds (5.02 k allocations: 118.423 MiB)\n"
     ]
    },
    {
     "name": "stderr",
     "output_type": "stream",
     "text": [
      "┌ Info: Found 175 dates points for year 1962 | month 10\n",
      "└ @ Main In[18]:10\n"
     ]
    },
    {
     "name": "stdout",
     "output_type": "stream",
     "text": [
      "  0.063166 seconds (5.03 k allocations: 118.423 MiB, 4.52% gc time)\n",
      "  0.077700 seconds (5.74 k allocations: 118.504 MiB, 4.73% gc time)\n"
     ]
    },
    {
     "name": "stderr",
     "output_type": "stream",
     "text": [
      "┌ Info: Found 229 dates points for year 1962 | month 11\n",
      "└ @ Main In[18]:10\n"
     ]
    },
    {
     "name": "stdout",
     "output_type": "stream",
     "text": [
      "  0.058629 seconds (5.72 k allocations: 118.504 MiB)\n",
      "  0.067391 seconds (4.65 k allocations: 118.379 MiB)\n"
     ]
    },
    {
     "name": "stderr",
     "output_type": "stream",
     "text": [
      "┌ Info: Found 146 dates points for year 1962 | month 12\n",
      "└ @ Main In[18]:10\n"
     ]
    },
    {
     "name": "stdout",
     "output_type": "stream",
     "text": [
      "  0.069899 seconds (4.66 k allocations: 118.379 MiB, 4.98% gc time)\n",
      "  0.072745 seconds (5.52 k allocations: 118.479 MiB, 4.80% gc time)\n"
     ]
    },
    {
     "name": "stderr",
     "output_type": "stream",
     "text": [
      "┌ Info: Found 213 dates points for year 1963 | month 01\n",
      "└ @ Main In[18]:10\n"
     ]
    },
    {
     "name": "stdout",
     "output_type": "stream",
     "text": [
      "  0.063285 seconds (5.51 k allocations: 118.478 MiB)\n",
      "  0.071993 seconds (5.18 k allocations: 118.441 MiB, 3.87% gc time)\n"
     ]
    },
    {
     "name": "stderr",
     "output_type": "stream",
     "text": [
      "┌ Info: Found 187 dates points for year 1963 | month 02\n",
      "└ @ Main In[18]:10\n"
     ]
    },
    {
     "name": "stdout",
     "output_type": "stream",
     "text": [
      "  0.067098 seconds (5.17 k allocations: 118.441 MiB)\n",
      "  0.079684 seconds (5.60 k allocations: 118.491 MiB)\n"
     ]
    },
    {
     "name": "stderr",
     "output_type": "stream",
     "text": [
      "┌ Info: Found 220 dates points for year 1963 | month 03\n",
      "└ @ Main In[18]:10\n"
     ]
    },
    {
     "name": "stdout",
     "output_type": "stream",
     "text": [
      "  0.097213 seconds (5.60 k allocations: 118.491 MiB)\n",
      "  0.075999 seconds (5.00 k allocations: 118.420 MiB, 4.41% gc time)\n"
     ]
    },
    {
     "name": "stderr",
     "output_type": "stream",
     "text": [
      "┌ Info: Found 173 dates points for year 1963 | month 04\n",
      "└ @ Main In[18]:10\n"
     ]
    },
    {
     "name": "stdout",
     "output_type": "stream",
     "text": [
      "  0.066508 seconds (4.99 k allocations: 118.420 MiB)\n",
      "  0.070437 seconds (4.78 k allocations: 118.398 MiB)\n"
     ]
    },
    {
     "name": "stderr",
     "output_type": "stream",
     "text": [
      "┌ Info: Found 157 dates points for year 1963 | month 05\n",
      "└ @ Main In[18]:10\n"
     ]
    },
    {
     "name": "stdout",
     "output_type": "stream",
     "text": [
      "  0.072264 seconds (4.79 k allocations: 118.398 MiB, 4.23% gc time)\n",
      "  0.080678 seconds (6.11 k allocations: 118.597 MiB, 4.08% gc time)\n"
     ]
    },
    {
     "name": "stderr",
     "output_type": "stream",
     "text": [
      "┌ Info: Found 257 dates points for year 1963 | month 06\n",
      "└ @ Main In[18]:10\n"
     ]
    },
    {
     "name": "stdout",
     "output_type": "stream",
     "text": [
      "  0.108542 seconds (6.10 k allocations: 118.597 MiB)\n",
      "  0.092577 seconds (5.97 k allocations: 118.529 MiB, 3.56% gc time)\n"
     ]
    },
    {
     "name": "stderr",
     "output_type": "stream",
     "text": [
      "┌ Info: Found 248 dates points for year 1963 | month 07\n",
      "└ @ Main In[18]:10\n"
     ]
    },
    {
     "name": "stdout",
     "output_type": "stream",
     "text": [
      "  0.089327 seconds (5.97 k allocations: 118.529 MiB)\n",
      "  0.067301 seconds (5.66 k allocations: 118.495 MiB)\n"
     ]
    },
    {
     "name": "stderr",
     "output_type": "stream",
     "text": [
      "┌ Info: Found 224 dates points for year 1963 | month 08\n",
      "└ @ Main In[18]:10\n"
     ]
    },
    {
     "name": "stdout",
     "output_type": "stream",
     "text": [
      "  0.066505 seconds (5.66 k allocations: 118.495 MiB)\n",
      "  0.073581 seconds (4.77 k allocations: 118.396 MiB, 4.52% gc time)\n"
     ]
    },
    {
     "name": "stderr",
     "output_type": "stream",
     "text": [
      "┌ Info: Found 155 dates points for year 1963 | month 09\n",
      "└ @ Main In[18]:10\n"
     ]
    },
    {
     "name": "stdout",
     "output_type": "stream",
     "text": [
      "  0.066526 seconds (4.76 k allocations: 118.396 MiB)\n",
      "  0.064020 seconds (5.68 k allocations: 118.496 MiB)\n"
     ]
    },
    {
     "name": "stderr",
     "output_type": "stream",
     "text": [
      "┌ Info: Found 226 dates points for year 1963 | month 10\n",
      "└ @ Main In[18]:10\n"
     ]
    },
    {
     "name": "stdout",
     "output_type": "stream",
     "text": [
      "  0.062794 seconds (5.69 k allocations: 118.496 MiB, 4.49% gc time)\n",
      "  0.074963 seconds (5.28 k allocations: 118.451 MiB, 4.31% gc time)\n"
     ]
    },
    {
     "name": "stderr",
     "output_type": "stream",
     "text": [
      "┌ Info: Found 194 dates points for year 1963 | month 11\n",
      "└ @ Main In[18]:10\n"
     ]
    },
    {
     "name": "stdout",
     "output_type": "stream",
     "text": [
      "  0.067863 seconds (5.27 k allocations: 118.450 MiB)\n",
      "  0.068024 seconds (5.50 k allocations: 118.477 MiB, 4.15% gc time)\n"
     ]
    },
    {
     "name": "stderr",
     "output_type": "stream",
     "text": [
      "┌ Info: Found 211 dates points for year 1963 | month 12\n",
      "└ @ Main In[18]:10\n"
     ]
    },
    {
     "name": "stdout",
     "output_type": "stream",
     "text": [
      "  0.064236 seconds (5.49 k allocations: 118.477 MiB)\n",
      "  0.063231 seconds (5.07 k allocations: 118.428 MiB)\n"
     ]
    },
    {
     "name": "stderr",
     "output_type": "stream",
     "text": [
      "┌ Info: Found 179 dates points for year 1964 | month 01\n",
      "└ @ Main In[18]:10\n"
     ]
    },
    {
     "name": "stdout",
     "output_type": "stream",
     "text": [
      "  0.067508 seconds (5.07 k allocations: 118.428 MiB)\n",
      "  0.072574 seconds (4.82 k allocations: 118.401 MiB, 6.02% gc time)\n"
     ]
    },
    {
     "name": "stderr",
     "output_type": "stream",
     "text": [
      "┌ Info: Found 159 dates points for year 1964 | month 02\n",
      "└ @ Main In[18]:10\n"
     ]
    },
    {
     "name": "stdout",
     "output_type": "stream",
     "text": [
      "  0.065588 seconds (4.81 k allocations: 118.400 MiB)\n",
      "  0.067695 seconds (5.49 k allocations: 118.477 MiB)\n"
     ]
    },
    {
     "name": "stderr",
     "output_type": "stream",
     "text": [
      "┌ Info: Found 211 dates points for year 1964 | month 03\n",
      "└ @ Main In[18]:10\n"
     ]
    },
    {
     "name": "stdout",
     "output_type": "stream",
     "text": [
      "  0.069442 seconds (5.49 k allocations: 118.477 MiB, 4.15% gc time)\n",
      "  0.073945 seconds (5.96 k allocations: 118.526 MiB, 4.70% gc time)\n"
     ]
    },
    {
     "name": "stderr",
     "output_type": "stream",
     "text": [
      "┌ Info: Found 246 dates points for year 1964 | month 04\n",
      "└ @ Main In[18]:10\n"
     ]
    },
    {
     "name": "stdout",
     "output_type": "stream",
     "text": [
      "  0.061933 seconds (5.94 k allocations: 118.526 MiB)\n",
      "  0.064706 seconds (5.59 k allocations: 118.487 MiB)\n"
     ]
    },
    {
     "name": "stderr",
     "output_type": "stream",
     "text": [
      "┌ Info: Found 219 dates points for year 1964 | month 05\n",
      "└ @ Main In[18]:10\n"
     ]
    },
    {
     "name": "stdout",
     "output_type": "stream",
     "text": [
      "  0.064184 seconds (5.60 k allocations: 118.487 MiB, 5.00% gc time)\n",
      "  0.065753 seconds (6.04 k allocations: 118.538 MiB)\n"
     ]
    },
    {
     "name": "stderr",
     "output_type": "stream",
     "text": [
      "┌ Info: Found 254 dates points for year 1964 | month 06\n",
      "└ @ Main In[18]:10\n"
     ]
    },
    {
     "name": "stdout",
     "output_type": "stream",
     "text": [
      "  0.067128 seconds (6.04 k allocations: 118.538 MiB)\n"
     ]
    },
    {
     "name": "stderr",
     "output_type": "stream",
     "text": [
      "┌ Info: Found 238 dates points for year 1964 | month 07\n",
      "└ @ Main In[18]:10\n"
     ]
    },
    {
     "name": "stdout",
     "output_type": "stream",
     "text": [
      "  0.129593 seconds (5.84 k allocations: 118.515 MiB, 2.89% gc time)\n",
      "  0.107829 seconds (5.84 k allocations: 118.515 MiB)\n",
      "  0.072454 seconds (5.63 k allocations: 118.492 MiB)\n"
     ]
    },
    {
     "name": "stderr",
     "output_type": "stream",
     "text": [
      "┌ Info: Found 222 dates points for year 1964 | month 08\n",
      "└ @ Main In[18]:10\n"
     ]
    },
    {
     "name": "stdout",
     "output_type": "stream",
     "text": [
      "  0.071486 seconds (5.64 k allocations: 118.492 MiB, 4.97% gc time)\n",
      "  0.074844 seconds (5.95 k allocations: 118.525 MiB, 4.45% gc time)\n"
     ]
    },
    {
     "name": "stderr",
     "output_type": "stream",
     "text": [
      "┌ Info: Found 246 dates points for year 1964 | month 09\n",
      "└ @ Main In[18]:10\n"
     ]
    },
    {
     "name": "stdout",
     "output_type": "stream",
     "text": [
      "  0.061996 seconds (5.94 k allocations: 118.525 MiB)\n",
      "  0.072433 seconds (5.37 k allocations: 118.465 MiB)\n"
     ]
    },
    {
     "name": "stderr",
     "output_type": "stream",
     "text": [
      "┌ Info: Found 202 dates points for year 1964 | month 10\n",
      "└ @ Main In[18]:10\n"
     ]
    },
    {
     "name": "stdout",
     "output_type": "stream",
     "text": [
      "  0.077246 seconds (5.38 k allocations: 118.465 MiB, 3.99% gc time)\n",
      "  0.079698 seconds (5.38 k allocations: 118.467 MiB)\n"
     ]
    },
    {
     "name": "stderr",
     "output_type": "stream",
     "text": [
      "┌ Info: Found 203 dates points for year 1964 | month 11\n",
      "└ @ Main In[18]:10\n"
     ]
    },
    {
     "name": "stdout",
     "output_type": "stream",
     "text": [
      "  0.089070 seconds (5.39 k allocations: 118.467 MiB, 3.98% gc time)\n",
      "  0.089783 seconds (5.06 k allocations: 118.427 MiB, 4.11% gc time)\n"
     ]
    },
    {
     "name": "stderr",
     "output_type": "stream",
     "text": [
      "┌ Info: Found 177 dates points for year 1964 | month 12\n",
      "└ @ Main In[18]:10\n"
     ]
    },
    {
     "name": "stdout",
     "output_type": "stream",
     "text": [
      "  0.067515 seconds (5.05 k allocations: 118.427 MiB)\n",
      "  0.088417 seconds (5.88 k allocations: 118.520 MiB)\n"
     ]
    },
    {
     "name": "stderr",
     "output_type": "stream",
     "text": [
      "┌ Info: Found 241 dates points for year 1965 | month 01\n",
      "└ @ Main In[18]:10\n"
     ]
    },
    {
     "name": "stdout",
     "output_type": "stream",
     "text": [
      "  0.087244 seconds (5.89 k allocations: 118.520 MiB, 3.94% gc time)\n",
      "  0.072401 seconds (5.41 k allocations: 118.466 MiB, 5.15% gc time)\n"
     ]
    },
    {
     "name": "stderr",
     "output_type": "stream",
     "text": [
      "┌ Info: Found 204 dates points for year 1965 | month 02\n",
      "└ @ Main In[18]:10\n"
     ]
    },
    {
     "name": "stdout",
     "output_type": "stream",
     "text": [
      "  0.064128 seconds (5.39 k allocations: 118.466 MiB)\n",
      "  0.093389 seconds (5.97 k allocations: 118.529 MiB)\n"
     ]
    },
    {
     "name": "stderr",
     "output_type": "stream",
     "text": [
      "┌ Info: Found 248 dates points for year 1965 | month 03\n",
      "└ @ Main In[18]:10\n"
     ]
    },
    {
     "name": "stdout",
     "output_type": "stream",
     "text": [
      "  0.110540 seconds (5.98 k allocations: 118.529 MiB, 3.36% gc time)\n",
      "  0.063448 seconds (5.72 k allocations: 118.504 MiB)\n"
     ]
    },
    {
     "name": "stderr",
     "output_type": "stream",
     "text": [
      "┌ Info: Found 229 dates points for year 1965 | month 04\n",
      "└ @ Main In[18]:10\n"
     ]
    },
    {
     "name": "stdout",
     "output_type": "stream",
     "text": [
      "  0.060816 seconds (5.72 k allocations: 118.504 MiB)\n",
      "  0.064299 seconds (5.49 k allocations: 118.476 MiB, 4.89% gc time)\n"
     ]
    },
    {
     "name": "stderr",
     "output_type": "stream",
     "text": [
      "┌ Info: Found 211 dates points for year 1965 | month 05\n",
      "└ @ Main In[18]:10\n"
     ]
    },
    {
     "name": "stdout",
     "output_type": "stream",
     "text": [
      "  0.061924 seconds (5.49 k allocations: 118.476 MiB)\n",
      "  0.062098 seconds (5.67 k allocations: 118.500 MiB)\n"
     ]
    },
    {
     "name": "stderr",
     "output_type": "stream",
     "text": [
      "┌ Info: Found 225 dates points for year 1965 | month 06\n",
      "└ @ Main In[18]:10\n"
     ]
    },
    {
     "name": "stdout",
     "output_type": "stream",
     "text": [
      "  0.073461 seconds (5.68 k allocations: 118.500 MiB, 4.41% gc time)\n",
      "  0.093491 seconds (6.66 k allocations: 118.658 MiB, 4.10% gc time)\n"
     ]
    },
    {
     "name": "stderr",
     "output_type": "stream",
     "text": [
      "┌ Info: Found 300 dates points for year 1965 | month 07\n",
      "└ @ Main In[18]:10\n"
     ]
    },
    {
     "name": "stdout",
     "output_type": "stream",
     "text": [
      "  0.086135 seconds (6.65 k allocations: 118.658 MiB)\n",
      "  0.063280 seconds (6.46 k allocations: 118.636 MiB)\n"
     ]
    },
    {
     "name": "stderr",
     "output_type": "stream",
     "text": [
      "┌ Info: Found 285 dates points for year 1965 | month 08\n",
      "└ @ Main In[18]:10\n"
     ]
    },
    {
     "name": "stdout",
     "output_type": "stream",
     "text": [
      "  0.067866 seconds (6.47 k allocations: 118.636 MiB, 4.57% gc time)\n"
     ]
    },
    {
     "name": "stderr",
     "output_type": "stream",
     "text": [
      "┌ Info: Found 279 dates points for year 1965 | month 09\n",
      "└ @ Main In[18]:10\n"
     ]
    },
    {
     "name": "stdout",
     "output_type": "stream",
     "text": [
      "  0.140846 seconds (6.38 k allocations: 118.629 MiB)\n",
      "  0.114041 seconds (6.38 k allocations: 118.629 MiB)\n",
      "  0.070698 seconds (5.76 k allocations: 118.506 MiB, 5.83% gc time)\n"
     ]
    },
    {
     "name": "stderr",
     "output_type": "stream",
     "text": [
      "┌ Info: Found 231 dates points for year 1965 | month 10\n",
      "└ @ Main In[18]:10\n"
     ]
    },
    {
     "name": "stdout",
     "output_type": "stream",
     "text": [
      "  0.064427 seconds (5.75 k allocations: 118.506 MiB)\n",
      "  0.061628 seconds (4.76 k allocations: 118.395 MiB)\n"
     ]
    },
    {
     "name": "stderr",
     "output_type": "stream",
     "text": [
      "┌ Info: Found 155 dates points for year 1965 | month 11\n",
      "└ @ Main In[18]:10\n"
     ]
    },
    {
     "name": "stdout",
     "output_type": "stream",
     "text": [
      "  0.062643 seconds (4.77 k allocations: 118.395 MiB, 4.43% gc time)\n",
      "  0.067025 seconds (4.95 k allocations: 118.415 MiB, 4.20% gc time)\n"
     ]
    },
    {
     "name": "stderr",
     "output_type": "stream",
     "text": [
      "┌ Info: Found 169 dates points for year 1965 | month 12\n",
      "└ @ Main In[18]:10\n"
     ]
    },
    {
     "name": "stdout",
     "output_type": "stream",
     "text": [
      "  0.061729 seconds (4.94 k allocations: 118.415 MiB)\n"
     ]
    },
    {
     "name": "stderr",
     "output_type": "stream",
     "text": [
      "┌ Info: Found 243 dates points for year 1966 | month 01\n",
      "└ @ Main In[18]:10\n"
     ]
    },
    {
     "name": "stdout",
     "output_type": "stream",
     "text": [
      "  0.099182 seconds (5.90 k allocations: 118.521 MiB)\n",
      "  0.095645 seconds (5.92 k allocations: 118.522 MiB, 4.31% gc time)\n",
      "  0.071796 seconds (4.81 k allocations: 118.401 MiB)\n"
     ]
    },
    {
     "name": "stderr",
     "output_type": "stream",
     "text": [
      "┌ Info: Found 159 dates points for year 1966 | month 02\n",
      "└ @ Main In[18]:10\n"
     ]
    },
    {
     "name": "stdout",
     "output_type": "stream",
     "text": [
      "  0.061968 seconds (4.81 k allocations: 118.401 MiB)\n",
      "  0.073704 seconds (5.64 k allocations: 118.488 MiB, 4.14% gc time)\n"
     ]
    },
    {
     "name": "stderr",
     "output_type": "stream",
     "text": [
      "┌ Info: Found 222 dates points for year 1966 | month 03\n",
      "└ @ Main In[18]:10\n"
     ]
    },
    {
     "name": "stdout",
     "output_type": "stream",
     "text": [
      "  0.065955 seconds (5.63 k allocations: 118.488 MiB)\n",
      "  0.070646 seconds (5.77 k allocations: 118.506 MiB)\n"
     ]
    },
    {
     "name": "stderr",
     "output_type": "stream",
     "text": [
      "┌ Info: Found 233 dates points for year 1966 | month 04\n",
      "└ @ Main In[18]:10\n"
     ]
    },
    {
     "name": "stdout",
     "output_type": "stream",
     "text": [
      "  0.068205 seconds (5.78 k allocations: 118.506 MiB, 4.32% gc time)\n",
      "  0.062575 seconds (4.92 k allocations: 118.410 MiB, 5.76% gc time)\n"
     ]
    },
    {
     "name": "stderr",
     "output_type": "stream",
     "text": [
      "┌ Info: Found 166 dates points for year 1966 | month 05\n",
      "└ @ Main In[18]:10\n"
     ]
    },
    {
     "name": "stdout",
     "output_type": "stream",
     "text": [
      "  0.060437 seconds (4.90 k allocations: 118.410 MiB)\n",
      "  0.065435 seconds (4.82 k allocations: 118.400 MiB)\n"
     ]
    },
    {
     "name": "stderr",
     "output_type": "stream",
     "text": [
      "┌ Info: Found 160 dates points for year 1966 | month 06\n",
      "└ @ Main In[18]:10\n"
     ]
    },
    {
     "name": "stdout",
     "output_type": "stream",
     "text": [
      "  0.066033 seconds (4.83 k allocations: 118.400 MiB, 4.24% gc time)\n"
     ]
    },
    {
     "name": "stderr",
     "output_type": "stream",
     "text": [
      "┌ Info: Found 291 dates points for year 1966 | month 07\n",
      "└ @ Main In[18]:10\n"
     ]
    },
    {
     "name": "stdout",
     "output_type": "stream",
     "text": [
      "  0.113339 seconds (6.54 k allocations: 118.643 MiB)\n",
      "  0.106600 seconds (6.54 k allocations: 118.643 MiB)\n",
      "  0.062269 seconds (5.22 k allocations: 118.445 MiB, 4.50% gc time)\n"
     ]
    },
    {
     "name": "stderr",
     "output_type": "stream",
     "text": [
      "┌ Info: Found 190 dates points for year 1966 | month 08\n",
      "└ @ Main In[18]:10\n"
     ]
    },
    {
     "name": "stdout",
     "output_type": "stream",
     "text": [
      "  0.063433 seconds (5.21 k allocations: 118.445 MiB)\n",
      "  0.064010 seconds (4.76 k allocations: 118.395 MiB)\n"
     ]
    },
    {
     "name": "stderr",
     "output_type": "stream",
     "text": [
      "┌ Info: Found 155 dates points for year 1966 | month 09\n",
      "└ @ Main In[18]:10\n"
     ]
    },
    {
     "name": "stdout",
     "output_type": "stream",
     "text": [
      "  0.067021 seconds (4.77 k allocations: 118.395 MiB, 4.17% gc time)\n",
      "  0.071776 seconds (6.19 k allocations: 118.602 MiB, 4.29% gc time)\n"
     ]
    },
    {
     "name": "stderr",
     "output_type": "stream",
     "text": [
      "┌ Info: Found 263 dates points for year 1966 | month 10\n",
      "└ @ Main In[18]:10\n"
     ]
    },
    {
     "name": "stdout",
     "output_type": "stream",
     "text": [
      "  0.061163 seconds (6.17 k allocations: 118.602 MiB)\n",
      "  0.084361 seconds (5.10 k allocations: 118.434 MiB)\n"
     ]
    },
    {
     "name": "stderr",
     "output_type": "stream",
     "text": [
      "┌ Info: Found 181 dates points for year 1966 | month 11\n",
      "└ @ Main In[18]:10\n"
     ]
    },
    {
     "name": "stdout",
     "output_type": "stream",
     "text": [
      "  0.086822 seconds (5.11 k allocations: 118.434 MiB, 4.57% gc time)\n",
      "  0.065229 seconds (4.81 k allocations: 118.398 MiB)\n"
     ]
    },
    {
     "name": "stderr",
     "output_type": "stream",
     "text": [
      "┌ Info: Found 159 dates points for year 1966 | month 12\n",
      "└ @ Main In[18]:10\n"
     ]
    },
    {
     "name": "stdout",
     "output_type": "stream",
     "text": [
      "  0.061672 seconds (4.81 k allocations: 118.398 MiB)\n"
     ]
    },
    {
     "name": "stderr",
     "output_type": "stream",
     "text": [
      "┌ Info: Found 236 dates points for year 1967 | month 01\n",
      "└ @ Main In[18]:10\n"
     ]
    },
    {
     "name": "stdout",
     "output_type": "stream",
     "text": [
      "  0.121691 seconds (5.82 k allocations: 118.511 MiB, 4.33% gc time)\n",
      "  0.144458 seconds (5.81 k allocations: 118.511 MiB)\n"
     ]
    },
    {
     "name": "stderr",
     "output_type": "stream",
     "text": [
      "┌ Info: Found 240 dates points for year 1967 | month 02\n",
      "└ @ Main In[18]:10\n"
     ]
    },
    {
     "name": "stdout",
     "output_type": "stream",
     "text": [
      "  0.101160 seconds (5.87 k allocations: 118.519 MiB)\n",
      "  0.094746 seconds (5.87 k allocations: 118.519 MiB)\n",
      "  0.082119 seconds (5.70 k allocations: 118.500 MiB, 4.96% gc time)\n"
     ]
    },
    {
     "name": "stderr",
     "output_type": "stream",
     "text": [
      "┌ Info: Found 227 dates points for year 1967 | month 03\n",
      "└ @ Main In[18]:10\n"
     ]
    },
    {
     "name": "stdout",
     "output_type": "stream",
     "text": [
      "  0.080118 seconds (5.69 k allocations: 118.500 MiB)\n"
     ]
    },
    {
     "name": "stderr",
     "output_type": "stream",
     "text": [
      "┌ Info: Found 186 dates points for year 1967 | month 04\n",
      "└ @ Main In[18]:10\n"
     ]
    },
    {
     "name": "stdout",
     "output_type": "stream",
     "text": [
      "  0.114560 seconds (5.16 k allocations: 118.440 MiB)\n",
      "  0.112253 seconds (5.17 k allocations: 118.440 MiB, 3.33% gc time)\n"
     ]
    },
    {
     "name": "stderr",
     "output_type": "stream",
     "text": [
      "┌ Info: Found 250 dates points for year 1967 | month 05\n",
      "└ @ Main In[18]:10\n"
     ]
    },
    {
     "name": "stdout",
     "output_type": "stream",
     "text": [
      "  0.102280 seconds (6.01 k allocations: 118.532 MiB, 2.99% gc time)\n",
      "  0.093194 seconds (6.00 k allocations: 118.532 MiB)\n",
      "  0.066102 seconds (5.33 k allocations: 118.462 MiB)\n"
     ]
    },
    {
     "name": "stderr",
     "output_type": "stream",
     "text": [
      "┌ Info: Found 199 dates points for year 1967 | month 06\n",
      "└ @ Main In[18]:10\n"
     ]
    },
    {
     "name": "stdout",
     "output_type": "stream",
     "text": [
      "  0.065804 seconds (5.34 k allocations: 118.462 MiB, 4.45% gc time)\n",
      "  0.069373 seconds (6.08 k allocations: 118.578 MiB)\n"
     ]
    },
    {
     "name": "stderr",
     "output_type": "stream",
     "text": [
      "┌ Info: Found 256 dates points for year 1967 | month 07\n",
      "└ @ Main In[18]:10\n"
     ]
    },
    {
     "name": "stdout",
     "output_type": "stream",
     "text": [
      "  0.093818 seconds (6.08 k allocations: 118.578 MiB)\n"
     ]
    },
    {
     "name": "stderr",
     "output_type": "stream",
     "text": [
      "┌ Info: Found 229 dates points for year 1967 | month 08\n",
      "└ @ Main In[18]:10\n"
     ]
    },
    {
     "name": "stdout",
     "output_type": "stream",
     "text": [
      "  0.104220 seconds (5.73 k allocations: 118.504 MiB, 4.00% gc time)\n",
      "  0.073715 seconds (5.72 k allocations: 118.504 MiB)\n",
      "  0.060732 seconds (5.42 k allocations: 118.470 MiB)\n"
     ]
    },
    {
     "name": "stderr",
     "output_type": "stream",
     "text": [
      "┌ Info: Found 206 dates points for year 1967 | month 09\n",
      "└ @ Main In[18]:10\n"
     ]
    },
    {
     "name": "stdout",
     "output_type": "stream",
     "text": [
      "  0.075891 seconds (5.43 k allocations: 118.471 MiB, 3.71% gc time)\n",
      "  0.068665 seconds (5.86 k allocations: 118.515 MiB, 4.26% gc time)\n"
     ]
    },
    {
     "name": "stderr",
     "output_type": "stream",
     "text": [
      "┌ Info: Found 239 dates points for year 1967 | month 10\n",
      "└ @ Main In[18]:10\n"
     ]
    },
    {
     "name": "stdout",
     "output_type": "stream",
     "text": [
      "  0.068306 seconds (5.85 k allocations: 118.515 MiB)\n",
      "  0.074612 seconds (5.30 k allocations: 118.451 MiB)\n"
     ]
    },
    {
     "name": "stderr",
     "output_type": "stream",
     "text": [
      "┌ Info: Found 197 dates points for year 1967 | month 11\n",
      "└ @ Main In[18]:10\n"
     ]
    },
    {
     "name": "stdout",
     "output_type": "stream",
     "text": [
      "  0.078693 seconds (5.32 k allocations: 118.451 MiB, 4.82% gc time)\n",
      "  0.080084 seconds (5.53 k allocations: 118.478 MiB)\n"
     ]
    },
    {
     "name": "stderr",
     "output_type": "stream",
     "text": [
      "┌ Info: Found 214 dates points for year 1967 | month 12\n",
      "└ @ Main In[18]:10\n"
     ]
    },
    {
     "name": "stdout",
     "output_type": "stream",
     "text": [
      "  0.060389 seconds (5.53 k allocations: 118.478 MiB)\n",
      "  0.070042 seconds (5.17 k allocations: 118.441 MiB, 4.12% gc time)\n"
     ]
    },
    {
     "name": "stderr",
     "output_type": "stream",
     "text": [
      "┌ Info: Found 186 dates points for year 1968 | month 01\n",
      "└ @ Main In[18]:10\n"
     ]
    },
    {
     "name": "stdout",
     "output_type": "stream",
     "text": [
      "  0.065799 seconds (5.16 k allocations: 118.441 MiB)\n",
      "  0.064513 seconds (5.70 k allocations: 118.495 MiB)\n"
     ]
    },
    {
     "name": "stderr",
     "output_type": "stream",
     "text": [
      "┌ Info: Found 227 dates points for year 1968 | month 02\n",
      "└ @ Main In[18]:10\n"
     ]
    },
    {
     "name": "stdout",
     "output_type": "stream",
     "text": [
      "  0.065187 seconds (5.70 k allocations: 118.495 MiB)\n",
      "  0.068613 seconds (6.21 k allocations: 118.604 MiB, 4.19% gc time)\n"
     ]
    },
    {
     "name": "stderr",
     "output_type": "stream",
     "text": [
      "┌ Info: Found 265 dates points for year 1968 | month 03\n",
      "└ @ Main In[18]:10\n"
     ]
    },
    {
     "name": "stdout",
     "output_type": "stream",
     "text": [
      "  0.062477 seconds (6.20 k allocations: 118.604 MiB)\n",
      "  0.057677 seconds (4.51 k allocations: 118.359 MiB)\n"
     ]
    },
    {
     "name": "stderr",
     "output_type": "stream",
     "text": [
      "┌ Info: Found 136 dates points for year 1968 | month 04\n",
      "└ @ Main In[18]:10\n"
     ]
    },
    {
     "name": "stdout",
     "output_type": "stream",
     "text": [
      "  0.062628 seconds (4.52 k allocations: 118.359 MiB, 5.03% gc time)\n",
      "  0.070348 seconds (6.29 k allocations: 118.610 MiB, 4.60% gc time)\n"
     ]
    },
    {
     "name": "stderr",
     "output_type": "stream",
     "text": [
      "┌ Info: Found 271 dates points for year 1968 | month 05\n",
      "└ @ Main In[18]:10\n"
     ]
    },
    {
     "name": "stdout",
     "output_type": "stream",
     "text": [
      "  0.064857 seconds (6.28 k allocations: 118.610 MiB)\n",
      "  0.063344 seconds (5.32 k allocations: 118.458 MiB)\n"
     ]
    },
    {
     "name": "stderr",
     "output_type": "stream",
     "text": [
      "┌ Info: Found 198 dates points for year 1968 | month 06\n",
      "└ @ Main In[18]:10\n"
     ]
    },
    {
     "name": "stdout",
     "output_type": "stream",
     "text": [
      "  0.069042 seconds (5.33 k allocations: 118.458 MiB, 4.03% gc time)\n",
      "  0.058329 seconds (5.38 k allocations: 118.463 MiB)\n"
     ]
    },
    {
     "name": "stderr",
     "output_type": "stream",
     "text": [
      "┌ Info: Found 203 dates points for year 1968 | month 07\n",
      "└ @ Main In[18]:10\n"
     ]
    },
    {
     "name": "stdout",
     "output_type": "stream",
     "text": [
      "  0.061876 seconds (5.38 k allocations: 118.463 MiB)\n",
      "  0.066314 seconds (6.24 k allocations: 118.612 MiB, 4.38% gc time)\n"
     ]
    },
    {
     "name": "stderr",
     "output_type": "stream",
     "text": [
      "┌ Info: Found 268 dates points for year 1968 | month 08\n",
      "└ @ Main In[18]:10\n"
     ]
    },
    {
     "name": "stdout",
     "output_type": "stream",
     "text": [
      "  0.066647 seconds (6.24 k allocations: 118.612 MiB)\n",
      "  0.062080 seconds (4.47 k allocations: 118.362 MiB)\n"
     ]
    },
    {
     "name": "stderr",
     "output_type": "stream",
     "text": [
      "┌ Info: Found 133 dates points for year 1968 | month 09\n",
      "└ @ Main In[18]:10\n"
     ]
    },
    {
     "name": "stdout",
     "output_type": "stream",
     "text": [
      "  0.072033 seconds (4.48 k allocations: 118.362 MiB, 3.97% gc time)\n",
      "  0.065433 seconds (6.38 k allocations: 118.619 MiB, 4.31% gc time)\n"
     ]
    },
    {
     "name": "stderr",
     "output_type": "stream",
     "text": [
      "┌ Info: Found 278 dates points for year 1968 | month 10\n",
      "└ @ Main In[18]:10\n"
     ]
    },
    {
     "name": "stdout",
     "output_type": "stream",
     "text": [
      "  0.066748 seconds (6.37 k allocations: 118.619 MiB)\n",
      "  0.060417 seconds (4.83 k allocations: 118.400 MiB)\n"
     ]
    },
    {
     "name": "stderr",
     "output_type": "stream",
     "text": [
      "┌ Info: Found 160 dates points for year 1968 | month 11\n",
      "└ @ Main In[18]:10\n"
     ]
    },
    {
     "name": "stdout",
     "output_type": "stream",
     "text": [
      "  0.061477 seconds (4.84 k allocations: 118.401 MiB, 4.72% gc time)\n",
      "  0.064754 seconds (4.89 k allocations: 118.406 MiB, 5.05% gc time)\n"
     ]
    },
    {
     "name": "stderr",
     "output_type": "stream",
     "text": [
      "┌ Info: Found 164 dates points for year 1968 | month 12\n",
      "└ @ Main In[18]:10\n"
     ]
    },
    {
     "name": "stdout",
     "output_type": "stream",
     "text": [
      "  0.065004 seconds (4.88 k allocations: 118.406 MiB)\n",
      "  0.057444 seconds (4.82 k allocations: 118.399 MiB)\n"
     ]
    },
    {
     "name": "stderr",
     "output_type": "stream",
     "text": [
      "┌ Info: Found 160 dates points for year 1969 | month 01\n",
      "└ @ Main In[18]:10\n"
     ]
    },
    {
     "name": "stdout",
     "output_type": "stream",
     "text": [
      "  0.063834 seconds (4.83 k allocations: 118.399 MiB, 4.76% gc time)\n"
     ]
    },
    {
     "name": "stderr",
     "output_type": "stream",
     "text": [
      "┌ Info: Found 257 dates points for year 1969 | month 02\n",
      "└ @ Main In[18]:10\n"
     ]
    },
    {
     "name": "stdout",
     "output_type": "stream",
     "text": [
      "  0.109133 seconds (6.09 k allocations: 118.593 MiB)\n",
      "  0.092504 seconds (6.09 k allocations: 118.593 MiB)\n",
      "  0.072427 seconds (6.04 k allocations: 118.536 MiB, 3.86% gc time)\n"
     ]
    },
    {
     "name": "stderr",
     "output_type": "stream",
     "text": [
      "┌ Info: Found 253 dates points for year 1969 | month 03\n",
      "└ @ Main In[18]:10\n"
     ]
    },
    {
     "name": "stdout",
     "output_type": "stream",
     "text": [
      "  0.086337 seconds (6.03 k allocations: 118.536 MiB)\n",
      "  0.069297 seconds (6.17 k allocations: 118.602 MiB)\n"
     ]
    },
    {
     "name": "stderr",
     "output_type": "stream",
     "text": [
      "┌ Info: Found 263 dates points for year 1969 | month 04\n",
      "└ @ Main In[18]:10\n"
     ]
    },
    {
     "name": "stdout",
     "output_type": "stream",
     "text": [
      "  0.064679 seconds (6.18 k allocations: 118.602 MiB, 4.60% gc time)\n"
     ]
    },
    {
     "name": "stderr",
     "output_type": "stream",
     "text": [
      "┌ Info: Found 282 dates points for year 1969 | month 05\n",
      "└ @ Main In[18]:10\n"
     ]
    },
    {
     "name": "stdout",
     "output_type": "stream",
     "text": [
      "  0.143426 seconds (6.43 k allocations: 118.630 MiB, 4.18% gc time)\n",
      "  0.146877 seconds (6.42 k allocations: 118.630 MiB)\n"
     ]
    },
    {
     "name": "stderr",
     "output_type": "stream",
     "text": [
      "┌ Info: Found 248 dates points for year 1969 | month 06\n",
      "└ @ Main In[18]:10\n"
     ]
    },
    {
     "name": "stdout",
     "output_type": "stream",
     "text": [
      "  0.180961 seconds (5.98 k allocations: 118.526 MiB)\n",
      "  0.121501 seconds (5.99 k allocations: 118.526 MiB, 3.43% gc time)\n",
      "  0.083513 seconds (5.82 k allocations: 118.512 MiB)\n"
     ]
    },
    {
     "name": "stderr",
     "output_type": "stream",
     "text": [
      "┌ Info: Found 237 dates points for year 1969 | month 07\n",
      "└ @ Main In[18]:10\n"
     ]
    },
    {
     "name": "stdout",
     "output_type": "stream",
     "text": [
      "  0.066077 seconds (5.82 k allocations: 118.512 MiB)\n"
     ]
    },
    {
     "name": "stderr",
     "output_type": "stream",
     "text": [
      "┌ Info: Found 231 dates points for year 1969 | month 08\n",
      "└ @ Main In[18]:10\n"
     ]
    },
    {
     "name": "stdout",
     "output_type": "stream",
     "text": [
      "  0.104263 seconds (5.75 k allocations: 118.507 MiB, 3.71% gc time)\n",
      "  0.105141 seconds (5.75 k allocations: 118.507 MiB)\n",
      "  0.066159 seconds (6.05 k allocations: 118.539 MiB)\n"
     ]
    },
    {
     "name": "stderr",
     "output_type": "stream",
     "text": [
      "┌ Info: Found 254 dates points for year 1969 | month 09\n",
      "└ @ Main In[18]:10\n"
     ]
    },
    {
     "name": "stdout",
     "output_type": "stream",
     "text": [
      "  0.077197 seconds (6.05 k allocations: 118.539 MiB, 4.37% gc time)\n",
      "  0.069640 seconds (5.93 k allocations: 118.445 MiB, 4.10% gc time)\n"
     ]
    },
    {
     "name": "stderr",
     "output_type": "stream",
     "text": [
      "┌ Info: Found 244 dates points for year 1969 | month 10\n",
      "└ @ Main In[18]:10\n"
     ]
    },
    {
     "name": "stdout",
     "output_type": "stream",
     "text": [
      "  0.073416 seconds (5.92 k allocations: 118.445 MiB)\n",
      "  0.074737 seconds (6.49 k allocations: 118.640 MiB)\n"
     ]
    },
    {
     "name": "stderr",
     "output_type": "stream",
     "text": [
      "┌ Info: Found 287 dates points for year 1969 | month 11\n",
      "└ @ Main In[18]:10\n"
     ]
    },
    {
     "name": "stdout",
     "output_type": "stream",
     "text": [
      "  0.115829 seconds (6.50 k allocations: 118.640 MiB, 3.39% gc time)\n",
      "  0.082618 seconds (4.67 k allocations: 118.383 MiB, 4.36% gc time)\n"
     ]
    },
    {
     "name": "stderr",
     "output_type": "stream",
     "text": [
      "┌ Info: Found 147 dates points for year 1969 | month 12\n",
      "└ @ Main In[18]:10\n"
     ]
    },
    {
     "name": "stdout",
     "output_type": "stream",
     "text": [
      "  0.074095 seconds (4.65 k allocations: 118.382 MiB)\n",
      "  0.061782 seconds (4.99 k allocations: 118.422 MiB)\n"
     ]
    },
    {
     "name": "stderr",
     "output_type": "stream",
     "text": [
      "┌ Info: Found 173 dates points for year 1970 | month 01\n",
      "└ @ Main In[18]:10\n"
     ]
    },
    {
     "name": "stdout",
     "output_type": "stream",
     "text": [
      "  0.073545 seconds (5.00 k allocations: 118.422 MiB, 5.37% gc time)\n",
      "  0.066718 seconds (5.20 k allocations: 118.442 MiB)\n"
     ]
    },
    {
     "name": "stderr",
     "output_type": "stream",
     "text": [
      "┌ Info: Found 189 dates points for year 1970 | month 02\n",
      "└ @ Main In[18]:10\n"
     ]
    },
    {
     "name": "stdout",
     "output_type": "stream",
     "text": [
      "  0.069003 seconds (5.20 k allocations: 118.442 MiB)\n",
      "  0.080574 seconds (5.17 k allocations: 118.440 MiB, 3.57% gc time)\n"
     ]
    },
    {
     "name": "stderr",
     "output_type": "stream",
     "text": [
      "┌ Info: Found 186 dates points for year 1970 | month 03\n",
      "└ @ Main In[18]:10\n"
     ]
    },
    {
     "name": "stdout",
     "output_type": "stream",
     "text": [
      "  0.080871 seconds (5.16 k allocations: 118.440 MiB)\n"
     ]
    },
    {
     "name": "stderr",
     "output_type": "stream",
     "text": [
      "┌ Info: Found 312 dates points for year 1970 | month 04\n",
      "└ @ Main In[18]:10\n"
     ]
    },
    {
     "name": "stdout",
     "output_type": "stream",
     "text": [
      "  0.114032 seconds (6.81 k allocations: 118.673 MiB)\n",
      "  0.100287 seconds (6.82 k allocations: 118.673 MiB, 3.38% gc time)\n",
      "  0.074461 seconds (5.94 k allocations: 118.523 MiB, 5.66% gc time)\n"
     ]
    },
    {
     "name": "stderr",
     "output_type": "stream",
     "text": [
      "┌ Info: Found 245 dates points for year 1970 | month 05\n",
      "└ @ Main In[18]:10\n"
     ]
    },
    {
     "name": "stdout",
     "output_type": "stream",
     "text": [
      "  0.066342 seconds (5.93 k allocations: 118.523 MiB)\n",
      "  0.074109 seconds (6.09 k allocations: 118.599 MiB)\n"
     ]
    },
    {
     "name": "stderr",
     "output_type": "stream",
     "text": [
      "┌ Info: Found 257 dates points for year 1970 | month 06\n",
      "└ @ Main In[18]:10\n"
     ]
    },
    {
     "name": "stdout",
     "output_type": "stream",
     "text": [
      "  0.105368 seconds (6.11 k allocations: 118.599 MiB, 3.81% gc time)\n",
      "  0.083240 seconds (5.38 k allocations: 118.464 MiB, 4.95% gc time)\n"
     ]
    },
    {
     "name": "stderr",
     "output_type": "stream",
     "text": [
      "┌ Info: Found 202 dates points for year 1970 | month 07\n",
      "└ @ Main In[18]:10\n"
     ]
    },
    {
     "name": "stdout",
     "output_type": "stream",
     "text": [
      "  0.081366 seconds (5.37 k allocations: 118.464 MiB)\n",
      "  0.083145 seconds (6.29 k allocations: 118.615 MiB)\n"
     ]
    },
    {
     "name": "stderr",
     "output_type": "stream",
     "text": [
      "┌ Info: Found 272 dates points for year 1970 | month 08\n",
      "└ @ Main In[18]:10\n"
     ]
    },
    {
     "name": "stdout",
     "output_type": "stream",
     "text": [
      "  0.092615 seconds (6.31 k allocations: 118.615 MiB, 3.30% gc time)\n"
     ]
    },
    {
     "name": "stderr",
     "output_type": "stream",
     "text": [
      "┌ Info: Found 250 dates points for year 1970 | month 09\n",
      "└ @ Main In[18]:10\n"
     ]
    },
    {
     "name": "stdout",
     "output_type": "stream",
     "text": [
      "  0.111892 seconds (6.00 k allocations: 118.533 MiB)\n",
      "  0.083158 seconds (6.00 k allocations: 118.533 MiB)\n",
      "  0.072790 seconds (4.67 k allocations: 118.381 MiB, 4.03% gc time)\n"
     ]
    },
    {
     "name": "stderr",
     "output_type": "stream",
     "text": [
      "┌ Info: Found 147 dates points for year 1970 | month 10\n",
      "└ @ Main In[18]:10\n"
     ]
    },
    {
     "name": "stdout",
     "output_type": "stream",
     "text": [
      "  0.064148 seconds (4.66 k allocations: 118.381 MiB)\n",
      "  0.075086 seconds (5.57 k allocations: 118.484 MiB)\n"
     ]
    },
    {
     "name": "stderr",
     "output_type": "stream",
     "text": [
      "┌ Info: Found 217 dates points for year 1970 | month 11\n",
      "└ @ Main In[18]:10\n"
     ]
    },
    {
     "name": "stdout",
     "output_type": "stream",
     "text": [
      "  0.080007 seconds (5.57 k allocations: 118.484 MiB, 4.30% gc time)\n"
     ]
    },
    {
     "name": "stderr",
     "output_type": "stream",
     "text": [
      "┌ Info: Found 251 dates points for year 1970 | month 12\n",
      "└ @ Main In[18]:10\n"
     ]
    },
    {
     "name": "stdout",
     "output_type": "stream",
     "text": [
      "  0.127547 seconds (6.02 k allocations: 118.534 MiB, 4.80% gc time)\n",
      "  0.119220 seconds (6.01 k allocations: 118.533 MiB)\n"
     ]
    },
    {
     "name": "stderr",
     "output_type": "stream",
     "text": [
      "┌ Info: Found 174 dates points for year 1971 | month 01\n",
      "└ @ Main In[18]:10\n"
     ]
    },
    {
     "name": "stdout",
     "output_type": "stream",
     "text": [
      "  0.102952 seconds (5.00 k allocations: 118.421 MiB)\n",
      "  0.083988 seconds (5.02 k allocations: 118.421 MiB, 5.78% gc time)\n",
      "  0.072022 seconds (5.07 k allocations: 118.427 MiB)\n"
     ]
    },
    {
     "name": "stderr",
     "output_type": "stream",
     "text": [
      "┌ Info: Found 179 dates points for year 1971 | month 02\n",
      "└ @ Main In[18]:10\n"
     ]
    },
    {
     "name": "stdout",
     "output_type": "stream",
     "text": [
      "  0.076880 seconds (5.07 k allocations: 118.427 MiB)\n",
      "  0.074077 seconds (6.61 k allocations: 118.644 MiB, 3.91% gc time)\n"
     ]
    },
    {
     "name": "stderr",
     "output_type": "stream",
     "text": [
      "┌ Info: Found 296 dates points for year 1971 | month 03\n",
      "└ @ Main In[18]:10\n"
     ]
    },
    {
     "name": "stdout",
     "output_type": "stream",
     "text": [
      "  0.059353 seconds (6.60 k allocations: 118.644 MiB)\n"
     ]
    },
    {
     "name": "stderr",
     "output_type": "stream",
     "text": [
      "┌ Info: Found 288 dates points for year 1971 | month 04\n",
      "└ @ Main In[18]:10\n"
     ]
    },
    {
     "name": "stdout",
     "output_type": "stream",
     "text": [
      "  0.138095 seconds (6.50 k allocations: 118.633 MiB)\n",
      "  0.175076 seconds (6.51 k allocations: 118.633 MiB, 2.28% gc time)\n",
      "  0.083283 seconds (5.38 k allocations: 118.460 MiB, 5.04% gc time)\n"
     ]
    },
    {
     "name": "stderr",
     "output_type": "stream",
     "text": [
      "┌ Info: Found 202 dates points for year 1971 | month 05\n",
      "└ @ Main In[18]:10\n"
     ]
    },
    {
     "name": "stdout",
     "output_type": "stream",
     "text": [
      "  0.060530 seconds (5.37 k allocations: 118.459 MiB)\n"
     ]
    },
    {
     "name": "stderr",
     "output_type": "stream",
     "text": [
      "┌ Info: Found 274 dates points for year 1971 | month 06\n",
      "└ @ Main In[18]:10\n"
     ]
    },
    {
     "name": "stdout",
     "output_type": "stream",
     "text": [
      "  0.322344 seconds (6.31 k allocations: 118.617 MiB)\n",
      "  0.236434 seconds (6.32 k allocations: 118.617 MiB, 2.56% gc time)\n"
     ]
    },
    {
     "name": "stderr",
     "output_type": "stream",
     "text": [
      "┌ Info: Found 295 dates points for year 1971 | month 07\n",
      "└ @ Main In[18]:10\n"
     ]
    },
    {
     "name": "stdout",
     "output_type": "stream",
     "text": [
      "  0.145720 seconds (6.60 k allocations: 118.646 MiB, 4.86% gc time)\n",
      "  0.124358 seconds (6.59 k allocations: 118.646 MiB)\n"
     ]
    },
    {
     "name": "stderr",
     "output_type": "stream",
     "text": [
      "┌ Info: Found 307 dates points for year 1971 | month 08\n",
      "└ @ Main In[18]:10\n"
     ]
    },
    {
     "name": "stdout",
     "output_type": "stream",
     "text": [
      "  0.125179 seconds (6.74 k allocations: 118.667 MiB)\n",
      "  0.100493 seconds (6.75 k allocations: 118.667 MiB, 3.00% gc time)\n"
     ]
    },
    {
     "name": "stderr",
     "output_type": "stream",
     "text": [
      "┌ Info: Found 233 dates points for year 1971 | month 09\n",
      "└ @ Main In[18]:10\n"
     ]
    },
    {
     "name": "stdout",
     "output_type": "stream",
     "text": [
      "  0.129607 seconds (5.77 k allocations: 118.508 MiB)\n",
      "  0.150549 seconds (5.77 k allocations: 118.508 MiB)\n"
     ]
    },
    {
     "name": "stderr",
     "output_type": "stream",
     "text": [
      "┌ Info: Found 283 dates points for year 1971 | month 10\n",
      "└ @ Main In[18]:10\n"
     ]
    },
    {
     "name": "stdout",
     "output_type": "stream",
     "text": [
      "  0.115654 seconds (6.44 k allocations: 118.632 MiB, 4.38% gc time)\n",
      "  0.138807 seconds (6.43 k allocations: 118.632 MiB)\n"
     ]
    },
    {
     "name": "stderr",
     "output_type": "stream",
     "text": [
      "┌ Info: Found 233 dates points for year 1971 | month 11\n",
      "└ @ Main In[18]:10\n"
     ]
    },
    {
     "name": "stdout",
     "output_type": "stream",
     "text": [
      "  0.169615 seconds (5.78 k allocations: 118.509 MiB)\n",
      "  0.132189 seconds (5.79 k allocations: 118.509 MiB, 3.30% gc time)\n"
     ]
    },
    {
     "name": "stderr",
     "output_type": "stream",
     "text": [
      "┌ Info: Found 200 dates points for year 1971 | month 12\n",
      "└ @ Main In[18]:10\n"
     ]
    },
    {
     "name": "stdout",
     "output_type": "stream",
     "text": [
      "  0.126567 seconds (5.36 k allocations: 118.462 MiB, 2.40% gc time)\n",
      "  0.123701 seconds (5.34 k allocations: 118.462 MiB)\n"
     ]
    },
    {
     "name": "stderr",
     "output_type": "stream",
     "text": [
      "┌ Info: Found 282 dates points for year 1972 | month 01\n",
      "└ @ Main In[18]:10\n"
     ]
    },
    {
     "name": "stdout",
     "output_type": "stream",
     "text": [
      "  0.168585 seconds (6.42 k allocations: 118.630 MiB)\n",
      "  0.165064 seconds (6.43 k allocations: 118.630 MiB, 4.23% gc time)\n"
     ]
    },
    {
     "name": "stderr",
     "output_type": "stream",
     "text": [
      "┌ Info: Found 316 dates points for year 1972 | month 02\n",
      "└ @ Main In[18]:10\n"
     ]
    },
    {
     "name": "stdout",
     "output_type": "stream",
     "text": [
      "  0.144554 seconds (6.87 k allocations: 118.675 MiB, 5.20% gc time)\n",
      "  0.113470 seconds (6.86 k allocations: 118.675 MiB)\n",
      "  0.067350 seconds (5.76 k allocations: 118.505 MiB)\n"
     ]
    },
    {
     "name": "stderr",
     "output_type": "stream",
     "text": [
      "┌ Info: Found 232 dates points for year 1972 | month 03\n",
      "└ @ Main In[18]:10\n"
     ]
    },
    {
     "name": "stdout",
     "output_type": "stream",
     "text": [
      "  0.103914 seconds (5.78 k allocations: 118.505 MiB, 3.17% gc time)\n"
     ]
    },
    {
     "name": "stderr",
     "output_type": "stream",
     "text": [
      "┌ Info: Found 226 dates points for year 1972 | month 04\n",
      "└ @ Main In[18]:10\n"
     ]
    },
    {
     "name": "stdout",
     "output_type": "stream",
     "text": [
      "  0.102747 seconds (5.68 k allocations: 118.495 MiB)\n",
      "  0.132702 seconds (5.68 k allocations: 118.495 MiB)\n"
     ]
    },
    {
     "name": "stderr",
     "output_type": "stream",
     "text": [
      "┌ Info: Found 205 dates points for year 1972 | month 05\n",
      "└ @ Main In[18]:10\n"
     ]
    },
    {
     "name": "stdout",
     "output_type": "stream",
     "text": [
      "  0.142343 seconds (5.42 k allocations: 118.462 MiB, 3.20% gc time)\n",
      "  0.156803 seconds (5.41 k allocations: 118.462 MiB)\n"
     ]
    },
    {
     "name": "stderr",
     "output_type": "stream",
     "text": [
      "┌ Info: Found 257 dates points for year 1972 | month 06\n",
      "└ @ Main In[18]:10\n"
     ]
    },
    {
     "name": "stdout",
     "output_type": "stream",
     "text": [
      "  0.183338 seconds (6.09 k allocations: 118.595 MiB)\n",
      "  0.179690 seconds (6.10 k allocations: 118.595 MiB, 3.58% gc time)\n",
      "  0.085925 seconds (6.03 k allocations: 118.534 MiB, 3.50% gc time)\n"
     ]
    },
    {
     "name": "stderr",
     "output_type": "stream",
     "text": [
      "┌ Info: Found 252 dates points for year 1972 | month 07\n",
      "└ @ Main In[18]:10\n"
     ]
    },
    {
     "name": "stdout",
     "output_type": "stream",
     "text": [
      "  0.139323 seconds (6.02 k allocations: 118.533 MiB)\n"
     ]
    },
    {
     "name": "stderr",
     "output_type": "stream",
     "text": [
      "┌ Info: Found 232 dates points for year 1972 | month 08\n",
      "└ @ Main In[18]:10\n"
     ]
    },
    {
     "name": "stdout",
     "output_type": "stream",
     "text": [
      "  0.131193 seconds (5.76 k allocations: 118.507 MiB)\n",
      "  0.083063 seconds (5.78 k allocations: 118.508 MiB, 4.39% gc time)\n",
      "  0.067756 seconds (5.19 k allocations: 118.440 MiB, 4.63% gc time)\n"
     ]
    },
    {
     "name": "stderr",
     "output_type": "stream",
     "text": [
      "┌ Info: Found 187 dates points for year 1972 | month 09\n",
      "└ @ Main In[18]:10\n"
     ]
    },
    {
     "name": "stdout",
     "output_type": "stream",
     "text": [
      "  0.059397 seconds (5.17 k allocations: 118.439 MiB)\n",
      "  0.060304 seconds (6.20 k allocations: 118.601 MiB)\n"
     ]
    },
    {
     "name": "stderr",
     "output_type": "stream",
     "text": [
      "┌ Info: Found 263 dates points for year 1972 | month 10\n",
      "└ @ Main In[18]:10\n"
     ]
    },
    {
     "name": "stdout",
     "output_type": "stream",
     "text": [
      "  0.068439 seconds (6.21 k allocations: 118.601 MiB, 4.49% gc time)\n",
      "  0.076864 seconds (5.50 k allocations: 118.477 MiB)\n"
     ]
    },
    {
     "name": "stderr",
     "output_type": "stream",
     "text": [
      "┌ Info: Found 212 dates points for year 1972 | month 11\n",
      "└ @ Main In[18]:10\n"
     ]
    },
    {
     "name": "stdout",
     "output_type": "stream",
     "text": [
      "  0.063228 seconds (5.50 k allocations: 118.477 MiB)\n",
      "  0.063787 seconds (4.62 k allocations: 118.375 MiB, 4.45% gc time)\n"
     ]
    },
    {
     "name": "stderr",
     "output_type": "stream",
     "text": [
      "┌ Info: Found 144 dates points for year 1972 | month 12\n",
      "└ @ Main In[18]:10\n"
     ]
    },
    {
     "name": "stdout",
     "output_type": "stream",
     "text": [
      "  0.058720 seconds (4.62 k allocations: 118.375 MiB)\n",
      "  0.058847 seconds (5.12 k allocations: 118.435 MiB)\n"
     ]
    },
    {
     "name": "stderr",
     "output_type": "stream",
     "text": [
      "┌ Info: Found 183 dates points for year 1973 | month 01\n",
      "└ @ Main In[18]:10\n"
     ]
    },
    {
     "name": "stdout",
     "output_type": "stream",
     "text": [
      "  0.062208 seconds (5.13 k allocations: 118.435 MiB, 4.47% gc time)\n",
      "  0.063633 seconds (5.09 k allocations: 118.426 MiB, 4.53% gc time)\n"
     ]
    },
    {
     "name": "stderr",
     "output_type": "stream",
     "text": [
      "┌ Info: Found 180 dates points for year 1973 | month 02\n",
      "└ @ Main In[18]:10\n"
     ]
    },
    {
     "name": "stdout",
     "output_type": "stream",
     "text": [
      "  0.058330 seconds (5.08 k allocations: 118.426 MiB)\n",
      "  0.083652 seconds (5.92 k allocations: 118.513 MiB)\n"
     ]
    },
    {
     "name": "stderr",
     "output_type": "stream",
     "text": [
      "┌ Info: Found 244 dates points for year 1973 | month 03\n",
      "└ @ Main In[18]:10\n"
     ]
    },
    {
     "name": "stdout",
     "output_type": "stream",
     "text": [
      "  0.079154 seconds (5.93 k allocations: 118.513 MiB, 3.78% gc time)\n",
      "  0.064930 seconds (5.52 k allocations: 118.475 MiB, 5.16% gc time)\n"
     ]
    },
    {
     "name": "stderr",
     "output_type": "stream",
     "text": [
      "┌ Info: Found 212 dates points for year 1973 | month 04\n",
      "└ @ Main In[18]:10\n"
     ]
    },
    {
     "name": "stdout",
     "output_type": "stream",
     "text": [
      "  0.058806 seconds (5.50 k allocations: 118.475 MiB)\n",
      "  0.061380 seconds (6.15 k allocations: 118.596 MiB)\n"
     ]
    },
    {
     "name": "stderr",
     "output_type": "stream",
     "text": [
      "┌ Info: Found 261 dates points for year 1973 | month 05\n",
      "└ @ Main In[18]:10\n"
     ]
    },
    {
     "name": "stdout",
     "output_type": "stream",
     "text": [
      "  0.064196 seconds (6.16 k allocations: 118.596 MiB, 4.52% gc time)\n",
      "  0.060899 seconds (6.08 k allocations: 118.577 MiB)\n"
     ]
    },
    {
     "name": "stderr",
     "output_type": "stream",
     "text": [
      "┌ Info: Found 256 dates points for year 1973 | month 06\n",
      "└ @ Main In[18]:10\n"
     ]
    },
    {
     "name": "stdout",
     "output_type": "stream",
     "text": [
      "  0.058681 seconds (6.08 k allocations: 118.577 MiB)\n",
      "  0.064839 seconds (6.50 k allocations: 118.638 MiB, 4.76% gc time)\n"
     ]
    },
    {
     "name": "stderr",
     "output_type": "stream",
     "text": [
      "┌ Info: Found 286 dates points for year 1973 | month 07\n",
      "└ @ Main In[18]:10\n"
     ]
    },
    {
     "name": "stdout",
     "output_type": "stream",
     "text": [
      "  0.061364 seconds (6.50 k allocations: 118.638 MiB)\n",
      "  0.066525 seconds (6.92 k allocations: 118.690 MiB)\n"
     ]
    },
    {
     "name": "stderr",
     "output_type": "stream",
     "text": [
      "┌ Info: Found 321 dates points for year 1973 | month 08\n",
      "└ @ Main In[18]:10\n"
     ]
    },
    {
     "name": "stdout",
     "output_type": "stream",
     "text": [
      "  0.066816 seconds (6.93 k allocations: 118.690 MiB, 4.74% gc time)\n",
      "  0.095730 seconds (6.20 k allocations: 118.604 MiB, 4.01% gc time)\n"
     ]
    },
    {
     "name": "stderr",
     "output_type": "stream",
     "text": [
      "┌ Info: Found 264 dates points for year 1973 | month 09\n",
      "└ @ Main In[18]:10\n"
     ]
    },
    {
     "name": "stdout",
     "output_type": "stream",
     "text": [
      "  0.082966 seconds (6.18 k allocations: 118.603 MiB)\n",
      "  0.057351 seconds (5.77 k allocations: 118.508 MiB)\n"
     ]
    },
    {
     "name": "stderr",
     "output_type": "stream",
     "text": [
      "┌ Info: Found 233 dates points for year 1973 | month 10\n",
      "└ @ Main In[18]:10\n"
     ]
    },
    {
     "name": "stdout",
     "output_type": "stream",
     "text": [
      "  0.058754 seconds (5.79 k allocations: 118.508 MiB, 4.82% gc time)\n",
      "  0.093898 seconds (4.84 k allocations: 118.401 MiB)\n"
     ]
    },
    {
     "name": "stderr",
     "output_type": "stream",
     "text": [
      "┌ Info: Found 161 dates points for year 1973 | month 11\n",
      "└ @ Main In[18]:10\n"
     ]
    },
    {
     "name": "stdout",
     "output_type": "stream",
     "text": [
      "  0.071678 seconds (4.84 k allocations: 118.401 MiB)\n",
      "  0.066401 seconds (5.17 k allocations: 118.438 MiB)\n"
     ]
    },
    {
     "name": "stderr",
     "output_type": "stream",
     "text": [
      "┌ Info: Found 187 dates points for year 1973 | month 12\n",
      "└ @ Main In[18]:10\n"
     ]
    },
    {
     "name": "stdout",
     "output_type": "stream",
     "text": [
      "  0.105177 seconds (5.19 k allocations: 118.438 MiB, 9.35% gc time)\n",
      "  0.086150 seconds (5.60 k allocations: 118.489 MiB)\n"
     ]
    },
    {
     "name": "stderr",
     "output_type": "stream",
     "text": [
      "┌ Info: Found 220 dates points for year 1974 | month 01\n",
      "└ @ Main In[18]:10\n"
     ]
    },
    {
     "name": "stdout",
     "output_type": "stream",
     "text": [
      "  0.076660 seconds (5.60 k allocations: 118.489 MiB)\n",
      "  0.084719 seconds (5.65 k allocations: 118.494 MiB, 4.03% gc time)\n"
     ]
    },
    {
     "name": "stderr",
     "output_type": "stream",
     "text": [
      "┌ Info: Found 223 dates points for year 1974 | month 02\n",
      "└ @ Main In[18]:10\n"
     ]
    },
    {
     "name": "stdout",
     "output_type": "stream",
     "text": [
      "  0.060159 seconds (5.64 k allocations: 118.494 MiB)\n",
      "  0.062691 seconds (6.69 k allocations: 118.657 MiB)\n"
     ]
    },
    {
     "name": "stderr",
     "output_type": "stream",
     "text": [
      "┌ Info: Found 303 dates points for year 1974 | month 03\n",
      "└ @ Main In[18]:10\n"
     ]
    },
    {
     "name": "stdout",
     "output_type": "stream",
     "text": [
      "  0.062635 seconds (6.70 k allocations: 118.658 MiB, 4.71% gc time)\n",
      "  0.070658 seconds (6.90 k allocations: 118.675 MiB, 4.93% gc time)\n"
     ]
    },
    {
     "name": "stderr",
     "output_type": "stream",
     "text": [
      "┌ Info: Found 318 dates points for year 1974 | month 04\n",
      "└ @ Main In[18]:10\n"
     ]
    },
    {
     "name": "stdout",
     "output_type": "stream",
     "text": [
      "  0.060391 seconds (6.89 k allocations: 118.675 MiB)\n",
      "  0.059214 seconds (4.96 k allocations: 118.415 MiB)\n"
     ]
    },
    {
     "name": "stderr",
     "output_type": "stream",
     "text": [
      "┌ Info: Found 170 dates points for year 1974 | month 05\n",
      "└ @ Main In[18]:10\n"
     ]
    },
    {
     "name": "stdout",
     "output_type": "stream",
     "text": [
      "  0.062960 seconds (4.97 k allocations: 118.415 MiB, 4.43% gc time)\n",
      "  0.063540 seconds (6.02 k allocations: 118.534 MiB)\n"
     ]
    },
    {
     "name": "stderr",
     "output_type": "stream",
     "text": [
      "┌ Info: Found 252 dates points for year 1974 | month 06\n",
      "└ @ Main In[18]:10\n"
     ]
    },
    {
     "name": "stdout",
     "output_type": "stream",
     "text": [
      "  0.088614 seconds (6.02 k allocations: 118.534 MiB)\n"
     ]
    },
    {
     "name": "stderr",
     "output_type": "stream",
     "text": [
      "┌ Info: Found 170 dates points for year 1974 | month 07\n",
      "└ @ Main In[18]:10\n"
     ]
    },
    {
     "name": "stdout",
     "output_type": "stream",
     "text": [
      "  0.100959 seconds (4.96 k allocations: 118.416 MiB)\n",
      "  0.127178 seconds (4.97 k allocations: 118.416 MiB, 2.93% gc time)\n"
     ]
    },
    {
     "name": "stderr",
     "output_type": "stream",
     "text": [
      "┌ Info: Found 243 dates points for year 1974 | month 08\n",
      "└ @ Main In[18]:10\n"
     ]
    },
    {
     "name": "stdout",
     "output_type": "stream",
     "text": [
      "  0.114134 seconds (5.91 k allocations: 118.519 MiB)\n",
      "  0.122841 seconds (5.91 k allocations: 118.519 MiB)\n"
     ]
    },
    {
     "name": "stderr",
     "output_type": "stream",
     "text": [
      "┌ Info: Found 182 dates points for year 1974 | month 09\n",
      "└ @ Main In[18]:10\n"
     ]
    },
    {
     "name": "stdout",
     "output_type": "stream",
     "text": [
      "  0.125180 seconds (5.12 k allocations: 118.431 MiB, 2.75% gc time)\n",
      "  0.088118 seconds (5.11 k allocations: 118.431 MiB)\n",
      "  0.064186 seconds (5.07 k allocations: 118.426 MiB)\n"
     ]
    },
    {
     "name": "stderr",
     "output_type": "stream",
     "text": [
      "┌ Info: Found 179 dates points for year 1974 | month 10\n",
      "└ @ Main In[18]:10\n"
     ]
    },
    {
     "name": "stdout",
     "output_type": "stream",
     "text": [
      "  0.063191 seconds (5.08 k allocations: 118.426 MiB, 4.57% gc time)\n",
      "  0.066223 seconds (5.26 k allocations: 118.448 MiB, 4.18% gc time)\n"
     ]
    },
    {
     "name": "stderr",
     "output_type": "stream",
     "text": [
      "┌ Info: Found 193 dates points for year 1974 | month 11\n",
      "└ @ Main In[18]:10\n"
     ]
    },
    {
     "name": "stdout",
     "output_type": "stream",
     "text": [
      "  0.064016 seconds (5.25 k allocations: 118.448 MiB)\n",
      "  0.067678 seconds (4.66 k allocations: 118.382 MiB)\n"
     ]
    },
    {
     "name": "stderr",
     "output_type": "stream",
     "text": [
      "┌ Info: Found 147 dates points for year 1974 | month 12\n",
      "└ @ Main In[18]:10\n"
     ]
    },
    {
     "name": "stdout",
     "output_type": "stream",
     "text": [
      "  0.142360 seconds (4.67 k allocations: 118.382 MiB, 4.27% gc time)\n"
     ]
    },
    {
     "name": "stderr",
     "output_type": "stream",
     "text": [
      "┌ Info: Found 129 dates points for year 1975 | month 01\n",
      "└ @ Main In[18]:10\n"
     ]
    },
    {
     "name": "stdout",
     "output_type": "stream",
     "text": [
      "  0.105741 seconds (4.43 k allocations: 118.356 MiB, 3.84% gc time)\n",
      "  0.071234 seconds (4.42 k allocations: 118.356 MiB)\n",
      "  0.064474 seconds (5.06 k allocations: 118.426 MiB)\n"
     ]
    },
    {
     "name": "stderr",
     "output_type": "stream",
     "text": [
      "┌ Info: Found 178 dates points for year 1975 | month 02\n",
      "└ @ Main In[18]:10\n"
     ]
    },
    {
     "name": "stdout",
     "output_type": "stream",
     "text": [
      "  0.066117 seconds (5.07 k allocations: 118.426 MiB, 4.20% gc time)\n",
      "  0.062921 seconds (6.12 k allocations: 118.597 MiB)\n"
     ]
    },
    {
     "name": "stderr",
     "output_type": "stream",
     "text": [
      "┌ Info: Found 259 dates points for year 1975 | month 03\n",
      "└ @ Main In[18]:10\n"
     ]
    },
    {
     "name": "stdout",
     "output_type": "stream",
     "text": [
      "  0.057307 seconds (6.12 k allocations: 118.597 MiB)\n",
      "  0.065458 seconds (6.17 k allocations: 118.600 MiB, 4.57% gc time)\n"
     ]
    },
    {
     "name": "stderr",
     "output_type": "stream",
     "text": [
      "┌ Info: Found 261 dates points for year 1975 | month 04\n",
      "└ @ Main In[18]:10\n"
     ]
    },
    {
     "name": "stdout",
     "output_type": "stream",
     "text": [
      "  0.065549 seconds (6.16 k allocations: 118.600 MiB)\n",
      "  0.061486 seconds (5.20 k allocations: 118.444 MiB)\n"
     ]
    },
    {
     "name": "stderr",
     "output_type": "stream",
     "text": [
      "┌ Info: Found 189 dates points for year 1975 | month 05\n",
      "└ @ Main In[18]:10\n"
     ]
    },
    {
     "name": "stdout",
     "output_type": "stream",
     "text": [
      "  0.066132 seconds (5.21 k allocations: 118.444 MiB, 4.41% gc time)\n",
      "  0.067405 seconds (4.90 k allocations: 118.407 MiB, 4.10% gc time)\n"
     ]
    },
    {
     "name": "stderr",
     "output_type": "stream",
     "text": [
      "┌ Info: Found 165 dates points for year 1975 | month 06\n",
      "└ @ Main In[18]:10\n"
     ]
    },
    {
     "name": "stdout",
     "output_type": "stream",
     "text": [
      "  0.060310 seconds (4.89 k allocations: 118.407 MiB)\n",
      "  0.058611 seconds (5.90 k allocations: 118.519 MiB)\n"
     ]
    },
    {
     "name": "stderr",
     "output_type": "stream",
     "text": [
      "┌ Info: Found 243 dates points for year 1975 | month 07\n",
      "└ @ Main In[18]:10\n"
     ]
    },
    {
     "name": "stdout",
     "output_type": "stream",
     "text": [
      "  0.062980 seconds (5.91 k allocations: 118.519 MiB, 4.70% gc time)\n",
      "  0.061880 seconds (5.62 k allocations: 118.488 MiB, 4.51% gc time)\n"
     ]
    },
    {
     "name": "stderr",
     "output_type": "stream",
     "text": [
      "┌ Info: Found 220 dates points for year 1975 | month 08\n",
      "└ @ Main In[18]:10\n"
     ]
    },
    {
     "name": "stdout",
     "output_type": "stream",
     "text": [
      "  0.060721 seconds (5.61 k allocations: 118.488 MiB)\n",
      "  0.057094 seconds (5.70 k allocations: 118.498 MiB)\n"
     ]
    },
    {
     "name": "stderr",
     "output_type": "stream",
     "text": [
      "┌ Info: Found 227 dates points for year 1975 | month 09\n",
      "└ @ Main In[18]:10\n"
     ]
    },
    {
     "name": "stdout",
     "output_type": "stream",
     "text": [
      "  0.061017 seconds (5.71 k allocations: 118.498 MiB, 4.67% gc time)\n",
      "  0.056295 seconds (5.53 k allocations: 118.477 MiB)\n"
     ]
    },
    {
     "name": "stderr",
     "output_type": "stream",
     "text": [
      "┌ Info: Found 214 dates points for year 1975 | month 10\n",
      "└ @ Main In[18]:10\n"
     ]
    },
    {
     "name": "stdout",
     "output_type": "stream",
     "text": [
      "  0.061684 seconds (5.53 k allocations: 118.477 MiB)\n",
      "  0.064027 seconds (5.08 k allocations: 118.429 MiB)\n"
     ]
    },
    {
     "name": "stderr",
     "output_type": "stream",
     "text": [
      "┌ Info: Found 180 dates points for year 1975 | month 11\n",
      "└ @ Main In[18]:10\n"
     ]
    },
    {
     "name": "stdout",
     "output_type": "stream",
     "text": [
      "  0.060326 seconds (5.09 k allocations: 118.429 MiB, 5.21% gc time)\n",
      "  0.060188 seconds (5.67 k allocations: 118.496 MiB)\n"
     ]
    },
    {
     "name": "stderr",
     "output_type": "stream",
     "text": [
      "┌ Info: Found 225 dates points for year 1975 | month 12\n",
      "└ @ Main In[18]:10\n"
     ]
    },
    {
     "name": "stdout",
     "output_type": "stream",
     "text": [
      "  0.060397 seconds (5.67 k allocations: 118.496 MiB)\n",
      "  0.067755 seconds (4.99 k allocations: 118.418 MiB, 4.78% gc time)\n"
     ]
    },
    {
     "name": "stderr",
     "output_type": "stream",
     "text": [
      "┌ Info: Found 172 dates points for year 1976 | month 01\n",
      "└ @ Main In[18]:10\n"
     ]
    },
    {
     "name": "stdout",
     "output_type": "stream",
     "text": [
      "  0.057041 seconds (4.98 k allocations: 118.418 MiB)\n",
      "  0.058795 seconds (5.21 k allocations: 118.443 MiB)\n"
     ]
    },
    {
     "name": "stderr",
     "output_type": "stream",
     "text": [
      "┌ Info: Found 190 dates points for year 1976 | month 02\n",
      "└ @ Main In[18]:10\n"
     ]
    },
    {
     "name": "stdout",
     "output_type": "stream",
     "text": [
      "  0.060345 seconds (5.22 k allocations: 118.443 MiB, 4.70% gc time)\n",
      "  0.096068 seconds (5.64 k allocations: 118.493 MiB, 4.00% gc time)\n"
     ]
    },
    {
     "name": "stderr",
     "output_type": "stream",
     "text": [
      "┌ Info: Found 222 dates points for year 1976 | month 03\n",
      "└ @ Main In[18]:10\n"
     ]
    },
    {
     "name": "stdout",
     "output_type": "stream",
     "text": [
      "  0.075261 seconds (5.63 k allocations: 118.493 MiB)\n",
      "  0.059510 seconds (5.77 k allocations: 118.507 MiB)\n"
     ]
    },
    {
     "name": "stderr",
     "output_type": "stream",
     "text": [
      "┌ Info: Found 233 dates points for year 1976 | month 04\n",
      "└ @ Main In[18]:10\n"
     ]
    },
    {
     "name": "stdout",
     "output_type": "stream",
     "text": [
      "  0.062009 seconds (5.78 k allocations: 118.507 MiB, 4.57% gc time)\n"
     ]
    },
    {
     "name": "stderr",
     "output_type": "stream",
     "text": [
      "┌ Info: Found 208 dates points for year 1976 | month 05\n",
      "└ @ Main In[18]:10\n"
     ]
    },
    {
     "name": "stdout",
     "output_type": "stream",
     "text": [
      "  0.108495 seconds (5.45 k allocations: 118.470 MiB)\n",
      "  0.096962 seconds (5.45 k allocations: 118.470 MiB)\n",
      "  0.089260 seconds (5.13 k allocations: 118.434 MiB)\n"
     ]
    },
    {
     "name": "stderr",
     "output_type": "stream",
     "text": [
      "┌ Info: Found 184 dates points for year 1976 | month 06\n",
      "└ @ Main In[18]:10\n"
     ]
    },
    {
     "name": "stdout",
     "output_type": "stream",
     "text": [
      "  0.075020 seconds (5.15 k allocations: 118.434 MiB, 4.71% gc time)\n",
      "  0.070084 seconds (4.91 k allocations: 118.409 MiB)\n"
     ]
    },
    {
     "name": "stderr",
     "output_type": "stream",
     "text": [
      "┌ Info: Found 167 dates points for year 1976 | month 07\n",
      "└ @ Main In[18]:10\n"
     ]
    },
    {
     "name": "stdout",
     "output_type": "stream",
     "text": [
      "  0.092022 seconds (4.91 k allocations: 118.409 MiB)\n",
      "  0.070292 seconds (5.23 k allocations: 118.445 MiB, 4.67% gc time)\n"
     ]
    },
    {
     "name": "stderr",
     "output_type": "stream",
     "text": [
      "┌ Info: Found 191 dates points for year 1976 | month 08\n",
      "└ @ Main In[18]:10\n"
     ]
    },
    {
     "name": "stdout",
     "output_type": "stream",
     "text": [
      "  0.066101 seconds (5.23 k allocations: 118.445 MiB)\n",
      "  0.075049 seconds (5.10 k allocations: 118.432 MiB)\n"
     ]
    },
    {
     "name": "stderr",
     "output_type": "stream",
     "text": [
      "┌ Info: Found 181 dates points for year 1976 | month 09\n",
      "└ @ Main In[18]:10\n"
     ]
    },
    {
     "name": "stdout",
     "output_type": "stream",
     "text": [
      "  0.069200 seconds (5.11 k allocations: 118.432 MiB, 4.18% gc time)\n",
      "  0.076547 seconds (5.55 k allocations: 118.481 MiB, 4.33% gc time)\n"
     ]
    },
    {
     "name": "stderr",
     "output_type": "stream",
     "text": [
      "┌ Info: Found 215 dates points for year 1976 | month 10\n",
      "└ @ Main In[18]:10\n"
     ]
    },
    {
     "name": "stdout",
     "output_type": "stream",
     "text": [
      "  0.082216 seconds (5.54 k allocations: 118.481 MiB)\n",
      "  0.063075 seconds (5.47 k allocations: 118.472 MiB)\n"
     ]
    },
    {
     "name": "stderr",
     "output_type": "stream",
     "text": [
      "┌ Info: Found 210 dates points for year 1976 | month 11\n",
      "└ @ Main In[18]:10\n"
     ]
    },
    {
     "name": "stdout",
     "output_type": "stream",
     "text": [
      "  0.063279 seconds (5.49 k allocations: 118.472 MiB, 4.78% gc time)\n",
      "  0.069146 seconds (5.20 k allocations: 118.441 MiB, 4.22% gc time)\n"
     ]
    },
    {
     "name": "stderr",
     "output_type": "stream",
     "text": [
      "┌ Info: Found 188 dates points for year 1976 | month 12\n",
      "└ @ Main In[18]:10\n"
     ]
    },
    {
     "name": "stdout",
     "output_type": "stream",
     "text": [
      "  0.069193 seconds (5.19 k allocations: 118.441 MiB)\n",
      "  0.058254 seconds (5.40 k allocations: 118.464 MiB)\n"
     ]
    },
    {
     "name": "stderr",
     "output_type": "stream",
     "text": [
      "┌ Info: Found 203 dates points for year 1977 | month 01\n",
      "└ @ Main In[18]:10\n"
     ]
    },
    {
     "name": "stdout",
     "output_type": "stream",
     "text": [
      "  0.064648 seconds (5.41 k allocations: 118.464 MiB, 5.35% gc time)\n",
      "  0.065698 seconds (5.29 k allocations: 118.450 MiB)\n"
     ]
    },
    {
     "name": "stderr",
     "output_type": "stream",
     "text": [
      "┌ Info: Found 195 dates points for year 1977 | month 02\n",
      "└ @ Main In[18]:10\n"
     ]
    },
    {
     "name": "stdout",
     "output_type": "stream",
     "text": [
      "  0.056264 seconds (5.29 k allocations: 118.450 MiB)\n",
      "  0.089527 seconds (5.43 k allocations: 118.465 MiB, 4.24% gc time)\n"
     ]
    },
    {
     "name": "stderr",
     "output_type": "stream",
     "text": [
      "┌ Info: Found 204 dates points for year 1977 | month 03\n",
      "└ @ Main In[18]:10\n"
     ]
    },
    {
     "name": "stdout",
     "output_type": "stream",
     "text": [
      "  0.075539 seconds (5.43 k allocations: 118.465 MiB)\n",
      "  0.060676 seconds (5.65 k allocations: 118.492 MiB)\n"
     ]
    },
    {
     "name": "stderr",
     "output_type": "stream",
     "text": [
      "┌ Info: Found 221 dates points for year 1977 | month 04\n",
      "└ @ Main In[18]:10\n"
     ]
    },
    {
     "name": "stdout",
     "output_type": "stream",
     "text": [
      "  0.063154 seconds (5.66 k allocations: 118.492 MiB, 4.77% gc time)\n",
      "  0.073385 seconds (6.31 k allocations: 118.612 MiB, 4.28% gc time)\n"
     ]
    },
    {
     "name": "stderr",
     "output_type": "stream",
     "text": [
      "┌ Info: Found 273 dates points for year 1977 | month 05\n",
      "└ @ Main In[18]:10\n"
     ]
    },
    {
     "name": "stdout",
     "output_type": "stream",
     "text": [
      "  0.058899 seconds (6.30 k allocations: 118.612 MiB)\n",
      "  0.065433 seconds (5.23 k allocations: 118.441 MiB)\n"
     ]
    },
    {
     "name": "stderr",
     "output_type": "stream",
     "text": [
      "┌ Info: Found 191 dates points for year 1977 | month 06\n",
      "└ @ Main In[18]:10\n"
     ]
    },
    {
     "name": "stdout",
     "output_type": "stream",
     "text": [
      "  0.066044 seconds (5.24 k allocations: 118.441 MiB, 5.60% gc time)\n",
      "  0.062839 seconds (4.74 k allocations: 118.387 MiB, 4.62% gc time)\n"
     ]
    },
    {
     "name": "stderr",
     "output_type": "stream",
     "text": [
      "┌ Info: Found 153 dates points for year 1977 | month 07\n",
      "└ @ Main In[18]:10\n"
     ]
    },
    {
     "name": "stdout",
     "output_type": "stream",
     "text": [
      "  0.064903 seconds (4.73 k allocations: 118.387 MiB)\n",
      "  0.062980 seconds (4.97 k allocations: 118.415 MiB)\n"
     ]
    },
    {
     "name": "stderr",
     "output_type": "stream",
     "text": [
      "┌ Info: Found 171 dates points for year 1977 | month 08\n",
      "└ @ Main In[18]:10\n"
     ]
    },
    {
     "name": "stdout",
     "output_type": "stream",
     "text": [
      "  0.065160 seconds (4.98 k allocations: 118.415 MiB, 4.51% gc time)\n",
      "  0.060737 seconds (5.26 k allocations: 118.445 MiB)\n"
     ]
    },
    {
     "name": "stderr",
     "output_type": "stream",
     "text": [
      "┌ Info: Found 191 dates points for year 1977 | month 09\n",
      "└ @ Main In[18]:10\n"
     ]
    },
    {
     "name": "stdout",
     "output_type": "stream",
     "text": [
      "  0.060011 seconds (5.26 k allocations: 118.445 MiB)\n",
      "  0.067586 seconds (4.67 k allocations: 118.381 MiB)\n"
     ]
    },
    {
     "name": "stderr",
     "output_type": "stream",
     "text": [
      "┌ Info: Found 147 dates points for year 1977 | month 10\n",
      "└ @ Main In[18]:10\n"
     ]
    },
    {
     "name": "stdout",
     "output_type": "stream",
     "text": [
      "  0.071794 seconds (4.69 k allocations: 118.381 MiB, 3.95% gc time)\n",
      "  0.063702 seconds (5.25 k allocations: 118.448 MiB)\n"
     ]
    },
    {
     "name": "stderr",
     "output_type": "stream",
     "text": [
      "┌ Info: Found 193 dates points for year 1977 | month 11\n",
      "└ @ Main In[18]:10\n"
     ]
    },
    {
     "name": "stdout",
     "output_type": "stream",
     "text": [
      "  0.064027 seconds (5.25 k allocations: 118.448 MiB)\n",
      "  0.060557 seconds (4.40 k allocations: 118.341 MiB, 5.26% gc time)\n"
     ]
    },
    {
     "name": "stderr",
     "output_type": "stream",
     "text": [
      "┌ Info: Found 125 dates points for year 1977 | month 12\n",
      "└ @ Main In[18]:10\n"
     ]
    },
    {
     "name": "stdout",
     "output_type": "stream",
     "text": [
      "  0.069199 seconds (4.40 k allocations: 118.341 MiB)\n",
      "  0.060240 seconds (4.43 k allocations: 118.346 MiB)\n"
     ]
    },
    {
     "name": "stderr",
     "output_type": "stream",
     "text": [
      "┌ Info: Found 128 dates points for year 1978 | month 01\n",
      "└ @ Main In[18]:10\n"
     ]
    },
    {
     "name": "stdout",
     "output_type": "stream",
     "text": [
      "  0.063947 seconds (4.44 k allocations: 118.346 MiB, 4.65% gc time)\n",
      "  0.086304 seconds (5.04 k allocations: 118.422 MiB, 4.00% gc time)\n"
     ]
    },
    {
     "name": "stderr",
     "output_type": "stream",
     "text": [
      "┌ Info: Found 175 dates points for year 1978 | month 02\n",
      "└ @ Main In[18]:10\n"
     ]
    },
    {
     "name": "stdout",
     "output_type": "stream",
     "text": [
      "  0.066547 seconds (5.02 k allocations: 118.422 MiB)\n",
      "  0.063212 seconds (5.09 k allocations: 118.427 MiB)\n"
     ]
    },
    {
     "name": "stderr",
     "output_type": "stream",
     "text": [
      "┌ Info: Found 178 dates points for year 1978 | month 03\n",
      "└ @ Main In[18]:10\n"
     ]
    },
    {
     "name": "stdout",
     "output_type": "stream",
     "text": [
      "  0.065614 seconds (5.09 k allocations: 118.427 MiB, 4.62% gc time)\n",
      "  0.062518 seconds (5.63 k allocations: 118.490 MiB, 5.08% gc time)\n"
     ]
    },
    {
     "name": "stderr",
     "output_type": "stream",
     "text": [
      "┌ Info: Found 221 dates points for year 1978 | month 04\n",
      "└ @ Main In[18]:10\n"
     ]
    },
    {
     "name": "stdout",
     "output_type": "stream",
     "text": [
      "  0.063072 seconds (5.62 k allocations: 118.490 MiB)\n",
      "  0.061572 seconds (4.76 k allocations: 118.393 MiB)\n"
     ]
    },
    {
     "name": "stderr",
     "output_type": "stream",
     "text": [
      "┌ Info: Found 155 dates points for year 1978 | month 05\n",
      "└ @ Main In[18]:10\n"
     ]
    },
    {
     "name": "stdout",
     "output_type": "stream",
     "text": [
      "  0.066404 seconds (4.77 k allocations: 118.393 MiB, 4.39% gc time)\n",
      "  0.058904 seconds (3.92 k allocations: 118.291 MiB)\n"
     ]
    },
    {
     "name": "stderr",
     "output_type": "stream",
     "text": [
      "┌ Info: Found 90 dates points for year 1978 | month 06\n",
      "└ @ Main In[18]:10\n"
     ]
    },
    {
     "name": "stdout",
     "output_type": "stream",
     "text": [
      "  0.057756 seconds (3.92 k allocations: 118.291 MiB)\n",
      "  0.060730 seconds (4.75 k allocations: 118.388 MiB)\n"
     ]
    },
    {
     "name": "stderr",
     "output_type": "stream",
     "text": [
      "┌ Info: Found 152 dates points for year 1978 | month 07\n",
      "└ @ Main In[18]:10\n"
     ]
    },
    {
     "name": "stdout",
     "output_type": "stream",
     "text": [
      "  0.065731 seconds (4.76 k allocations: 118.388 MiB, 5.28% gc time)\n",
      "  0.063147 seconds (3.96 k allocations: 118.292 MiB)\n"
     ]
    },
    {
     "name": "stderr",
     "output_type": "stream",
     "text": [
      "┌ Info: Found 91 dates points for year 1978 | month 08\n",
      "└ @ Main In[18]:10\n"
     ]
    },
    {
     "name": "stdout",
     "output_type": "stream",
     "text": [
      "  0.064975 seconds (3.96 k allocations: 118.292 MiB)\n",
      "  0.067888 seconds (4.73 k allocations: 118.389 MiB, 4.41% gc time)\n"
     ]
    },
    {
     "name": "stderr",
     "output_type": "stream",
     "text": [
      "┌ Info: Found 152 dates points for year 1978 | month 09\n",
      "└ @ Main In[18]:10\n"
     ]
    },
    {
     "name": "stdout",
     "output_type": "stream",
     "text": [
      "  0.061951 seconds (4.72 k allocations: 118.389 MiB)\n",
      "  0.059838 seconds (4.16 k allocations: 118.318 MiB)\n"
     ]
    },
    {
     "name": "stderr",
     "output_type": "stream",
     "text": [
      "┌ Info: Found 109 dates points for year 1978 | month 10\n",
      "└ @ Main In[18]:10\n"
     ]
    },
    {
     "name": "stdout",
     "output_type": "stream",
     "text": [
      "  0.064186 seconds (4.17 k allocations: 118.318 MiB, 4.52% gc time)\n",
      "  0.065825 seconds (5.54 k allocations: 118.480 MiB, 4.56% gc time)\n"
     ]
    },
    {
     "name": "stderr",
     "output_type": "stream",
     "text": [
      "┌ Info: Found 214 dates points for year 1978 | month 11\n",
      "└ @ Main In[18]:10\n"
     ]
    },
    {
     "name": "stdout",
     "output_type": "stream",
     "text": [
      "  0.064324 seconds (5.53 k allocations: 118.480 MiB)\n",
      "  0.062261 seconds (5.04 k allocations: 118.425 MiB)\n"
     ]
    },
    {
     "name": "stderr",
     "output_type": "stream",
     "text": [
      "┌ Info: Found 176 dates points for year 1978 | month 12\n",
      "└ @ Main In[18]:10\n"
     ]
    },
    {
     "name": "stdout",
     "output_type": "stream",
     "text": [
      "  0.068940 seconds (5.04 k allocations: 118.425 MiB, 4.53% gc time)\n",
      "  0.066284 seconds (4.24 k allocations: 118.325 MiB, 4.33% gc time)\n"
     ]
    },
    {
     "name": "stderr",
     "output_type": "stream",
     "text": [
      "┌ Info: Found 112 dates points for year 1979 | month 01\n",
      "└ @ Main In[18]:10\n"
     ]
    },
    {
     "name": "stdout",
     "output_type": "stream",
     "text": [
      "  0.061685 seconds (4.23 k allocations: 118.325 MiB)\n",
      "  0.065711 seconds (4.76 k allocations: 118.394 MiB)\n"
     ]
    },
    {
     "name": "stderr",
     "output_type": "stream",
     "text": [
      "┌ Info: Found 155 dates points for year 1979 | month 02\n",
      "└ @ Main In[18]:10\n"
     ]
    },
    {
     "name": "stdout",
     "output_type": "stream",
     "text": [
      "  0.098895 seconds (4.77 k allocations: 118.394 MiB, 3.51% gc time)\n",
      "  0.066931 seconds (4.88 k allocations: 118.408 MiB)\n"
     ]
    },
    {
     "name": "stderr",
     "output_type": "stream",
     "text": [
      "┌ Info: Found 164 dates points for year 1979 | month 03\n",
      "└ @ Main In[18]:10\n"
     ]
    },
    {
     "name": "stdout",
     "output_type": "stream",
     "text": [
      "  0.064066 seconds (4.88 k allocations: 118.408 MiB)\n",
      "  0.069331 seconds (5.10 k allocations: 118.430 MiB)\n"
     ]
    },
    {
     "name": "stderr",
     "output_type": "stream",
     "text": [
      "┌ Info: Found 179 dates points for year 1979 | month 04\n",
      "└ @ Main In[18]:10\n"
     ]
    },
    {
     "name": "stdout",
     "output_type": "stream",
     "text": [
      "  0.067684 seconds (5.12 k allocations: 118.430 MiB, 4.43% gc time)\n"
     ]
    },
    {
     "name": "stderr",
     "output_type": "stream",
     "text": [
      "┌ Info: Found 144 dates points for year 1979 | month 05\n",
      "└ @ Main In[18]:10\n"
     ]
    },
    {
     "name": "stdout",
     "output_type": "stream",
     "text": [
      "  0.100924 seconds (4.62 k allocations: 118.378 MiB)\n",
      "  0.101995 seconds (4.62 k allocations: 118.378 MiB)\n",
      "  0.075959 seconds (4.86 k allocations: 118.404 MiB, 5.12% gc time)\n"
     ]
    },
    {
     "name": "stderr",
     "output_type": "stream",
     "text": [
      "┌ Info: Found 162 dates points for year 1979 | month 06\n",
      "└ @ Main In[18]:10\n"
     ]
    },
    {
     "name": "stdout",
     "output_type": "stream",
     "text": [
      "  0.061246 seconds (4.85 k allocations: 118.404 MiB)\n",
      "  0.060173 seconds (5.01 k allocations: 118.423 MiB)\n"
     ]
    },
    {
     "name": "stderr",
     "output_type": "stream",
     "text": [
      "┌ Info: Found 174 dates points for year 1979 | month 07\n",
      "└ @ Main In[18]:10\n"
     ]
    },
    {
     "name": "stdout",
     "output_type": "stream",
     "text": [
      "  0.064574 seconds (5.02 k allocations: 118.423 MiB, 4.35% gc time)\n",
      "  0.062259 seconds (5.28 k allocations: 118.449 MiB, 4.51% gc time)\n"
     ]
    },
    {
     "name": "stderr",
     "output_type": "stream",
     "text": [
      "┌ Info: Found 194 dates points for year 1979 | month 08\n",
      "└ @ Main In[18]:10\n"
     ]
    },
    {
     "name": "stdout",
     "output_type": "stream",
     "text": [
      "  0.062539 seconds (5.26 k allocations: 118.448 MiB)\n",
      "  0.062145 seconds (4.95 k allocations: 118.416 MiB)\n"
     ]
    },
    {
     "name": "stderr",
     "output_type": "stream",
     "text": [
      "┌ Info: Found 170 dates points for year 1979 | month 09\n",
      "└ @ Main In[18]:10\n"
     ]
    },
    {
     "name": "stdout",
     "output_type": "stream",
     "text": [
      "  0.062182 seconds (4.96 k allocations: 118.416 MiB, 4.60% gc time)\n",
      "  0.064844 seconds (4.78 k allocations: 118.395 MiB, 4.53% gc time)\n"
     ]
    },
    {
     "name": "stderr",
     "output_type": "stream",
     "text": [
      "┌ Info: Found 156 dates points for year 1979 | month 10\n",
      "└ @ Main In[18]:10\n"
     ]
    },
    {
     "name": "stdout",
     "output_type": "stream",
     "text": [
      "  0.061247 seconds (4.77 k allocations: 118.395 MiB)\n",
      "  0.065382 seconds (5.28 k allocations: 118.450 MiB)\n"
     ]
    },
    {
     "name": "stderr",
     "output_type": "stream",
     "text": [
      "┌ Info: Found 195 dates points for year 1979 | month 11\n",
      "└ @ Main In[18]:10\n"
     ]
    },
    {
     "name": "stdout",
     "output_type": "stream",
     "text": [
      "  0.063055 seconds (5.29 k allocations: 118.450 MiB, 4.68% gc time)\n",
      "  0.059898 seconds (4.30 k allocations: 118.336 MiB)\n"
     ]
    },
    {
     "name": "stderr",
     "output_type": "stream",
     "text": [
      "┌ Info: Found 120 dates points for year 1979 | month 12\n",
      "└ @ Main In[18]:10\n"
     ]
    },
    {
     "name": "stdout",
     "output_type": "stream",
     "text": [
      "  0.064737 seconds (4.30 k allocations: 118.336 MiB)\n",
      "  0.063245 seconds (3.04 k allocations: 118.189 MiB)\n"
     ]
    },
    {
     "name": "stderr",
     "output_type": "stream",
     "text": [
      "┌ Info: Found 23 dates points for year 1980 | month 01\n",
      "└ @ Main In[18]:10\n"
     ]
    },
    {
     "name": "stdout",
     "output_type": "stream",
     "text": [
      "  0.063001 seconds (3.05 k allocations: 118.189 MiB, 5.26% gc time)\n",
      "  0.063082 seconds (5.36 k allocations: 118.463 MiB)\n"
     ]
    },
    {
     "name": "stderr",
     "output_type": "stream",
     "text": [
      "┌ Info: Found 201 dates points for year 1980 | month 02\n",
      "└ @ Main In[18]:10\n"
     ]
    },
    {
     "name": "stdout",
     "output_type": "stream",
     "text": [
      "  0.062742 seconds (5.36 k allocations: 118.463 MiB)\n",
      "  0.062387 seconds (5.07 k allocations: 118.426 MiB, 4.53% gc time)\n"
     ]
    },
    {
     "name": "stderr",
     "output_type": "stream",
     "text": [
      "┌ Info: Found 178 dates points for year 1980 | month 03\n",
      "└ @ Main In[18]:10\n"
     ]
    },
    {
     "name": "stdout",
     "output_type": "stream",
     "text": [
      "  0.062881 seconds (5.06 k allocations: 118.426 MiB)\n",
      "  0.059347 seconds (4.67 k allocations: 118.380 MiB)\n"
     ]
    },
    {
     "name": "stderr",
     "output_type": "stream",
     "text": [
      "┌ Info: Found 148 dates points for year 1980 | month 04\n",
      "└ @ Main In[18]:10\n"
     ]
    },
    {
     "name": "stdout",
     "output_type": "stream",
     "text": [
      "  0.061026 seconds (4.67 k allocations: 118.380 MiB, 4.86% gc time)\n",
      "  0.066401 seconds (5.20 k allocations: 118.438 MiB, 4.48% gc time)\n"
     ]
    },
    {
     "name": "stderr",
     "output_type": "stream",
     "text": [
      "┌ Info: Found 185 dates points for year 1980 | month 05\n",
      "└ @ Main In[18]:10\n"
     ]
    },
    {
     "name": "stdout",
     "output_type": "stream",
     "text": [
      "  0.060039 seconds (5.19 k allocations: 118.438 MiB)\n",
      "  0.063691 seconds (5.03 k allocations: 118.424 MiB)\n"
     ]
    },
    {
     "name": "stderr",
     "output_type": "stream",
     "text": [
      "┌ Info: Found 176 dates points for year 1980 | month 06\n",
      "└ @ Main In[18]:10\n"
     ]
    },
    {
     "name": "stdout",
     "output_type": "stream",
     "text": [
      "  0.065569 seconds (5.04 k allocations: 118.424 MiB, 4.45% gc time)\n",
      "  0.068212 seconds (5.29 k allocations: 118.447 MiB, 4.48% gc time)\n"
     ]
    },
    {
     "name": "stderr",
     "output_type": "stream",
     "text": [
      "┌ Info: Found 190 dates points for year 1980 | month 07\n",
      "└ @ Main In[18]:10\n"
     ]
    },
    {
     "name": "stdout",
     "output_type": "stream",
     "text": [
      "  0.061981 seconds (5.28 k allocations: 118.447 MiB)\n",
      "  0.058290 seconds (4.64 k allocations: 118.381 MiB)\n"
     ]
    },
    {
     "name": "stderr",
     "output_type": "stream",
     "text": [
      "┌ Info: Found 146 dates points for year 1980 | month 08\n",
      "└ @ Main In[18]:10\n"
     ]
    },
    {
     "name": "stdout",
     "output_type": "stream",
     "text": [
      "  0.073320 seconds (4.66 k allocations: 118.381 MiB, 4.31% gc time)\n",
      "  0.059295 seconds (5.73 k allocations: 118.504 MiB)\n"
     ]
    },
    {
     "name": "stderr",
     "output_type": "stream",
     "text": [
      "┌ Info: Found 230 dates points for year 1980 | month 09\n",
      "└ @ Main In[18]:10\n"
     ]
    },
    {
     "name": "stdout",
     "output_type": "stream",
     "text": [
      "  0.060417 seconds (5.73 k allocations: 118.504 MiB)\n",
      "  0.062898 seconds (5.86 k allocations: 118.511 MiB)\n"
     ]
    },
    {
     "name": "stderr",
     "output_type": "stream",
     "text": [
      "┌ Info: Found 234 dates points for year 1980 | month 10\n",
      "└ @ Main In[18]:10\n"
     ]
    },
    {
     "name": "stdout",
     "output_type": "stream",
     "text": [
      "  0.064270 seconds (5.87 k allocations: 118.512 MiB, 4.51% gc time)\n",
      "  0.060764 seconds (5.24 k allocations: 118.449 MiB)\n"
     ]
    },
    {
     "name": "stderr",
     "output_type": "stream",
     "text": [
      "┌ Info: Found 192 dates points for year 1980 | month 11\n",
      "└ @ Main In[18]:10\n"
     ]
    },
    {
     "name": "stdout",
     "output_type": "stream",
     "text": [
      "  0.065317 seconds (5.24 k allocations: 118.449 MiB)\n",
      "  0.061649 seconds (4.62 k allocations: 118.378 MiB, 4.61% gc time)\n"
     ]
    },
    {
     "name": "stderr",
     "output_type": "stream",
     "text": [
      "┌ Info: Found 144 dates points for year 1980 | month 12\n",
      "└ @ Main In[18]:10\n"
     ]
    },
    {
     "name": "stdout",
     "output_type": "stream",
     "text": [
      "  0.062601 seconds (4.62 k allocations: 118.378 MiB)\n",
      "  0.059999 seconds (4.20 k allocations: 118.324 MiB)\n"
     ]
    },
    {
     "name": "stderr",
     "output_type": "stream",
     "text": [
      "┌ Info: Found 112 dates points for year 1981 | month 01\n",
      "└ @ Main In[18]:10\n"
     ]
    },
    {
     "name": "stdout",
     "output_type": "stream",
     "text": [
      "  0.065491 seconds (4.21 k allocations: 118.324 MiB, 4.96% gc time)\n",
      "  0.067807 seconds (4.94 k allocations: 118.411 MiB, 4.35% gc time)\n"
     ]
    },
    {
     "name": "stderr",
     "output_type": "stream",
     "text": [
      "┌ Info: Found 168 dates points for year 1981 | month 02\n",
      "└ @ Main In[18]:10\n"
     ]
    },
    {
     "name": "stdout",
     "output_type": "stream",
     "text": [
      "  0.060622 seconds (4.93 k allocations: 118.411 MiB)\n",
      "  0.060122 seconds (6.03 k allocations: 118.535 MiB)\n"
     ]
    },
    {
     "name": "stderr",
     "output_type": "stream",
     "text": [
      "┌ Info: Found 251 dates points for year 1981 | month 03\n",
      "└ @ Main In[18]:10\n"
     ]
    },
    {
     "name": "stdout",
     "output_type": "stream",
     "text": [
      "  0.069513 seconds (6.04 k allocations: 118.535 MiB, 4.17% gc time)\n",
      "  0.065561 seconds (5.46 k allocations: 118.470 MiB, 5.41% gc time)\n"
     ]
    },
    {
     "name": "stderr",
     "output_type": "stream",
     "text": [
      "┌ Info: Found 206 dates points for year 1981 | month 04\n",
      "└ @ Main In[18]:10\n"
     ]
    },
    {
     "name": "stdout",
     "output_type": "stream",
     "text": [
      "  0.059781 seconds (5.44 k allocations: 118.469 MiB)\n",
      "  0.059110 seconds (5.07 k allocations: 118.426 MiB)\n"
     ]
    },
    {
     "name": "stderr",
     "output_type": "stream",
     "text": [
      "┌ Info: Found 179 dates points for year 1981 | month 05\n",
      "└ @ Main In[18]:10\n"
     ]
    },
    {
     "name": "stdout",
     "output_type": "stream",
     "text": [
      "  0.066859 seconds (5.08 k allocations: 118.427 MiB, 4.85% gc time)\n",
      "  0.069629 seconds (5.49 k allocations: 118.476 MiB)\n"
     ]
    },
    {
     "name": "stderr",
     "output_type": "stream",
     "text": [
      "┌ Info: Found 211 dates points for year 1981 | month 06\n",
      "└ @ Main In[18]:10\n"
     ]
    },
    {
     "name": "stdout",
     "output_type": "stream",
     "text": [
      "  0.057451 seconds (5.49 k allocations: 118.476 MiB)\n",
      "  0.063860 seconds (5.28 k allocations: 118.449 MiB, 4.36% gc time)\n"
     ]
    },
    {
     "name": "stderr",
     "output_type": "stream",
     "text": [
      "┌ Info: Found 194 dates points for year 1981 | month 07\n",
      "└ @ Main In[18]:10\n"
     ]
    },
    {
     "name": "stdout",
     "output_type": "stream",
     "text": [
      "  0.061363 seconds (5.27 k allocations: 118.448 MiB)\n",
      "  0.070372 seconds (4.03 k allocations: 118.304 MiB)\n"
     ]
    },
    {
     "name": "stderr",
     "output_type": "stream",
     "text": [
      "┌ Info: Found 99 dates points for year 1981 | month 08\n",
      "└ @ Main In[18]:10\n"
     ]
    },
    {
     "name": "stdout",
     "output_type": "stream",
     "text": [
      "  0.086932 seconds (4.03 k allocations: 118.304 MiB)\n",
      "  0.062423 seconds (4.76 k allocations: 118.393 MiB, 4.62% gc time)\n"
     ]
    },
    {
     "name": "stderr",
     "output_type": "stream",
     "text": [
      "┌ Info: Found 154 dates points for year 1981 | month 09\n",
      "└ @ Main In[18]:10\n"
     ]
    },
    {
     "name": "stdout",
     "output_type": "stream",
     "text": [
      "  0.061226 seconds (4.75 k allocations: 118.393 MiB)\n",
      "  0.064408 seconds (5.42 k allocations: 118.468 MiB)\n"
     ]
    },
    {
     "name": "stderr",
     "output_type": "stream",
     "text": [
      "┌ Info: Found 206 dates points for year 1981 | month 10\n",
      "└ @ Main In[18]:10\n"
     ]
    },
    {
     "name": "stdout",
     "output_type": "stream",
     "text": [
      "  0.069104 seconds (5.43 k allocations: 118.468 MiB, 4.09% gc time)\n",
      "  0.068243 seconds (5.46 k allocations: 118.467 MiB, 4.33% gc time)\n"
     ]
    },
    {
     "name": "stderr",
     "output_type": "stream",
     "text": [
      "┌ Info: Found 203 dates points for year 1981 | month 11\n",
      "└ @ Main In[18]:10\n"
     ]
    },
    {
     "name": "stdout",
     "output_type": "stream",
     "text": [
      "  0.057088 seconds (5.45 k allocations: 118.467 MiB)\n",
      "  0.062173 seconds (4.86 k allocations: 118.398 MiB)\n"
     ]
    },
    {
     "name": "stderr",
     "output_type": "stream",
     "text": [
      "┌ Info: Found 158 dates points for year 1981 | month 12\n",
      "└ @ Main In[18]:10\n"
     ]
    },
    {
     "name": "stdout",
     "output_type": "stream",
     "text": [
      "  0.066710 seconds (4.87 k allocations: 118.398 MiB, 4.26% gc time)\n",
      "  0.071968 seconds (4.37 k allocations: 118.343 MiB, 4.10% gc time)\n"
     ]
    },
    {
     "name": "stderr",
     "output_type": "stream",
     "text": [
      "┌ Info: Found 124 dates points for year 1982 | month 01\n",
      "└ @ Main In[18]:10\n"
     ]
    },
    {
     "name": "stdout",
     "output_type": "stream",
     "text": [
      "  0.059785 seconds (4.36 k allocations: 118.343 MiB)\n",
      "  0.064102 seconds (4.63 k allocations: 118.378 MiB)\n"
     ]
    },
    {
     "name": "stderr",
     "output_type": "stream",
     "text": [
      "┌ Info: Found 145 dates points for year 1982 | month 02\n",
      "└ @ Main In[18]:10\n"
     ]
    },
    {
     "name": "stdout",
     "output_type": "stream",
     "text": [
      "  0.064993 seconds (4.64 k allocations: 118.378 MiB, 4.70% gc time)\n",
      "  0.065607 seconds (5.62 k allocations: 118.494 MiB)\n"
     ]
    },
    {
     "name": "stderr",
     "output_type": "stream",
     "text": [
      "┌ Info: Found 221 dates points for year 1982 | month 03\n",
      "└ @ Main In[18]:10\n"
     ]
    },
    {
     "name": "stdout",
     "output_type": "stream",
     "text": [
      "  0.064345 seconds (5.62 k allocations: 118.494 MiB)\n",
      "  0.063840 seconds (5.17 k allocations: 118.441 MiB)\n"
     ]
    },
    {
     "name": "stderr",
     "output_type": "stream",
     "text": [
      "┌ Info: Found 187 dates points for year 1982 | month 04\n",
      "└ @ Main In[18]:10\n"
     ]
    },
    {
     "name": "stdout",
     "output_type": "stream",
     "text": [
      "  0.069725 seconds (5.19 k allocations: 118.441 MiB, 4.06% gc time)\n",
      "  0.064148 seconds (4.80 k allocations: 118.397 MiB)\n"
     ]
    },
    {
     "name": "stderr",
     "output_type": "stream",
     "text": [
      "┌ Info: Found 158 dates points for year 1982 | month 05\n",
      "└ @ Main In[18]:10\n"
     ]
    },
    {
     "name": "stdout",
     "output_type": "stream",
     "text": [
      "  0.062751 seconds (4.80 k allocations: 118.397 MiB)\n",
      "  0.066590 seconds (5.29 k allocations: 118.452 MiB, 4.28% gc time)\n"
     ]
    },
    {
     "name": "stderr",
     "output_type": "stream",
     "text": [
      "┌ Info: Found 195 dates points for year 1982 | month 06\n",
      "└ @ Main In[18]:10\n"
     ]
    },
    {
     "name": "stdout",
     "output_type": "stream",
     "text": [
      "  0.057466 seconds (5.28 k allocations: 118.452 MiB)\n",
      "  0.063928 seconds (4.86 k allocations: 118.403 MiB)\n"
     ]
    },
    {
     "name": "stderr",
     "output_type": "stream",
     "text": [
      "┌ Info: Found 163 dates points for year 1982 | month 07\n",
      "└ @ Main In[18]:10\n"
     ]
    },
    {
     "name": "stdout",
     "output_type": "stream",
     "text": [
      "  0.067604 seconds (4.87 k allocations: 118.404 MiB, 4.34% gc time)\n",
      "  0.066143 seconds (5.81 k allocations: 118.511 MiB, 4.81% gc time)\n"
     ]
    },
    {
     "name": "stderr",
     "output_type": "stream",
     "text": [
      "┌ Info: Found 235 dates points for year 1982 | month 08\n",
      "└ @ Main In[18]:10\n"
     ]
    },
    {
     "name": "stdout",
     "output_type": "stream",
     "text": [
      "  0.060224 seconds (5.80 k allocations: 118.511 MiB)\n",
      "  0.060745 seconds (5.46 k allocations: 118.473 MiB)\n"
     ]
    },
    {
     "name": "stderr",
     "output_type": "stream",
     "text": [
      "┌ Info: Found 209 dates points for year 1982 | month 09\n",
      "└ @ Main In[18]:10\n"
     ]
    },
    {
     "name": "stdout",
     "output_type": "stream",
     "text": [
      "  0.068496 seconds (5.47 k allocations: 118.473 MiB, 4.17% gc time)\n",
      "  0.067623 seconds (4.72 k allocations: 118.387 MiB, 4.22% gc time)\n"
     ]
    },
    {
     "name": "stderr",
     "output_type": "stream",
     "text": [
      "┌ Info: Found 151 dates points for year 1982 | month 10\n",
      "└ @ Main In[18]:10\n"
     ]
    },
    {
     "name": "stdout",
     "output_type": "stream",
     "text": [
      "  0.061912 seconds (4.71 k allocations: 118.386 MiB)\n",
      "  0.060786 seconds (5.71 k allocations: 118.503 MiB)\n"
     ]
    },
    {
     "name": "stderr",
     "output_type": "stream",
     "text": [
      "┌ Info: Found 228 dates points for year 1982 | month 11\n",
      "└ @ Main In[18]:10\n"
     ]
    },
    {
     "name": "stdout",
     "output_type": "stream",
     "text": [
      "  0.071266 seconds (5.72 k allocations: 118.503 MiB, 4.12% gc time)\n",
      "  0.060767 seconds (5.03 k allocations: 118.422 MiB)\n"
     ]
    },
    {
     "name": "stderr",
     "output_type": "stream",
     "text": [
      "┌ Info: Found 176 dates points for year 1982 | month 12\n",
      "└ @ Main In[18]:10\n"
     ]
    },
    {
     "name": "stdout",
     "output_type": "stream",
     "text": [
      "  0.060844 seconds (5.03 k allocations: 118.422 MiB)\n",
      "  0.065671 seconds (4.58 k allocations: 118.374 MiB)\n"
     ]
    },
    {
     "name": "stderr",
     "output_type": "stream",
     "text": [
      "┌ Info: Found 141 dates points for year 1983 | month 01\n",
      "└ @ Main In[18]:10\n"
     ]
    },
    {
     "name": "stdout",
     "output_type": "stream",
     "text": [
      "  0.066817 seconds (4.59 k allocations: 118.375 MiB, 5.01% gc time)\n",
      "  0.064030 seconds (5.04 k allocations: 118.427 MiB)\n"
     ]
    },
    {
     "name": "stderr",
     "output_type": "stream",
     "text": [
      "┌ Info: Found 177 dates points for year 1983 | month 02\n",
      "└ @ Main In[18]:10\n"
     ]
    },
    {
     "name": "stdout",
     "output_type": "stream",
     "text": [
      "  0.063417 seconds (5.04 k allocations: 118.427 MiB)\n",
      "  0.067396 seconds (6.27 k allocations: 118.611 MiB, 4.29% gc time)\n"
     ]
    },
    {
     "name": "stderr",
     "output_type": "stream",
     "text": [
      "┌ Info: Found 270 dates points for year 1983 | month 03\n",
      "└ @ Main In[18]:10\n"
     ]
    },
    {
     "name": "stdout",
     "output_type": "stream",
     "text": [
      "  0.060915 seconds (6.26 k allocations: 118.611 MiB)\n",
      "  0.059696 seconds (5.79 k allocations: 118.510 MiB)\n"
     ]
    },
    {
     "name": "stderr",
     "output_type": "stream",
     "text": [
      "┌ Info: Found 234 dates points for year 1983 | month 04\n",
      "└ @ Main In[18]:10\n"
     ]
    },
    {
     "name": "stdout",
     "output_type": "stream",
     "text": [
      "  0.060184 seconds (5.79 k allocations: 118.510 MiB)\n",
      "  0.065873 seconds (5.42 k allocations: 118.469 MiB, 4.35% gc time)\n"
     ]
    },
    {
     "name": "stderr",
     "output_type": "stream",
     "text": [
      "┌ Info: Found 205 dates points for year 1983 | month 05\n",
      "└ @ Main In[18]:10\n"
     ]
    },
    {
     "name": "stdout",
     "output_type": "stream",
     "text": [
      "  0.060809 seconds (5.41 k allocations: 118.469 MiB)\n",
      "  0.062311 seconds (5.24 k allocations: 118.448 MiB)\n"
     ]
    },
    {
     "name": "stderr",
     "output_type": "stream",
     "text": [
      "┌ Info: Found 192 dates points for year 1983 | month 06\n",
      "└ @ Main In[18]:10\n"
     ]
    },
    {
     "name": "stdout",
     "output_type": "stream",
     "text": [
      "  0.069223 seconds (5.25 k allocations: 118.448 MiB, 4.31% gc time)\n",
      "  0.069331 seconds (5.72 k allocations: 118.501 MiB, 4.21% gc time)\n"
     ]
    },
    {
     "name": "stderr",
     "output_type": "stream",
     "text": [
      "┌ Info: Found 228 dates points for year 1983 | month 07\n",
      "└ @ Main In[18]:10\n"
     ]
    },
    {
     "name": "stdout",
     "output_type": "stream",
     "text": [
      "  0.063853 seconds (5.71 k allocations: 118.501 MiB)\n",
      "  0.068364 seconds (5.75 k allocations: 118.505 MiB)\n"
     ]
    },
    {
     "name": "stderr",
     "output_type": "stream",
     "text": [
      "┌ Info: Found 231 dates points for year 1983 | month 08\n",
      "└ @ Main In[18]:10\n"
     ]
    },
    {
     "name": "stdout",
     "output_type": "stream",
     "text": [
      "  0.070410 seconds (5.76 k allocations: 118.506 MiB, 5.25% gc time)\n",
      "  0.065003 seconds (5.30 k allocations: 118.451 MiB, 4.33% gc time)\n"
     ]
    },
    {
     "name": "stderr",
     "output_type": "stream",
     "text": [
      "┌ Info: Found 196 dates points for year 1983 | month 09\n",
      "└ @ Main In[18]:10\n"
     ]
    },
    {
     "name": "stdout",
     "output_type": "stream",
     "text": [
      "  0.061904 seconds (5.29 k allocations: 118.451 MiB)\n",
      "  0.061219 seconds (5.49 k allocations: 118.476 MiB)\n"
     ]
    },
    {
     "name": "stderr",
     "output_type": "stream",
     "text": [
      "┌ Info: Found 211 dates points for year 1983 | month 10\n",
      "└ @ Main In[18]:10\n"
     ]
    },
    {
     "name": "stdout",
     "output_type": "stream",
     "text": [
      "  0.065364 seconds (5.50 k allocations: 118.476 MiB, 4.54% gc time)\n",
      "  0.063066 seconds (5.55 k allocations: 118.483 MiB)\n"
     ]
    },
    {
     "name": "stderr",
     "output_type": "stream",
     "text": [
      "┌ Info: Found 216 dates points for year 1983 | month 11\n",
      "└ @ Main In[18]:10\n"
     ]
    },
    {
     "name": "stdout",
     "output_type": "stream",
     "text": [
      "  0.062960 seconds (5.55 k allocations: 118.483 MiB)\n",
      "  0.058268 seconds (5.39 k allocations: 118.466 MiB)\n"
     ]
    },
    {
     "name": "stderr",
     "output_type": "stream",
     "text": [
      "┌ Info: Found 204 dates points for year 1983 | month 12\n",
      "└ @ Main In[18]:10\n"
     ]
    },
    {
     "name": "stdout",
     "output_type": "stream",
     "text": [
      "  0.065826 seconds (5.41 k allocations: 118.466 MiB, 4.57% gc time)\n",
      "  0.060924 seconds (4.50 k allocations: 118.365 MiB)\n"
     ]
    },
    {
     "name": "stderr",
     "output_type": "stream",
     "text": [
      "┌ Info: Found 135 dates points for year 1984 | month 01\n",
      "└ @ Main In[18]:10\n"
     ]
    },
    {
     "name": "stdout",
     "output_type": "stream",
     "text": [
      "  0.061031 seconds (4.50 k allocations: 118.365 MiB)\n",
      "  0.066224 seconds (5.09 k allocations: 118.433 MiB, 4.28% gc time)\n"
     ]
    },
    {
     "name": "stderr",
     "output_type": "stream",
     "text": [
      "┌ Info: Found 180 dates points for year 1984 | month 02\n",
      "└ @ Main In[18]:10\n"
     ]
    },
    {
     "name": "stdout",
     "output_type": "stream",
     "text": [
      "  0.068568 seconds (5.08 k allocations: 118.433 MiB)\n",
      "  0.064893 seconds (5.38 k allocations: 118.465 MiB)\n"
     ]
    },
    {
     "name": "stderr",
     "output_type": "stream",
     "text": [
      "┌ Info: Found 203 dates points for year 1984 | month 03\n",
      "└ @ Main In[18]:10\n"
     ]
    },
    {
     "name": "stdout",
     "output_type": "stream",
     "text": [
      "  0.069782 seconds (5.39 k allocations: 118.465 MiB, 4.34% gc time)\n",
      "  0.073395 seconds (4.65 k allocations: 118.381 MiB, 4.27% gc time)\n"
     ]
    },
    {
     "name": "stderr",
     "output_type": "stream",
     "text": [
      "┌ Info: Found 146 dates points for year 1984 | month 04\n",
      "└ @ Main In[18]:10\n"
     ]
    },
    {
     "name": "stdout",
     "output_type": "stream",
     "text": [
      "  0.058009 seconds (4.64 k allocations: 118.381 MiB)\n",
      "  0.058086 seconds (5.30 k allocations: 118.453 MiB)\n"
     ]
    },
    {
     "name": "stderr",
     "output_type": "stream",
     "text": [
      "┌ Info: Found 197 dates points for year 1984 | month 05\n",
      "└ @ Main In[18]:10\n"
     ]
    },
    {
     "name": "stdout",
     "output_type": "stream",
     "text": [
      "  0.065384 seconds (5.31 k allocations: 118.453 MiB, 4.37% gc time)\n",
      "  0.071827 seconds (5.58 k allocations: 118.486 MiB, 3.98% gc time)\n"
     ]
    },
    {
     "name": "stderr",
     "output_type": "stream",
     "text": [
      "┌ Info: Found 217 dates points for year 1984 | month 06\n",
      "└ @ Main In[18]:10\n"
     ]
    },
    {
     "name": "stdout",
     "output_type": "stream",
     "text": [
      "  0.066883 seconds (5.57 k allocations: 118.486 MiB)\n",
      "  0.062417 seconds (5.63 k allocations: 118.493 MiB)\n"
     ]
    },
    {
     "name": "stderr",
     "output_type": "stream",
     "text": [
      "┌ Info: Found 222 dates points for year 1984 | month 07\n",
      "└ @ Main In[18]:10\n"
     ]
    },
    {
     "name": "stdout",
     "output_type": "stream",
     "text": [
      "  0.066338 seconds (5.64 k allocations: 118.493 MiB, 4.55% gc time)\n",
      "  0.059413 seconds (4.81 k allocations: 118.400 MiB)\n"
     ]
    },
    {
     "name": "stderr",
     "output_type": "stream",
     "text": [
      "┌ Info: Found 159 dates points for year 1984 | month 08\n",
      "└ @ Main In[18]:10\n"
     ]
    },
    {
     "name": "stdout",
     "output_type": "stream",
     "text": [
      "  0.061873 seconds (4.81 k allocations: 118.400 MiB)\n",
      "  0.060121 seconds (4.13 k allocations: 118.317 MiB)\n"
     ]
    },
    {
     "name": "stderr",
     "output_type": "stream",
     "text": [
      "┌ Info: Found 107 dates points for year 1984 | month 09\n",
      "└ @ Main In[18]:10\n"
     ]
    },
    {
     "name": "stdout",
     "output_type": "stream",
     "text": [
      "  0.067403 seconds (4.15 k allocations: 118.317 MiB, 4.27% gc time)\n",
      "  0.058615 seconds (5.42 k allocations: 118.470 MiB)\n"
     ]
    },
    {
     "name": "stderr",
     "output_type": "stream",
     "text": [
      "┌ Info: Found 206 dates points for year 1984 | month 10\n",
      "└ @ Main In[18]:10\n"
     ]
    },
    {
     "name": "stdout",
     "output_type": "stream",
     "text": [
      "  0.064847 seconds (5.42 k allocations: 118.470 MiB)\n",
      "  0.064018 seconds (5.75 k allocations: 118.505 MiB, 4.40% gc time)\n"
     ]
    },
    {
     "name": "stderr",
     "output_type": "stream",
     "text": [
      "┌ Info: Found 231 dates points for year 1984 | month 11\n",
      "└ @ Main In[18]:10\n"
     ]
    },
    {
     "name": "stdout",
     "output_type": "stream",
     "text": [
      "  0.059468 seconds (5.75 k allocations: 118.504 MiB)\n",
      "  0.061655 seconds (5.55 k allocations: 118.481 MiB)\n"
     ]
    },
    {
     "name": "stderr",
     "output_type": "stream",
     "text": [
      "┌ Info: Found 216 dates points for year 1984 | month 12\n",
      "└ @ Main In[18]:10\n"
     ]
    },
    {
     "name": "stdout",
     "output_type": "stream",
     "text": [
      "  0.065734 seconds (5.56 k allocations: 118.482 MiB, 4.49% gc time)\n",
      "  0.063170 seconds (5.82 k allocations: 118.510 MiB, 4.61% gc time)\n"
     ]
    },
    {
     "name": "stderr",
     "output_type": "stream",
     "text": [
      "┌ Info: Found 236 dates points for year 1985 | month 01\n",
      "└ @ Main In[18]:10\n"
     ]
    },
    {
     "name": "stdout",
     "output_type": "stream",
     "text": [
      "  0.060548 seconds (5.81 k allocations: 118.510 MiB)\n",
      "  0.063931 seconds (5.19 k allocations: 118.440 MiB)\n"
     ]
    },
    {
     "name": "stderr",
     "output_type": "stream",
     "text": [
      "┌ Info: Found 188 dates points for year 1985 | month 02\n",
      "└ @ Main In[18]:10\n"
     ]
    },
    {
     "name": "stdout",
     "output_type": "stream",
     "text": [
      "  0.065419 seconds (5.20 k allocations: 118.441 MiB, 4.59% gc time)\n",
      "  0.064399 seconds (5.63 k allocations: 118.491 MiB, 4.62% gc time)\n"
     ]
    },
    {
     "name": "stderr",
     "output_type": "stream",
     "text": [
      "┌ Info: Found 221 dates points for year 1985 | month 03\n",
      "└ @ Main In[18]:10\n"
     ]
    },
    {
     "name": "stdout",
     "output_type": "stream",
     "text": [
      "  0.059401 seconds (5.62 k allocations: 118.491 MiB)\n",
      "  0.062090 seconds (5.45 k allocations: 118.473 MiB)\n"
     ]
    },
    {
     "name": "stderr",
     "output_type": "stream",
     "text": [
      "┌ Info: Found 208 dates points for year 1985 | month 04\n",
      "└ @ Main In[18]:10\n"
     ]
    },
    {
     "name": "stdout",
     "output_type": "stream",
     "text": [
      "  0.062635 seconds (5.46 k allocations: 118.473 MiB, 4.81% gc time)\n",
      "  0.071394 seconds (5.82 k allocations: 118.512 MiB, 4.82% gc time)\n"
     ]
    },
    {
     "name": "stderr",
     "output_type": "stream",
     "text": [
      "┌ Info: Found 236 dates points for year 1985 | month 05\n",
      "└ @ Main In[18]:10\n"
     ]
    },
    {
     "name": "stdout",
     "output_type": "stream",
     "text": [
      "  0.062383 seconds (5.81 k allocations: 118.512 MiB)\n",
      "  0.061413 seconds (6.10 k allocations: 118.594 MiB)\n"
     ]
    },
    {
     "name": "stderr",
     "output_type": "stream",
     "text": [
      "┌ Info: Found 257 dates points for year 1985 | month 06\n",
      "└ @ Main In[18]:10\n"
     ]
    },
    {
     "name": "stdout",
     "output_type": "stream",
     "text": [
      "  0.064519 seconds (6.11 k allocations: 118.594 MiB, 4.61% gc time)\n",
      "  0.065917 seconds (5.41 k allocations: 118.467 MiB)\n"
     ]
    },
    {
     "name": "stderr",
     "output_type": "stream",
     "text": [
      "┌ Info: Found 205 dates points for year 1985 | month 07\n",
      "└ @ Main In[18]:10\n"
     ]
    },
    {
     "name": "stdout",
     "output_type": "stream",
     "text": [
      "  0.059934 seconds (5.41 k allocations: 118.467 MiB)\n",
      "  0.057694 seconds (5.46 k allocations: 118.471 MiB)\n"
     ]
    },
    {
     "name": "stderr",
     "output_type": "stream",
     "text": [
      "┌ Info: Found 209 dates points for year 1985 | month 08\n",
      "└ @ Main In[18]:10\n"
     ]
    },
    {
     "name": "stdout",
     "output_type": "stream",
     "text": [
      "  0.069169 seconds (5.47 k allocations: 118.471 MiB, 4.44% gc time)\n",
      "  0.061261 seconds (5.92 k allocations: 118.524 MiB)\n"
     ]
    },
    {
     "name": "stderr",
     "output_type": "stream",
     "text": [
      "┌ Info: Found 244 dates points for year 1985 | month 09\n",
      "└ @ Main In[18]:10\n"
     ]
    },
    {
     "name": "stdout",
     "output_type": "stream",
     "text": [
      "  0.061964 seconds (5.92 k allocations: 118.524 MiB)\n",
      "  0.064679 seconds (4.87 k allocations: 118.406 MiB, 4.51% gc time)\n"
     ]
    },
    {
     "name": "stderr",
     "output_type": "stream",
     "text": [
      "┌ Info: Found 163 dates points for year 1985 | month 10\n",
      "└ @ Main In[18]:10\n"
     ]
    },
    {
     "name": "stdout",
     "output_type": "stream",
     "text": [
      "  0.060845 seconds (4.86 k allocations: 118.406 MiB)\n",
      "  0.062889 seconds (5.19 k allocations: 118.440 MiB)\n"
     ]
    },
    {
     "name": "stderr",
     "output_type": "stream",
     "text": [
      "┌ Info: Found 188 dates points for year 1985 | month 11\n",
      "└ @ Main In[18]:10\n"
     ]
    },
    {
     "name": "stdout",
     "output_type": "stream",
     "text": [
      "  0.065502 seconds (5.20 k allocations: 118.440 MiB, 4.64% gc time)\n",
      "  0.065926 seconds (4.41 k allocations: 118.345 MiB, 5.24% gc time)\n"
     ]
    },
    {
     "name": "stderr",
     "output_type": "stream",
     "text": [
      "┌ Info: Found 127 dates points for year 1985 | month 12\n",
      "└ @ Main In[18]:10\n"
     ]
    },
    {
     "name": "stdout",
     "output_type": "stream",
     "text": [
      "  0.067186 seconds (4.39 k allocations: 118.345 MiB)\n",
      "  0.059977 seconds (4.37 k allocations: 118.342 MiB)\n"
     ]
    },
    {
     "name": "stderr",
     "output_type": "stream",
     "text": [
      "┌ Info: Found 125 dates points for year 1986 | month 01\n",
      "└ @ Main In[18]:10\n"
     ]
    },
    {
     "name": "stdout",
     "output_type": "stream",
     "text": [
      "  0.064641 seconds (4.38 k allocations: 118.342 MiB, 4.57% gc time)\n",
      "  0.067200 seconds (4.89 k allocations: 118.408 MiB, 4.38% gc time)\n"
     ]
    },
    {
     "name": "stderr",
     "output_type": "stream",
     "text": [
      "┌ Info: Found 164 dates points for year 1986 | month 02\n",
      "└ @ Main In[18]:10\n"
     ]
    },
    {
     "name": "stdout",
     "output_type": "stream",
     "text": [
      "  0.059214 seconds (4.88 k allocations: 118.408 MiB)\n",
      "  0.061659 seconds (5.49 k allocations: 118.475 MiB)\n"
     ]
    },
    {
     "name": "stderr",
     "output_type": "stream",
     "text": [
      "┌ Info: Found 211 dates points for year 1986 | month 03\n",
      "└ @ Main In[18]:10\n"
     ]
    },
    {
     "name": "stdout",
     "output_type": "stream",
     "text": [
      "  0.064647 seconds (5.50 k allocations: 118.476 MiB, 5.21% gc time)\n",
      "  0.069965 seconds (6.16 k allocations: 118.600 MiB, 4.51% gc time)\n"
     ]
    },
    {
     "name": "stderr",
     "output_type": "stream",
     "text": [
      "┌ Info: Found 261 dates points for year 1986 | month 04\n",
      "└ @ Main In[18]:10\n"
     ]
    },
    {
     "name": "stdout",
     "output_type": "stream",
     "text": [
      "  0.060764 seconds (6.15 k allocations: 118.600 MiB)\n",
      "  0.062625 seconds (6.04 k allocations: 118.536 MiB)\n"
     ]
    },
    {
     "name": "stderr",
     "output_type": "stream",
     "text": [
      "┌ Info: Found 253 dates points for year 1986 | month 05\n",
      "└ @ Main In[18]:10\n"
     ]
    },
    {
     "name": "stdout",
     "output_type": "stream",
     "text": [
      "  0.066153 seconds (6.05 k allocations: 118.537 MiB, 4.48% gc time)\n",
      "  0.060187 seconds (5.70 k allocations: 118.500 MiB)\n"
     ]
    },
    {
     "name": "stderr",
     "output_type": "stream",
     "text": [
      "┌ Info: Found 227 dates points for year 1986 | month 06\n",
      "└ @ Main In[18]:10\n"
     ]
    },
    {
     "name": "stdout",
     "output_type": "stream",
     "text": [
      "  0.064004 seconds (5.70 k allocations: 118.500 MiB)\n",
      "  0.065794 seconds (6.24 k allocations: 118.611 MiB, 4.55% gc time)\n"
     ]
    },
    {
     "name": "stderr",
     "output_type": "stream",
     "text": [
      "┌ Info: Found 267 dates points for year 1986 | month 07\n",
      "└ @ Main In[18]:10\n"
     ]
    },
    {
     "name": "stdout",
     "output_type": "stream",
     "text": [
      "  0.062321 seconds (6.23 k allocations: 118.611 MiB)\n",
      "  0.062907 seconds (5.25 k allocations: 118.448 MiB)\n"
     ]
    },
    {
     "name": "stderr",
     "output_type": "stream",
     "text": [
      "┌ Info: Found 193 dates points for year 1986 | month 08\n",
      "└ @ Main In[18]:10\n"
     ]
    },
    {
     "name": "stdout",
     "output_type": "stream",
     "text": [
      "  0.059724 seconds (5.25 k allocations: 118.448 MiB)\n",
      "  0.064665 seconds (5.48 k allocations: 118.475 MiB, 4.43% gc time)\n"
     ]
    },
    {
     "name": "stderr",
     "output_type": "stream",
     "text": [
      "┌ Info: Found 210 dates points for year 1986 | month 09\n",
      "└ @ Main In[18]:10\n"
     ]
    },
    {
     "name": "stdout",
     "output_type": "stream",
     "text": [
      "  0.063115 seconds (5.47 k allocations: 118.475 MiB)\n",
      "  0.064185 seconds (5.48 k allocations: 118.475 MiB)\n"
     ]
    },
    {
     "name": "stderr",
     "output_type": "stream",
     "text": [
      "┌ Info: Found 210 dates points for year 1986 | month 10\n",
      "└ @ Main In[18]:10\n"
     ]
    },
    {
     "name": "stdout",
     "output_type": "stream",
     "text": [
      "  0.064987 seconds (5.49 k allocations: 118.475 MiB, 4.36% gc time)\n",
      "  0.067898 seconds (5.49 k allocations: 118.474 MiB, 5.19% gc time)\n"
     ]
    },
    {
     "name": "stderr",
     "output_type": "stream",
     "text": [
      "┌ Info: Found 210 dates points for year 1986 | month 11\n",
      "└ @ Main In[18]:10\n"
     ]
    },
    {
     "name": "stdout",
     "output_type": "stream",
     "text": [
      "  0.065940 seconds (5.47 k allocations: 118.474 MiB)\n",
      "  0.064290 seconds (4.85 k allocations: 118.402 MiB)\n"
     ]
    },
    {
     "name": "stderr",
     "output_type": "stream",
     "text": [
      "┌ Info: Found 162 dates points for year 1986 | month 12\n",
      "└ @ Main In[18]:10\n"
     ]
    },
    {
     "name": "stdout",
     "output_type": "stream",
     "text": [
      "  0.064440 seconds (4.86 k allocations: 118.402 MiB, 5.39% gc time)\n",
      "  0.068120 seconds (4.58 k allocations: 118.370 MiB, 4.14% gc time)\n"
     ]
    },
    {
     "name": "stderr",
     "output_type": "stream",
     "text": [
      "┌ Info: Found 140 dates points for year 1987 | month 01\n",
      "└ @ Main In[18]:10\n"
     ]
    },
    {
     "name": "stdout",
     "output_type": "stream",
     "text": [
      "  0.070491 seconds (4.56 k allocations: 118.370 MiB)\n",
      "  0.060241 seconds (4.59 k allocations: 118.374 MiB)\n"
     ]
    },
    {
     "name": "stderr",
     "output_type": "stream",
     "text": [
      "┌ Info: Found 142 dates points for year 1987 | month 02\n",
      "└ @ Main In[18]:10\n"
     ]
    },
    {
     "name": "stdout",
     "output_type": "stream",
     "text": [
      "  0.073637 seconds (4.60 k allocations: 118.374 MiB, 4.11% gc time)\n",
      "  0.064246 seconds (5.04 k allocations: 118.426 MiB)\n"
     ]
    },
    {
     "name": "stderr",
     "output_type": "stream",
     "text": [
      "┌ Info: Found 177 dates points for year 1987 | month 03\n",
      "└ @ Main In[18]:10\n"
     ]
    },
    {
     "name": "stdout",
     "output_type": "stream",
     "text": [
      "  0.058897 seconds (5.05 k allocations: 118.426 MiB)\n",
      "  0.064783 seconds (5.14 k allocations: 118.437 MiB)\n"
     ]
    },
    {
     "name": "stderr",
     "output_type": "stream",
     "text": [
      "┌ Info: Found 184 dates points for year 1987 | month 04\n",
      "└ @ Main In[18]:10\n"
     ]
    },
    {
     "name": "stdout",
     "output_type": "stream",
     "text": [
      "  0.064160 seconds (5.15 k allocations: 118.437 MiB, 4.46% gc time)\n",
      "  0.065466 seconds (5.35 k allocations: 118.458 MiB)\n"
     ]
    },
    {
     "name": "stderr",
     "output_type": "stream",
     "text": [
      "┌ Info: Found 200 dates points for year 1987 | month 05\n",
      "└ @ Main In[18]:10\n"
     ]
    },
    {
     "name": "stdout",
     "output_type": "stream",
     "text": [
      "  0.059820 seconds (5.35 k allocations: 118.458 MiB)\n",
      "  0.066645 seconds (4.95 k allocations: 118.413 MiB, 4.28% gc time)\n"
     ]
    },
    {
     "name": "stderr",
     "output_type": "stream",
     "text": [
      "┌ Info: Found 169 dates points for year 1987 | month 06\n",
      "└ @ Main In[18]:10\n"
     ]
    },
    {
     "name": "stdout",
     "output_type": "stream",
     "text": [
      "  0.064454 seconds (4.94 k allocations: 118.413 MiB)\n",
      "  0.062708 seconds (4.66 k allocations: 118.380 MiB)\n"
     ]
    },
    {
     "name": "stderr",
     "output_type": "stream",
     "text": [
      "┌ Info: Found 147 dates points for year 1987 | month 07\n",
      "└ @ Main In[18]:10\n"
     ]
    },
    {
     "name": "stdout",
     "output_type": "stream",
     "text": [
      "  0.060406 seconds (4.66 k allocations: 118.380 MiB)\n",
      "  0.065292 seconds (5.22 k allocations: 118.442 MiB, 4.42% gc time)\n"
     ]
    },
    {
     "name": "stderr",
     "output_type": "stream",
     "text": [
      "┌ Info: Found 190 dates points for year 1987 | month 08\n",
      "└ @ Main In[18]:10\n"
     ]
    },
    {
     "name": "stdout",
     "output_type": "stream",
     "text": [
      "  0.058927 seconds (5.21 k allocations: 118.442 MiB)\n",
      "  0.061939 seconds (5.19 k allocations: 118.440 MiB)\n"
     ]
    },
    {
     "name": "stderr",
     "output_type": "stream",
     "text": [
      "┌ Info: Found 188 dates points for year 1987 | month 09\n",
      "└ @ Main In[18]:10\n"
     ]
    },
    {
     "name": "stdout",
     "output_type": "stream",
     "text": [
      "  0.063118 seconds (5.20 k allocations: 118.440 MiB, 4.99% gc time)\n",
      "  0.068254 seconds (5.02 k allocations: 118.421 MiB, 4.33% gc time)\n"
     ]
    },
    {
     "name": "stderr",
     "output_type": "stream",
     "text": [
      "┌ Info: Found 174 dates points for year 1987 | month 10\n",
      "└ @ Main In[18]:10\n"
     ]
    },
    {
     "name": "stdout",
     "output_type": "stream",
     "text": [
      "  0.069801 seconds (5.01 k allocations: 118.421 MiB)\n",
      "  0.060680 seconds (5.15 k allocations: 118.438 MiB)\n"
     ]
    },
    {
     "name": "stderr",
     "output_type": "stream",
     "text": [
      "┌ Info: Found 185 dates points for year 1987 | month 11\n",
      "└ @ Main In[18]:10\n"
     ]
    },
    {
     "name": "stdout",
     "output_type": "stream",
     "text": [
      "  0.065593 seconds (5.16 k allocations: 118.438 MiB, 4.57% gc time)\n",
      "  0.065370 seconds (4.79 k allocations: 118.395 MiB, 4.47% gc time)\n"
     ]
    },
    {
     "name": "stderr",
     "output_type": "stream",
     "text": [
      "┌ Info: Found 156 dates points for year 1987 | month 12\n",
      "└ @ Main In[18]:10\n"
     ]
    },
    {
     "name": "stdout",
     "output_type": "stream",
     "text": [
      "  0.060544 seconds (4.77 k allocations: 118.395 MiB)\n",
      "  0.066784 seconds (4.26 k allocations: 118.331 MiB)\n"
     ]
    },
    {
     "name": "stderr",
     "output_type": "stream",
     "text": [
      "┌ Info: Found 117 dates points for year 1988 | month 01\n",
      "└ @ Main In[18]:10\n"
     ]
    },
    {
     "name": "stdout",
     "output_type": "stream",
     "text": [
      "  0.062226 seconds (4.28 k allocations: 118.331 MiB, 4.59% gc time)\n",
      "  0.061156 seconds (5.07 k allocations: 118.428 MiB)\n"
     ]
    },
    {
     "name": "stderr",
     "output_type": "stream",
     "text": [
      "┌ Info: Found 179 dates points for year 1988 | month 02\n",
      "└ @ Main In[18]:10\n"
     ]
    },
    {
     "name": "stdout",
     "output_type": "stream",
     "text": [
      "  0.061835 seconds (5.07 k allocations: 118.428 MiB)\n",
      "  0.062333 seconds (4.71 k allocations: 118.389 MiB)\n"
     ]
    },
    {
     "name": "stderr",
     "output_type": "stream",
     "text": [
      "┌ Info: Found 151 dates points for year 1988 | month 03\n",
      "└ @ Main In[18]:10\n"
     ]
    },
    {
     "name": "stdout",
     "output_type": "stream",
     "text": [
      "  0.063194 seconds (4.72 k allocations: 118.389 MiB, 4.78% gc time)\n",
      "  0.065029 seconds (5.44 k allocations: 118.470 MiB)\n"
     ]
    },
    {
     "name": "stderr",
     "output_type": "stream",
     "text": [
      "┌ Info: Found 207 dates points for year 1988 | month 04\n",
      "└ @ Main In[18]:10\n"
     ]
    },
    {
     "name": "stdout",
     "output_type": "stream",
     "text": [
      "  0.078875 seconds (5.44 k allocations: 118.470 MiB)\n",
      "  0.071432 seconds (5.04 k allocations: 118.424 MiB)\n"
     ]
    },
    {
     "name": "stderr",
     "output_type": "stream",
     "text": [
      "┌ Info: Found 177 dates points for year 1988 | month 05\n",
      "└ @ Main In[18]:10\n"
     ]
    },
    {
     "name": "stdout",
     "output_type": "stream",
     "text": [
      "  0.086945 seconds (5.06 k allocations: 118.424 MiB, 4.29% gc time)\n"
     ]
    },
    {
     "name": "stderr",
     "output_type": "stream",
     "text": [
      "┌ Info: Found 201 dates points for year 1988 | month 06\n",
      "└ @ Main In[18]:10\n"
     ]
    },
    {
     "name": "stdout",
     "output_type": "stream",
     "text": [
      "  0.101011 seconds (5.36 k allocations: 118.461 MiB)\n",
      "  0.097136 seconds (5.36 k allocations: 118.461 MiB)\n",
      "  0.070316 seconds (5.63 k allocations: 118.488 MiB, 4.43% gc time)\n"
     ]
    },
    {
     "name": "stderr",
     "output_type": "stream",
     "text": [
      "┌ Info: Found 221 dates points for year 1988 | month 07\n",
      "└ @ Main In[18]:10\n"
     ]
    },
    {
     "name": "stdout",
     "output_type": "stream",
     "text": [
      "  0.058807 seconds (5.62 k allocations: 118.488 MiB)\n",
      "  0.067805 seconds (5.43 k allocations: 118.469 MiB)\n"
     ]
    },
    {
     "name": "stderr",
     "output_type": "stream",
     "text": [
      "┌ Info: Found 207 dates points for year 1988 | month 08\n",
      "└ @ Main In[18]:10\n"
     ]
    },
    {
     "name": "stdout",
     "output_type": "stream",
     "text": [
      "  0.064126 seconds (5.44 k allocations: 118.469 MiB, 4.46% gc time)\n",
      "  0.071418 seconds (4.63 k allocations: 118.378 MiB, 4.21% gc time)\n"
     ]
    },
    {
     "name": "stderr",
     "output_type": "stream",
     "text": [
      "┌ Info: Found 144 dates points for year 1988 | month 09\n",
      "└ @ Main In[18]:10\n"
     ]
    },
    {
     "name": "stdout",
     "output_type": "stream",
     "text": [
      "  0.067194 seconds (4.62 k allocations: 118.378 MiB)\n",
      "  0.082235 seconds (4.86 k allocations: 118.405 MiB)\n"
     ]
    },
    {
     "name": "stderr",
     "output_type": "stream",
     "text": [
      "┌ Info: Found 163 dates points for year 1988 | month 10\n",
      "└ @ Main In[18]:10\n"
     ]
    },
    {
     "name": "stdout",
     "output_type": "stream",
     "text": [
      "  0.088014 seconds (4.87 k allocations: 118.405 MiB, 4.21% gc time)\n",
      "  0.085990 seconds (5.44 k allocations: 118.467 MiB, 4.71% gc time)\n"
     ]
    },
    {
     "name": "stderr",
     "output_type": "stream",
     "text": [
      "┌ Info: Found 206 dates points for year 1988 | month 11\n",
      "└ @ Main In[18]:10\n"
     ]
    },
    {
     "name": "stdout",
     "output_type": "stream",
     "text": [
      "  0.069720 seconds (5.43 k allocations: 118.467 MiB)\n",
      "  0.064428 seconds (4.49 k allocations: 118.362 MiB)\n"
     ]
    },
    {
     "name": "stderr",
     "output_type": "stream",
     "text": [
      "┌ Info: Found 134 dates points for year 1988 | month 12\n",
      "└ @ Main In[18]:10\n"
     ]
    },
    {
     "name": "stdout",
     "output_type": "stream",
     "text": [
      "  0.064027 seconds (4.50 k allocations: 118.362 MiB, 4.84% gc time)\n",
      "  0.096530 seconds (4.96 k allocations: 118.416 MiB, 4.59% gc time)\n"
     ]
    },
    {
     "name": "stderr",
     "output_type": "stream",
     "text": [
      "┌ Info: Found 170 dates points for year 1989 | month 01\n",
      "└ @ Main In[18]:10\n"
     ]
    },
    {
     "name": "stdout",
     "output_type": "stream",
     "text": [
      "  0.074430 seconds (4.95 k allocations: 118.416 MiB)\n",
      "  0.066568 seconds (4.59 k allocations: 118.376 MiB)\n"
     ]
    },
    {
     "name": "stderr",
     "output_type": "stream",
     "text": [
      "┌ Info: Found 142 dates points for year 1989 | month 02\n",
      "└ @ Main In[18]:10\n"
     ]
    },
    {
     "name": "stdout",
     "output_type": "stream",
     "text": [
      "  0.080677 seconds (4.60 k allocations: 118.376 MiB, 4.30% gc time)\n"
     ]
    },
    {
     "name": "stderr",
     "output_type": "stream",
     "text": [
      "┌ Info: Found 150 dates points for year 1989 | month 03\n",
      "└ @ Main In[18]:10\n"
     ]
    },
    {
     "name": "stdout",
     "output_type": "stream",
     "text": [
      "  0.107509 seconds (4.70 k allocations: 118.387 MiB)\n",
      "  0.158429 seconds (4.70 k allocations: 118.387 MiB)\n"
     ]
    },
    {
     "name": "stderr",
     "output_type": "stream",
     "text": [
      "┌ Info: Found 160 dates points for year 1989 | month 04\n",
      "└ @ Main In[18]:10\n"
     ]
    },
    {
     "name": "stdout",
     "output_type": "stream",
     "text": [
      "  0.130460 seconds (4.83 k allocations: 118.400 MiB)\n",
      "  0.122916 seconds (4.84 k allocations: 118.400 MiB, 2.72% gc time)\n",
      "  0.075210 seconds (4.84 k allocations: 118.400 MiB)\n"
     ]
    },
    {
     "name": "stderr",
     "output_type": "stream",
     "text": [
      "┌ Info: Found 161 dates points for year 1989 | month 05\n",
      "└ @ Main In[18]:10\n"
     ]
    },
    {
     "name": "stdout",
     "output_type": "stream",
     "text": [
      "  0.079489 seconds (4.84 k allocations: 118.400 MiB)\n",
      "  0.069650 seconds (5.27 k allocations: 118.450 MiB, 5.03% gc time)\n"
     ]
    },
    {
     "name": "stderr",
     "output_type": "stream",
     "text": [
      "┌ Info: Found 194 dates points for year 1989 | month 06\n",
      "└ @ Main In[18]:10\n"
     ]
    },
    {
     "name": "stdout",
     "output_type": "stream",
     "text": [
      "  0.079566 seconds (5.26 k allocations: 118.450 MiB)\n",
      "  0.070990 seconds (4.47 k allocations: 118.362 MiB)\n"
     ]
    },
    {
     "name": "stderr",
     "output_type": "stream",
     "text": [
      "┌ Info: Found 133 dates points for year 1989 | month 07\n",
      "└ @ Main In[18]:10\n"
     ]
    },
    {
     "name": "stdout",
     "output_type": "stream",
     "text": [
      "  0.066769 seconds (4.47 k allocations: 118.362 MiB)\n",
      "  0.071881 seconds (4.65 k allocations: 118.381 MiB, 4.77% gc time)\n"
     ]
    },
    {
     "name": "stderr",
     "output_type": "stream",
     "text": [
      "┌ Info: Found 146 dates points for year 1989 | month 08\n",
      "└ @ Main In[18]:10\n"
     ]
    },
    {
     "name": "stdout",
     "output_type": "stream",
     "text": [
      "  0.071415 seconds (4.64 k allocations: 118.381 MiB)\n",
      "  0.067122 seconds (5.11 k allocations: 118.432 MiB)\n"
     ]
    },
    {
     "name": "stderr",
     "output_type": "stream",
     "text": [
      "┌ Info: Found 182 dates points for year 1989 | month 09\n",
      "└ @ Main In[18]:10\n"
     ]
    },
    {
     "name": "stdout",
     "output_type": "stream",
     "text": [
      "  0.073989 seconds (5.12 k allocations: 118.432 MiB, 3.97% gc time)\n",
      "  0.083562 seconds (5.46 k allocations: 118.469 MiB, 3.71% gc time)\n"
     ]
    },
    {
     "name": "stderr",
     "output_type": "stream",
     "text": [
      "┌ Info: Found 208 dates points for year 1989 | month 10\n",
      "└ @ Main In[18]:10\n"
     ]
    },
    {
     "name": "stdout",
     "output_type": "stream",
     "text": [
      "  0.066634 seconds (5.45 k allocations: 118.469 MiB)\n",
      "  0.076389 seconds (5.37 k allocations: 118.463 MiB)\n"
     ]
    },
    {
     "name": "stderr",
     "output_type": "stream",
     "text": [
      "┌ Info: Found 202 dates points for year 1989 | month 11\n",
      "└ @ Main In[18]:10\n"
     ]
    },
    {
     "name": "stdout",
     "output_type": "stream",
     "text": [
      "  0.075004 seconds (5.38 k allocations: 118.463 MiB, 4.17% gc time)\n",
      "  0.083982 seconds (4.72 k allocations: 118.391 MiB, 5.19% gc time)\n"
     ]
    },
    {
     "name": "stderr",
     "output_type": "stream",
     "text": [
      "┌ Info: Found 151 dates points for year 1989 | month 12\n",
      "└ @ Main In[18]:10\n"
     ]
    },
    {
     "name": "stdout",
     "output_type": "stream",
     "text": [
      "  0.073633 seconds (4.71 k allocations: 118.391 MiB)\n",
      "  0.073805 seconds (4.85 k allocations: 118.402 MiB)\n"
     ]
    },
    {
     "name": "stderr",
     "output_type": "stream",
     "text": [
      "┌ Info: Found 162 dates points for year 1990 | month 01\n",
      "└ @ Main In[18]:10\n"
     ]
    },
    {
     "name": "stdout",
     "output_type": "stream",
     "text": [
      "  0.083487 seconds (4.86 k allocations: 118.402 MiB, 5.17% gc time)\n"
     ]
    },
    {
     "name": "stderr",
     "output_type": "stream",
     "text": [
      "┌ Info: Found 184 dates points for year 1990 | month 02\n",
      "└ @ Main In[18]:10\n"
     ]
    },
    {
     "name": "stdout",
     "output_type": "stream",
     "text": [
      "  0.105101 seconds (5.14 k allocations: 118.436 MiB)\n",
      "  0.118704 seconds (5.14 k allocations: 118.436 MiB)\n",
      "  0.086895 seconds (4.45 k allocations: 118.359 MiB)\n"
     ]
    },
    {
     "name": "stderr",
     "output_type": "stream",
     "text": [
      "┌ Info: Found 131 dates points for year 1990 | month 03\n",
      "└ @ Main In[18]:10\n"
     ]
    },
    {
     "name": "stdout",
     "output_type": "stream",
     "text": [
      "  0.085065 seconds (4.46 k allocations: 118.359 MiB, 4.28% gc time)\n",
      "  0.083812 seconds (4.65 k allocations: 118.381 MiB)\n"
     ]
    },
    {
     "name": "stderr",
     "output_type": "stream",
     "text": [
      "┌ Info: Found 147 dates points for year 1990 | month 04\n",
      "└ @ Main In[18]:10\n"
     ]
    },
    {
     "name": "stdout",
     "output_type": "stream",
     "text": [
      "  0.081968 seconds (4.65 k allocations: 118.381 MiB)\n"
     ]
    },
    {
     "name": "stderr",
     "output_type": "stream",
     "text": [
      "┌ Info: Found 201 dates points for year 1990 | month 05\n",
      "└ @ Main In[18]:10\n"
     ]
    },
    {
     "name": "stdout",
     "output_type": "stream",
     "text": [
      "  0.104374 seconds (5.36 k allocations: 118.459 MiB)\n",
      "  0.108480 seconds (5.37 k allocations: 118.459 MiB, 6.20% gc time)\n"
     ]
    },
    {
     "name": "stderr",
     "output_type": "stream",
     "text": [
      "┌ Info: Found 164 dates points for year 1990 | month 06\n",
      "└ @ Main In[18]:10\n"
     ]
    },
    {
     "name": "stdout",
     "output_type": "stream",
     "text": [
      "  0.174301 seconds (4.88 k allocations: 118.407 MiB)\n",
      "  0.123519 seconds (4.88 k allocations: 118.407 MiB)\n"
     ]
    },
    {
     "name": "stderr",
     "output_type": "stream",
     "text": [
      "┌ Info: Found 121 dates points for year 1990 | month 07\n",
      "└ @ Main In[18]:10\n"
     ]
    },
    {
     "name": "stdout",
     "output_type": "stream",
     "text": [
      "  0.104697 seconds (4.33 k allocations: 118.338 MiB, 2.90% gc time)\n",
      "  0.092729 seconds (4.32 k allocations: 118.338 MiB)\n",
      "  0.077757 seconds (4.99 k allocations: 118.422 MiB)\n"
     ]
    },
    {
     "name": "stderr",
     "output_type": "stream",
     "text": [
      "┌ Info: Found 173 dates points for year 1990 | month 08\n",
      "└ @ Main In[18]:10\n"
     ]
    },
    {
     "name": "stdout",
     "output_type": "stream",
     "text": [
      "  0.113047 seconds (4.99 k allocations: 118.422 MiB)\n"
     ]
    },
    {
     "name": "stderr",
     "output_type": "stream",
     "text": [
      "┌ Info: Found 178 dates points for year 1990 | month 09\n",
      "└ @ Main In[18]:10\n"
     ]
    },
    {
     "name": "stdout",
     "output_type": "stream",
     "text": [
      "  0.107019 seconds (5.07 k allocations: 118.425 MiB, 4.63% gc time)\n",
      "  0.094488 seconds (5.06 k allocations: 118.425 MiB)\n",
      "  0.073579 seconds (4.78 k allocations: 118.397 MiB)\n"
     ]
    },
    {
     "name": "stderr",
     "output_type": "stream",
     "text": [
      "┌ Info: Found 157 dates points for year 1990 | month 10\n",
      "└ @ Main In[18]:10\n"
     ]
    },
    {
     "name": "stdout",
     "output_type": "stream",
     "text": [
      "  0.067491 seconds (4.79 k allocations: 118.397 MiB, 4.38% gc time)\n",
      "  0.083103 seconds (5.77 k allocations: 118.502 MiB, 4.65% gc time)\n"
     ]
    },
    {
     "name": "stderr",
     "output_type": "stream",
     "text": [
      "┌ Info: Found 232 dates points for year 1990 | month 11\n",
      "└ @ Main In[18]:10\n"
     ]
    },
    {
     "name": "stdout",
     "output_type": "stream",
     "text": [
      "  0.083015 seconds (5.76 k allocations: 118.501 MiB)\n"
     ]
    },
    {
     "name": "stderr",
     "output_type": "stream",
     "text": [
      "┌ Info: Found 139 dates points for year 1990 | month 12\n",
      "└ @ Main In[18]:10\n"
     ]
    },
    {
     "name": "stdout",
     "output_type": "stream",
     "text": [
      "  0.128828 seconds (4.55 k allocations: 118.367 MiB)\n",
      "  0.134674 seconds (4.56 k allocations: 118.367 MiB, 4.49% gc time)\n"
     ]
    },
    {
     "name": "stderr",
     "output_type": "stream",
     "text": [
      "┌ Info: Found 212 dates points for year 1991 | month 01\n",
      "└ @ Main In[18]:10\n"
     ]
    },
    {
     "name": "stdout",
     "output_type": "stream",
     "text": [
      "  0.100895 seconds (5.51 k allocations: 118.473 MiB, 4.91% gc time)\n",
      "  0.123386 seconds (5.50 k allocations: 118.472 MiB)\n",
      "  0.063268 seconds (5.02 k allocations: 118.423 MiB)\n"
     ]
    },
    {
     "name": "stderr",
     "output_type": "stream",
     "text": [
      "┌ Info: Found 175 dates points for year 1991 | month 02\n",
      "└ @ Main In[18]:10\n"
     ]
    },
    {
     "name": "stdout",
     "output_type": "stream",
     "text": [
      "  0.080599 seconds (5.03 k allocations: 118.423 MiB, 4.36% gc time)\n",
      "  0.067696 seconds (5.00 k allocations: 118.421 MiB, 5.41% gc time)\n"
     ]
    },
    {
     "name": "stderr",
     "output_type": "stream",
     "text": [
      "┌ Info: Found 173 dates points for year 1991 | month 03\n",
      "└ @ Main In[18]:10\n"
     ]
    },
    {
     "name": "stdout",
     "output_type": "stream",
     "text": [
      "  0.067865 seconds (4.99 k allocations: 118.421 MiB)\n",
      "  0.066509 seconds (5.41 k allocations: 118.466 MiB)\n"
     ]
    },
    {
     "name": "stderr",
     "output_type": "stream",
     "text": [
      "┌ Info: Found 205 dates points for year 1991 | month 04\n",
      "└ @ Main In[18]:10\n"
     ]
    },
    {
     "name": "stdout",
     "output_type": "stream",
     "text": [
      "  0.081014 seconds (5.42 k allocations: 118.466 MiB, 3.96% gc time)\n",
      "  0.067364 seconds (5.23 k allocations: 118.446 MiB)\n"
     ]
    },
    {
     "name": "stderr",
     "output_type": "stream",
     "text": [
      "┌ Info: Found 191 dates points for year 1991 | month 05\n",
      "└ @ Main In[18]:10\n"
     ]
    },
    {
     "name": "stdout",
     "output_type": "stream",
     "text": [
      "  0.065324 seconds (5.23 k allocations: 118.446 MiB)\n",
      "  0.072261 seconds (5.11 k allocations: 118.432 MiB)\n"
     ]
    },
    {
     "name": "stderr",
     "output_type": "stream",
     "text": [
      "┌ Info: Found 182 dates points for year 1991 | month 06\n",
      "└ @ Main In[18]:10\n"
     ]
    },
    {
     "name": "stdout",
     "output_type": "stream",
     "text": [
      "  0.082151 seconds (5.12 k allocations: 118.432 MiB, 4.16% gc time)\n",
      "  0.066769 seconds (5.45 k allocations: 118.471 MiB)\n"
     ]
    },
    {
     "name": "stderr",
     "output_type": "stream",
     "text": [
      "┌ Info: Found 208 dates points for year 1991 | month 07\n",
      "└ @ Main In[18]:10\n"
     ]
    },
    {
     "name": "stdout",
     "output_type": "stream",
     "text": [
      "  0.066628 seconds (5.45 k allocations: 118.471 MiB)\n"
     ]
    },
    {
     "name": "stderr",
     "output_type": "stream",
     "text": [
      "┌ Info: Found 178 dates points for year 1991 | month 08\n",
      "└ @ Main In[18]:10\n"
     ]
    },
    {
     "name": "stdout",
     "output_type": "stream",
     "text": [
      "  0.110346 seconds (5.07 k allocations: 118.425 MiB, 4.48% gc time)\n",
      "  0.105772 seconds (5.06 k allocations: 118.424 MiB)\n",
      "  0.067149 seconds (5.19 k allocations: 118.440 MiB)\n"
     ]
    },
    {
     "name": "stderr",
     "output_type": "stream",
     "text": [
      "┌ Info: Found 186 dates points for year 1991 | month 09\n",
      "└ @ Main In[18]:10\n"
     ]
    },
    {
     "name": "stdout",
     "output_type": "stream",
     "text": [
      "  0.069820 seconds (5.19 k allocations: 118.440 MiB)\n",
      "  0.082365 seconds (4.66 k allocations: 118.381 MiB, 4.19% gc time)\n"
     ]
    },
    {
     "name": "stderr",
     "output_type": "stream",
     "text": [
      "┌ Info: Found 147 dates points for year 1991 | month 10\n",
      "└ @ Main In[18]:10\n"
     ]
    },
    {
     "name": "stdout",
     "output_type": "stream",
     "text": [
      "  0.087072 seconds (4.65 k allocations: 118.381 MiB)\n",
      "  0.066048 seconds (4.86 k allocations: 118.406 MiB)\n"
     ]
    },
    {
     "name": "stderr",
     "output_type": "stream",
     "text": [
      "┌ Info: Found 163 dates points for year 1991 | month 11\n",
      "└ @ Main In[18]:10\n"
     ]
    },
    {
     "name": "stdout",
     "output_type": "stream",
     "text": [
      "  0.074765 seconds (4.87 k allocations: 118.406 MiB, 5.44% gc time)\n",
      "  0.070857 seconds (4.89 k allocations: 118.405 MiB, 6.33% gc time)\n"
     ]
    },
    {
     "name": "stderr",
     "output_type": "stream",
     "text": [
      "┌ Info: Found 164 dates points for year 1991 | month 12\n",
      "└ @ Main In[18]:10\n"
     ]
    },
    {
     "name": "stdout",
     "output_type": "stream",
     "text": [
      "  0.073476 seconds (4.88 k allocations: 118.405 MiB)\n",
      "  0.072944 seconds (4.71 k allocations: 118.389 MiB)\n"
     ]
    },
    {
     "name": "stderr",
     "output_type": "stream",
     "text": [
      "┌ Info: Found 151 dates points for year 1992 | month 01\n",
      "└ @ Main In[18]:10\n"
     ]
    },
    {
     "name": "stdout",
     "output_type": "stream",
     "text": [
      "  0.072358 seconds (4.71 k allocations: 118.389 MiB, 5.23% gc time)\n",
      "  0.082519 seconds (5.00 k allocations: 118.419 MiB, 3.99% gc time)\n"
     ]
    },
    {
     "name": "stderr",
     "output_type": "stream",
     "text": [
      "┌ Info: Found 172 dates points for year 1992 | month 02\n",
      "└ @ Main In[18]:10\n"
     ]
    },
    {
     "name": "stdout",
     "output_type": "stream",
     "text": [
      "  0.072816 seconds (4.98 k allocations: 118.419 MiB)\n",
      "  0.075041 seconds (4.82 k allocations: 118.400 MiB)\n"
     ]
    },
    {
     "name": "stderr",
     "output_type": "stream",
     "text": [
      "┌ Info: Found 160 dates points for year 1992 | month 03\n",
      "└ @ Main In[18]:10\n"
     ]
    },
    {
     "name": "stdout",
     "output_type": "stream",
     "text": [
      "  0.073952 seconds (4.83 k allocations: 118.400 MiB, 4.13% gc time)\n"
     ]
    },
    {
     "name": "stderr",
     "output_type": "stream",
     "text": [
      "┌ Info: Found 146 dates points for year 1992 | month 04\n",
      "└ @ Main In[18]:10\n"
     ]
    },
    {
     "name": "stdout",
     "output_type": "stream",
     "text": [
      "  0.137097 seconds (4.65 k allocations: 118.379 MiB, 5.04% gc time)\n",
      "  0.122494 seconds (4.64 k allocations: 118.379 MiB)\n",
      "  0.068243 seconds (5.52 k allocations: 118.478 MiB)\n"
     ]
    },
    {
     "name": "stderr",
     "output_type": "stream",
     "text": [
      "┌ Info: Found 213 dates points for year 1992 | month 05\n",
      "└ @ Main In[18]:10\n"
     ]
    },
    {
     "name": "stdout",
     "output_type": "stream",
     "text": [
      "  0.078746 seconds (5.53 k allocations: 118.478 MiB, 3.66% gc time)\n",
      "  0.073146 seconds (4.33 k allocations: 118.337 MiB)\n"
     ]
    },
    {
     "name": "stderr",
     "output_type": "stream",
     "text": [
      "┌ Info: Found 122 dates points for year 1992 | month 06\n",
      "└ @ Main In[18]:10\n"
     ]
    },
    {
     "name": "stdout",
     "output_type": "stream",
     "text": [
      "  0.072615 seconds (4.33 k allocations: 118.337 MiB)\n",
      "  0.068437 seconds (4.91 k allocations: 118.413 MiB)\n"
     ]
    },
    {
     "name": "stderr",
     "output_type": "stream",
     "text": [
      "┌ Info: Found 167 dates points for year 1992 | month 07\n",
      "└ @ Main In[18]:10\n"
     ]
    },
    {
     "name": "stdout",
     "output_type": "stream",
     "text": [
      "  0.083390 seconds (4.93 k allocations: 118.413 MiB, 4.59% gc time)\n",
      "  0.079770 seconds (4.77 k allocations: 118.395 MiB)\n"
     ]
    },
    {
     "name": "stderr",
     "output_type": "stream",
     "text": [
      "┌ Info: Found 156 dates points for year 1992 | month 08\n",
      "└ @ Main In[18]:10\n"
     ]
    },
    {
     "name": "stdout",
     "output_type": "stream",
     "text": [
      "  0.067405 seconds (4.77 k allocations: 118.395 MiB)\n"
     ]
    },
    {
     "name": "stderr",
     "output_type": "stream",
     "text": [
      "┌ Info: Found 183 dates points for year 1992 | month 09\n",
      "└ @ Main In[18]:10\n"
     ]
    },
    {
     "name": "stdout",
     "output_type": "stream",
     "text": [
      "  0.123279 seconds (5.13 k allocations: 118.436 MiB, 3.61% gc time)\n",
      "  0.133324 seconds (5.12 k allocations: 118.436 MiB)\n",
      "  0.089660 seconds (5.76 k allocations: 118.502 MiB)\n"
     ]
    },
    {
     "name": "stderr",
     "output_type": "stream",
     "text": [
      "┌ Info: Found 230 dates points for year 1992 | month 10\n",
      "└ @ Main In[18]:10\n"
     ]
    },
    {
     "name": "stdout",
     "output_type": "stream",
     "text": [
      "  0.071237 seconds (5.76 k allocations: 118.502 MiB)\n",
      "  0.090255 seconds (5.23 k allocations: 118.444 MiB, 4.33% gc time)\n"
     ]
    },
    {
     "name": "stderr",
     "output_type": "stream",
     "text": [
      "┌ Info: Found 190 dates points for year 1992 | month 11\n",
      "└ @ Main In[18]:10\n"
     ]
    },
    {
     "name": "stdout",
     "output_type": "stream",
     "text": [
      "  0.064643 seconds (5.22 k allocations: 118.444 MiB)\n",
      "  0.063358 seconds (5.34 k allocations: 118.457 MiB)\n"
     ]
    },
    {
     "name": "stderr",
     "output_type": "stream",
     "text": [
      "┌ Info: Found 197 dates points for year 1992 | month 12\n",
      "└ @ Main In[18]:10\n"
     ]
    },
    {
     "name": "stdout",
     "output_type": "stream",
     "text": [
      "  0.068170 seconds (5.34 k allocations: 118.457 MiB, 4.85% gc time)\n"
     ]
    },
    {
     "name": "stderr",
     "output_type": "stream",
     "text": [
      "┌ Info: Found 189 dates points for year 1993 | month 01\n",
      "└ @ Main In[18]:10\n"
     ]
    },
    {
     "name": "stdout",
     "output_type": "stream",
     "text": [
      "  0.111025 seconds (5.21 k allocations: 118.442 MiB, 3.38% gc time)\n",
      "  0.129520 seconds (5.20 k allocations: 118.441 MiB)\n"
     ]
    },
    {
     "name": "stderr",
     "output_type": "stream",
     "text": [
      "┌ Info: Found 211 dates points for year 1993 | month 02\n",
      "└ @ Main In[18]:10\n"
     ]
    },
    {
     "name": "stdout",
     "output_type": "stream",
     "text": [
      "  0.132735 seconds (5.49 k allocations: 118.474 MiB)\n",
      "  0.142534 seconds (5.50 k allocations: 118.474 MiB, 4.15% gc time)\n",
      "  0.069987 seconds (5.55 k allocations: 118.479 MiB, 5.32% gc time)\n"
     ]
    },
    {
     "name": "stderr",
     "output_type": "stream",
     "text": [
      "┌ Info: Found 215 dates points for year 1993 | month 03\n",
      "└ @ Main In[18]:10\n"
     ]
    },
    {
     "name": "stdout",
     "output_type": "stream",
     "text": [
      "  0.077145 seconds (5.54 k allocations: 118.479 MiB)\n",
      "  0.066367 seconds (5.66 k allocations: 118.495 MiB)\n"
     ]
    },
    {
     "name": "stderr",
     "output_type": "stream",
     "text": [
      "┌ Info: Found 224 dates points for year 1993 | month 04\n",
      "└ @ Main In[18]:10\n"
     ]
    },
    {
     "name": "stdout",
     "output_type": "stream",
     "text": [
      "  0.074873 seconds (5.67 k allocations: 118.495 MiB, 3.97% gc time)\n",
      "  0.074571 seconds (5.12 k allocations: 118.431 MiB, 4.89% gc time)\n"
     ]
    },
    {
     "name": "stderr",
     "output_type": "stream",
     "text": [
      "┌ Info: Found 182 dates points for year 1993 | month 05\n",
      "└ @ Main In[18]:10\n"
     ]
    },
    {
     "name": "stdout",
     "output_type": "stream",
     "text": [
      "  0.065308 seconds (5.11 k allocations: 118.431 MiB)\n",
      "  0.077127 seconds (5.54 k allocations: 118.478 MiB)\n"
     ]
    },
    {
     "name": "stderr",
     "output_type": "stream",
     "text": [
      "┌ Info: Found 215 dates points for year 1993 | month 06\n",
      "└ @ Main In[18]:10\n"
     ]
    },
    {
     "name": "stdout",
     "output_type": "stream",
     "text": [
      "  0.080457 seconds (5.55 k allocations: 118.478 MiB, 3.62% gc time)\n",
      "  0.076096 seconds (5.72 k allocations: 118.497 MiB)\n"
     ]
    },
    {
     "name": "stderr",
     "output_type": "stream",
     "text": [
      "┌ Info: Found 229 dates points for year 1993 | month 07\n",
      "└ @ Main In[18]:10\n"
     ]
    },
    {
     "name": "stdout",
     "output_type": "stream",
     "text": [
      "  0.062163 seconds (5.72 k allocations: 118.497 MiB)\n",
      "  0.070167 seconds (5.33 k allocations: 118.456 MiB)\n"
     ]
    },
    {
     "name": "stderr",
     "output_type": "stream",
     "text": [
      "┌ Info: Found 199 dates points for year 1993 | month 08\n",
      "└ @ Main In[18]:10\n"
     ]
    },
    {
     "name": "stdout",
     "output_type": "stream",
     "text": [
      "  0.073260 seconds (5.34 k allocations: 118.456 MiB, 4.11% gc time)\n",
      "  0.068341 seconds (5.15 k allocations: 118.435 MiB)\n"
     ]
    },
    {
     "name": "stderr",
     "output_type": "stream",
     "text": [
      "┌ Info: Found 185 dates points for year 1993 | month 09\n",
      "└ @ Main In[18]:10\n"
     ]
    },
    {
     "name": "stdout",
     "output_type": "stream",
     "text": [
      "  0.074695 seconds (5.15 k allocations: 118.435 MiB)\n",
      "  0.084517 seconds (5.68 k allocations: 118.495 MiB, 3.82% gc time)\n"
     ]
    },
    {
     "name": "stderr",
     "output_type": "stream",
     "text": [
      "┌ Info: Found 225 dates points for year 1993 | month 10\n",
      "└ @ Main In[18]:10\n"
     ]
    },
    {
     "name": "stdout",
     "output_type": "stream",
     "text": [
      "  0.078035 seconds (5.67 k allocations: 118.495 MiB)\n",
      "  0.071641 seconds (5.02 k allocations: 118.420 MiB)\n"
     ]
    },
    {
     "name": "stderr",
     "output_type": "stream",
     "text": [
      "┌ Info: Found 175 dates points for year 1993 | month 11\n",
      "└ @ Main In[18]:10\n"
     ]
    },
    {
     "name": "stdout",
     "output_type": "stream",
     "text": [
      "  0.060360 seconds (5.02 k allocations: 118.420 MiB)\n",
      "  0.081823 seconds (5.75 k allocations: 118.499 MiB, 4.23% gc time)\n"
     ]
    },
    {
     "name": "stderr",
     "output_type": "stream",
     "text": [
      "┌ Info: Found 230 dates points for year 1993 | month 12\n",
      "└ @ Main In[18]:10\n"
     ]
    },
    {
     "name": "stdout",
     "output_type": "stream",
     "text": [
      "  0.068835 seconds (5.74 k allocations: 118.499 MiB)\n",
      "  0.080963 seconds (5.22 k allocations: 118.441 MiB)\n"
     ]
    },
    {
     "name": "stderr",
     "output_type": "stream",
     "text": [
      "┌ Info: Found 190 dates points for year 1994 | month 01\n",
      "└ @ Main In[18]:10\n"
     ]
    },
    {
     "name": "stdout",
     "output_type": "stream",
     "text": [
      "  0.073502 seconds (5.22 k allocations: 118.441 MiB)\n",
      "  0.080938 seconds (5.60 k allocations: 118.482 MiB, 4.92% gc time)\n"
     ]
    },
    {
     "name": "stderr",
     "output_type": "stream",
     "text": [
      "┌ Info: Found 219 dates points for year 1994 | month 02\n",
      "└ @ Main In[18]:10\n"
     ]
    },
    {
     "name": "stdout",
     "output_type": "stream",
     "text": [
      "  0.070215 seconds (5.59 k allocations: 118.482 MiB)\n",
      "  0.069683 seconds (5.75 k allocations: 118.499 MiB)\n"
     ]
    },
    {
     "name": "stderr",
     "output_type": "stream",
     "text": [
      "┌ Info: Found 231 dates points for year 1994 | month 03\n",
      "└ @ Main In[18]:10\n"
     ]
    },
    {
     "name": "stdout",
     "output_type": "stream",
     "text": [
      "  0.068695 seconds (5.75 k allocations: 118.499 MiB, 4.26% gc time)\n",
      "  0.082738 seconds (5.99 k allocations: 118.529 MiB, 4.35% gc time)\n"
     ]
    },
    {
     "name": "stderr",
     "output_type": "stream",
     "text": [
      "┌ Info: Found 249 dates points for year 1994 | month 04\n",
      "└ @ Main In[18]:10\n"
     ]
    },
    {
     "name": "stdout",
     "output_type": "stream",
     "text": [
      "  0.071840 seconds (5.98 k allocations: 118.529 MiB)\n",
      "  0.073338 seconds (5.66 k allocations: 118.494 MiB)\n"
     ]
    },
    {
     "name": "stderr",
     "output_type": "stream",
     "text": [
      "┌ Info: Found 224 dates points for year 1994 | month 05\n",
      "└ @ Main In[18]:10\n"
     ]
    },
    {
     "name": "stdout",
     "output_type": "stream",
     "text": [
      "  0.076870 seconds (5.67 k allocations: 118.494 MiB, 4.02% gc time)\n",
      "  0.072971 seconds (5.25 k allocations: 118.446 MiB, 4.25% gc time)\n"
     ]
    },
    {
     "name": "stderr",
     "output_type": "stream",
     "text": [
      "┌ Info: Found 192 dates points for year 1994 | month 06\n",
      "└ @ Main In[18]:10\n"
     ]
    },
    {
     "name": "stdout",
     "output_type": "stream",
     "text": [
      "  0.073152 seconds (5.24 k allocations: 118.446 MiB)\n",
      "  0.071338 seconds (4.60 k allocations: 118.371 MiB)\n"
     ]
    },
    {
     "name": "stderr",
     "output_type": "stream",
     "text": [
      "┌ Info: Found 143 dates points for year 1994 | month 07\n",
      "└ @ Main In[18]:10\n"
     ]
    },
    {
     "name": "stdout",
     "output_type": "stream",
     "text": [
      "  0.073484 seconds (4.61 k allocations: 118.371 MiB, 5.48% gc time)\n"
     ]
    },
    {
     "name": "stderr",
     "output_type": "stream",
     "text": [
      "┌ Info: Found 247 dates points for year 1994 | month 08\n",
      "└ @ Main In[18]:10\n"
     ]
    },
    {
     "name": "stdout",
     "output_type": "stream",
     "text": [
      "  0.108105 seconds (5.97 k allocations: 118.520 MiB, 3.77% gc time)\n",
      "  0.126342 seconds (5.96 k allocations: 118.519 MiB)\n",
      "  0.067191 seconds (5.31 k allocations: 118.454 MiB)\n"
     ]
    },
    {
     "name": "stderr",
     "output_type": "stream",
     "text": [
      "┌ Info: Found 197 dates points for year 1994 | month 09\n",
      "└ @ Main In[18]:10\n"
     ]
    },
    {
     "name": "stdout",
     "output_type": "stream",
     "text": [
      "  0.070910 seconds (5.32 k allocations: 118.454 MiB, 4.11% gc time)\n",
      "  0.080931 seconds (5.21 k allocations: 118.442 MiB)\n"
     ]
    },
    {
     "name": "stderr",
     "output_type": "stream",
     "text": [
      "┌ Info: Found 190 dates points for year 1994 | month 10\n",
      "└ @ Main In[18]:10\n"
     ]
    },
    {
     "name": "stdout",
     "output_type": "stream",
     "text": [
      "  0.088145 seconds (5.21 k allocations: 118.442 MiB)\n"
     ]
    },
    {
     "name": "stderr",
     "output_type": "stream",
     "text": [
      "┌ Info: Found 210 dates points for year 1994 | month 11\n",
      "└ @ Main In[18]:10\n"
     ]
    },
    {
     "name": "stdout",
     "output_type": "stream",
     "text": [
      "  0.117274 seconds (5.47 k allocations: 118.471 MiB)\n",
      "  0.133087 seconds (5.49 k allocations: 118.471 MiB, 4.05% gc time)\n",
      "  0.064858 seconds (5.90 k allocations: 118.516 MiB)\n"
     ]
    },
    {
     "name": "stderr",
     "output_type": "stream",
     "text": [
      "┌ Info: Found 243 dates points for year 1994 | month 12\n",
      "└ @ Main In[18]:10\n"
     ]
    },
    {
     "name": "stdout",
     "output_type": "stream",
     "text": [
      "  0.066785 seconds (5.90 k allocations: 118.516 MiB)\n",
      "  0.064413 seconds (5.26 k allocations: 118.448 MiB)\n"
     ]
    },
    {
     "name": "stderr",
     "output_type": "stream",
     "text": [
      "┌ Info: Found 194 dates points for year 1995 | month 01\n",
      "└ @ Main In[18]:10\n"
     ]
    },
    {
     "name": "stdout",
     "output_type": "stream",
     "text": [
      "  0.067917 seconds (5.28 k allocations: 118.448 MiB, 4.30% gc time)\n",
      "  0.084272 seconds (5.25 k allocations: 118.448 MiB)\n"
     ]
    },
    {
     "name": "stderr",
     "output_type": "stream",
     "text": [
      "┌ Info: Found 193 dates points for year 1995 | month 02\n",
      "└ @ Main In[18]:10\n"
     ]
    },
    {
     "name": "stdout",
     "output_type": "stream",
     "text": [
      "  0.076089 seconds (5.25 k allocations: 118.448 MiB)\n",
      "  0.077587 seconds (5.21 k allocations: 118.440 MiB, 4.58% gc time)\n"
     ]
    },
    {
     "name": "stderr",
     "output_type": "stream",
     "text": [
      "┌ Info: Found 189 dates points for year 1995 | month 03\n",
      "└ @ Main In[18]:10\n"
     ]
    },
    {
     "name": "stdout",
     "output_type": "stream",
     "text": [
      "  0.071418 seconds (5.20 k allocations: 118.440 MiB)\n",
      "  0.074252 seconds (5.84 k allocations: 118.511 MiB)\n"
     ]
    },
    {
     "name": "stderr",
     "output_type": "stream",
     "text": [
      "┌ Info: Found 238 dates points for year 1995 | month 04\n",
      "└ @ Main In[18]:10\n"
     ]
    },
    {
     "name": "stdout",
     "output_type": "stream",
     "text": [
      "  0.071861 seconds (5.84 k allocations: 118.511 MiB)\n"
     ]
    },
    {
     "name": "stderr",
     "output_type": "stream",
     "text": [
      "┌ Info: Found 179 dates points for year 1995 | month 05\n",
      "└ @ Main In[18]:10\n"
     ]
    },
    {
     "name": "stdout",
     "output_type": "stream",
     "text": [
      "  0.107343 seconds (5.08 k allocations: 118.424 MiB, 4.00% gc time)\n",
      "  0.105984 seconds (5.07 k allocations: 118.424 MiB)\n",
      "  0.068103 seconds (5.58 k allocations: 118.480 MiB)\n"
     ]
    },
    {
     "name": "stderr",
     "output_type": "stream",
     "text": [
      "┌ Info: Found 218 dates points for year 1995 | month 06\n",
      "└ @ Main In[18]:10\n"
     ]
    },
    {
     "name": "stdout",
     "output_type": "stream",
     "text": [
      "  0.067058 seconds (5.58 k allocations: 118.481 MiB, 5.91% gc time)\n",
      "  0.073541 seconds (5.68 k allocations: 118.490 MiB, 4.30% gc time)\n"
     ]
    },
    {
     "name": "stderr",
     "output_type": "stream",
     "text": [
      "┌ Info: Found 225 dates points for year 1995 | month 07\n",
      "└ @ Main In[18]:10\n"
     ]
    },
    {
     "name": "stdout",
     "output_type": "stream",
     "text": [
      "  0.096583 seconds (5.67 k allocations: 118.490 MiB)\n"
     ]
    },
    {
     "name": "stderr",
     "output_type": "stream",
     "text": [
      "┌ Info: Found 193 dates points for year 1995 | month 08\n",
      "└ @ Main In[18]:10\n"
     ]
    },
    {
     "name": "stdout",
     "output_type": "stream",
     "text": [
      "  0.115001 seconds (5.25 k allocations: 118.446 MiB)\n",
      "  0.084821 seconds (5.26 k allocations: 118.446 MiB, 4.20% gc time)\n",
      "  0.071293 seconds (5.91 k allocations: 118.520 MiB, 5.23% gc time)\n"
     ]
    },
    {
     "name": "stderr",
     "output_type": "stream",
     "text": [
      "┌ Info: Found 243 dates points for year 1995 | month 09\n",
      "└ @ Main In[18]:10\n"
     ]
    },
    {
     "name": "stdout",
     "output_type": "stream",
     "text": [
      "  0.072847 seconds (5.90 k allocations: 118.519 MiB)\n",
      "  0.075479 seconds (5.06 k allocations: 118.423 MiB)\n"
     ]
    },
    {
     "name": "stderr",
     "output_type": "stream",
     "text": [
      "┌ Info: Found 178 dates points for year 1995 | month 10\n",
      "└ @ Main In[18]:10\n"
     ]
    },
    {
     "name": "stdout",
     "output_type": "stream",
     "text": [
      "  0.068984 seconds (5.07 k allocations: 118.423 MiB, 5.23% gc time)\n"
     ]
    },
    {
     "name": "stderr",
     "output_type": "stream",
     "text": [
      "┌ Info: Found 211 dates points for year 1995 | month 11\n",
      "└ @ Main In[18]:10\n"
     ]
    },
    {
     "name": "stdout",
     "output_type": "stream",
     "text": [
      "  0.110593 seconds (5.50 k allocations: 118.473 MiB, 3.12% gc time)\n",
      "  0.110492 seconds (5.49 k allocations: 118.473 MiB)\n",
      "  0.068506 seconds (5.01 k allocations: 118.420 MiB)\n"
     ]
    },
    {
     "name": "stderr",
     "output_type": "stream",
     "text": [
      "┌ Info: Found 174 dates points for year 1995 | month 12\n",
      "└ @ Main In[18]:10\n"
     ]
    },
    {
     "name": "stdout",
     "output_type": "stream",
     "text": [
      "  0.089329 seconds (5.02 k allocations: 118.420 MiB, 4.56% gc time)\n",
      "  0.081497 seconds (4.38 k allocations: 118.342 MiB, 3.69% gc time)\n"
     ]
    },
    {
     "name": "stderr",
     "output_type": "stream",
     "text": [
      "┌ Info: Found 125 dates points for year 1996 | month 01\n",
      "└ @ Main In[18]:10\n"
     ]
    },
    {
     "name": "stdout",
     "output_type": "stream",
     "text": [
      "  0.083605 seconds (4.37 k allocations: 118.342 MiB)\n",
      "  0.075460 seconds (4.62 k allocations: 118.376 MiB)\n"
     ]
    },
    {
     "name": "stderr",
     "output_type": "stream",
     "text": [
      "┌ Info: Found 144 dates points for year 1996 | month 02\n",
      "└ @ Main In[18]:10\n"
     ]
    },
    {
     "name": "stdout",
     "output_type": "stream",
     "text": [
      "  0.082449 seconds (4.63 k allocations: 118.376 MiB, 3.55% gc time)\n",
      "  0.070050 seconds (4.98 k allocations: 118.414 MiB)\n"
     ]
    },
    {
     "name": "stderr",
     "output_type": "stream",
     "text": [
      "┌ Info: Found 172 dates points for year 1996 | month 03\n",
      "└ @ Main In[18]:10\n"
     ]
    },
    {
     "name": "stdout",
     "output_type": "stream",
     "text": [
      "  0.071458 seconds (4.98 k allocations: 118.414 MiB)\n",
      "  0.069616 seconds (4.71 k allocations: 118.387 MiB)\n"
     ]
    },
    {
     "name": "stderr",
     "output_type": "stream",
     "text": [
      "┌ Info: Found 151 dates points for year 1996 | month 04\n",
      "└ @ Main In[18]:10\n"
     ]
    },
    {
     "name": "stdout",
     "output_type": "stream",
     "text": [
      "  0.075337 seconds (4.72 k allocations: 118.388 MiB, 4.15% gc time)\n",
      "  0.073779 seconds (6.38 k allocations: 118.622 MiB)\n"
     ]
    },
    {
     "name": "stderr",
     "output_type": "stream",
     "text": [
      "┌ Info: Found 279 dates points for year 1996 | month 05\n",
      "└ @ Main In[18]:10\n"
     ]
    },
    {
     "name": "stdout",
     "output_type": "stream",
     "text": [
      "  0.075191 seconds (6.38 k allocations: 118.622 MiB)\n",
      "  0.084373 seconds (3.95 k allocations: 118.296 MiB)\n"
     ]
    },
    {
     "name": "stderr",
     "output_type": "stream",
     "text": [
      "┌ Info: Found 93 dates points for year 1996 | month 06\n",
      "└ @ Main In[18]:10\n"
     ]
    },
    {
     "name": "stdout",
     "output_type": "stream",
     "text": [
      "  0.112792 seconds (3.96 k allocations: 118.296 MiB, 3.25% gc time)\n"
     ]
    },
    {
     "name": "stderr",
     "output_type": "stream",
     "text": [
      "┌ Info: Found 85 dates points for year 1996 | month 07\n",
      "└ @ Main In[18]:10\n"
     ]
    },
    {
     "name": "stdout",
     "output_type": "stream",
     "text": [
      "  0.107143 seconds (3.85 k allocations: 118.283 MiB)\n",
      "  0.081119 seconds (3.85 k allocations: 118.283 MiB)\n",
      "  0.070574 seconds (4.53 k allocations: 118.364 MiB, 5.86% gc time)\n"
     ]
    },
    {
     "name": "stderr",
     "output_type": "stream",
     "text": [
      "┌ Info: Found 137 dates points for year 1996 | month 08\n",
      "└ @ Main In[18]:10\n"
     ]
    },
    {
     "name": "stdout",
     "output_type": "stream",
     "text": [
      "  0.070436 seconds (4.52 k allocations: 118.364 MiB)\n",
      "  0.071178 seconds (4.70 k allocations: 118.388 MiB)\n"
     ]
    },
    {
     "name": "stderr",
     "output_type": "stream",
     "text": [
      "┌ Info: Found 150 dates points for year 1996 | month 09\n",
      "└ @ Main In[18]:10\n"
     ]
    },
    {
     "name": "stdout",
     "output_type": "stream",
     "text": [
      "  0.071239 seconds (4.70 k allocations: 118.388 MiB)\n",
      "  0.072815 seconds (5.23 k allocations: 118.444 MiB, 4.28% gc time)\n"
     ]
    },
    {
     "name": "stderr",
     "output_type": "stream",
     "text": [
      "┌ Info: Found 191 dates points for year 1996 | month 10\n",
      "└ @ Main In[18]:10\n"
     ]
    },
    {
     "name": "stdout",
     "output_type": "stream",
     "text": [
      "  0.066121 seconds (5.23 k allocations: 118.444 MiB)\n"
     ]
    },
    {
     "name": "stderr",
     "output_type": "stream",
     "text": [
      "┌ Info: Found 201 dates points for year 1996 | month 11\n",
      "└ @ Main In[18]:10\n"
     ]
    },
    {
     "name": "stdout",
     "output_type": "stream",
     "text": [
      "  0.102591 seconds (5.36 k allocations: 118.461 MiB)\n",
      "  0.112976 seconds (5.36 k allocations: 118.461 MiB)\n",
      "  0.098967 seconds (4.86 k allocations: 118.403 MiB, 3.92% gc time)\n"
     ]
    },
    {
     "name": "stderr",
     "output_type": "stream",
     "text": [
      "┌ Info: Found 162 dates points for year 1996 | month 12\n",
      "└ @ Main In[18]:10\n"
     ]
    },
    {
     "name": "stdout",
     "output_type": "stream",
     "text": [
      "  0.145260 seconds (4.85 k allocations: 118.403 MiB)\n"
     ]
    },
    {
     "name": "stderr",
     "output_type": "stream",
     "text": [
      "┌ Info: Found 199 dates points for year 1997 | month 01\n",
      "└ @ Main In[18]:10\n"
     ]
    },
    {
     "name": "stdout",
     "output_type": "stream",
     "text": [
      "  0.107579 seconds (5.33 k allocations: 118.461 MiB)\n",
      "  0.115716 seconds (5.34 k allocations: 118.461 MiB, 3.31% gc time)\n"
     ]
    },
    {
     "name": "stderr",
     "output_type": "stream",
     "text": [
      "┌ Info: Found 177 dates points for year 1997 | month 02\n",
      "└ @ Main In[18]:10\n"
     ]
    },
    {
     "name": "stdout",
     "output_type": "stream",
     "text": [
      "  0.118495 seconds (5.06 k allocations: 118.425 MiB, 4.10% gc time)\n",
      "  0.076499 seconds (5.05 k allocations: 118.425 MiB)\n",
      "  0.077571 seconds (5.36 k allocations: 118.463 MiB)\n"
     ]
    },
    {
     "name": "stderr",
     "output_type": "stream",
     "text": [
      "┌ Info: Found 201 dates points for year 1997 | month 03\n",
      "└ @ Main In[18]:10\n"
     ]
    },
    {
     "name": "stdout",
     "output_type": "stream",
     "text": [
      "  0.073229 seconds (5.36 k allocations: 118.463 MiB, 3.92% gc time)\n",
      "  0.073599 seconds (5.70 k allocations: 118.496 MiB, 4.61% gc time)\n"
     ]
    },
    {
     "name": "stderr",
     "output_type": "stream",
     "text": [
      "┌ Info: Found 225 dates points for year 1997 | month 04\n",
      "└ @ Main In[18]:10\n"
     ]
    },
    {
     "name": "stdout",
     "output_type": "stream",
     "text": [
      "  0.069490 seconds (5.69 k allocations: 118.496 MiB)\n",
      "  0.072837 seconds (5.77 k allocations: 118.507 MiB)\n"
     ]
    },
    {
     "name": "stderr",
     "output_type": "stream",
     "text": [
      "┌ Info: Found 233 dates points for year 1997 | month 05\n",
      "└ @ Main In[18]:10\n"
     ]
    },
    {
     "name": "stdout",
     "output_type": "stream",
     "text": [
      "  0.069428 seconds (5.79 k allocations: 118.507 MiB, 4.25% gc time)\n"
     ]
    },
    {
     "name": "stderr",
     "output_type": "stream",
     "text": [
      "┌ Info: Found 239 dates points for year 1997 | month 06\n",
      "└ @ Main In[18]:10\n"
     ]
    },
    {
     "name": "stdout",
     "output_type": "stream",
     "text": [
      "  0.109711 seconds (5.86 k allocations: 118.509 MiB, 3.52% gc time)\n",
      "  0.114176 seconds (5.85 k allocations: 118.509 MiB)\n",
      "  0.072904 seconds (5.39 k allocations: 118.464 MiB)\n"
     ]
    },
    {
     "name": "stderr",
     "output_type": "stream",
     "text": [
      "┌ Info: Found 203 dates points for year 1997 | month 07\n",
      "└ @ Main In[18]:10\n"
     ]
    },
    {
     "name": "stdout",
     "output_type": "stream",
     "text": [
      "  0.069556 seconds (5.40 k allocations: 118.464 MiB, 5.39% gc time)\n",
      "  0.070798 seconds (4.81 k allocations: 118.398 MiB, 4.82% gc time)\n"
     ]
    },
    {
     "name": "stderr",
     "output_type": "stream",
     "text": [
      "┌ Info: Found 158 dates points for year 1997 | month 08\n",
      "└ @ Main In[18]:10\n"
     ]
    },
    {
     "name": "stdout",
     "output_type": "stream",
     "text": [
      "  0.062313 seconds (4.80 k allocations: 118.398 MiB)\n",
      "  0.062686 seconds (5.29 k allocations: 118.451 MiB)\n"
     ]
    },
    {
     "name": "stderr",
     "output_type": "stream",
     "text": [
      "┌ Info: Found 196 dates points for year 1997 | month 09\n",
      "└ @ Main In[18]:10\n"
     ]
    },
    {
     "name": "stdout",
     "output_type": "stream",
     "text": [
      "  0.067836 seconds (5.30 k allocations: 118.451 MiB, 4.90% gc time)\n"
     ]
    },
    {
     "name": "stderr",
     "output_type": "stream",
     "text": [
      "┌ Info: Found 242 dates points for year 1997 | month 10\n",
      "└ @ Main In[18]:10\n"
     ]
    },
    {
     "name": "stdout",
     "output_type": "stream",
     "text": [
      "  0.105624 seconds (5.89 k allocations: 118.518 MiB)\n",
      "  0.098217 seconds (5.89 k allocations: 118.518 MiB)\n",
      "  0.073762 seconds (5.37 k allocations: 118.463 MiB)\n"
     ]
    },
    {
     "name": "stderr",
     "output_type": "stream",
     "text": [
      "┌ Info: Found 202 dates points for year 1997 | month 11\n",
      "└ @ Main In[18]:10\n"
     ]
    },
    {
     "name": "stdout",
     "output_type": "stream",
     "text": [
      "  0.069409 seconds (5.38 k allocations: 118.463 MiB, 4.20% gc time)\n",
      "  0.067077 seconds (5.84 k allocations: 118.514 MiB)\n"
     ]
    },
    {
     "name": "stderr",
     "output_type": "stream",
     "text": [
      "┌ Info: Found 238 dates points for year 1997 | month 12\n",
      "└ @ Main In[18]:10\n"
     ]
    },
    {
     "name": "stdout",
     "output_type": "stream",
     "text": [
      "  0.073406 seconds (5.84 k allocations: 118.514 MiB)\n",
      "  0.073894 seconds (4.89 k allocations: 118.410 MiB)\n"
     ]
    },
    {
     "name": "stderr",
     "output_type": "stream",
     "text": [
      "┌ Info: Found 165 dates points for year 1998 | month 01\n",
      "└ @ Main In[18]:10\n"
     ]
    },
    {
     "name": "stdout",
     "output_type": "stream",
     "text": [
      "  0.072556 seconds (4.90 k allocations: 118.410 MiB, 4.33% gc time)\n"
     ]
    },
    {
     "name": "stderr",
     "output_type": "stream",
     "text": [
      "┌ Info: Found 216 dates points for year 1998 | month 02\n",
      "└ @ Main In[18]:10\n"
     ]
    },
    {
     "name": "stdout",
     "output_type": "stream",
     "text": [
      "  0.112223 seconds (5.55 k allocations: 118.482 MiB)\n",
      "  0.100789 seconds (5.55 k allocations: 118.482 MiB)\n",
      "  0.067809 seconds (6.05 k allocations: 118.536 MiB, 4.28% gc time)\n"
     ]
    },
    {
     "name": "stderr",
     "output_type": "stream",
     "text": [
      "┌ Info: Found 254 dates points for year 1998 | month 03\n",
      "└ @ Main In[18]:10\n"
     ]
    },
    {
     "name": "stdout",
     "output_type": "stream",
     "text": [
      "  0.064608 seconds (6.05 k allocations: 118.536 MiB)\n",
      "  0.070740 seconds (5.47 k allocations: 118.472 MiB)\n"
     ]
    },
    {
     "name": "stderr",
     "output_type": "stream",
     "text": [
      "┌ Info: Found 210 dates points for year 1998 | month 04\n",
      "└ @ Main In[18]:10\n"
     ]
    },
    {
     "name": "stdout",
     "output_type": "stream",
     "text": [
      "  0.062287 seconds (5.47 k allocations: 118.472 MiB)\n",
      "  0.080244 seconds (5.22 k allocations: 118.443 MiB, 4.75% gc time)\n"
     ]
    },
    {
     "name": "stderr",
     "output_type": "stream",
     "text": [
      "┌ Info: Found 190 dates points for year 1998 | month 05\n",
      "└ @ Main In[18]:10\n"
     ]
    },
    {
     "name": "stdout",
     "output_type": "stream",
     "text": [
      "  0.070298 seconds (5.21 k allocations: 118.443 MiB)\n",
      "  0.093015 seconds (5.17 k allocations: 118.438 MiB)\n"
     ]
    },
    {
     "name": "stderr",
     "output_type": "stream",
     "text": [
      "┌ Info: Found 186 dates points for year 1998 | month 06\n",
      "└ @ Main In[18]:10\n"
     ]
    },
    {
     "name": "stdout",
     "output_type": "stream",
     "text": [
      "  0.075677 seconds (5.17 k allocations: 118.438 MiB)\n",
      "  0.078215 seconds (5.66 k allocations: 118.494 MiB, 5.06% gc time)\n"
     ]
    },
    {
     "name": "stderr",
     "output_type": "stream",
     "text": [
      "┌ Info: Found 224 dates points for year 1998 | month 07\n",
      "└ @ Main In[18]:10\n"
     ]
    },
    {
     "name": "stdout",
     "output_type": "stream",
     "text": [
      "  0.065677 seconds (5.66 k allocations: 118.494 MiB)\n",
      "  0.073078 seconds (5.07 k allocations: 118.429 MiB)\n"
     ]
    },
    {
     "name": "stderr",
     "output_type": "stream",
     "text": [
      "┌ Info: Found 179 dates points for year 1998 | month 08\n",
      "└ @ Main In[18]:10\n"
     ]
    },
    {
     "name": "stdout",
     "output_type": "stream",
     "text": [
      "  0.075284 seconds (5.08 k allocations: 118.429 MiB, 3.94% gc time)\n",
      "  0.078697 seconds (5.47 k allocations: 118.471 MiB, 4.24% gc time)\n"
     ]
    },
    {
     "name": "stderr",
     "output_type": "stream",
     "text": [
      "┌ Info: Found 209 dates points for year 1998 | month 09\n",
      "└ @ Main In[18]:10\n"
     ]
    },
    {
     "name": "stdout",
     "output_type": "stream",
     "text": [
      "  0.070007 seconds (5.46 k allocations: 118.471 MiB)\n",
      "  0.071165 seconds (5.17 k allocations: 118.438 MiB)\n"
     ]
    },
    {
     "name": "stderr",
     "output_type": "stream",
     "text": [
      "┌ Info: Found 187 dates points for year 1998 | month 10\n",
      "└ @ Main In[18]:10\n"
     ]
    },
    {
     "name": "stdout",
     "output_type": "stream",
     "text": [
      "  0.071765 seconds (5.18 k allocations: 118.438 MiB, 5.28% gc time)\n"
     ]
    },
    {
     "name": "stderr",
     "output_type": "stream",
     "text": [
      "┌ Info: Found 116 dates points for year 1998 | month 11\n",
      "└ @ Main In[18]:10\n"
     ]
    },
    {
     "name": "stdout",
     "output_type": "stream",
     "text": [
      "  0.108271 seconds (4.28 k allocations: 118.329 MiB, 3.88% gc time)\n",
      "  0.069567 seconds (4.27 k allocations: 118.329 MiB)\n",
      "  0.072620 seconds (4.86 k allocations: 118.406 MiB)\n"
     ]
    },
    {
     "name": "stderr",
     "output_type": "stream",
     "text": [
      "┌ Info: Found 163 dates points for year 1998 | month 12\n",
      "└ @ Main In[18]:10\n"
     ]
    },
    {
     "name": "stdout",
     "output_type": "stream",
     "text": [
      "  0.090684 seconds (4.87 k allocations: 118.406 MiB, 3.96% gc time)\n"
     ]
    },
    {
     "name": "stderr",
     "output_type": "stream",
     "text": [
      "┌ Info: Found 199 dates points for year 1999 | month 01\n",
      "└ @ Main In[18]:10\n"
     ]
    },
    {
     "name": "stdout",
     "output_type": "stream",
     "text": [
      "  0.129209 seconds (5.34 k allocations: 118.458 MiB, 4.49% gc time)\n",
      "  0.114451 seconds (5.33 k allocations: 118.458 MiB)\n",
      "  0.069196 seconds (5.51 k allocations: 118.478 MiB)\n"
     ]
    },
    {
     "name": "stderr",
     "output_type": "stream",
     "text": [
      "┌ Info: Found 213 dates points for year 1999 | month 02\n",
      "└ @ Main In[18]:10\n"
     ]
    },
    {
     "name": "stdout",
     "output_type": "stream",
     "text": [
      "  0.073991 seconds (5.52 k allocations: 118.478 MiB, 4.15% gc time)\n",
      "  0.073324 seconds (5.68 k allocations: 118.496 MiB, 4.15% gc time)\n"
     ]
    },
    {
     "name": "stderr",
     "output_type": "stream",
     "text": [
      "┌ Info: Found 224 dates points for year 1999 | month 03\n",
      "└ @ Main In[18]:10\n"
     ]
    },
    {
     "name": "stdout",
     "output_type": "stream",
     "text": [
      "  0.070895 seconds (5.67 k allocations: 118.495 MiB)\n",
      "  0.070023 seconds (5.08 k allocations: 118.432 MiB)\n"
     ]
    },
    {
     "name": "stderr",
     "output_type": "stream",
     "text": [
      "┌ Info: Found 180 dates points for year 1999 | month 04\n",
      "└ @ Main In[18]:10\n"
     ]
    },
    {
     "name": "stdout",
     "output_type": "stream",
     "text": [
      "  0.073143 seconds (5.09 k allocations: 118.432 MiB, 4.85% gc time)\n",
      "  0.091198 seconds (5.12 k allocations: 118.432 MiB, 3.58% gc time)\n"
     ]
    },
    {
     "name": "stderr",
     "output_type": "stream",
     "text": [
      "┌ Info: Found 182 dates points for year 1999 | month 05\n",
      "└ @ Main In[18]:10\n"
     ]
    },
    {
     "name": "stdout",
     "output_type": "stream",
     "text": [
      "  0.096672 seconds (5.11 k allocations: 118.432 MiB)\n"
     ]
    },
    {
     "name": "stderr",
     "output_type": "stream",
     "text": [
      "┌ Info: Found 191 dates points for year 1999 | month 06\n",
      "└ @ Main In[18]:10\n"
     ]
    },
    {
     "name": "stdout",
     "output_type": "stream",
     "text": [
      "  0.102372 seconds (5.23 k allocations: 118.445 MiB)\n",
      "  0.117916 seconds (5.24 k allocations: 118.445 MiB, 5.21% gc time)\n"
     ]
    },
    {
     "name": "stderr",
     "output_type": "stream",
     "text": [
      "┌ Info: Found 198 dates points for year 1999 | month 07\n",
      "└ @ Main In[18]:10\n"
     ]
    },
    {
     "name": "stdout",
     "output_type": "stream",
     "text": [
      "  0.111888 seconds (5.33 k allocations: 118.458 MiB, 3.25% gc time)\n",
      "  0.123635 seconds (5.32 k allocations: 118.458 MiB)\n",
      "  0.076020 seconds (5.55 k allocations: 118.481 MiB)\n"
     ]
    },
    {
     "name": "stderr",
     "output_type": "stream",
     "text": [
      "┌ Info: Found 216 dates points for year 1999 | month 08\n",
      "└ @ Main In[18]:10\n"
     ]
    },
    {
     "name": "stdout",
     "output_type": "stream",
     "text": [
      "  0.074064 seconds (5.57 k allocations: 118.481 MiB, 4.65% gc time)\n",
      "  0.073050 seconds (5.37 k allocations: 118.462 MiB)\n"
     ]
    },
    {
     "name": "stderr",
     "output_type": "stream",
     "text": [
      "┌ Info: Found 202 dates points for year 1999 | month 09\n",
      "└ @ Main In[18]:10\n"
     ]
    },
    {
     "name": "stdout",
     "output_type": "stream",
     "text": [
      "  0.080469 seconds (5.37 k allocations: 118.462 MiB)\n",
      "  0.069429 seconds (5.57 k allocations: 118.482 MiB)\n"
     ]
    },
    {
     "name": "stderr",
     "output_type": "stream",
     "text": [
      "┌ Info: Found 217 dates points for year 1999 | month 10\n",
      "└ @ Main In[18]:10\n"
     ]
    },
    {
     "name": "stdout",
     "output_type": "stream",
     "text": [
      "  0.077832 seconds (5.58 k allocations: 118.483 MiB, 4.22% gc time)\n",
      "  0.093336 seconds (5.40 k allocations: 118.464 MiB)\n"
     ]
    },
    {
     "name": "stderr",
     "output_type": "stream",
     "text": [
      "┌ Info: Found 204 dates points for year 1999 | month 11\n",
      "└ @ Main In[18]:10\n"
     ]
    },
    {
     "name": "stdout",
     "output_type": "stream",
     "text": [
      "  0.084850 seconds (5.40 k allocations: 118.464 MiB)\n",
      "  0.076199 seconds (5.33 k allocations: 118.457 MiB, 5.17% gc time)\n"
     ]
    },
    {
     "name": "stderr",
     "output_type": "stream",
     "text": [
      "┌ Info: Found 198 dates points for year 1999 | month 12\n",
      "└ @ Main In[18]:10\n"
     ]
    },
    {
     "name": "stdout",
     "output_type": "stream",
     "text": [
      "  0.076319 seconds (5.32 k allocations: 118.457 MiB)\n",
      "  0.064828 seconds (4.99 k allocations: 118.419 MiB)\n"
     ]
    },
    {
     "name": "stderr",
     "output_type": "stream",
     "text": [
      "┌ Info: Found 173 dates points for year 2000 | month 01\n",
      "└ @ Main In[18]:10\n"
     ]
    },
    {
     "name": "stdout",
     "output_type": "stream",
     "text": [
      "  0.061024 seconds (4.99 k allocations: 118.419 MiB)\n",
      "  0.075201 seconds (5.42 k allocations: 118.468 MiB, 3.91% gc time)\n"
     ]
    },
    {
     "name": "stderr",
     "output_type": "stream",
     "text": [
      "┌ Info: Found 205 dates points for year 2000 | month 02\n",
      "└ @ Main In[18]:10\n"
     ]
    },
    {
     "name": "stdout",
     "output_type": "stream",
     "text": [
      "  0.093231 seconds (5.41 k allocations: 118.468 MiB)\n"
     ]
    },
    {
     "name": "stderr",
     "output_type": "stream",
     "text": [
      "┌ Info: Found 138 dates points for year 2000 | month 03\n",
      "└ @ Main In[18]:10\n"
     ]
    },
    {
     "name": "stdout",
     "output_type": "stream",
     "text": [
      "  0.114297 seconds (4.54 k allocations: 118.370 MiB)\n",
      "  0.078166 seconds (4.54 k allocations: 118.370 MiB)\n",
      "  0.095820 seconds (5.14 k allocations: 118.439 MiB, 3.43% gc time)\n"
     ]
    },
    {
     "name": "stderr",
     "output_type": "stream",
     "text": [
      "┌ Info: Found 184 dates points for year 2000 | month 04\n",
      "└ @ Main In[18]:10\n"
     ]
    },
    {
     "name": "stdout",
     "output_type": "stream",
     "text": [
      "  0.093385 seconds (5.14 k allocations: 118.438 MiB)\n"
     ]
    },
    {
     "name": "stderr",
     "output_type": "stream",
     "text": [
      "┌ Info: Found 175 dates points for year 2000 | month 05\n",
      "└ @ Main In[18]:10\n"
     ]
    },
    {
     "name": "stdout",
     "output_type": "stream",
     "text": [
      "  0.107454 seconds (5.02 k allocations: 118.423 MiB)\n",
      "  0.072458 seconds (5.02 k allocations: 118.423 MiB)\n",
      "  0.076684 seconds (4.48 k allocations: 118.364 MiB, 5.29% gc time)\n"
     ]
    },
    {
     "name": "stderr",
     "output_type": "stream",
     "text": [
      "┌ Info: Found 133 dates points for year 2000 | month 06\n",
      "└ @ Main In[18]:10\n"
     ]
    },
    {
     "name": "stdout",
     "output_type": "stream",
     "text": [
      "  0.073483 seconds (4.47 k allocations: 118.363 MiB)\n",
      "  0.077694 seconds (5.03 k allocations: 118.423 MiB)\n"
     ]
    },
    {
     "name": "stderr",
     "output_type": "stream",
     "text": [
      "┌ Info: Found 176 dates points for year 2000 | month 07\n",
      "└ @ Main In[18]:10\n"
     ]
    },
    {
     "name": "stdout",
     "output_type": "stream",
     "text": [
      "  0.076841 seconds (5.04 k allocations: 118.424 MiB, 4.04% gc time)\n",
      "  0.079690 seconds (5.40 k allocations: 118.466 MiB, 3.91% gc time)\n"
     ]
    },
    {
     "name": "stderr",
     "output_type": "stream",
     "text": [
      "┌ Info: Found 203 dates points for year 2000 | month 08\n",
      "└ @ Main In[18]:10\n"
     ]
    },
    {
     "name": "stdout",
     "output_type": "stream",
     "text": [
      "  0.074271 seconds (5.39 k allocations: 118.466 MiB)\n",
      "  0.071944 seconds (5.72 k allocations: 118.504 MiB)\n"
     ]
    },
    {
     "name": "stderr",
     "output_type": "stream",
     "text": [
      "┌ Info: Found 229 dates points for year 2000 | month 09\n",
      "└ @ Main In[18]:10\n"
     ]
    },
    {
     "name": "stdout",
     "output_type": "stream",
     "text": [
      "  0.074179 seconds (5.73 k allocations: 118.504 MiB, 3.98% gc time)\n"
     ]
    },
    {
     "name": "stderr",
     "output_type": "stream",
     "text": [
      "┌ Info: Found 240 dates points for year 2000 | month 10\n",
      "└ @ Main In[18]:10\n"
     ]
    },
    {
     "name": "stdout",
     "output_type": "stream",
     "text": [
      "  0.113353 seconds (5.87 k allocations: 118.517 MiB, 3.93% gc time)\n",
      "  0.099699 seconds (5.86 k allocations: 118.517 MiB)\n",
      "  0.069008 seconds (5.75 k allocations: 118.504 MiB)\n"
     ]
    },
    {
     "name": "stderr",
     "output_type": "stream",
     "text": [
      "┌ Info: Found 231 dates points for year 2000 | month 11\n",
      "└ @ Main In[18]:10\n"
     ]
    },
    {
     "name": "stdout",
     "output_type": "stream",
     "text": [
      "  0.081778 seconds (5.76 k allocations: 118.505 MiB, 4.31% gc time)\n",
      "  0.078860 seconds (5.72 k allocations: 118.501 MiB, 4.96% gc time)\n"
     ]
    },
    {
     "name": "stderr",
     "output_type": "stream",
     "text": [
      "┌ Info: Found 228 dates points for year 2000 | month 12\n",
      "└ @ Main In[18]:10\n"
     ]
    },
    {
     "name": "stdout",
     "output_type": "stream",
     "text": [
      "  0.071536 seconds (5.71 k allocations: 118.501 MiB)\n",
      "  0.075206 seconds (5.28 k allocations: 118.451 MiB)\n"
     ]
    },
    {
     "name": "stderr",
     "output_type": "stream",
     "text": [
      "┌ Info: Found 195 dates points for year 2001 | month 01\n",
      "└ @ Main In[18]:10\n"
     ]
    },
    {
     "name": "stdout",
     "output_type": "stream",
     "text": [
      "  0.077754 seconds (5.29 k allocations: 118.451 MiB, 4.46% gc time)\n",
      "  0.082194 seconds (4.77 k allocations: 118.393 MiB, 3.86% gc time)\n"
     ]
    },
    {
     "name": "stderr",
     "output_type": "stream",
     "text": [
      "┌ Info: Found 155 dates points for year 2001 | month 02\n",
      "└ @ Main In[18]:10\n"
     ]
    },
    {
     "name": "stdout",
     "output_type": "stream",
     "text": [
      "  0.074042 seconds (4.76 k allocations: 118.393 MiB)\n",
      "  0.072750 seconds (5.51 k allocations: 118.476 MiB)\n"
     ]
    },
    {
     "name": "stderr",
     "output_type": "stream",
     "text": [
      "┌ Info: Found 212 dates points for year 2001 | month 03\n",
      "└ @ Main In[18]:10\n"
     ]
    },
    {
     "name": "stdout",
     "output_type": "stream",
     "text": [
      "  0.070315 seconds (5.51 k allocations: 118.476 MiB, 4.23% gc time)\n",
      "  0.081147 seconds (6.16 k allocations: 118.596 MiB, 4.77% gc time)\n"
     ]
    },
    {
     "name": "stderr",
     "output_type": "stream",
     "text": [
      "┌ Info: Found 261 dates points for year 2001 | month 04\n",
      "└ @ Main In[18]:10\n"
     ]
    },
    {
     "name": "stdout",
     "output_type": "stream",
     "text": [
      "  0.078082 seconds (6.14 k allocations: 118.596 MiB)\n"
     ]
    },
    {
     "name": "stderr",
     "output_type": "stream",
     "text": [
      "┌ Info: Found 203 dates points for year 2001 | month 05\n",
      "└ @ Main In[18]:10\n"
     ]
    },
    {
     "name": "stdout",
     "output_type": "stream",
     "text": [
      "  0.115215 seconds (5.38 k allocations: 118.464 MiB)\n",
      "  0.125270 seconds (5.39 k allocations: 118.465 MiB, 4.55% gc time)\n",
      "  0.071163 seconds (5.54 k allocations: 118.481 MiB, 4.20% gc time)\n"
     ]
    },
    {
     "name": "stderr",
     "output_type": "stream",
     "text": [
      "┌ Info: Found 214 dates points for year 2001 | month 06\n",
      "└ @ Main In[18]:10\n"
     ]
    },
    {
     "name": "stdout",
     "output_type": "stream",
     "text": [
      "  0.072547 seconds (5.53 k allocations: 118.481 MiB)\n"
     ]
    },
    {
     "name": "stderr",
     "output_type": "stream",
     "text": [
      "┌ Info: Found 212 dates points for year 2001 | month 07\n",
      "└ @ Main In[18]:10\n"
     ]
    },
    {
     "name": "stdout",
     "output_type": "stream",
     "text": [
      "  0.117312 seconds (5.50 k allocations: 118.477 MiB)\n",
      "  0.085007 seconds (5.51 k allocations: 118.477 MiB, 4.23% gc time)\n"
     ]
    },
    {
     "name": "stderr",
     "output_type": "stream",
     "text": [
      "┌ Info: Found 211 dates points for year 2001 | month 08\n",
      "└ @ Main In[18]:10\n"
     ]
    },
    {
     "name": "stdout",
     "output_type": "stream",
     "text": [
      "  0.122876 seconds (5.50 k allocations: 118.476 MiB, 3.32% gc time)\n",
      "  0.137043 seconds (5.49 k allocations: 118.476 MiB)\n",
      "  0.069958 seconds (6.01 k allocations: 118.534 MiB)\n"
     ]
    },
    {
     "name": "stderr",
     "output_type": "stream",
     "text": [
      "┌ Info: Found 251 dates points for year 2001 | month 09\n",
      "└ @ Main In[18]:10\n"
     ]
    },
    {
     "name": "stdout",
     "output_type": "stream",
     "text": [
      "  0.077928 seconds (6.02 k allocations: 118.534 MiB, 4.04% gc time)\n",
      "  0.075083 seconds (5.43 k allocations: 118.470 MiB)\n"
     ]
    },
    {
     "name": "stderr",
     "output_type": "stream",
     "text": [
      "┌ Info: Found 207 dates points for year 2001 | month 10\n",
      "└ @ Main In[18]:10\n"
     ]
    },
    {
     "name": "stdout",
     "output_type": "stream",
     "text": [
      "  0.064392 seconds (5.43 k allocations: 118.470 MiB)\n",
      "  0.076237 seconds (5.16 k allocations: 118.440 MiB)\n"
     ]
    },
    {
     "name": "stderr",
     "output_type": "stream",
     "text": [
      "┌ Info: Found 186 dates points for year 2001 | month 11\n",
      "└ @ Main In[18]:10\n"
     ]
    },
    {
     "name": "stdout",
     "output_type": "stream",
     "text": [
      "  0.080102 seconds (5.17 k allocations: 118.440 MiB, 4.55% gc time)\n",
      "  0.076221 seconds (5.72 k allocations: 118.503 MiB)\n"
     ]
    },
    {
     "name": "stderr",
     "output_type": "stream",
     "text": [
      "┌ Info: Found 229 dates points for year 2001 | month 12\n",
      "└ @ Main In[18]:10\n"
     ]
    },
    {
     "name": "stdout",
     "output_type": "stream",
     "text": [
      "  0.065061 seconds (5.72 k allocations: 118.503 MiB)\n"
     ]
    },
    {
     "name": "stderr",
     "output_type": "stream",
     "text": [
      "┌ Info: Found 201 dates points for year 2002 | month 01\n",
      "└ @ Main In[18]:10\n"
     ]
    },
    {
     "name": "stdout",
     "output_type": "stream",
     "text": [
      "  0.125735 seconds (5.36 k allocations: 118.462 MiB)\n",
      "  0.140845 seconds (5.37 k allocations: 118.462 MiB, 4.92% gc time)\n",
      "  0.082735 seconds (5.88 k allocations: 118.516 MiB)\n"
     ]
    },
    {
     "name": "stderr",
     "output_type": "stream",
     "text": [
      "┌ Info: Found 241 dates points for year 2002 | month 02\n",
      "└ @ Main In[18]:10\n"
     ]
    },
    {
     "name": "stdout",
     "output_type": "stream",
     "text": [
      "  0.084407 seconds (5.88 k allocations: 118.516 MiB)\n",
      "  0.075551 seconds (5.84 k allocations: 118.513 MiB)\n"
     ]
    },
    {
     "name": "stderr",
     "output_type": "stream",
     "text": [
      "┌ Info: Found 238 dates points for year 2002 | month 03\n",
      "└ @ Main In[18]:10\n"
     ]
    },
    {
     "name": "stdout",
     "output_type": "stream",
     "text": [
      "  0.079375 seconds (5.85 k allocations: 118.513 MiB, 5.15% gc time)\n",
      "  0.070284 seconds (5.42 k allocations: 118.468 MiB)\n"
     ]
    },
    {
     "name": "stderr",
     "output_type": "stream",
     "text": [
      "┌ Info: Found 206 dates points for year 2002 | month 04\n",
      "└ @ Main In[18]:10\n"
     ]
    },
    {
     "name": "stdout",
     "output_type": "stream",
     "text": [
      "  0.064148 seconds (5.42 k allocations: 118.468 MiB)\n",
      "  0.071974 seconds (5.44 k allocations: 118.468 MiB, 5.21% gc time)\n"
     ]
    },
    {
     "name": "stderr",
     "output_type": "stream",
     "text": [
      "┌ Info: Found 207 dates points for year 2002 | month 05\n",
      "└ @ Main In[18]:10\n"
     ]
    },
    {
     "name": "stdout",
     "output_type": "stream",
     "text": [
      "  0.082958 seconds (5.43 k allocations: 118.467 MiB)\n"
     ]
    },
    {
     "name": "stderr",
     "output_type": "stream",
     "text": [
      "┌ Info: Found 176 dates points for year 2002 | month 06\n",
      "└ @ Main In[18]:10\n"
     ]
    },
    {
     "name": "stdout",
     "output_type": "stream",
     "text": [
      "  0.101596 seconds (5.03 k allocations: 118.423 MiB)\n",
      "  0.094174 seconds (5.03 k allocations: 118.423 MiB)\n",
      "  0.072567 seconds (5.64 k allocations: 118.494 MiB, 4.91% gc time)\n"
     ]
    },
    {
     "name": "stderr",
     "output_type": "stream",
     "text": [
      "┌ Info: Found 222 dates points for year 2002 | month 07\n",
      "└ @ Main In[18]:10\n"
     ]
    },
    {
     "name": "stdout",
     "output_type": "stream",
     "text": [
      "  0.068959 seconds (5.63 k allocations: 118.494 MiB)\n",
      "  0.087366 seconds (5.32 k allocations: 118.458 MiB)\n"
     ]
    },
    {
     "name": "stderr",
     "output_type": "stream",
     "text": [
      "┌ Info: Found 198 dates points for year 2002 | month 08\n",
      "└ @ Main In[18]:10\n"
     ]
    },
    {
     "name": "stdout",
     "output_type": "stream",
     "text": [
      "  0.069109 seconds (5.32 k allocations: 118.458 MiB)\n",
      "  0.074299 seconds (5.94 k allocations: 118.523 MiB, 4.20% gc time)\n"
     ]
    },
    {
     "name": "stderr",
     "output_type": "stream",
     "text": [
      "┌ Info: Found 245 dates points for year 2002 | month 09\n",
      "└ @ Main In[18]:10\n"
     ]
    },
    {
     "name": "stdout",
     "output_type": "stream",
     "text": [
      "  0.070127 seconds (5.93 k allocations: 118.523 MiB)\n",
      "  0.072898 seconds (5.72 k allocations: 118.502 MiB)\n"
     ]
    },
    {
     "name": "stderr",
     "output_type": "stream",
     "text": [
      "┌ Info: Found 229 dates points for year 2002 | month 10\n",
      "└ @ Main In[18]:10\n"
     ]
    },
    {
     "name": "stdout",
     "output_type": "stream",
     "text": [
      "  0.062821 seconds (5.72 k allocations: 118.502 MiB)\n",
      "  0.071284 seconds (6.28 k allocations: 118.614 MiB, 4.23% gc time)\n"
     ]
    },
    {
     "name": "stderr",
     "output_type": "stream",
     "text": [
      "┌ Info: Found 271 dates points for year 2002 | month 11\n",
      "└ @ Main In[18]:10\n"
     ]
    },
    {
     "name": "stdout",
     "output_type": "stream",
     "text": [
      "  0.088999 seconds (6.28 k allocations: 118.614 MiB)\n",
      "  0.069601 seconds (5.94 k allocations: 118.524 MiB)\n"
     ]
    },
    {
     "name": "stderr",
     "output_type": "stream",
     "text": [
      "┌ Info: Found 246 dates points for year 2002 | month 12\n",
      "└ @ Main In[18]:10\n"
     ]
    },
    {
     "name": "stdout",
     "output_type": "stream",
     "text": [
      "  0.072511 seconds (5.95 k allocations: 118.524 MiB, 4.11% gc time)\n",
      "  0.070149 seconds (4.63 k allocations: 118.378 MiB, 4.35% gc time)\n"
     ]
    },
    {
     "name": "stderr",
     "output_type": "stream",
     "text": [
      "┌ Info: Found 144 dates points for year 2003 | month 01\n",
      "└ @ Main In[18]:10\n"
     ]
    },
    {
     "name": "stdout",
     "output_type": "stream",
     "text": [
      "  0.074259 seconds (4.62 k allocations: 118.378 MiB)\n",
      "  0.063914 seconds (5.66 k allocations: 118.493 MiB)\n"
     ]
    },
    {
     "name": "stderr",
     "output_type": "stream",
     "text": [
      "┌ Info: Found 224 dates points for year 2003 | month 02\n",
      "└ @ Main In[18]:10\n"
     ]
    },
    {
     "name": "stdout",
     "output_type": "stream",
     "text": [
      "  0.067426 seconds (5.66 k allocations: 118.493 MiB, 4.46% gc time)\n"
     ]
    },
    {
     "name": "stderr",
     "output_type": "stream",
     "text": [
      "┌ Info: Found 231 dates points for year 2003 | month 03\n",
      "└ @ Main In[18]:10\n"
     ]
    },
    {
     "name": "stdout",
     "output_type": "stream",
     "text": [
      "  0.114198 seconds (5.76 k allocations: 118.505 MiB, 5.21% gc time)\n",
      "  0.097218 seconds (5.75 k allocations: 118.505 MiB)\n"
     ]
    },
    {
     "name": "stderr",
     "output_type": "stream",
     "text": [
      "┌ Info: Found 245 dates points for year 2003 | month 04\n",
      "└ @ Main In[18]:10\n"
     ]
    },
    {
     "name": "stdout",
     "output_type": "stream",
     "text": [
      "  0.119992 seconds (5.93 k allocations: 118.523 MiB)\n",
      "  0.111421 seconds (5.94 k allocations: 118.523 MiB, 3.37% gc time)\n",
      "  0.069006 seconds (5.21 k allocations: 118.444 MiB, 4.37% gc time)\n"
     ]
    },
    {
     "name": "stderr",
     "output_type": "stream",
     "text": [
      "┌ Info: Found 189 dates points for year 2003 | month 05\n",
      "└ @ Main In[18]:10\n"
     ]
    },
    {
     "name": "stdout",
     "output_type": "stream",
     "text": [
      "  0.063292 seconds (5.20 k allocations: 118.443 MiB)\n",
      "  0.077471 seconds (5.66 k allocations: 118.494 MiB)\n"
     ]
    },
    {
     "name": "stderr",
     "output_type": "stream",
     "text": [
      "┌ Info: Found 224 dates points for year 2003 | month 06\n",
      "└ @ Main In[18]:10\n"
     ]
    },
    {
     "name": "stdout",
     "output_type": "stream",
     "text": [
      "  0.081257 seconds (5.66 k allocations: 118.494 MiB, 3.93% gc time)\n",
      "  0.072024 seconds (5.54 k allocations: 118.480 MiB, 4.28% gc time)\n"
     ]
    },
    {
     "name": "stderr",
     "output_type": "stream",
     "text": [
      "┌ Info: Found 214 dates points for year 2003 | month 07\n",
      "└ @ Main In[18]:10\n"
     ]
    },
    {
     "name": "stdout",
     "output_type": "stream",
     "text": [
      "  0.065958 seconds (5.53 k allocations: 118.480 MiB)\n",
      "  0.071640 seconds (5.38 k allocations: 118.464 MiB)\n"
     ]
    },
    {
     "name": "stderr",
     "output_type": "stream",
     "text": [
      "┌ Info: Found 203 dates points for year 2003 | month 08\n",
      "└ @ Main In[18]:10\n"
     ]
    },
    {
     "name": "stdout",
     "output_type": "stream",
     "text": [
      "  0.074108 seconds (5.39 k allocations: 118.464 MiB, 4.15% gc time)\n",
      "  0.072458 seconds (5.81 k allocations: 118.510 MiB, 4.33% gc time)\n"
     ]
    },
    {
     "name": "stderr",
     "output_type": "stream",
     "text": [
      "┌ Info: Found 235 dates points for year 2003 | month 09\n",
      "└ @ Main In[18]:10\n"
     ]
    },
    {
     "name": "stdout",
     "output_type": "stream",
     "text": [
      "  0.065050 seconds (5.80 k allocations: 118.510 MiB)\n",
      "  0.093031 seconds (4.93 k allocations: 118.412 MiB)\n"
     ]
    },
    {
     "name": "stderr",
     "output_type": "stream",
     "text": [
      "┌ Info: Found 168 dates points for year 2003 | month 10\n",
      "└ @ Main In[18]:10\n"
     ]
    },
    {
     "name": "stdout",
     "output_type": "stream",
     "text": [
      "  0.074929 seconds (4.94 k allocations: 118.412 MiB, 4.53% gc time)\n",
      "  0.068284 seconds (4.87 k allocations: 118.404 MiB, 5.24% gc time)\n"
     ]
    },
    {
     "name": "stderr",
     "output_type": "stream",
     "text": [
      "┌ Info: Found 163 dates points for year 2003 | month 11\n",
      "└ @ Main In[18]:10\n"
     ]
    },
    {
     "name": "stdout",
     "output_type": "stream",
     "text": [
      "  0.075001 seconds (4.86 k allocations: 118.404 MiB)\n",
      "  0.091140 seconds (5.00 k allocations: 118.420 MiB)\n"
     ]
    },
    {
     "name": "stderr",
     "output_type": "stream",
     "text": [
      "┌ Info: Found 174 dates points for year 2003 | month 12\n",
      "└ @ Main In[18]:10\n"
     ]
    },
    {
     "name": "stdout",
     "output_type": "stream",
     "text": [
      "  0.110389 seconds (5.02 k allocations: 118.420 MiB, 3.60% gc time)\n",
      "  0.093039 seconds (5.50 k allocations: 118.473 MiB, 4.32% gc time)\n"
     ]
    },
    {
     "name": "stderr",
     "output_type": "stream",
     "text": [
      "┌ Info: Found 211 dates points for year 2004 | month 01\n",
      "└ @ Main In[18]:10\n"
     ]
    },
    {
     "name": "stdout",
     "output_type": "stream",
     "text": [
      "  0.068416 seconds (5.49 k allocations: 118.473 MiB)\n",
      "  0.067227 seconds (5.10 k allocations: 118.432 MiB)\n"
     ]
    },
    {
     "name": "stderr",
     "output_type": "stream",
     "text": [
      "┌ Info: Found 181 dates points for year 2004 | month 02\n",
      "└ @ Main In[18]:10\n"
     ]
    },
    {
     "name": "stdout",
     "output_type": "stream",
     "text": [
      "  0.081712 seconds (5.11 k allocations: 118.433 MiB, 3.74% gc time)\n",
      "  0.081752 seconds (5.22 k allocations: 118.443 MiB, 4.51% gc time)\n"
     ]
    },
    {
     "name": "stderr",
     "output_type": "stream",
     "text": [
      "┌ Info: Found 190 dates points for year 2004 | month 03\n",
      "└ @ Main In[18]:10\n"
     ]
    },
    {
     "name": "stdout",
     "output_type": "stream",
     "text": [
      "  0.071453 seconds (5.21 k allocations: 118.442 MiB)\n",
      "  0.070342 seconds (5.03 k allocations: 118.422 MiB)\n"
     ]
    },
    {
     "name": "stderr",
     "output_type": "stream",
     "text": [
      "┌ Info: Found 176 dates points for year 2004 | month 04\n",
      "└ @ Main In[18]:10\n"
     ]
    },
    {
     "name": "stdout",
     "output_type": "stream",
     "text": [
      "  0.073377 seconds (5.04 k allocations: 118.423 MiB, 5.07% gc time)\n",
      "  0.082713 seconds (4.97 k allocations: 118.417 MiB)\n"
     ]
    },
    {
     "name": "stderr",
     "output_type": "stream",
     "text": [
      "┌ Info: Found 171 dates points for year 2004 | month 05\n",
      "└ @ Main In[18]:10\n"
     ]
    },
    {
     "name": "stdout",
     "output_type": "stream",
     "text": [
      "  0.070247 seconds (4.97 k allocations: 118.417 MiB)\n",
      "  0.073646 seconds (6.25 k allocations: 118.604 MiB)\n"
     ]
    },
    {
     "name": "stderr",
     "output_type": "stream",
     "text": [
      "┌ Info: Found 269 dates points for year 2004 | month 06\n",
      "└ @ Main In[18]:10\n"
     ]
    },
    {
     "name": "stdout",
     "output_type": "stream",
     "text": [
      "  0.079546 seconds (6.26 k allocations: 118.604 MiB, 4.36% gc time)\n",
      "  0.077416 seconds (5.97 k allocations: 118.524 MiB)\n"
     ]
    },
    {
     "name": "stderr",
     "output_type": "stream",
     "text": [
      "┌ Info: Found 248 dates points for year 2004 | month 07\n",
      "└ @ Main In[18]:10\n"
     ]
    },
    {
     "name": "stdout",
     "output_type": "stream",
     "text": [
      "  0.072894 seconds (5.97 k allocations: 118.524 MiB)\n",
      "  0.075167 seconds (6.19 k allocations: 118.600 MiB)\n"
     ]
    },
    {
     "name": "stderr",
     "output_type": "stream",
     "text": [
      "┌ Info: Found 264 dates points for year 2004 | month 08\n",
      "└ @ Main In[18]:10\n"
     ]
    },
    {
     "name": "stdout",
     "output_type": "stream",
     "text": [
      "  0.079282 seconds (6.20 k allocations: 118.600 MiB, 3.72% gc time)\n",
      "  0.081618 seconds (5.53 k allocations: 118.478 MiB)\n"
     ]
    },
    {
     "name": "stderr",
     "output_type": "stream",
     "text": [
      "┌ Info: Found 214 dates points for year 2004 | month 09\n",
      "└ @ Main In[18]:10\n"
     ]
    },
    {
     "name": "stdout",
     "output_type": "stream",
     "text": [
      "  0.109288 seconds (5.53 k allocations: 118.478 MiB)\n",
      "  0.083534 seconds (5.89 k allocations: 118.520 MiB)\n"
     ]
    },
    {
     "name": "stderr",
     "output_type": "stream",
     "text": [
      "┌ Info: Found 242 dates points for year 2004 | month 10\n",
      "└ @ Main In[18]:10\n"
     ]
    },
    {
     "name": "stdout",
     "output_type": "stream",
     "text": [
      "  0.081969 seconds (5.90 k allocations: 118.520 MiB, 4.71% gc time)\n",
      "  0.066156 seconds (5.80 k allocations: 118.511 MiB)\n"
     ]
    },
    {
     "name": "stderr",
     "output_type": "stream",
     "text": [
      "┌ Info: Found 235 dates points for year 2004 | month 11\n",
      "└ @ Main In[18]:10\n"
     ]
    },
    {
     "name": "stdout",
     "output_type": "stream",
     "text": [
      "  0.076082 seconds (5.80 k allocations: 118.511 MiB)\n",
      "  0.071390 seconds (5.30 k allocations: 118.454 MiB)\n"
     ]
    },
    {
     "name": "stderr",
     "output_type": "stream",
     "text": [
      "┌ Info: Found 197 dates points for year 2004 | month 12\n",
      "└ @ Main In[18]:10\n"
     ]
    },
    {
     "name": "stdout",
     "output_type": "stream",
     "text": [
      "  0.082421 seconds (5.32 k allocations: 118.454 MiB, 3.75% gc time)\n",
      "  0.075696 seconds (4.99 k allocations: 118.419 MiB)\n"
     ]
    },
    {
     "name": "stderr",
     "output_type": "stream",
     "text": [
      "┌ Info: Found 173 dates points for year 2005 | month 01\n",
      "└ @ Main In[18]:10\n"
     ]
    },
    {
     "name": "stdout",
     "output_type": "stream",
     "text": [
      "  0.072820 seconds (4.99 k allocations: 118.419 MiB)\n",
      "  0.074586 seconds (5.54 k allocations: 118.480 MiB)\n"
     ]
    },
    {
     "name": "stderr",
     "output_type": "stream",
     "text": [
      "┌ Info: Found 215 dates points for year 2005 | month 02\n",
      "└ @ Main In[18]:10\n"
     ]
    },
    {
     "name": "stdout",
     "output_type": "stream",
     "text": [
      "  0.082396 seconds (5.55 k allocations: 118.480 MiB, 4.91% gc time)\n",
      "  0.069589 seconds (6.42 k allocations: 118.626 MiB)\n"
     ]
    },
    {
     "name": "stderr",
     "output_type": "stream",
     "text": [
      "┌ Info: Found 282 dates points for year 2005 | month 03\n",
      "└ @ Main In[18]:10\n"
     ]
    },
    {
     "name": "stdout",
     "output_type": "stream",
     "text": [
      "  0.075512 seconds (6.42 k allocations: 118.626 MiB)\n",
      "  0.073233 seconds (5.90 k allocations: 118.518 MiB, 4.84% gc time)\n"
     ]
    },
    {
     "name": "stderr",
     "output_type": "stream",
     "text": [
      "┌ Info: Found 242 dates points for year 2005 | month 04\n",
      "└ @ Main In[18]:10\n"
     ]
    },
    {
     "name": "stdout",
     "output_type": "stream",
     "text": [
      "  0.071727 seconds (5.89 k allocations: 118.518 MiB)\n",
      "  0.066739 seconds (6.09 k allocations: 118.588 MiB)\n"
     ]
    },
    {
     "name": "stderr",
     "output_type": "stream",
     "text": [
      "┌ Info: Found 257 dates points for year 2005 | month 05\n",
      "└ @ Main In[18]:10\n"
     ]
    },
    {
     "name": "stdout",
     "output_type": "stream",
     "text": [
      "  0.090272 seconds (6.09 k allocations: 118.588 MiB)\n",
      "  0.080775 seconds (5.51 k allocations: 118.478 MiB, 3.68% gc time)\n"
     ]
    },
    {
     "name": "stderr",
     "output_type": "stream",
     "text": [
      "┌ Info: Found 212 dates points for year 2005 | month 06\n",
      "└ @ Main In[18]:10\n"
     ]
    },
    {
     "name": "stdout",
     "output_type": "stream",
     "text": [
      "  0.070330 seconds (5.50 k allocations: 118.478 MiB)\n",
      "  0.066280 seconds (6.89 k allocations: 118.670 MiB)\n"
     ]
    },
    {
     "name": "stderr",
     "output_type": "stream",
     "text": [
      "┌ Info: Found 318 dates points for year 2005 | month 07\n",
      "└ @ Main In[18]:10\n"
     ]
    },
    {
     "name": "stdout",
     "output_type": "stream",
     "text": [
      "  0.071032 seconds (6.89 k allocations: 118.670 MiB)\n",
      "  0.079917 seconds (5.73 k allocations: 118.500 MiB, 3.82% gc time)\n"
     ]
    },
    {
     "name": "stderr",
     "output_type": "stream",
     "text": [
      "┌ Info: Found 229 dates points for year 2005 | month 08\n",
      "└ @ Main In[18]:10\n"
     ]
    },
    {
     "name": "stdout",
     "output_type": "stream",
     "text": [
      "  0.079958 seconds (5.72 k allocations: 118.500 MiB)\n",
      "  0.070420 seconds (5.95 k allocations: 118.527 MiB)\n"
     ]
    },
    {
     "name": "stderr",
     "output_type": "stream",
     "text": [
      "┌ Info: Found 247 dates points for year 2005 | month 09\n",
      "└ @ Main In[18]:10\n"
     ]
    },
    {
     "name": "stdout",
     "output_type": "stream",
     "text": [
      "  0.092473 seconds (5.95 k allocations: 118.527 MiB)\n",
      "  0.071020 seconds (5.30 k allocations: 118.450 MiB, 5.75% gc time)\n"
     ]
    },
    {
     "name": "stderr",
     "output_type": "stream",
     "text": [
      "┌ Info: Found 196 dates points for year 2005 | month 10\n",
      "└ @ Main In[18]:10\n"
     ]
    },
    {
     "name": "stdout",
     "output_type": "stream",
     "text": [
      "  0.068917 seconds (5.29 k allocations: 118.450 MiB)\n",
      "  0.073191 seconds (5.17 k allocations: 118.441 MiB)\n"
     ]
    },
    {
     "name": "stderr",
     "output_type": "stream",
     "text": [
      "┌ Info: Found 187 dates points for year 2005 | month 11\n",
      "└ @ Main In[18]:10\n"
     ]
    },
    {
     "name": "stdout",
     "output_type": "stream",
     "text": [
      "  0.081376 seconds (5.17 k allocations: 118.441 MiB)\n",
      "  0.081828 seconds (5.52 k allocations: 118.478 MiB, 3.93% gc time)\n"
     ]
    },
    {
     "name": "stderr",
     "output_type": "stream",
     "text": [
      "┌ Info: Found 213 dates points for year 2005 | month 12\n",
      "└ @ Main In[18]:10\n"
     ]
    },
    {
     "name": "stdout",
     "output_type": "stream",
     "text": [
      "  0.084960 seconds (5.51 k allocations: 118.477 MiB)\n",
      "  0.069386 seconds (5.68 k allocations: 118.499 MiB)\n"
     ]
    },
    {
     "name": "stderr",
     "output_type": "stream",
     "text": [
      "┌ Info: Found 226 dates points for year 2006 | month 01\n",
      "└ @ Main In[18]:10\n"
     ]
    },
    {
     "name": "stdout",
     "output_type": "stream",
     "text": [
      "  0.069661 seconds (5.68 k allocations: 118.499 MiB)\n",
      "  0.075207 seconds (5.81 k allocations: 118.510 MiB, 4.37% gc time)\n"
     ]
    },
    {
     "name": "stderr",
     "output_type": "stream",
     "text": [
      "┌ Info: Found 235 dates points for year 2006 | month 02\n",
      "└ @ Main In[18]:10\n"
     ]
    },
    {
     "name": "stdout",
     "output_type": "stream",
     "text": [
      "  0.067401 seconds (5.80 k allocations: 118.510 MiB)\n",
      "  0.070061 seconds (5.77 k allocations: 118.507 MiB)\n"
     ]
    },
    {
     "name": "stderr",
     "output_type": "stream",
     "text": [
      "┌ Info: Found 233 dates points for year 2006 | month 03\n",
      "└ @ Main In[18]:10\n"
     ]
    },
    {
     "name": "stdout",
     "output_type": "stream",
     "text": [
      "  0.072706 seconds (5.78 k allocations: 118.508 MiB, 4.26% gc time)\n",
      "  0.093605 seconds (6.09 k allocations: 118.573 MiB, 4.23% gc time)\n"
     ]
    },
    {
     "name": "stderr",
     "output_type": "stream",
     "text": [
      "┌ Info: Found 256 dates points for year 2006 | month 04\n",
      "└ @ Main In[18]:10\n"
     ]
    },
    {
     "name": "stdout",
     "output_type": "stream",
     "text": [
      "  0.078865 seconds (6.08 k allocations: 118.573 MiB)\n",
      "  0.076133 seconds (5.66 k allocations: 118.496 MiB)\n"
     ]
    },
    {
     "name": "stderr",
     "output_type": "stream",
     "text": [
      "┌ Info: Found 224 dates points for year 2006 | month 05\n",
      "└ @ Main In[18]:10\n"
     ]
    },
    {
     "name": "stdout",
     "output_type": "stream",
     "text": [
      "  0.076211 seconds (5.66 k allocations: 118.496 MiB, 4.02% gc time)\n"
     ]
    },
    {
     "name": "stderr",
     "output_type": "stream",
     "text": [
      "┌ Info: Found 237 dates points for year 2006 | month 06\n",
      "└ @ Main In[18]:10\n"
     ]
    },
    {
     "name": "stdout",
     "output_type": "stream",
     "text": [
      "  0.099885 seconds (5.84 k allocations: 118.513 MiB, 4.04% gc time)\n",
      "  0.083093 seconds (5.82 k allocations: 118.512 MiB)\n"
     ]
    },
    {
     "name": "stderr",
     "output_type": "stream",
     "text": [
      "┌ Info: Found 228 dates points for year 2006 | month 07\n",
      "└ @ Main In[18]:10\n"
     ]
    },
    {
     "name": "stdout",
     "output_type": "stream",
     "text": [
      "  0.113366 seconds (5.71 k allocations: 118.498 MiB)\n",
      "  0.128034 seconds (5.71 k allocations: 118.499 MiB, 3.16% gc time)\n",
      "  0.073380 seconds (5.07 k allocations: 118.421 MiB, 5.35% gc time)\n"
     ]
    },
    {
     "name": "stderr",
     "output_type": "stream",
     "text": [
      "┌ Info: Found 178 dates points for year 2006 | month 08\n",
      "└ @ Main In[18]:10\n"
     ]
    },
    {
     "name": "stdout",
     "output_type": "stream",
     "text": [
      "  0.065849 seconds (5.06 k allocations: 118.421 MiB)\n"
     ]
    },
    {
     "name": "stderr",
     "output_type": "stream",
     "text": [
      "┌ Info: Found 281 dates points for year 2006 | month 09\n",
      "└ @ Main In[18]:10\n"
     ]
    },
    {
     "name": "stdout",
     "output_type": "stream",
     "text": [
      "  0.099671 seconds (6.40 k allocations: 118.629 MiB)\n",
      "  0.111243 seconds (6.41 k allocations: 118.629 MiB, 2.97% gc time)\n"
     ]
    },
    {
     "name": "stderr",
     "output_type": "stream",
     "text": [
      "┌ Info: Found 211 dates points for year 2006 | month 10\n",
      "└ @ Main In[18]:10\n"
     ]
    },
    {
     "name": "stdout",
     "output_type": "stream",
     "text": [
      "  0.112476 seconds (5.50 k allocations: 118.474 MiB, 5.27% gc time)\n",
      "  0.137718 seconds (5.49 k allocations: 118.474 MiB)\n",
      "  0.069127 seconds (5.12 k allocations: 118.435 MiB)\n"
     ]
    },
    {
     "name": "stderr",
     "output_type": "stream",
     "text": [
      "┌ Info: Found 183 dates points for year 2006 | month 11\n",
      "└ @ Main In[18]:10\n"
     ]
    },
    {
     "name": "stdout",
     "output_type": "stream",
     "text": [
      "  0.067738 seconds (5.13 k allocations: 118.435 MiB, 4.41% gc time)\n",
      "  0.085983 seconds (5.12 k allocations: 118.433 MiB, 3.52% gc time)\n"
     ]
    },
    {
     "name": "stderr",
     "output_type": "stream",
     "text": [
      "┌ Info: Found 182 dates points for year 2006 | month 12\n",
      "└ @ Main In[18]:10\n"
     ]
    },
    {
     "name": "stdout",
     "output_type": "stream",
     "text": [
      "  0.107601 seconds (5.11 k allocations: 118.433 MiB)\n",
      "  0.076341 seconds (4.90 k allocations: 118.410 MiB)\n"
     ]
    },
    {
     "name": "stderr",
     "output_type": "stream",
     "text": [
      "┌ Info: Found 166 dates points for year 2007 | month 01\n",
      "└ @ Main In[18]:10\n"
     ]
    },
    {
     "name": "stdout",
     "output_type": "stream",
     "text": [
      "  0.072327 seconds (4.91 k allocations: 118.410 MiB, 4.40% gc time)\n",
      "  0.072457 seconds (5.80 k allocations: 118.509 MiB, 4.27% gc time)\n"
     ]
    },
    {
     "name": "stderr",
     "output_type": "stream",
     "text": [
      "┌ Info: Found 234 dates points for year 2007 | month 02\n",
      "└ @ Main In[18]:10\n"
     ]
    },
    {
     "name": "stdout",
     "output_type": "stream",
     "text": [
      "  0.079546 seconds (5.78 k allocations: 118.509 MiB)\n",
      "  0.066250 seconds (4.62 k allocations: 118.377 MiB)\n"
     ]
    },
    {
     "name": "stderr",
     "output_type": "stream",
     "text": [
      "┌ Info: Found 144 dates points for year 2007 | month 03\n",
      "└ @ Main In[18]:10\n"
     ]
    },
    {
     "name": "stdout",
     "output_type": "stream",
     "text": [
      "  0.073380 seconds (4.62 k allocations: 118.377 MiB, 4.11% gc time)\n",
      "  0.069592 seconds (5.50 k allocations: 118.476 MiB, 4.37% gc time)\n"
     ]
    },
    {
     "name": "stderr",
     "output_type": "stream",
     "text": [
      "┌ Info: Found 211 dates points for year 2007 | month 04\n",
      "└ @ Main In[18]:10\n"
     ]
    },
    {
     "name": "stdout",
     "output_type": "stream",
     "text": [
      "  0.061431 seconds (5.49 k allocations: 118.476 MiB)\n"
     ]
    },
    {
     "name": "stderr",
     "output_type": "stream",
     "text": [
      "┌ Info: Found 197 dates points for year 2007 | month 05\n",
      "└ @ Main In[18]:10\n"
     ]
    },
    {
     "name": "stdout",
     "output_type": "stream",
     "text": [
      "  0.118404 seconds (5.30 k allocations: 118.453 MiB)\n",
      "  0.141315 seconds (5.31 k allocations: 118.453 MiB, 4.04% gc time)\n"
     ]
    },
    {
     "name": "stderr",
     "output_type": "stream",
     "text": [
      "┌ Info: Found 186 dates points for year 2007 | month 06\n",
      "└ @ Main In[18]:10\n"
     ]
    },
    {
     "name": "stdout",
     "output_type": "stream",
     "text": [
      "  0.119096 seconds (5.17 k allocations: 118.438 MiB, 5.05% gc time)\n",
      "  0.079157 seconds (5.16 k allocations: 118.438 MiB)\n",
      "  0.076080 seconds (5.39 k allocations: 118.465 MiB)\n"
     ]
    },
    {
     "name": "stderr",
     "output_type": "stream",
     "text": [
      "┌ Info: Found 204 dates points for year 2007 | month 07\n",
      "└ @ Main In[18]:10\n"
     ]
    },
    {
     "name": "stdout",
     "output_type": "stream",
     "text": [
      "  0.082451 seconds (5.40 k allocations: 118.465 MiB, 4.91% gc time)\n",
      "  0.080865 seconds (5.72 k allocations: 118.502 MiB, 4.03% gc time)\n"
     ]
    },
    {
     "name": "stderr",
     "output_type": "stream",
     "text": [
      "┌ Info: Found 228 dates points for year 2007 | month 08\n",
      "└ @ Main In[18]:10\n"
     ]
    },
    {
     "name": "stdout",
     "output_type": "stream",
     "text": [
      "  0.067288 seconds (5.71 k allocations: 118.502 MiB)\n"
     ]
    },
    {
     "name": "stderr",
     "output_type": "stream",
     "text": [
      "┌ Info: Found 266 dates points for year 2007 | month 09\n",
      "└ @ Main In[18]:10\n"
     ]
    },
    {
     "name": "stdout",
     "output_type": "stream",
     "text": [
      "  0.101475 seconds (6.21 k allocations: 118.607 MiB)\n",
      "  0.096765 seconds (6.22 k allocations: 118.607 MiB, 4.43% gc time)\n",
      "  0.072176 seconds (5.42 k allocations: 118.468 MiB, 5.39% gc time)\n"
     ]
    },
    {
     "name": "stderr",
     "output_type": "stream",
     "text": [
      "┌ Info: Found 205 dates points for year 2007 | month 10\n",
      "└ @ Main In[18]:10\n"
     ]
    },
    {
     "name": "stdout",
     "output_type": "stream",
     "text": [
      "  0.069894 seconds (5.41 k allocations: 118.468 MiB)\n",
      "  0.083290 seconds (4.98 k allocations: 118.418 MiB)\n"
     ]
    },
    {
     "name": "stderr",
     "output_type": "stream",
     "text": [
      "┌ Info: Found 172 dates points for year 2007 | month 11\n",
      "└ @ Main In[18]:10\n"
     ]
    },
    {
     "name": "stdout",
     "output_type": "stream",
     "text": [
      "  0.070590 seconds (4.99 k allocations: 118.418 MiB, 4.94% gc time)\n",
      "  0.071166 seconds (4.29 k allocations: 118.332 MiB, 4.18% gc time)\n"
     ]
    },
    {
     "name": "stderr",
     "output_type": "stream",
     "text": [
      "┌ Info: Found 118 dates points for year 2007 | month 12\n",
      "└ @ Main In[18]:10\n"
     ]
    },
    {
     "name": "stdout",
     "output_type": "stream",
     "text": [
      "  0.070838 seconds (4.28 k allocations: 118.331 MiB)\n",
      "  0.068317 seconds (4.60 k allocations: 118.376 MiB)\n"
     ]
    },
    {
     "name": "stderr",
     "output_type": "stream",
     "text": [
      "┌ Info: Found 143 dates points for year 2008 | month 01\n",
      "└ @ Main In[18]:10\n"
     ]
    },
    {
     "name": "stdout",
     "output_type": "stream",
     "text": [
      "  0.074724 seconds (4.61 k allocations: 118.376 MiB, 4.62% gc time)\n",
      "  0.071427 seconds (5.59 k allocations: 118.484 MiB, 4.34% gc time)\n"
     ]
    },
    {
     "name": "stderr",
     "output_type": "stream",
     "text": [
      "┌ Info: Found 218 dates points for year 2008 | month 02\n",
      "└ @ Main In[18]:10\n"
     ]
    },
    {
     "name": "stdout",
     "output_type": "stream",
     "text": [
      "  0.068791 seconds (5.58 k allocations: 118.484 MiB)\n",
      "  0.066928 seconds (5.42 k allocations: 118.467 MiB)\n"
     ]
    },
    {
     "name": "stderr",
     "output_type": "stream",
     "text": [
      "┌ Info: Found 206 dates points for year 2008 | month 03\n",
      "└ @ Main In[18]:10\n"
     ]
    },
    {
     "name": "stdout",
     "output_type": "stream",
     "text": [
      "  0.069942 seconds (5.43 k allocations: 118.467 MiB, 4.64% gc time)\n",
      "  0.069479 seconds (5.15 k allocations: 118.436 MiB, 4.45% gc time)\n"
     ]
    },
    {
     "name": "stderr",
     "output_type": "stream",
     "text": [
      "┌ Info: Found 184 dates points for year 2008 | month 04\n",
      "└ @ Main In[18]:10\n"
     ]
    },
    {
     "name": "stdout",
     "output_type": "stream",
     "text": [
      "  0.068817 seconds (5.14 k allocations: 118.436 MiB)\n",
      "  0.063977 seconds (5.17 k allocations: 118.439 MiB)\n"
     ]
    },
    {
     "name": "stderr",
     "output_type": "stream",
     "text": [
      "┌ Info: Found 186 dates points for year 2008 | month 05\n",
      "└ @ Main In[18]:10\n"
     ]
    },
    {
     "name": "stdout",
     "output_type": "stream",
     "text": [
      "  0.078289 seconds (5.17 k allocations: 118.439 MiB, 3.98% gc time)\n",
      "  0.096491 seconds (4.92 k allocations: 118.410 MiB, 4.34% gc time)\n"
     ]
    },
    {
     "name": "stderr",
     "output_type": "stream",
     "text": [
      "┌ Info: Found 166 dates points for year 2008 | month 06\n",
      "└ @ Main In[18]:10\n"
     ]
    },
    {
     "name": "stdout",
     "output_type": "stream",
     "text": [
      "  0.069980 seconds (4.91 k allocations: 118.410 MiB)\n",
      "  0.092640 seconds (5.88 k allocations: 118.518 MiB)\n"
     ]
    },
    {
     "name": "stderr",
     "output_type": "stream",
     "text": [
      "┌ Info: Found 241 dates points for year 2008 | month 07\n",
      "└ @ Main In[18]:10\n"
     ]
    },
    {
     "name": "stdout",
     "output_type": "stream",
     "text": [
      "  0.076423 seconds (5.89 k allocations: 118.518 MiB, 4.10% gc time)\n",
      "  0.089185 seconds (6.12 k allocations: 118.588 MiB, 5.29% gc time)\n"
     ]
    },
    {
     "name": "stderr",
     "output_type": "stream",
     "text": [
      "┌ Info: Found 258 dates points for year 2008 | month 08\n",
      "└ @ Main In[18]:10\n"
     ]
    },
    {
     "name": "stdout",
     "output_type": "stream",
     "text": [
      "  0.076840 seconds (6.11 k allocations: 118.588 MiB)\n",
      "  0.069841 seconds (5.54 k allocations: 118.481 MiB)\n"
     ]
    },
    {
     "name": "stderr",
     "output_type": "stream",
     "text": [
      "┌ Info: Found 215 dates points for year 2008 | month 09\n",
      "└ @ Main In[18]:10\n"
     ]
    },
    {
     "name": "stdout",
     "output_type": "stream",
     "text": [
      "  0.076781 seconds (5.55 k allocations: 118.481 MiB, 4.00% gc time)\n",
      "  0.087602 seconds (5.88 k allocations: 118.516 MiB, 4.38% gc time)\n"
     ]
    },
    {
     "name": "stderr",
     "output_type": "stream",
     "text": [
      "┌ Info: Found 240 dates points for year 2008 | month 10\n",
      "└ @ Main In[18]:10\n"
     ]
    },
    {
     "name": "stdout",
     "output_type": "stream",
     "text": [
      "  0.075900 seconds (5.86 k allocations: 118.516 MiB)\n",
      "  0.075717 seconds (5.92 k allocations: 118.520 MiB)\n"
     ]
    },
    {
     "name": "stderr",
     "output_type": "stream",
     "text": [
      "┌ Info: Found 244 dates points for year 2008 | month 11\n",
      "└ @ Main In[18]:10\n"
     ]
    },
    {
     "name": "stdout",
     "output_type": "stream",
     "text": [
      "  0.090778 seconds (5.92 k allocations: 118.520 MiB, 3.72% gc time)\n",
      "  0.070864 seconds (5.92 k allocations: 118.522 MiB, 4.39% gc time)\n"
     ]
    },
    {
     "name": "stderr",
     "output_type": "stream",
     "text": [
      "┌ Info: Found 243 dates points for year 2008 | month 12\n",
      "└ @ Main In[18]:10\n"
     ]
    },
    {
     "name": "stdout",
     "output_type": "stream",
     "text": [
      "  0.065979 seconds (5.90 k allocations: 118.522 MiB)\n",
      "  0.096223 seconds (5.26 k allocations: 118.449 MiB)\n"
     ]
    },
    {
     "name": "stderr",
     "output_type": "stream",
     "text": [
      "┌ Info: Found 194 dates points for year 2009 | month 01\n",
      "└ @ Main In[18]:10\n"
     ]
    },
    {
     "name": "stdout",
     "output_type": "stream",
     "text": [
      "  0.098330 seconds (5.27 k allocations: 118.449 MiB, 4.04% gc time)\n"
     ]
    },
    {
     "name": "stderr",
     "output_type": "stream",
     "text": [
      "┌ Info: Found 198 dates points for year 2009 | month 02\n",
      "└ @ Main In[18]:10\n"
     ]
    },
    {
     "name": "stdout",
     "output_type": "stream",
     "text": [
      "  0.117563 seconds (5.33 k allocations: 118.458 MiB, 4.53% gc time)\n",
      "  0.117557 seconds (5.32 k allocations: 118.458 MiB)\n"
     ]
    },
    {
     "name": "stderr",
     "output_type": "stream",
     "text": [
      "┌ Info: Found 154 dates points for year 2009 | month 03\n",
      "└ @ Main In[18]:10\n"
     ]
    },
    {
     "name": "stdout",
     "output_type": "stream",
     "text": [
      "  0.119784 seconds (4.75 k allocations: 118.393 MiB)\n",
      "  0.131855 seconds (4.75 k allocations: 118.393 MiB, 4.53% gc time)\n"
     ]
    },
    {
     "name": "stderr",
     "output_type": "stream",
     "text": [
      "┌ Info: Found 222 dates points for year 2009 | month 04\n",
      "└ @ Main In[18]:10\n"
     ]
    },
    {
     "name": "stdout",
     "output_type": "stream",
     "text": [
      "  0.099874 seconds (5.64 k allocations: 118.488 MiB, 4.87% gc time)\n",
      "  0.105014 seconds (5.63 k allocations: 118.488 MiB)\n",
      "  0.068489 seconds (5.20 k allocations: 118.443 MiB)\n"
     ]
    },
    {
     "name": "stderr",
     "output_type": "stream",
     "text": [
      "┌ Info: Found 189 dates points for year 2009 | month 05\n",
      "└ @ Main In[18]:10\n"
     ]
    },
    {
     "name": "stdout",
     "output_type": "stream",
     "text": [
      "  0.069478 seconds (5.21 k allocations: 118.443 MiB, 5.37% gc time)\n",
      "  0.079279 seconds (5.15 k allocations: 118.436 MiB, 4.35% gc time)\n"
     ]
    },
    {
     "name": "stderr",
     "output_type": "stream",
     "text": [
      "┌ Info: Found 184 dates points for year 2009 | month 06\n",
      "└ @ Main In[18]:10\n"
     ]
    },
    {
     "name": "stdout",
     "output_type": "stream",
     "text": [
      "  0.071180 seconds (5.13 k allocations: 118.436 MiB)\n",
      "  0.073644 seconds (5.14 k allocations: 118.436 MiB)\n"
     ]
    },
    {
     "name": "stderr",
     "output_type": "stream",
     "text": [
      "┌ Info: Found 184 dates points for year 2009 | month 07\n",
      "└ @ Main In[18]:10\n"
     ]
    },
    {
     "name": "stdout",
     "output_type": "stream",
     "text": [
      "  0.073267 seconds (5.15 k allocations: 118.436 MiB, 4.37% gc time)\n",
      "  0.073025 seconds (6.46 k allocations: 118.627 MiB, 4.26% gc time)\n"
     ]
    },
    {
     "name": "stderr",
     "output_type": "stream",
     "text": [
      "┌ Info: Found 284 dates points for year 2009 | month 08\n",
      "└ @ Main In[18]:10\n"
     ]
    },
    {
     "name": "stdout",
     "output_type": "stream",
     "text": [
      "  0.065393 seconds (6.44 k allocations: 118.627 MiB)\n",
      "  0.068858 seconds (6.01 k allocations: 118.533 MiB)\n"
     ]
    },
    {
     "name": "stderr",
     "output_type": "stream",
     "text": [
      "┌ Info: Found 251 dates points for year 2009 | month 09\n",
      "└ @ Main In[18]:10\n"
     ]
    },
    {
     "name": "stdout",
     "output_type": "stream",
     "text": [
      "  0.093740 seconds (6.01 k allocations: 118.534 MiB, 4.93% gc time)\n",
      "  0.086001 seconds (5.63 k allocations: 118.493 MiB, 3.83% gc time)\n"
     ]
    },
    {
     "name": "stderr",
     "output_type": "stream",
     "text": [
      "┌ Info: Found 221 dates points for year 2009 | month 10\n",
      "└ @ Main In[18]:10\n"
     ]
    },
    {
     "name": "stdout",
     "output_type": "stream",
     "text": [
      "  0.078784 seconds (5.62 k allocations: 118.493 MiB)\n"
     ]
    },
    {
     "name": "stderr",
     "output_type": "stream",
     "text": [
      "┌ Info: Found 207 dates points for year 2009 | month 11\n",
      "└ @ Main In[18]:10\n"
     ]
    },
    {
     "name": "stdout",
     "output_type": "stream",
     "text": [
      "  0.103294 seconds (5.44 k allocations: 118.469 MiB)\n",
      "  0.102853 seconds (5.45 k allocations: 118.469 MiB, 3.33% gc time)\n",
      "  0.073656 seconds (5.71 k allocations: 118.501 MiB, 4.44% gc time)\n"
     ]
    },
    {
     "name": "stderr",
     "output_type": "stream",
     "text": [
      "┌ Info: Found 227 dates points for year 2009 | month 12\n",
      "└ @ Main In[18]:10\n"
     ]
    },
    {
     "name": "stdout",
     "output_type": "stream",
     "text": [
      "  0.062731 seconds (5.70 k allocations: 118.501 MiB)\n",
      "  0.071551 seconds (5.28 k allocations: 118.453 MiB)\n"
     ]
    },
    {
     "name": "stderr",
     "output_type": "stream",
     "text": [
      "┌ Info: Found 195 dates points for year 2010 | month 01\n",
      "└ @ Main In[18]:10\n"
     ]
    },
    {
     "name": "stdout",
     "output_type": "stream",
     "text": [
      "  0.065354 seconds (5.29 k allocations: 118.453 MiB, 4.70% gc time)\n"
     ]
    },
    {
     "name": "stderr",
     "output_type": "stream",
     "text": [
      "┌ Info: Found 245 dates points for year 2010 | month 02\n",
      "└ @ Main In[18]:10\n"
     ]
    },
    {
     "name": "stdout",
     "output_type": "stream",
     "text": [
      "  0.117662 seconds (5.94 k allocations: 118.525 MiB, 4.30% gc time)\n",
      "  0.127692 seconds (5.93 k allocations: 118.524 MiB)\n",
      "  0.067474 seconds (5.78 k allocations: 118.509 MiB)\n"
     ]
    },
    {
     "name": "stderr",
     "output_type": "stream",
     "text": [
      "┌ Info: Found 233 dates points for year 2010 | month 03\n",
      "└ @ Main In[18]:10\n"
     ]
    },
    {
     "name": "stdout",
     "output_type": "stream",
     "text": [
      "  0.072369 seconds (5.79 k allocations: 118.509 MiB, 4.25% gc time)\n",
      "  0.078330 seconds (5.83 k allocations: 118.508 MiB, 4.18% gc time)\n"
     ]
    },
    {
     "name": "stderr",
     "output_type": "stream",
     "text": [
      "┌ Info: Found 236 dates points for year 2010 | month 04\n",
      "└ @ Main In[18]:10\n"
     ]
    },
    {
     "name": "stdout",
     "output_type": "stream",
     "text": [
      "  0.092536 seconds (5.82 k allocations: 118.508 MiB)\n"
     ]
    },
    {
     "name": "stderr",
     "output_type": "stream",
     "text": [
      "┌ Info: Found 232 dates points for year 2010 | month 05\n",
      "└ @ Main In[18]:10\n"
     ]
    },
    {
     "name": "stdout",
     "output_type": "stream",
     "text": [
      "  0.101085 seconds (5.77 k allocations: 118.507 MiB)\n",
      "  0.091870 seconds (5.78 k allocations: 118.507 MiB, 3.54% gc time)\n",
      "  0.080309 seconds (5.98 k allocations: 118.529 MiB, 5.12% gc time)\n"
     ]
    },
    {
     "name": "stderr",
     "output_type": "stream",
     "text": [
      "┌ Info: Found 248 dates points for year 2010 | month 06\n",
      "└ @ Main In[18]:10\n"
     ]
    },
    {
     "name": "stdout",
     "output_type": "stream",
     "text": [
      "  0.078068 seconds (5.97 k allocations: 118.528 MiB)\n",
      "  0.066448 seconds (5.05 k allocations: 118.426 MiB)\n"
     ]
    },
    {
     "name": "stderr",
     "output_type": "stream",
     "text": [
      "┌ Info: Found 177 dates points for year 2010 | month 07\n",
      "└ @ Main In[18]:10\n"
     ]
    },
    {
     "name": "stdout",
     "output_type": "stream",
     "text": [
      "  0.066932 seconds (5.05 k allocations: 118.426 MiB)\n"
     ]
    },
    {
     "name": "stderr",
     "output_type": "stream",
     "text": [
      "┌ Info: Found 224 dates points for year 2010 | month 08\n",
      "└ @ Main In[18]:10\n"
     ]
    },
    {
     "name": "stdout",
     "output_type": "stream",
     "text": [
      "  0.107745 seconds (5.66 k allocations: 118.494 MiB, 4.04% gc time)\n",
      "  0.087095 seconds (5.66 k allocations: 118.494 MiB)\n",
      "  0.074331 seconds (5.07 k allocations: 118.429 MiB)\n"
     ]
    },
    {
     "name": "stderr",
     "output_type": "stream",
     "text": [
      "┌ Info: Found 179 dates points for year 2010 | month 09\n",
      "└ @ Main In[18]:10\n"
     ]
    },
    {
     "name": "stdout",
     "output_type": "stream",
     "text": [
      "  0.079629 seconds (5.08 k allocations: 118.429 MiB, 3.88% gc time)\n",
      "  0.086095 seconds (6.57 k allocations: 118.643 MiB, 4.92% gc time)\n"
     ]
    },
    {
     "name": "stderr",
     "output_type": "stream",
     "text": [
      "┌ Info: Found 293 dates points for year 2010 | month 10\n",
      "└ @ Main In[18]:10\n"
     ]
    },
    {
     "name": "stdout",
     "output_type": "stream",
     "text": [
      "  0.070414 seconds (6.56 k allocations: 118.643 MiB)\n",
      "  0.069787 seconds (6.15 k allocations: 118.601 MiB)\n"
     ]
    },
    {
     "name": "stderr",
     "output_type": "stream",
     "text": [
      "┌ Info: Found 261 dates points for year 2010 | month 11\n",
      "└ @ Main In[18]:10\n"
     ]
    },
    {
     "name": "stdout",
     "output_type": "stream",
     "text": [
      "  0.089633 seconds (6.16 k allocations: 118.601 MiB, 5.03% gc time)\n"
     ]
    },
    {
     "name": "stderr",
     "output_type": "stream",
     "text": [
      "┌ Info: Found 241 dates points for year 2010 | month 12\n",
      "└ @ Main In[18]:10\n"
     ]
    },
    {
     "name": "stdout",
     "output_type": "stream",
     "text": [
      "  0.120131 seconds (5.89 k allocations: 118.519 MiB, 4.44% gc time)\n",
      "  0.096772 seconds (5.88 k allocations: 118.519 MiB)\n"
     ]
    },
    {
     "name": "stderr",
     "output_type": "stream",
     "text": [
      "┌ Info: Found 180 dates points for year 2011 | month 01\n",
      "└ @ Main In[18]:10\n"
     ]
    },
    {
     "name": "stdout",
     "output_type": "stream",
     "text": [
      "  0.108220 seconds (5.09 k allocations: 118.432 MiB)\n",
      "  0.076509 seconds (5.09 k allocations: 118.432 MiB, 5.49% gc time)\n",
      "  0.079774 seconds (5.54 k allocations: 118.478 MiB, 5.30% gc time)\n"
     ]
    },
    {
     "name": "stderr",
     "output_type": "stream",
     "text": [
      "┌ Info: Found 214 dates points for year 2011 | month 02\n",
      "└ @ Main In[18]:10\n"
     ]
    },
    {
     "name": "stdout",
     "output_type": "stream",
     "text": [
      "  0.072377 seconds (5.53 k allocations: 118.478 MiB)\n",
      "  0.072700 seconds (6.25 k allocations: 118.612 MiB)\n"
     ]
    },
    {
     "name": "stderr",
     "output_type": "stream",
     "text": [
      "┌ Info: Found 269 dates points for year 2011 | month 03\n",
      "└ @ Main In[18]:10\n"
     ]
    },
    {
     "name": "stdout",
     "output_type": "stream",
     "text": [
      "  0.072646 seconds (6.26 k allocations: 118.613 MiB, 4.62% gc time)\n"
     ]
    },
    {
     "name": "stderr",
     "output_type": "stream",
     "text": [
      "┌ Info: Found 245 dates points for year 2011 | month 04\n",
      "└ @ Main In[18]:10\n"
     ]
    },
    {
     "name": "stdout",
     "output_type": "stream",
     "text": [
      "  0.120237 seconds (5.94 k allocations: 118.524 MiB, 2.62% gc time)\n",
      "  0.108746 seconds (5.93 k allocations: 118.524 MiB)\n"
     ]
    },
    {
     "name": "stderr",
     "output_type": "stream",
     "text": [
      "┌ Info: Found 236 dates points for year 2011 | month 05\n",
      "└ @ Main In[18]:10\n"
     ]
    },
    {
     "name": "stdout",
     "output_type": "stream",
     "text": [
      "  0.120776 seconds (5.81 k allocations: 118.512 MiB)\n",
      "  0.091885 seconds (5.82 k allocations: 118.512 MiB, 3.92% gc time)\n",
      "  0.081643 seconds (5.80 k allocations: 118.510 MiB, 4.43% gc time)\n"
     ]
    },
    {
     "name": "stderr",
     "output_type": "stream",
     "text": [
      "┌ Info: Found 234 dates points for year 2011 | month 06\n",
      "└ @ Main In[18]:10\n"
     ]
    },
    {
     "name": "stdout",
     "output_type": "stream",
     "text": [
      "  0.068925 seconds (5.79 k allocations: 118.510 MiB)\n",
      "  0.079165 seconds (6.59 k allocations: 118.646 MiB)\n"
     ]
    },
    {
     "name": "stderr",
     "output_type": "stream",
     "text": [
      "┌ Info: Found 295 dates points for year 2011 | month 07\n",
      "└ @ Main In[18]:10\n"
     ]
    },
    {
     "name": "stdout",
     "output_type": "stream",
     "text": [
      "  0.072874 seconds (6.60 k allocations: 118.646 MiB, 4.72% gc time)\n"
     ]
    },
    {
     "name": "stderr",
     "output_type": "stream",
     "text": [
      "┌ Info: Found 206 dates points for year 2011 | month 08\n",
      "└ @ Main In[18]:10\n"
     ]
    },
    {
     "name": "stdout",
     "output_type": "stream",
     "text": [
      "  0.110919 seconds (5.43 k allocations: 118.469 MiB, 3.12% gc time)\n",
      "  0.075147 seconds (5.42 k allocations: 118.469 MiB)\n"
     ]
    },
    {
     "name": "stderr",
     "output_type": "stream",
     "text": [
      "┌ Info: Found 220 dates points for year 2011 | month 09\n",
      "└ @ Main In[18]:10\n"
     ]
    },
    {
     "name": "stdout",
     "output_type": "stream",
     "text": [
      "  0.113096 seconds (5.61 k allocations: 118.490 MiB)\n",
      "  0.135798 seconds (5.61 k allocations: 118.490 MiB, 3.09% gc time)\n",
      "  0.080955 seconds (5.84 k allocations: 118.514 MiB, 4.51% gc time)\n"
     ]
    },
    {
     "name": "stderr",
     "output_type": "stream",
     "text": [
      "┌ Info: Found 237 dates points for year 2011 | month 10\n",
      "└ @ Main In[18]:10\n"
     ]
    },
    {
     "name": "stdout",
     "output_type": "stream",
     "text": [
      "  0.075527 seconds (5.83 k allocations: 118.514 MiB)\n"
     ]
    },
    {
     "name": "stderr",
     "output_type": "stream",
     "text": [
      "┌ Info: Found 208 dates points for year 2011 | month 11\n",
      "└ @ Main In[18]:10\n"
     ]
    },
    {
     "name": "stdout",
     "output_type": "stream",
     "text": [
      "  0.108075 seconds (5.45 k allocations: 118.470 MiB)\n",
      "  0.074552 seconds (5.46 k allocations: 118.470 MiB, 4.16% gc time)\n",
      "  0.090454 seconds (5.40 k allocations: 118.463 MiB, 3.74% gc time)\n"
     ]
    },
    {
     "name": "stderr",
     "output_type": "stream",
     "text": [
      "┌ Info: Found 203 dates points for year 2011 | month 12\n",
      "└ @ Main In[18]:10\n"
     ]
    },
    {
     "name": "stdout",
     "output_type": "stream",
     "text": [
      "  0.096449 seconds (5.39 k allocations: 118.463 MiB)\n"
     ]
    },
    {
     "name": "stderr",
     "output_type": "stream",
     "text": [
      "┌ Info: Found 178 dates points for year 2012 | month 01\n",
      "└ @ Main In[18]:10\n"
     ]
    },
    {
     "name": "stdout",
     "output_type": "stream",
     "text": [
      "  0.103550 seconds (5.06 k allocations: 118.425 MiB)\n",
      "  0.125498 seconds (5.07 k allocations: 118.425 MiB, 5.65% gc time)\n"
     ]
    },
    {
     "name": "stderr",
     "output_type": "stream",
     "text": [
      "┌ Info: Found 229 dates points for year 2012 | month 02\n",
      "└ @ Main In[18]:10\n"
     ]
    },
    {
     "name": "stdout",
     "output_type": "stream",
     "text": [
      "  0.122359 seconds (5.73 k allocations: 118.502 MiB, 4.76% gc time)\n",
      "  0.093541 seconds (5.72 k allocations: 118.502 MiB)\n",
      "  0.075461 seconds (5.79 k allocations: 118.508 MiB)\n"
     ]
    },
    {
     "name": "stderr",
     "output_type": "stream",
     "text": [
      "┌ Info: Found 234 dates points for year 2012 | month 03\n",
      "└ @ Main In[18]:10\n"
     ]
    },
    {
     "name": "stdout",
     "output_type": "stream",
     "text": [
      "  0.069019 seconds (5.79 k allocations: 118.508 MiB, 5.02% gc time)\n",
      "  0.078573 seconds (5.52 k allocations: 118.476 MiB, 4.19% gc time)\n"
     ]
    },
    {
     "name": "stderr",
     "output_type": "stream",
     "text": [
      "┌ Info: Found 212 dates points for year 2012 | month 04\n",
      "└ @ Main In[18]:10\n"
     ]
    },
    {
     "name": "stdout",
     "output_type": "stream",
     "text": [
      "  0.082973 seconds (5.50 k allocations: 118.476 MiB)\n",
      "  0.086805 seconds (4.76 k allocations: 118.396 MiB)\n"
     ]
    },
    {
     "name": "stderr",
     "output_type": "stream",
     "text": [
      "┌ Info: Found 155 dates points for year 2012 | month 05\n",
      "└ @ Main In[18]:10\n"
     ]
    },
    {
     "name": "stdout",
     "output_type": "stream",
     "text": [
      "  0.079164 seconds (4.77 k allocations: 118.396 MiB, 4.06% gc time)\n",
      "  0.079674 seconds (5.87 k allocations: 118.511 MiB, 4.28% gc time)\n"
     ]
    },
    {
     "name": "stderr",
     "output_type": "stream",
     "text": [
      "┌ Info: Found 239 dates points for year 2012 | month 06\n",
      "└ @ Main In[18]:10\n"
     ]
    },
    {
     "name": "stdout",
     "output_type": "stream",
     "text": [
      "  0.068869 seconds (5.86 k allocations: 118.511 MiB)\n",
      "  0.074520 seconds (6.31 k allocations: 118.616 MiB)\n"
     ]
    },
    {
     "name": "stderr",
     "output_type": "stream",
     "text": [
      "┌ Info: Found 274 dates points for year 2012 | month 07\n",
      "└ @ Main In[18]:10\n"
     ]
    },
    {
     "name": "stdout",
     "output_type": "stream",
     "text": [
      "  0.068428 seconds (6.32 k allocations: 118.616 MiB, 4.89% gc time)\n",
      "  0.078708 seconds (4.82 k allocations: 118.398 MiB, 5.43% gc time)\n"
     ]
    },
    {
     "name": "stderr",
     "output_type": "stream",
     "text": [
      "┌ Info: Found 159 dates points for year 2012 | month 08\n",
      "└ @ Main In[18]:10\n"
     ]
    },
    {
     "name": "stdout",
     "output_type": "stream",
     "text": [
      "  0.079946 seconds (4.81 k allocations: 118.398 MiB)\n",
      "  0.084917 seconds (5.80 k allocations: 118.509 MiB)\n"
     ]
    },
    {
     "name": "stderr",
     "output_type": "stream",
     "text": [
      "┌ Info: Found 235 dates points for year 2012 | month 09\n",
      "└ @ Main In[18]:10\n"
     ]
    },
    {
     "name": "stdout",
     "output_type": "stream",
     "text": [
      "  0.076239 seconds (5.81 k allocations: 118.509 MiB, 3.89% gc time)\n",
      "  0.076139 seconds (5.20 k allocations: 118.441 MiB, 4.12% gc time)\n"
     ]
    },
    {
     "name": "stderr",
     "output_type": "stream",
     "text": [
      "┌ Info: Found 188 dates points for year 2012 | month 10\n",
      "└ @ Main In[18]:10\n"
     ]
    },
    {
     "name": "stdout",
     "output_type": "stream",
     "text": [
      "  0.078718 seconds (5.19 k allocations: 118.441 MiB)\n",
      "  0.074468 seconds (5.59 k allocations: 118.485 MiB)\n"
     ]
    },
    {
     "name": "stderr",
     "output_type": "stream",
     "text": [
      "┌ Info: Found 219 dates points for year 2012 | month 11\n",
      "└ @ Main In[18]:10\n"
     ]
    },
    {
     "name": "stdout",
     "output_type": "stream",
     "text": [
      "  0.073761 seconds (5.60 k allocations: 118.485 MiB, 4.17% gc time)\n",
      "  0.088693 seconds (5.29 k allocations: 118.450 MiB, 4.00% gc time)\n"
     ]
    },
    {
     "name": "stderr",
     "output_type": "stream",
     "text": [
      "┌ Info: Found 195 dates points for year 2012 | month 12\n",
      "└ @ Main In[18]:10\n"
     ]
    },
    {
     "name": "stdout",
     "output_type": "stream",
     "text": [
      "  0.091145 seconds (5.28 k allocations: 118.450 MiB)\n",
      "  0.069597 seconds (5.51 k allocations: 118.477 MiB)\n"
     ]
    },
    {
     "name": "stderr",
     "output_type": "stream",
     "text": [
      "┌ Info: Found 213 dates points for year 2013 | month 01\n",
      "└ @ Main In[18]:10\n"
     ]
    },
    {
     "name": "stdout",
     "output_type": "stream",
     "text": [
      "  0.076536 seconds (5.52 k allocations: 118.478 MiB, 4.65% gc time)\n",
      "  0.080496 seconds (5.55 k allocations: 118.480 MiB, 4.10% gc time)\n"
     ]
    },
    {
     "name": "stderr",
     "output_type": "stream",
     "text": [
      "┌ Info: Found 215 dates points for year 2013 | month 02\n",
      "└ @ Main In[18]:10\n"
     ]
    },
    {
     "name": "stdout",
     "output_type": "stream",
     "text": [
      "  0.071547 seconds (5.54 k allocations: 118.479 MiB)\n",
      "  0.066441 seconds (5.64 k allocations: 118.494 MiB)\n"
     ]
    },
    {
     "name": "stderr",
     "output_type": "stream",
     "text": [
      "┌ Info: Found 223 dates points for year 2013 | month 03\n",
      "└ @ Main In[18]:10\n"
     ]
    },
    {
     "name": "stdout",
     "output_type": "stream",
     "text": [
      "  0.071282 seconds (5.65 k allocations: 118.494 MiB, 4.60% gc time)\n",
      "  0.075815 seconds (5.46 k allocations: 118.471 MiB, 4.55% gc time)\n"
     ]
    },
    {
     "name": "stderr",
     "output_type": "stream",
     "text": [
      "┌ Info: Found 208 dates points for year 2013 | month 04\n",
      "└ @ Main In[18]:10\n"
     ]
    },
    {
     "name": "stdout",
     "output_type": "stream",
     "text": [
      "  0.074817 seconds (5.45 k allocations: 118.471 MiB)\n",
      "  0.078181 seconds (6.26 k allocations: 118.612 MiB)\n"
     ]
    },
    {
     "name": "stderr",
     "output_type": "stream",
     "text": [
      "┌ Info: Found 269 dates points for year 2013 | month 05\n",
      "└ @ Main In[18]:10\n"
     ]
    },
    {
     "name": "stdout",
     "output_type": "stream",
     "text": [
      "  0.087058 seconds (6.26 k allocations: 118.612 MiB, 5.06% gc time)\n",
      "  0.077820 seconds (5.04 k allocations: 118.422 MiB, 4.03% gc time)\n"
     ]
    },
    {
     "name": "stderr",
     "output_type": "stream",
     "text": [
      "┌ Info: Found 176 dates points for year 2013 | month 06\n",
      "└ @ Main In[18]:10\n"
     ]
    },
    {
     "name": "stdout",
     "output_type": "stream",
     "text": [
      "  0.080861 seconds (5.03 k allocations: 118.421 MiB)\n",
      "  0.069369 seconds (6.08 k allocations: 118.577 MiB)\n"
     ]
    },
    {
     "name": "stderr",
     "output_type": "stream",
     "text": [
      "┌ Info: Found 256 dates points for year 2013 | month 07\n",
      "└ @ Main In[18]:10\n"
     ]
    },
    {
     "name": "stdout",
     "output_type": "stream",
     "text": [
      "  0.071152 seconds (6.09 k allocations: 118.577 MiB, 4.96% gc time)\n",
      "  0.077057 seconds (5.80 k allocations: 118.509 MiB, 4.17% gc time)\n"
     ]
    },
    {
     "name": "stderr",
     "output_type": "stream",
     "text": [
      "┌ Info: Found 234 dates points for year 2013 | month 08\n",
      "└ @ Main In[18]:10\n"
     ]
    },
    {
     "name": "stdout",
     "output_type": "stream",
     "text": [
      "  0.094872 seconds (5.78 k allocations: 118.509 MiB)\n",
      "  0.080674 seconds (5.39 k allocations: 118.467 MiB)\n"
     ]
    },
    {
     "name": "stderr",
     "output_type": "stream",
     "text": [
      "┌ Info: Found 204 dates points for year 2013 | month 09\n",
      "└ @ Main In[18]:10\n"
     ]
    },
    {
     "name": "stdout",
     "output_type": "stream",
     "text": [
      "  0.073928 seconds (5.40 k allocations: 118.467 MiB, 5.10% gc time)\n",
      "  0.070008 seconds (6.39 k allocations: 118.623 MiB, 4.62% gc time)\n"
     ]
    },
    {
     "name": "stderr",
     "output_type": "stream",
     "text": [
      "┌ Info: Found 279 dates points for year 2013 | month 10\n",
      "└ @ Main In[18]:10\n"
     ]
    },
    {
     "name": "stdout",
     "output_type": "stream",
     "text": [
      "  0.074218 seconds (6.38 k allocations: 118.623 MiB)\n",
      "  0.090674 seconds (6.33 k allocations: 118.621 MiB)\n"
     ]
    },
    {
     "name": "stderr",
     "output_type": "stream",
     "text": [
      "┌ Info: Found 275 dates points for year 2013 | month 11\n",
      "└ @ Main In[18]:10\n"
     ]
    },
    {
     "name": "stdout",
     "output_type": "stream",
     "text": [
      "  0.077154 seconds (6.34 k allocations: 118.621 MiB, 5.26% gc time)\n",
      "  0.083894 seconds (6.34 k allocations: 118.620 MiB, 4.09% gc time)\n"
     ]
    },
    {
     "name": "stderr",
     "output_type": "stream",
     "text": [
      "┌ Info: Found 275 dates points for year 2013 | month 12\n",
      "└ @ Main In[18]:10\n"
     ]
    },
    {
     "name": "stdout",
     "output_type": "stream",
     "text": [
      "  0.083128 seconds (6.33 k allocations: 118.620 MiB)\n",
      "  0.071079 seconds (5.89 k allocations: 118.518 MiB)\n"
     ]
    },
    {
     "name": "stderr",
     "output_type": "stream",
     "text": [
      "┌ Info: Found 242 dates points for year 2014 | month 01\n",
      "└ @ Main In[18]:10\n"
     ]
    },
    {
     "name": "stdout",
     "output_type": "stream",
     "text": [
      "  0.073296 seconds (5.90 k allocations: 118.518 MiB, 4.62% gc time)\n",
      "  0.087279 seconds (5.94 k allocations: 118.521 MiB, 3.76% gc time)\n"
     ]
    },
    {
     "name": "stderr",
     "output_type": "stream",
     "text": [
      "┌ Info: Found 245 dates points for year 2014 | month 02\n",
      "└ @ Main In[18]:10\n"
     ]
    },
    {
     "name": "stdout",
     "output_type": "stream",
     "text": [
      "  0.098281 seconds (5.93 k allocations: 118.521 MiB)\n",
      "  0.076529 seconds (5.97 k allocations: 118.521 MiB)\n"
     ]
    },
    {
     "name": "stderr",
     "output_type": "stream",
     "text": [
      "┌ Info: Found 248 dates points for year 2014 | month 03\n",
      "└ @ Main In[18]:10\n"
     ]
    },
    {
     "name": "stdout",
     "output_type": "stream",
     "text": [
      "  0.071479 seconds (5.97 k allocations: 118.521 MiB, 4.87% gc time)\n",
      "  0.082454 seconds (5.24 k allocations: 118.446 MiB, 3.99% gc time)\n"
     ]
    },
    {
     "name": "stderr",
     "output_type": "stream",
     "text": [
      "┌ Info: Found 191 dates points for year 2014 | month 04\n",
      "└ @ Main In[18]:10\n"
     ]
    },
    {
     "name": "stdout",
     "output_type": "stream",
     "text": [
      "  0.069596 seconds (5.23 k allocations: 118.445 MiB)\n",
      "  0.074986 seconds (6.29 k allocations: 118.616 MiB)\n"
     ]
    },
    {
     "name": "stderr",
     "output_type": "stream",
     "text": [
      "┌ Info: Found 272 dates points for year 2014 | month 05\n",
      "└ @ Main In[18]:10\n"
     ]
    },
    {
     "name": "stdout",
     "output_type": "stream",
     "text": [
      "  0.079514 seconds (6.30 k allocations: 118.616 MiB, 4.15% gc time)\n",
      "  0.080537 seconds (5.42 k allocations: 118.467 MiB, 4.27% gc time)\n"
     ]
    },
    {
     "name": "stderr",
     "output_type": "stream",
     "text": [
      "┌ Info: Found 205 dates points for year 2014 | month 06\n",
      "└ @ Main In[18]:10\n"
     ]
    },
    {
     "name": "stdout",
     "output_type": "stream",
     "text": [
      "  0.070947 seconds (5.41 k allocations: 118.467 MiB)\n",
      "  0.076329 seconds (5.69 k allocations: 118.499 MiB)\n"
     ]
    },
    {
     "name": "stderr",
     "output_type": "stream",
     "text": [
      "┌ Info: Found 226 dates points for year 2014 | month 07\n",
      "└ @ Main In[18]:10\n"
     ]
    },
    {
     "name": "stdout",
     "output_type": "stream",
     "text": [
      "  0.079045 seconds (5.70 k allocations: 118.499 MiB, 5.34% gc time)\n",
      "  0.081094 seconds (6.03 k allocations: 118.534 MiB, 4.79% gc time)\n"
     ]
    },
    {
     "name": "stderr",
     "output_type": "stream",
     "text": [
      "┌ Info: Found 252 dates points for year 2014 | month 08\n",
      "└ @ Main In[18]:10\n"
     ]
    },
    {
     "name": "stdout",
     "output_type": "stream",
     "text": [
      "  0.074753 seconds (6.02 k allocations: 118.534 MiB)\n",
      "  0.080636 seconds (5.87 k allocations: 118.516 MiB)\n"
     ]
    },
    {
     "name": "stderr",
     "output_type": "stream",
     "text": [
      "┌ Info: Found 240 dates points for year 2014 | month 09\n",
      "└ @ Main In[18]:10\n"
     ]
    },
    {
     "name": "stdout",
     "output_type": "stream",
     "text": [
      "  0.073951 seconds (5.88 k allocations: 118.516 MiB, 4.33% gc time)\n",
      "  0.088561 seconds (5.62 k allocations: 118.489 MiB, 4.13% gc time)\n"
     ]
    },
    {
     "name": "stderr",
     "output_type": "stream",
     "text": [
      "┌ Info: Found 220 dates points for year 2014 | month 10\n",
      "└ @ Main In[18]:10\n"
     ]
    },
    {
     "name": "stdout",
     "output_type": "stream",
     "text": [
      "  0.071572 seconds (5.60 k allocations: 118.489 MiB)\n",
      "  0.080539 seconds (5.63 k allocations: 118.493 MiB)\n"
     ]
    },
    {
     "name": "stderr",
     "output_type": "stream",
     "text": [
      "┌ Info: Found 222 dates points for year 2014 | month 11\n",
      "└ @ Main In[18]:10\n"
     ]
    },
    {
     "name": "stdout",
     "output_type": "stream",
     "text": [
      "  0.074970 seconds (5.64 k allocations: 118.493 MiB, 5.63% gc time)\n",
      "  0.078878 seconds (5.81 k allocations: 118.509 MiB, 4.05% gc time)\n"
     ]
    },
    {
     "name": "stderr",
     "output_type": "stream",
     "text": [
      "┌ Info: Found 235 dates points for year 2014 | month 12\n",
      "└ @ Main In[18]:10\n"
     ]
    },
    {
     "name": "stdout",
     "output_type": "stream",
     "text": [
      "  0.072283 seconds (5.80 k allocations: 118.508 MiB)\n",
      "  0.080317 seconds (5.22 k allocations: 118.443 MiB)\n"
     ]
    },
    {
     "name": "stderr",
     "output_type": "stream",
     "text": [
      "┌ Info: Found 190 dates points for year 2015 | month 01\n",
      "└ @ Main In[18]:10\n"
     ]
    },
    {
     "name": "stdout",
     "output_type": "stream",
     "text": [
      "  0.099872 seconds (5.22 k allocations: 118.443 MiB, 5.60% gc time)\n",
      "  0.086249 seconds (5.46 k allocations: 118.469 MiB, 3.72% gc time)\n"
     ]
    },
    {
     "name": "stderr",
     "output_type": "stream",
     "text": [
      "┌ Info: Found 208 dates points for year 2015 | month 02\n",
      "└ @ Main In[18]:10\n"
     ]
    },
    {
     "name": "stdout",
     "output_type": "stream",
     "text": [
      "  0.072266 seconds (5.45 k allocations: 118.469 MiB)\n",
      "  0.068958 seconds (5.19 k allocations: 118.442 MiB)\n"
     ]
    },
    {
     "name": "stderr",
     "output_type": "stream",
     "text": [
      "┌ Info: Found 188 dates points for year 2015 | month 03\n",
      "└ @ Main In[18]:10\n"
     ]
    },
    {
     "name": "stdout",
     "output_type": "stream",
     "text": [
      "  0.069052 seconds (5.19 k allocations: 118.442 MiB)\n"
     ]
    },
    {
     "name": "stderr",
     "output_type": "stream",
     "text": [
      "┌ Info: Found 131 dates points for year 2015 | month 04\n",
      "└ @ Main In[18]:10\n"
     ]
    },
    {
     "name": "stdout",
     "output_type": "stream",
     "text": [
      "  0.113626 seconds (4.45 k allocations: 118.359 MiB, 3.53% gc time)\n",
      "  0.112172 seconds (4.45 k allocations: 118.359 MiB)\n",
      "  0.071747 seconds (5.68 k allocations: 118.497 MiB)\n"
     ]
    },
    {
     "name": "stderr",
     "output_type": "stream",
     "text": [
      "┌ Info: Found 226 dates points for year 2015 | month 05\n",
      "└ @ Main In[18]:10\n"
     ]
    },
    {
     "name": "stdout",
     "output_type": "stream",
     "text": [
      "  0.091199 seconds (5.68 k allocations: 118.497 MiB)\n",
      "  0.075728 seconds (5.43 k allocations: 118.468 MiB, 6.29% gc time)\n"
     ]
    },
    {
     "name": "stderr",
     "output_type": "stream",
     "text": [
      "┌ Info: Found 206 dates points for year 2015 | month 06\n",
      "└ @ Main In[18]:10\n"
     ]
    },
    {
     "name": "stdout",
     "output_type": "stream",
     "text": [
      "  0.070344 seconds (5.42 k allocations: 118.467 MiB)\n",
      "  0.083640 seconds (5.01 k allocations: 118.421 MiB)\n"
     ]
    },
    {
     "name": "stderr",
     "output_type": "stream",
     "text": [
      "┌ Info: Found 174 dates points for year 2015 | month 07\n",
      "└ @ Main In[18]:10\n"
     ]
    },
    {
     "name": "stdout",
     "output_type": "stream",
     "text": [
      "  0.102842 seconds (5.01 k allocations: 118.421 MiB)\n"
     ]
    },
    {
     "name": "stderr",
     "output_type": "stream",
     "text": [
      "┌ Info: Found 201 dates points for year 2015 | month 08\n",
      "└ @ Main In[18]:10\n"
     ]
    },
    {
     "name": "stdout",
     "output_type": "stream",
     "text": [
      "  0.110388 seconds (5.36 k allocations: 118.462 MiB, 4.71% gc time)\n",
      "  0.085223 seconds (5.36 k allocations: 118.462 MiB)\n",
      "  0.081827 seconds (6.47 k allocations: 118.632 MiB)\n"
     ]
    },
    {
     "name": "stderr",
     "output_type": "stream",
     "text": [
      "┌ Info: Found 286 dates points for year 2015 | month 09\n",
      "└ @ Main In[18]:10\n"
     ]
    },
    {
     "name": "stdout",
     "output_type": "stream",
     "text": [
      "  0.083487 seconds (6.47 k allocations: 118.632 MiB)\n"
     ]
    },
    {
     "name": "stderr",
     "output_type": "stream",
     "text": [
      "┌ Info: Found 229 dates points for year 2015 | month 10\n",
      "└ @ Main In[18]:10\n"
     ]
    },
    {
     "name": "stdout",
     "output_type": "stream",
     "text": [
      "  0.117170 seconds (5.73 k allocations: 118.504 MiB, 3.42% gc time)\n",
      "  0.129545 seconds (5.72 k allocations: 118.504 MiB)\n",
      "  0.076665 seconds (5.39 k allocations: 118.464 MiB)\n"
     ]
    },
    {
     "name": "stderr",
     "output_type": "stream",
     "text": [
      "┌ Info: Found 204 dates points for year 2015 | month 11\n",
      "└ @ Main In[18]:10\n"
     ]
    },
    {
     "name": "stdout",
     "output_type": "stream",
     "text": [
      "  0.067302 seconds (5.39 k allocations: 118.464 MiB)\n",
      "  0.074891 seconds (5.91 k allocations: 118.519 MiB, 4.71% gc time)\n"
     ]
    },
    {
     "name": "stderr",
     "output_type": "stream",
     "text": [
      "┌ Info: Found 243 dates points for year 2015 | month 12\n",
      "└ @ Main In[18]:10\n"
     ]
    },
    {
     "name": "stdout",
     "output_type": "stream",
     "text": [
      "  0.065352 seconds (5.91 k allocations: 118.519 MiB)\n",
      "  0.065742 seconds (5.21 k allocations: 118.444 MiB)\n"
     ]
    },
    {
     "name": "stderr",
     "output_type": "stream",
     "text": [
      "┌ Info: Found 190 dates points for year 2016 | month 01\n",
      "└ @ Main In[18]:10\n"
     ]
    },
    {
     "name": "stdout",
     "output_type": "stream",
     "text": [
      "  0.063743 seconds (5.21 k allocations: 118.444 MiB)\n",
      "  0.085008 seconds (5.70 k allocations: 118.500 MiB, 3.90% gc time)\n"
     ]
    },
    {
     "name": "stderr",
     "output_type": "stream",
     "text": [
      "┌ Info: Found 227 dates points for year 2016 | month 02\n",
      "└ @ Main In[18]:10\n"
     ]
    },
    {
     "name": "stdout",
     "output_type": "stream",
     "text": [
      "  0.069327 seconds (5.70 k allocations: 118.500 MiB)\n"
     ]
    },
    {
     "name": "stderr",
     "output_type": "stream",
     "text": [
      "┌ Info: Found 282 dates points for year 2016 | month 03\n",
      "└ @ Main In[18]:10\n"
     ]
    },
    {
     "name": "stdout",
     "output_type": "stream",
     "text": [
      "  0.101187 seconds (6.42 k allocations: 118.631 MiB)\n",
      "  0.133383 seconds (6.42 k allocations: 118.631 MiB)\n",
      "  0.076049 seconds (5.44 k allocations: 118.469 MiB, 4.47% gc time)\n"
     ]
    },
    {
     "name": "stderr",
     "output_type": "stream",
     "text": [
      "┌ Info: Found 207 dates points for year 2016 | month 04\n",
      "└ @ Main In[18]:10\n"
     ]
    },
    {
     "name": "stdout",
     "output_type": "stream",
     "text": [
      "  0.077895 seconds (5.43 k allocations: 118.469 MiB)\n",
      "  0.072097 seconds (5.58 k allocations: 118.484 MiB)\n"
     ]
    },
    {
     "name": "stderr",
     "output_type": "stream",
     "text": [
      "┌ Info: Found 218 dates points for year 2016 | month 05\n",
      "└ @ Main In[18]:10\n"
     ]
    },
    {
     "name": "stdout",
     "output_type": "stream",
     "text": [
      "  0.071742 seconds (5.58 k allocations: 118.484 MiB)\n",
      "  0.070477 seconds (5.33 k allocations: 118.460 MiB)\n"
     ]
    },
    {
     "name": "stderr",
     "output_type": "stream",
     "text": [
      "┌ Info: Found 199 dates points for year 2016 | month 06\n",
      "└ @ Main In[18]:10\n"
     ]
    },
    {
     "name": "stdout",
     "output_type": "stream",
     "text": [
      "  0.072762 seconds (5.34 k allocations: 118.460 MiB, 4.39% gc time)\n",
      "  0.094856 seconds (5.42 k allocations: 118.468 MiB)\n"
     ]
    },
    {
     "name": "stderr",
     "output_type": "stream",
     "text": [
      "┌ Info: Found 206 dates points for year 2016 | month 07\n",
      "└ @ Main In[18]:10\n"
     ]
    },
    {
     "name": "stdout",
     "output_type": "stream",
     "text": [
      "  0.108572 seconds (5.42 k allocations: 118.468 MiB)\n"
     ]
    },
    {
     "name": "stderr",
     "output_type": "stream",
     "text": [
      "┌ Info: Found 209 dates points for year 2016 | month 08\n",
      "└ @ Main In[18]:10\n"
     ]
    },
    {
     "name": "stdout",
     "output_type": "stream",
     "text": [
      "  0.098350 seconds (5.47 k allocations: 118.471 MiB)\n",
      "  0.082423 seconds (5.48 k allocations: 118.471 MiB, 4.32% gc time)\n",
      "  0.071169 seconds (5.49 k allocations: 118.474 MiB)\n"
     ]
    },
    {
     "name": "stderr",
     "output_type": "stream",
     "text": [
      "┌ Info: Found 211 dates points for year 2016 | month 09\n",
      "└ @ Main In[18]:10\n"
     ]
    },
    {
     "name": "stdout",
     "output_type": "stream",
     "text": [
      "  0.067930 seconds (5.49 k allocations: 118.474 MiB)\n",
      "  0.098626 seconds (5.97 k allocations: 118.528 MiB)\n"
     ]
    },
    {
     "name": "stderr",
     "output_type": "stream",
     "text": [
      "┌ Info: Found 248 dates points for year 2016 | month 10\n",
      "└ @ Main In[18]:10\n"
     ]
    },
    {
     "name": "stdout",
     "output_type": "stream",
     "text": [
      "  0.103501 seconds (5.98 k allocations: 118.528 MiB, 3.58% gc time)\n",
      "  0.084517 seconds (5.78 k allocations: 118.509 MiB)\n"
     ]
    },
    {
     "name": "stderr",
     "output_type": "stream",
     "text": [
      "┌ Info: Found 234 dates points for year 2016 | month 11\n",
      "└ @ Main In[18]:10\n"
     ]
    },
    {
     "name": "stdout",
     "output_type": "stream",
     "text": [
      "  0.065712 seconds (5.78 k allocations: 118.509 MiB)\n",
      "  0.071044 seconds (6.18 k allocations: 118.604 MiB)\n"
     ]
    },
    {
     "name": "stderr",
     "output_type": "stream",
     "text": [
      "┌ Info: Found 264 dates points for year 2016 | month 12\n",
      "└ @ Main In[18]:10\n"
     ]
    },
    {
     "name": "stdout",
     "output_type": "stream",
     "text": [
      "  0.073285 seconds (6.20 k allocations: 118.604 MiB, 4.86% gc time)\n"
     ]
    },
    {
     "name": "stderr",
     "output_type": "stream",
     "text": [
      "┌ Info: Found 195 dates points for year 2017 | month 01\n",
      "└ @ Main In[18]:10\n"
     ]
    },
    {
     "name": "stdout",
     "output_type": "stream",
     "text": [
      "  0.105417 seconds (5.28 k allocations: 118.451 MiB)\n",
      "  0.133049 seconds (5.28 k allocations: 118.451 MiB)\n",
      "  0.074044 seconds (4.99 k allocations: 118.418 MiB)\n"
     ]
    },
    {
     "name": "stderr",
     "output_type": "stream",
     "text": [
      "┌ Info: Found 173 dates points for year 2017 | month 02\n",
      "└ @ Main In[18]:10\n"
     ]
    },
    {
     "name": "stdout",
     "output_type": "stream",
     "text": [
      "  0.080365 seconds (5.00 k allocations: 118.418 MiB, 4.53% gc time)\n",
      "  0.067567 seconds (4.72 k allocations: 118.390 MiB)\n"
     ]
    },
    {
     "name": "stderr",
     "output_type": "stream",
     "text": [
      "┌ Info: Found 152 dates points for year 2017 | month 03\n",
      "└ @ Main In[18]:10\n"
     ]
    },
    {
     "name": "stdout",
     "output_type": "stream",
     "text": [
      "  0.065243 seconds (4.72 k allocations: 118.390 MiB)\n",
      "  0.068507 seconds (4.41 k allocations: 118.345 MiB)\n"
     ]
    },
    {
     "name": "stderr",
     "output_type": "stream",
     "text": [
      "┌ Info: Found 128 dates points for year 2017 | month 04\n",
      "└ @ Main In[18]:10\n"
     ]
    },
    {
     "name": "stdout",
     "output_type": "stream",
     "text": [
      "  0.092054 seconds (4.42 k allocations: 118.345 MiB, 4.33% gc time)\n"
     ]
    },
    {
     "name": "stderr",
     "output_type": "stream",
     "text": [
      "┌ Info: Found 176 dates points for year 2017 | month 05\n",
      "└ @ Main In[18]:10\n"
     ]
    },
    {
     "name": "stdout",
     "output_type": "stream",
     "text": [
      "  0.121163 seconds (5.04 k allocations: 118.422 MiB, 4.45% gc time)\n",
      "  0.083415 seconds (5.03 k allocations: 118.422 MiB)\n",
      "  0.066383 seconds (5.08 k allocations: 118.430 MiB)\n"
     ]
    },
    {
     "name": "stderr",
     "output_type": "stream",
     "text": [
      "┌ Info: Found 180 dates points for year 2017 | month 06\n",
      "└ @ Main In[18]:10\n"
     ]
    },
    {
     "name": "stdout",
     "output_type": "stream",
     "text": [
      "  0.077078 seconds (5.09 k allocations: 118.430 MiB, 4.10% gc time)\n",
      "  0.079247 seconds (4.54 k allocations: 118.367 MiB, 4.43% gc time)\n"
     ]
    },
    {
     "name": "stderr",
     "output_type": "stream",
     "text": [
      "┌ Info: Found 137 dates points for year 2017 | month 07\n",
      "└ @ Main In[18]:10\n"
     ]
    },
    {
     "name": "stdout",
     "output_type": "stream",
     "text": [
      "  0.078730 seconds (4.53 k allocations: 118.367 MiB)\n",
      "  0.093882 seconds (5.37 k allocations: 118.461 MiB)\n"
     ]
    },
    {
     "name": "stderr",
     "output_type": "stream",
     "text": [
      "┌ Info: Found 202 dates points for year 2017 | month 08\n",
      "└ @ Main In[18]:10\n"
     ]
    },
    {
     "name": "stdout",
     "output_type": "stream",
     "text": [
      "  0.088604 seconds (5.38 k allocations: 118.461 MiB, 5.58% gc time)\n",
      "  0.081052 seconds (4.82 k allocations: 118.399 MiB, 4.40% gc time)\n"
     ]
    },
    {
     "name": "stderr",
     "output_type": "stream",
     "text": [
      "┌ Info: Found 159 dates points for year 2017 | month 09\n",
      "└ @ Main In[18]:10\n"
     ]
    },
    {
     "name": "stdout",
     "output_type": "stream",
     "text": [
      "  0.083955 seconds (4.81 k allocations: 118.399 MiB)\n",
      "  0.071526 seconds (5.26 k allocations: 118.448 MiB)\n"
     ]
    },
    {
     "name": "stderr",
     "output_type": "stream",
     "text": [
      "┌ Info: Found 194 dates points for year 2017 | month 10\n",
      "└ @ Main In[18]:10\n"
     ]
    },
    {
     "name": "stdout",
     "output_type": "stream",
     "text": [
      "  0.098222 seconds (5.28 k allocations: 118.448 MiB, 4.60% gc time)\n",
      "  0.094780 seconds (4.86 k allocations: 118.403 MiB, 3.58% gc time)\n"
     ]
    },
    {
     "name": "stderr",
     "output_type": "stream",
     "text": [
      "┌ Info: Found 162 dates points for year 2017 | month 11\n",
      "└ @ Main In[18]:10\n"
     ]
    },
    {
     "name": "stdout",
     "output_type": "stream",
     "text": [
      "  0.072631 seconds (4.85 k allocations: 118.403 MiB)\n",
      "  0.072931 seconds (5.13 k allocations: 118.434 MiB)\n"
     ]
    },
    {
     "name": "stderr",
     "output_type": "stream",
     "text": [
      "┌ Info: Found 183 dates points for year 2017 | month 12\n",
      "└ @ Main In[18]:10\n"
     ]
    },
    {
     "name": "stdout",
     "output_type": "stream",
     "text": [
      "  0.073309 seconds (5.14 k allocations: 118.434 MiB, 4.45% gc time)\n",
      "  0.096081 seconds (4.73 k allocations: 118.389 MiB, 3.66% gc time)\n"
     ]
    },
    {
     "name": "stderr",
     "output_type": "stream",
     "text": [
      "┌ Info: Found 152 dates points for year 2018 | month 01\n",
      "└ @ Main In[18]:10\n"
     ]
    },
    {
     "name": "stdout",
     "output_type": "stream",
     "text": [
      "  0.081952 seconds (4.72 k allocations: 118.389 MiB)\n",
      "  0.072854 seconds (4.59 k allocations: 118.373 MiB)\n"
     ]
    },
    {
     "name": "stderr",
     "output_type": "stream",
     "text": [
      "┌ Info: Found 142 dates points for year 2018 | month 02\n",
      "└ @ Main In[18]:10\n"
     ]
    },
    {
     "name": "stdout",
     "output_type": "stream",
     "text": [
      "  0.072728 seconds (4.60 k allocations: 118.373 MiB, 4.27% gc time)\n"
     ]
    },
    {
     "name": "stderr",
     "output_type": "stream",
     "text": [
      "┌ Info: Found 192 dates points for year 2018 | month 03\n",
      "└ @ Main In[18]:10\n"
     ]
    },
    {
     "name": "stdout",
     "output_type": "stream",
     "text": [
      "  0.100019 seconds (5.26 k allocations: 118.446 MiB, 5.05% gc time)\n",
      "  0.072408 seconds (5.24 k allocations: 118.446 MiB)\n",
      "  0.074668 seconds (5.37 k allocations: 118.464 MiB)\n"
     ]
    },
    {
     "name": "stderr",
     "output_type": "stream",
     "text": [
      "┌ Info: Found 202 dates points for year 2018 | month 04\n",
      "└ @ Main In[18]:10\n"
     ]
    },
    {
     "name": "stdout",
     "output_type": "stream",
     "text": [
      "  0.076875 seconds (5.38 k allocations: 118.464 MiB, 4.26% gc time)\n"
     ]
    },
    {
     "name": "stderr",
     "output_type": "stream",
     "text": [
      "┌ Info: Found 201 dates points for year 2018 | month 05\n",
      "└ @ Main In[18]:10\n"
     ]
    },
    {
     "name": "stdout",
     "output_type": "stream",
     "text": [
      "  0.107698 seconds (5.37 k allocations: 118.461 MiB, 3.60% gc time)\n",
      "  0.068655 seconds (5.36 k allocations: 118.461 MiB)\n",
      "  0.066707 seconds (4.62 k allocations: 118.377 MiB)\n"
     ]
    },
    {
     "name": "stderr",
     "output_type": "stream",
     "text": [
      "┌ Info: Found 144 dates points for year 2018 | month 06\n",
      "└ @ Main In[18]:10\n"
     ]
    },
    {
     "name": "stdout",
     "output_type": "stream",
     "text": [
      "  0.079833 seconds (4.62 k allocations: 118.378 MiB, 4.93% gc time)\n",
      "  0.081144 seconds (5.20 k allocations: 118.440 MiB, 4.91% gc time)\n"
     ]
    },
    {
     "name": "stderr",
     "output_type": "stream",
     "text": [
      "┌ Info: Found 188 dates points for year 2018 | month 07\n",
      "└ @ Main In[18]:10\n"
     ]
    },
    {
     "name": "stdout",
     "output_type": "stream",
     "text": [
      "  0.075480 seconds (5.19 k allocations: 118.440 MiB)\n",
      "  0.090884 seconds (5.50 k allocations: 118.474 MiB)\n"
     ]
    },
    {
     "name": "stderr",
     "output_type": "stream",
     "text": [
      "┌ Info: Found 212 dates points for year 2018 | month 08\n",
      "└ @ Main In[18]:10\n"
     ]
    },
    {
     "name": "stdout",
     "output_type": "stream",
     "text": [
      "  0.122341 seconds (5.51 k allocations: 118.474 MiB, 3.51% gc time)\n"
     ]
    },
    {
     "name": "stderr",
     "output_type": "stream",
     "text": [
      "┌ Info: Found 145 dates points for year 2018 | month 09\n",
      "└ @ Main In[18]:10\n"
     ]
    },
    {
     "name": "stdout",
     "output_type": "stream",
     "text": [
      "  0.100873 seconds (4.64 k allocations: 118.379 MiB, 4.59% gc time)\n",
      "  0.080096 seconds (4.63 k allocations: 118.379 MiB)\n"
     ]
    },
    {
     "name": "stderr",
     "output_type": "stream",
     "text": [
      "┌ Info: Found 221 dates points for year 2018 | month 10\n",
      "└ @ Main In[18]:10\n"
     ]
    },
    {
     "name": "stdout",
     "output_type": "stream",
     "text": [
      "  0.106707 seconds (5.62 k allocations: 118.491 MiB)\n",
      "  0.085482 seconds (5.62 k allocations: 118.491 MiB, 4.00% gc time)\n",
      "  0.081342 seconds (5.28 k allocations: 118.448 MiB, 4.00% gc time)\n"
     ]
    },
    {
     "name": "stderr",
     "output_type": "stream",
     "text": [
      "┌ Info: Found 194 dates points for year 2018 | month 11\n",
      "└ @ Main In[18]:10\n"
     ]
    },
    {
     "name": "stdout",
     "output_type": "stream",
     "text": [
      "  0.068675 seconds (5.26 k allocations: 118.448 MiB)\n",
      "  0.072963 seconds (5.51 k allocations: 118.477 MiB)\n"
     ]
    },
    {
     "name": "stderr",
     "output_type": "stream",
     "text": [
      "┌ Info: Found 213 dates points for year 2018 | month 12\n",
      "└ @ Main In[18]:10\n"
     ]
    },
    {
     "name": "stdout",
     "output_type": "stream",
     "text": [
      "  0.077849 seconds (5.52 k allocations: 118.477 MiB, 3.95% gc time)\n"
     ]
    }
   ],
   "source": [
    "iii = 0\n",
    "for yyyy in 1959:2018\n",
    "\n",
    "    for m in 1:12\n",
    "        \n",
    "        iii += 1\n",
    "\n",
    "        mm = lpad(string(m), 2, '0')\n",
    "        goodtime = findall( (Dates.year.(dates) .== yyyy) .& (Dates.month.(dates) .== m) )\n",
    "        @info(\"Found $(length(goodtime)) dates points for year $(yyyy) | month $(mm)\")\n",
    "        \n",
    "        if length(goodtime) > 0\n",
    "\n",
    "            @time f_finmarchicus, s = DIVAndrun(mask, (pm,pn), (xi,yi), (lon[goodtime], lat[goodtime]), \n",
    "                calanus_finmarchicus[goodtime] .- 0. * mean(calanus_finmarchicus[goodtime]), (L, L), epsilon2);\n",
    "            @time f_helgolandicus, s = DIVAndrun(mask, (pm,pn), (xi,yi), (lon[goodtime], lat[goodtime]), \n",
    "                calanus_helgolandicus[goodtime] .- 0. * mean(calanus_helgolandicus[goodtime]), (L, L), epsilon2);\n",
    "            \n",
    "            # Error field\n",
    "            cpme_fin = DIVAnd_cpme(mask, (pm, pn), (xi, yi), (lon[goodtime], lat[goodtime]), \n",
    "                calanus_finmarchicus[goodtime], L, epsilon2);\n",
    "            cpme_hel = DIVAnd_cpme(mask, (pm, pn), (xi, yi), (lon[goodtime], lat[goodtime]), \n",
    "                calanus_helgolandicus[goodtime], L, epsilon2);\n",
    "            \n",
    "            if makeplot\n",
    "                figname = joinpath(figdir, \"analysis_calanus_finmarchicus_$(yyyy)$(mm).jpg\")         \n",
    "                PlottingCalanus.make_plot_analysis(longrid, latgrid, f_finmarchicus, \n",
    "                \"Calanus finmarchicus analysis ($(Dates.monthname(m)) $(yyyy))\", figname, mainproj)\n",
    "\n",
    "                figname = joinpath(figdir, \"analysis_calanus_helgolandicus_$(yyyy)$(mm).jpg\")\n",
    "                #make_plot_analysis(longrid, latgrid, f_helgolandicus .+ mean(calanus_helgolandicus[goodtime]), \n",
    "                #    \"Calanus finmarchicus analysis ($(Dates.monthname(m)) $(yyyy))\", figname)\n",
    "            end\n",
    "         \n",
    "            Dataset(resfilemonth1, \"a\") do ds\n",
    "                ds[\"time\"][iii] = (Dates.Date(yyyy, m, 1) - Dates.Date(1950, 1, 1)).value\n",
    "                ds[\"error\"][:,:,iii] = cpme_fin\n",
    "                ds[\"abundance\"][:,:,iii] = f_finmarchicus\n",
    "            end\n",
    "            \n",
    "            Dataset(resfilemonth2, \"a\") do ds\n",
    "                ds[\"time\"][iii] = (Dates.Date(yyyy, m, 1) - Dates.Date(1950, 1, 1)).value\n",
    "                ds[\"error\"][:,:,iii] = cpme_hel\n",
    "                ds[\"abundance\"][:,:,iii] = f_helgolandicus\n",
    "            end\n",
    "            \n",
    "        else\n",
    "            @warn(\"No data to perform analysis\")\n",
    "        end\n",
    "\n",
    "    end\n",
    "\n",
    "end"
   ]
  },
  {
   "cell_type": "code",
   "execution_count": 19,
   "metadata": {},
   "outputs": [
    {
     "name": "stderr",
     "output_type": "stream",
     "text": [
      "┌ Info: Results writtin in directory ../results/L025/\n",
      "└ @ Main In[19]:1\n"
     ]
    }
   ],
   "source": [
    "@info(\"Results writtin in directory $(resdir)\");"
   ]
  },
  {
   "cell_type": "code",
   "execution_count": null,
   "metadata": {},
   "outputs": [],
   "source": []
  }
 ],
 "metadata": {
  "@webio": {
   "lastCommId": null,
   "lastKernelId": null
  },
  "kernelspec": {
   "display_name": "Julia 1.8.5",
   "language": "julia",
   "name": "julia-1.8"
  },
  "language_info": {
   "file_extension": ".jl",
   "mimetype": "application/julia",
   "name": "julia",
   "version": "1.8.5"
  }
 },
 "nbformat": 4,
 "nbformat_minor": 5
}
