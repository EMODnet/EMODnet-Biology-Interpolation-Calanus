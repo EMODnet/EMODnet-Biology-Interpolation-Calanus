{
 "cells": [
  {
   "cell_type": "markdown",
   "metadata": {},
   "source": [
    "Access and plot the fields from the World Ocean Atlas\n",
    "\n",
    "__Notes:__ it might be better to download all the datasets because the connection to the THREDDS server is rather slow."
   ]
  },
  {
   "cell_type": "code",
   "execution_count": 54,
   "metadata": {},
   "outputs": [
    {
     "data": {
      "text/plain": [
       "PyPlot"
      ]
     },
     "execution_count": 54,
     "metadata": {},
     "output_type": "execute_result"
    }
   ],
   "source": [
    "using NCDatasets\n",
    "using PyPlot\n",
    "const plt = PyPlot"
   ]
  },
  {
   "cell_type": "markdown",
   "metadata": {},
   "source": [
    " ## Settings"
   ]
  },
  {
   "cell_type": "code",
   "execution_count": 1,
   "metadata": {},
   "outputs": [
    {
     "data": {
      "text/plain": [
       "\"https://www.ncei.noaa.gov/thredds-ocean/catalog/ncei/woa/temperature\""
      ]
     },
     "execution_count": 1,
     "metadata": {},
     "output_type": "execute_result"
    }
   ],
   "source": [
    "resolution = 0.25\n",
    "month = 1\n",
    "variable = \"temperature\"\n",
    "baseurl = \"https://www.ncei.noaa.gov/thredds-ocean/catalog/ncei/woa/$(variable)\""
   ]
  },
  {
   "cell_type": "markdown",
   "metadata": {},
   "source": [
    "## Create data URL"
   ]
  },
  {
   "cell_type": "code",
   "execution_count": 9,
   "metadata": {},
   "outputs": [
    {
     "data": {
      "text/plain": [
       "\"https://www.ncei.noaa.gov/thredds-ocean/catalog/ncei/woa/temperature/A5B7/0.25/catalog.html?dataset=ncei/woa/temperature/A5B7/0.25/woa18_A5B7_t01_04.nc\""
      ]
     },
     "execution_count": 9,
     "metadata": {},
     "output_type": "execute_result"
    }
   ],
   "source": [
    "monthnum = lpad(month, 2, \"0\")\n",
    "\n",
    "dataurlref = \"https://www.ncei.noaa.gov/thredds-ocean/dodsC/ncei/woa/temperature/6574/0.25/woa18_6574_t13_04.nc\"\n",
    "dataurl = \"$(baseurl)/A5B7/0.25/catalog.html?dataset=ncei/woa/$(variable)/A5B7/$(resolution)/woa18_A5B7_t$(monthnum)_04.nc\""
   ]
  },
  {
   "cell_type": "code",
   "execution_count": 10,
   "metadata": {},
   "outputs": [
    {
     "name": "stdout",
     "output_type": "stream",
     "text": [
      "\u001b[31mNCDataset: https://www.ncei.noaa.gov/thredds-ocean/dodsC/ncei/woa/temperature/6574/0.25/woa18_6574_t13_04.nc\u001b[39m\n",
      "Group: /\n",
      "\n",
      "\u001b[31mDimensions\u001b[39m\n",
      "   depth = 102\n",
      "   lat = 720\n",
      "   lon = 1440\n",
      "   nbounds = 2\n",
      "   time = 1\n",
      "\n",
      "\u001b[31mVariables\u001b[39m\n",
      "\u001b[32m  crs\u001b[39m  \n",
      "    Attributes:\n",
      "     grid_mapping_name    = \u001b[36mlatitude_longitude\u001b[39m\n",
      "     epsg_code            = \u001b[36mEPSG:4326\u001b[39m\n",
      "     longitude_of_prime_meridian = \u001b[36m0.0\u001b[39m\n",
      "     semi_major_axis      = \u001b[36m6.378137e6\u001b[39m\n",
      "     inverse_flattening   = \u001b[36m298.25723\u001b[39m\n",
      "\n",
      "\u001b[32m  lat\u001b[39m   (720)\n",
      "    Datatype:    Float32\n",
      "    Dimensions:  lat\n",
      "    Attributes:\n",
      "     standard_name        = \u001b[36mlatitude\u001b[39m\n",
      "     long_name            = \u001b[36mlatitude\u001b[39m\n",
      "     units                = \u001b[36mdegrees_north\u001b[39m\n",
      "     axis                 = \u001b[36mY\u001b[39m\n",
      "     bounds               = \u001b[36mlat_bnds\u001b[39m\n",
      "     _ChunkSizes          = \u001b[36m720\u001b[39m\n",
      "\n",
      "\u001b[32m  lat_bnds\u001b[39m   (2 × 720)\n",
      "    Datatype:    Float32\n",
      "    Dimensions:  nbounds × lat\n",
      "    Attributes:\n",
      "     comment              = \u001b[36mlatitude bounds\u001b[39m\n",
      "     _ChunkSizes          = \u001b[36mInt32[720, 2]\u001b[39m\n",
      "\n",
      "\u001b[32m  lon\u001b[39m   (1440)\n",
      "    Datatype:    Float32\n",
      "    Dimensions:  lon\n",
      "    Attributes:\n",
      "     standard_name        = \u001b[36mlongitude\u001b[39m\n",
      "     long_name            = \u001b[36mlongitude\u001b[39m\n",
      "     units                = \u001b[36mdegrees_east\u001b[39m\n",
      "     axis                 = \u001b[36mX\u001b[39m\n",
      "     bounds               = \u001b[36mlon_bnds\u001b[39m\n",
      "     _ChunkSizes          = \u001b[36m1440\u001b[39m\n",
      "\n",
      "\u001b[32m  lon_bnds\u001b[39m   (2 × 1440)\n",
      "    Datatype:    Float32\n",
      "    Dimensions:  nbounds × lon\n",
      "    Attributes:\n",
      "     comment              = \u001b[36mlongitude bounds\u001b[39m\n",
      "     _ChunkSizes          = \u001b[36mInt32[1440, 2]\u001b[39m\n",
      "\n",
      "\u001b[32m  depth\u001b[39m   (102)\n",
      "    Datatype:    Float32\n",
      "    Dimensions:  depth\n",
      "    Attributes:\n",
      "     standard_name        = \u001b[36mdepth\u001b[39m\n",
      "     bounds               = \u001b[36mdepth_bnds\u001b[39m\n",
      "     positive             = \u001b[36mdown\u001b[39m\n",
      "     units                = \u001b[36mmeters\u001b[39m\n",
      "     axis                 = \u001b[36mZ\u001b[39m\n",
      "     _ChunkSizes          = \u001b[36m102\u001b[39m\n",
      "\n",
      "\u001b[32m  depth_bnds\u001b[39m   (2 × 102)\n",
      "    Datatype:    Float32\n",
      "    Dimensions:  nbounds × depth\n",
      "    Attributes:\n",
      "     comment              = \u001b[36mdepth bounds\u001b[39m\n",
      "     _ChunkSizes          = \u001b[36mInt32[102, 2]\u001b[39m\n",
      "\n",
      "\u001b[32m  time\u001b[39m   (1)\n",
      "    Datatype:    Float32\n",
      "    Dimensions:  time\n",
      "    Attributes:\n",
      "     standard_name        = \u001b[36mtime\u001b[39m\n",
      "     long_name            = \u001b[36mtime\u001b[39m\n",
      "     units                = \u001b[36mmonths since 1965-01-01 00:00:00\u001b[39m\n",
      "     axis                 = \u001b[36mT\u001b[39m\n",
      "     climatology          = \u001b[36mclimatology_bounds\u001b[39m\n",
      "     _ChunkSizes          = \u001b[36m1\u001b[39m\n",
      "\n",
      "\u001b[32m  climatology_bounds\u001b[39m   (2 × 1)\n",
      "    Datatype:    Float32\n",
      "    Dimensions:  nbounds × time\n",
      "    Attributes:\n",
      "     comment              = \u001b[36mThis variable defines the bounds of the climatological time period for each time\u001b[39m\n",
      "     _ChunkSizes          = \u001b[36mInt32[1, 2]\u001b[39m\n",
      "\n",
      "\u001b[32m  t_an\u001b[39m   (1440 × 720 × 102 × 1)\n",
      "    Datatype:    Float32\n",
      "    Dimensions:  lon × lat × depth × time\n",
      "    Attributes:\n",
      "     standard_name        = \u001b[36msea_water_temperature\u001b[39m\n",
      "     long_name            = \u001b[36mObjectively analyzed mean fields for sea_water_temperature at standard depth levels.\u001b[39m\n",
      "     coordinates          = \u001b[36mtime lat lon depth\u001b[39m\n",
      "     cell_methods         = \u001b[36marea: mean depth: mean time: mean within years time: mean over years\u001b[39m\n",
      "     grid_mapping         = \u001b[36mcrs\u001b[39m\n",
      "     units                = \u001b[36mdegrees_celsius\u001b[39m\n",
      "     _FillValue           = \u001b[36m9.96921e36\u001b[39m\n",
      "     _ChunkSizes          = \u001b[36mInt32[1, 26, 180, 360]\u001b[39m\n",
      "\n",
      "\u001b[32m  t_mn\u001b[39m   (1440 × 720 × 102 × 1)\n",
      "    Datatype:    Float32\n",
      "    Dimensions:  lon × lat × depth × time\n",
      "    Attributes:\n",
      "     standard_name        = \u001b[36msea_water_temperature\u001b[39m\n",
      "     long_name            = \u001b[36mAverage of all unflagged interpolated values at each standard depth level for sea_water_temperature in each grid-square which contain at least one measurement.\u001b[39m\n",
      "     coordinates          = \u001b[36mtime lat lon depth\u001b[39m\n",
      "     cell_methods         = \u001b[36marea: mean depth: mean time: mean within years time: mean over years\u001b[39m\n",
      "     grid_mapping         = \u001b[36mcrs\u001b[39m\n",
      "     units                = \u001b[36mdegrees_celsius\u001b[39m\n",
      "     _FillValue           = \u001b[36m9.96921e36\u001b[39m\n",
      "     _ChunkSizes          = \u001b[36mInt32[1, 26, 180, 360]\u001b[39m\n",
      "\n",
      "\u001b[32m  t_dd\u001b[39m   (1440 × 720 × 102 × 1)\n",
      "    Datatype:    Int32\n",
      "    Dimensions:  lon × lat × depth × time\n",
      "    Attributes:\n",
      "     standard_name        = \u001b[36msea_water_temperature number_of_observations\u001b[39m\n",
      "     long_name            = \u001b[36mThe number of observations of sea_water_temperature in each grid-square at each standard depth level.\u001b[39m\n",
      "     coordinates          = \u001b[36mtime lat lon depth\u001b[39m\n",
      "     cell_methods         = \u001b[36marea: sum depth: point time: sum\u001b[39m\n",
      "     grid_mapping         = \u001b[36mcrs\u001b[39m\n",
      "     units                = \u001b[36m1\u001b[39m\n",
      "     _FillValue           = \u001b[36m-32767\u001b[39m\n",
      "     _ChunkSizes          = \u001b[36mInt32[1, 26, 180, 360]\u001b[39m\n",
      "\n",
      "\u001b[32m  t_sd\u001b[39m   (1440 × 720 × 102 × 1)\n",
      "    Datatype:    Float32\n",
      "    Dimensions:  lon × lat × depth × time\n",
      "    Attributes:\n",
      "     long_name            = \u001b[36mThe standard deviation about the statistical mean of sea_water_temperature in each grid-square at each standard depth level.\u001b[39m\n",
      "     coordinates          = \u001b[36mtime lat lon depth\u001b[39m\n",
      "     cell_methods         = \u001b[36marea: mean depth: mean time: standard_deviation\u001b[39m\n",
      "     grid_mapping         = \u001b[36mcrs\u001b[39m\n",
      "     units                = \u001b[36mdegrees_celsius\u001b[39m\n",
      "     _FillValue           = \u001b[36m9.96921e36\u001b[39m\n",
      "     _ChunkSizes          = \u001b[36mInt32[1, 26, 180, 360]\u001b[39m\n",
      "\n",
      "\u001b[32m  t_se\u001b[39m   (1440 × 720 × 102 × 1)\n",
      "    Datatype:    Float32\n",
      "    Dimensions:  lon × lat × depth × time\n",
      "    Attributes:\n",
      "     standard_name        = \u001b[36msea_water_temperature standard_error\u001b[39m\n",
      "     long_name            = \u001b[36mThe standard error about the statistical mean of sea_water_temperature in each grid-square at each standard depth level.\u001b[39m\n",
      "     coordinates          = \u001b[36mtime lat lon depth\u001b[39m\n",
      "     cell_methods         = \u001b[36marea: mean depth: mean time: mean\u001b[39m\n",
      "     grid_mapping         = \u001b[36mcrs\u001b[39m\n",
      "     units                = \u001b[36mdegrees_celsius\u001b[39m\n",
      "     _FillValue           = \u001b[36m9.96921e36\u001b[39m\n",
      "     _ChunkSizes          = \u001b[36mInt32[1, 26, 180, 360]\u001b[39m\n",
      "\n",
      "\u001b[32m  t_oa\u001b[39m   (1440 × 720 × 102 × 1)\n",
      "    Datatype:    Float32\n",
      "    Dimensions:  lon × lat × depth × time\n",
      "    Attributes:\n",
      "     standard_name        = \u001b[36msea_water_temperature\u001b[39m\n",
      "     long_name            = \u001b[36mstatistical mean value minus the objectively analyzed mean value for sea_water_temperature.\u001b[39m\n",
      "     coordinates          = \u001b[36mtime lat lon depth\u001b[39m\n",
      "     cell_methods         = \u001b[36marea: mean depth: mean time: mean with years time: mean over years\u001b[39m\n",
      "     grid_mapping         = \u001b[36mcrs\u001b[39m\n",
      "     units                = \u001b[36mdegrees_celsius\u001b[39m\n",
      "     _FillValue           = \u001b[36m9.96921e36\u001b[39m\n",
      "     _ChunkSizes          = \u001b[36mInt32[1, 26, 180, 360]\u001b[39m\n",
      "\n",
      "\u001b[32m  t_ma\u001b[39m   (1440 × 720 × 102 × 1)\n",
      "    Datatype:    Float32\n",
      "    Dimensions:  lon × lat × depth × time\n",
      "    Attributes:\n",
      "     standard_name        = \u001b[36msea_water_temperature\u001b[39m\n",
      "     long_name            = \u001b[36m The objectively analyzed value for the given time period minus the objectively analyzed annual mean value for sea_water_temperature.\u001b[39m\n",
      "     coordinates          = \u001b[36mtime lat lon depth\u001b[39m\n",
      "     cell_methods         = \u001b[36marea: mean depth: mean time: mean within years time: mean over years\u001b[39m\n",
      "     grid_mapping         = \u001b[36mcrs\u001b[39m\n",
      "     units                = \u001b[36mdegrees_celsius\u001b[39m\n",
      "     _FillValue           = \u001b[36m9.96921e36\u001b[39m\n",
      "     _ChunkSizes          = \u001b[36mInt32[1, 26, 180, 360]\u001b[39m\n",
      "\n",
      "\u001b[32m  t_gp\u001b[39m   (1440 × 720 × 102 × 1)\n",
      "    Datatype:    Int32\n",
      "    Dimensions:  lon × lat × depth × time\n",
      "    Attributes:\n",
      "     long_name            = \u001b[36mThe number of grid-squares within the smallest radius of influence around each grid-square which contain a statistical mean for sea_water_temperature.\u001b[39m\n",
      "     coordinates          = \u001b[36mtime lat lon depth\u001b[39m\n",
      "     cell_methods         = \u001b[36marea: mean depth: mean time: mean within years time: mean over years\u001b[39m\n",
      "     grid_mapping         = \u001b[36mcrs\u001b[39m\n",
      "     units                = \u001b[36m1\u001b[39m\n",
      "     _FillValue           = \u001b[36m-32767\u001b[39m\n",
      "     _ChunkSizes          = \u001b[36mInt32[1, 26, 180, 360]\u001b[39m\n",
      "\n",
      "\u001b[31mGlobal attributes\u001b[39m\n",
      "  Conventions          = \u001b[36mCF-1.6, ACDD-1.3\u001b[39m\n",
      "  title                = \u001b[36mWorld Ocean Atlas 2018 : sea_water_temperature Winter (Jan-Mar) 1965-1974 0.25 degree\u001b[39m\n",
      "  summary              = \u001b[36mClimatological mean temperature for the global ocean from in situ profile data\u001b[39m\n",
      "  references           = \u001b[36mLocarnini, R. A., A. V. Mishonov, O. K. Baranova, T. P. Boyer, M. M. Zweng, H. E. Garcia, J. R. Reagan, D. Seidov, K. W. Weathers, C. R. Paver, I. V. Smolyar, 2019: World Ocean Atlas 2018, Volume 1: Temperature.  A. V. Mishonov, Technical Ed., NOAA Atlas NESDIS 81\u001b[39m\n",
      "  institution          = \u001b[36mNational Centers for Environmental Information (NCEI)\u001b[39m\n",
      "  comment              = \u001b[36mglobal climatology as part of the World Ocean Atlas project\u001b[39m\n",
      "  id                   = \u001b[36mwoa18_6574_t13_04.nc\u001b[39m\n",
      "  naming_authority     = \u001b[36mgov.noaa.ncei\u001b[39m\n",
      "  sea_name             = \u001b[36mWorld-Wide Distribution\u001b[39m\n",
      "  time_coverage_start  = \u001b[36m1965-01-01\u001b[39m\n",
      "  time_coverage_end    = \u001b[36m1974-01-31\u001b[39m\n",
      "  time_coverage_duration = \u001b[36mP10Y\u001b[39m\n",
      "  time_coverage_resolution = \u001b[36mP03M\u001b[39m\n",
      "  geospatial_lat_min   = \u001b[36m-90.0\u001b[39m\n",
      "  geospatial_lat_max   = \u001b[36m90.0\u001b[39m\n",
      "  geospatial_lon_min   = \u001b[36m-180.0\u001b[39m\n",
      "  geospatial_lon_max   = \u001b[36m180.0\u001b[39m\n",
      "  geospatial_vertical_min = \u001b[36m0.0\u001b[39m\n",
      "  geospatial_vertical_max = \u001b[36m5500.0\u001b[39m\n",
      "  geospatial_lat_units = \u001b[36mdegrees_north\u001b[39m\n",
      "  geospatial_lat_resolution = \u001b[36m0.25 degrees\u001b[39m\n",
      "  geospatial_lon_units = \u001b[36mdegrees_east\u001b[39m\n",
      "  geospatial_lon_resolution = \u001b[36m0.25 degrees\u001b[39m\n",
      "  geospatial_vertical_units = \u001b[36mm\u001b[39m\n",
      "  geospatial_vertical_resolution = \u001b[36mSPECIAL\u001b[39m\n",
      "  geospatial_vertical_positive = \u001b[36mdown\u001b[39m\n",
      "  creator_name         = \u001b[36mOcean Climate Laboratory\u001b[39m\n"
     ]
    },
    {
     "name": "stdout",
     "output_type": "stream",
     "text": [
      "  creator_email        = \u001b[36mNCEI.info@noaa.gov\u001b[39m\n",
      "  creator_url          = \u001b[36mhttp://www.ncei.noaa.gov\u001b[39m\n",
      "  creator_type         = \u001b[36mgroup\u001b[39m\n",
      "  creator_institution  = \u001b[36mNational Centers for Environmental Information\u001b[39m\n",
      "  project              = \u001b[36mWorld Ocean Atlas Project\u001b[39m\n",
      "  processing_level     = \u001b[36mprocessed\u001b[39m\n",
      "  keywords             = \u001b[36mOceans< Ocean Temperature > Water Temperature\u001b[39m\n",
      "  keywords_vocabulary  = \u001b[36mISO 19115\u001b[39m\n",
      "  standard_name_vocabulary = \u001b[36mCF Standard Name Table v49\u001b[39m\n",
      "  contributor_name     = \u001b[36mOcean Climate Laboratory\u001b[39m\n",
      "  contributor_role     = \u001b[36mCalculation of climatologies\u001b[39m\n",
      "  cdm_data_type        = \u001b[36mGrid\u001b[39m\n",
      "  publisher_name       = \u001b[36mNational Centers for Environmental Information (NCEI)\u001b[39m\n",
      "  publisher_institution = \u001b[36mNational Centers for Environmental Information\u001b[39m\n",
      "  publisher_type       = \u001b[36minstitution\u001b[39m\n",
      "  publisher_url        = \u001b[36mhttp://www.ncei.noaa.gov/\u001b[39m\n",
      "  publisher_email      = \u001b[36mNCEI.info@noaa.gov\u001b[39m\n",
      "  nodc_template_version = \u001b[36mNODC_NetCDF_Grid_Template_v2.0\u001b[39m\n",
      "  license              = \u001b[36mThese data are openly available to the public. Please acknowledge the use of these data with the text given in the acknowledgment attribute.\u001b[39m\n",
      "  metadata_link        = \u001b[36mhttps://www.nodc.noaa.gov/OC5/woa18/\u001b[39m\n",
      "  date_created         = \u001b[36m2019-07-28 \u001b[39m\n",
      "  date_modified        = \u001b[36m2019-07-28 \u001b[39m\n"
     ]
    }
   ],
   "source": [
    "try \n",
    "    NCDatasets.Dataset(dataurlref) do nc\n",
    "        print(nc)\n",
    "    end\n",
    "catch NetCDF error\n",
    "    @warn(\"NetCDF: Malformed or unexpected Constraint\")\n",
    "end"
   ]
  },
  {
   "cell_type": "code",
   "execution_count": 52,
   "metadata": {},
   "outputs": [
    {
     "data": {
      "text/plain": [
       "read_data_WOA (generic function with 3 methods)"
      ]
     },
     "execution_count": 52,
     "metadata": {},
     "output_type": "execute_result"
    }
   ],
   "source": [
    "function read_data_WOA(dataurl::String, domain=[-180., 180., -90., 90.], depthlevel=5.)\n",
    "    NCDatasets.Dataset(dataurlref) do nc\n",
    "        lon = varbyattrib(nc, standard_name = \"longitude\")[1][:]\n",
    "        lat = varbyattrib(nc, standard_name = \"longitude\")[1][:]\n",
    "        depth = varbyattrib(nc, standard_name = \"depth\")[1][:]\n",
    "        #time = varbyattrib(nc, standard_name = \"time\")[1][:]\n",
    "        \n",
    "\n",
    "        # Subsetting\n",
    "        goodlon = findall((lon .<= domain[2]) .& (lon .>= domain[1]))\n",
    "        goodlat = findall((lat .<= domain[4]) .& (lat .>= domain[3]))\n",
    "        gooddepth = findall(depth .== depthlevel)\n",
    "        \n",
    "        @info(goodlon);\n",
    "        @info(\"Good lat: $(goodlat)\");\n",
    "        @info(gooddepth);\n",
    "        \n",
    "        temperature = varbyattrib(nc, standard_name = \"sea_water_temperature\")[1][goodlat, goodlon, 1, 1]\n",
    "        \n",
    "        return temperature #lon[goodlon], lat[goodlat], depth[gooddepth], temperature\n",
    "    end\n",
    "end"
   ]
  },
  {
   "cell_type": "code",
   "execution_count": 56,
   "metadata": {},
   "outputs": [
    {
     "name": "stderr",
     "output_type": "stream",
     "text": [
      "┌ Info: [601, 602, 603, 604, 605, 606, 607, 608, 609, 610, 611, 612, 613, 614, 615, 616, 617, 618, 619, 620, 621, 622, 623, 624, 625, 626, 627, 628, 629, 630, 631, 632, 633, 634, 635, 636, 637, 638, 639, 640, 641, 642, 643, 644, 645, 646, 647, 648, 649, 650, 651, 652, 653, 654, 655, 656, 657, 658, 659, 660, 661, 662, 663, 664, 665, 666, 667, 668, 669, 670, 671, 672, 673, 674, 675, 676, 677, 678, 679, 680]\n",
      "└ @ Main In[52]:14\n",
      "┌ Info: Good lat: [821, 822, 823, 824, 825, 826, 827, 828, 829, 830, 831, 832, 833, 834, 835, 836, 837, 838, 839, 840, 841, 842, 843, 844, 845, 846, 847, 848, 849, 850, 851, 852, 853, 854, 855, 856, 857, 858, 859, 860]\n",
      "└ @ Main In[52]:15\n",
      "┌ Info: [2]\n",
      "└ @ Main In[52]:16\n",
      "syntax error, unexpected WORD_WORD, expecting SCAN_ATTR or SCAN_DATASET or SCAN_ERROR\n",
      "context: <!DOCTYPE^ HTML PUBLIC \"-//IETF//DTD HTML 2.0//EN\"><html><head><title>502 Proxy Error</title></head><body><h1>Proxy Error</h1><p>The proxy server received an invalidresponse from an upstream server.<br />The proxy server could not handle the request <em><a href=\"/thredds-ocean/dodsC/ncei/woa/temperature/6574/0.25/woa18_6574_t13_04.nc.dods\">GET&nbsp;/thredds-ocean/dodsC/ncei/woa/temperature/6574/0.25/woa18_6574_t13_04.nc.dods</a></em>.<p>Reason: <strong>Error reading from remote server</strong></p></p><p>Additionally, a 502 Bad Gatewayerror was encountered while trying to use an ErrorDocument to handle the request.</p></body></html>\n"
     ]
    },
    {
     "ename": "LoadError",
     "evalue": "NetCDF error: \u001b[31mNetCDF: DAP server error\u001b[39m (NetCDF error code: -70)",
     "output_type": "error",
     "traceback": [
      "NetCDF error: \u001b[31mNetCDF: DAP server error\u001b[39m (NetCDF error code: -70)",
      "",
      "Stacktrace:",
      "  [1] check",
      "    @ ~/.julia/packages/NCDatasets/opjna/src/errorhandling.jl:33 [inlined]",
      "  [2] nc_get_var1(#unused#::Type{Float32}, ncid::Int32, varid::Int32, indexp::Vector{Int64})",
      "    @ NCDatasets ~/.julia/packages/NCDatasets/opjna/src/netcdf_c.jl:738",
      "  [3] getindex(::NCDatasets.Variable{Float32, 4, NCDataset{Nothing}}, ::Int64, ::Int64, ::Int64, ::Int64)",
      "    @ NCDatasets ~/.julia/packages/NCDatasets/opjna/src/variable.jl:307",
      "  [4] getindex",
      "    @ ~/.julia/packages/NCDatasets/opjna/src/cfvariable.jl:597 [inlined]",
      "  [5] macro expansion",
      "    @ ./multidimensional.jl:867 [inlined]",
      "  [6] macro expansion",
      "    @ ./cartesian.jl:64 [inlined]",
      "  [7] macro expansion",
      "    @ ./multidimensional.jl:862 [inlined]",
      "  [8] _unsafe_getindex!",
      "    @ ./multidimensional.jl:875 [inlined]",
      "  [9] _unsafe_getindex(::IndexCartesian, ::NCDatasets.CFVariable{Union{Missing, Float32}, 4, NCDatasets.Variable{Float32, 4, NCDataset{Nothing}}, NCDatasets.Attributes{NCDataset{Nothing}}, NamedTuple{(:fillvalue, :scale_factor, :add_offset, :calendar, :time_origin, :time_factor), Tuple{Float32, Nothing, Nothing, Nothing, Nothing, Nothing}}}, ::Vector{Int64}, ::Vector{Int64}, ::Int64, ::Int64)",
      "    @ Base ./multidimensional.jl:853",
      " [10] _getindex",
      "    @ ./multidimensional.jl:839 [inlined]",
      " [11] getindex(::NCDatasets.CFVariable{Union{Missing, Float32}, 4, NCDatasets.Variable{Float32, 4, NCDataset{Nothing}}, NCDatasets.Attributes{NCDataset{Nothing}}, NamedTuple{(:fillvalue, :scale_factor, :add_offset, :calendar, :time_origin, :time_factor), Tuple{Float32, Nothing, Nothing, Nothing, Nothing, Nothing}}}, ::Vector{Int64}, ::Vector{Int64}, ::Int64, ::Int64)",
      "    @ Base ./abstractarray.jl:1218",
      " [12] (::var\"#39#40\"{Vector{Float64}, Float64})(nc::NCDataset{Nothing})",
      "    @ Main ./In[52]:18",
      " [13] NCDataset(f::var\"#39#40\"{Vector{Float64}, Float64}, args::String; kwargs::Base.Pairs{Symbol, Union{}, Tuple{}, NamedTuple{(), Tuple{}}})",
      "    @ NCDatasets ~/.julia/packages/NCDatasets/opjna/src/dataset.jl:320",
      " [14] NCDataset(::Function, ::String, ::Vararg{String})",
      "    @ NCDatasets ~/.julia/packages/NCDatasets/opjna/src/dataset.jl:318",
      " [15] read_data_WOA(dataurl::String, domain::Vector{Float64}, depthlevel::Float64)",
      "    @ Main ./In[52]:2",
      " [16] top-level scope",
      "    @ In[56]:2",
      " [17] eval",
      "    @ ./boot.jl:373 [inlined]",
      " [18] include_string(mapexpr::typeof(REPL.softscope), mod::Module, code::String, filename::String)",
      "    @ Base ./loading.jl:1196"
     ]
    }
   ],
   "source": [
    "domain = [-30, -10., 25., 35.]\n",
    "T = read_data_WOA(dataurlref, domain, 5.);"
   ]
  },
  {
   "cell_type": "code",
   "execution_count": 55,
   "metadata": {},
   "outputs": [
    {
     "ename": "LoadError",
     "evalue": "PyError ($(Expr(:escape, :(ccall(#= /home/ctroupin/.julia/packages/PyCall/3fwVL/src/pyfncall.jl:43 =# @pysym(:PyObject_Call), PyPtr, (PyPtr, PyPtr, PyPtr), o, pyargsptr, kw))))) <class 'ValueError'>\nValueError('not enough values to unpack (expected 2, got 1)')\n  File \"/home/ctroupin/Software/PythonEnvs/EddyMitchell/lib/python3.8/site-packages/matplotlib/pyplot.py\", line 2785, in pcolormesh\n    __ret = gca().pcolormesh(\n  File \"/home/ctroupin/Software/PythonEnvs/EddyMitchell/lib/python3.8/site-packages/matplotlib/__init__.py\", line 1438, in inner\n    return func(ax, *map(sanitize_sequence, args), **kwargs)\n  File \"/home/ctroupin/Software/PythonEnvs/EddyMitchell/lib/python3.8/site-packages/matplotlib/axes/_axes.py\", line 6085, in pcolormesh\n    X, Y, C, shading = self._pcolorargs('pcolormesh', *args,\n  File \"/home/ctroupin/Software/PythonEnvs/EddyMitchell/lib/python3.8/site-packages/matplotlib/axes/_axes.py\", line 5557, in _pcolorargs\n    nrows, ncols = C.shape\n",
     "output_type": "error",
     "traceback": [
      "PyError ($(Expr(:escape, :(ccall(#= /home/ctroupin/.julia/packages/PyCall/3fwVL/src/pyfncall.jl:43 =# @pysym(:PyObject_Call), PyPtr, (PyPtr, PyPtr, PyPtr), o, pyargsptr, kw))))) <class 'ValueError'>\nValueError('not enough values to unpack (expected 2, got 1)')\n  File \"/home/ctroupin/Software/PythonEnvs/EddyMitchell/lib/python3.8/site-packages/matplotlib/pyplot.py\", line 2785, in pcolormesh\n    __ret = gca().pcolormesh(\n  File \"/home/ctroupin/Software/PythonEnvs/EddyMitchell/lib/python3.8/site-packages/matplotlib/__init__.py\", line 1438, in inner\n    return func(ax, *map(sanitize_sequence, args), **kwargs)\n  File \"/home/ctroupin/Software/PythonEnvs/EddyMitchell/lib/python3.8/site-packages/matplotlib/axes/_axes.py\", line 6085, in pcolormesh\n    X, Y, C, shading = self._pcolorargs('pcolormesh', *args,\n  File \"/home/ctroupin/Software/PythonEnvs/EddyMitchell/lib/python3.8/site-packages/matplotlib/axes/_axes.py\", line 5557, in _pcolorargs\n    nrows, ncols = C.shape\n",
      "",
      "Stacktrace:",
      "  [1] pyerr_check",
      "    @ ~/.julia/packages/PyCall/3fwVL/src/exception.jl:62 [inlined]",
      "  [2] pyerr_check",
      "    @ ~/.julia/packages/PyCall/3fwVL/src/exception.jl:66 [inlined]",
      "  [3] _handle_error(msg::String)",
      "    @ PyCall ~/.julia/packages/PyCall/3fwVL/src/exception.jl:83",
      "  [4] macro expansion",
      "    @ ~/.julia/packages/PyCall/3fwVL/src/exception.jl:97 [inlined]",
      "  [5] #107",
      "    @ ~/.julia/packages/PyCall/3fwVL/src/pyfncall.jl:43 [inlined]",
      "  [6] disable_sigint",
      "    @ ./c.jl:458 [inlined]",
      "  [7] __pycall!",
      "    @ ~/.julia/packages/PyCall/3fwVL/src/pyfncall.jl:42 [inlined]",
      "  [8] _pycall!(ret::PyCall.PyObject, o::PyCall.PyObject, args::Tuple{Vector{Union{Missing, Float32}}}, nargs::Int64, kw::Ptr{Nothing})",
      "    @ PyCall ~/.julia/packages/PyCall/3fwVL/src/pyfncall.jl:29",
      "  [9] _pycall!",
      "    @ ~/.julia/packages/PyCall/3fwVL/src/pyfncall.jl:11 [inlined]",
      " [10] #pycall#113",
      "    @ ~/.julia/packages/PyCall/3fwVL/src/pyfncall.jl:83 [inlined]",
      " [11] pycall",
      "    @ ~/.julia/packages/PyCall/3fwVL/src/pyfncall.jl:83 [inlined]",
      " [12] pcolormesh(args::Vector{Union{Missing, Float32}}; kws::Base.Pairs{Symbol, Union{}, Tuple{}, NamedTuple{(), Tuple{}}})",
      "    @ PyPlot ~/.julia/packages/PyPlot/XHEG0/src/PyPlot.jl:177",
      " [13] pcolormesh(args::Vector{Union{Missing, Float32}})",
      "    @ PyPlot ~/.julia/packages/PyPlot/XHEG0/src/PyPlot.jl:174",
      " [14] top-level scope",
      "    @ In[55]:1",
      " [15] eval",
      "    @ ./boot.jl:373 [inlined]",
      " [16] include_string(mapexpr::typeof(REPL.softscope), mod::Module, code::String, filename::String)",
      "    @ Base ./loading.jl:1196"
     ]
    }
   ],
   "source": [
    "plt.pcolormesh(T)\n",
    "plt.show()"
   ]
  }
 ],
 "metadata": {
  "@webio": {
   "lastCommId": null,
   "lastKernelId": null
  },
  "kernelspec": {
   "display_name": "Julia 1.7.3",
   "language": "julia",
   "name": "julia-1.7"
  },
  "language_info": {
   "file_extension": ".jl",
   "mimetype": "application/julia",
   "name": "julia",
   "version": "1.7.3"
  }
 },
 "nbformat": 4,
 "nbformat_minor": 4
}
