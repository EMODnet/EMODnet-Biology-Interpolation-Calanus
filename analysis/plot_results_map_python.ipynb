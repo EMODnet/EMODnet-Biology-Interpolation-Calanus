{
 "cells": [
  {
   "cell_type": "markdown",
   "metadata": {},
   "source": [
    "# Plot result maps\n",
    "Plot the resuls (interpolated and error fields) from the netCDF created in notebook [interp_Calanus](interp_Calanus.ipynb)."
   ]
  },
  {
   "cell_type": "code",
   "execution_count": null,
   "metadata": {},
   "outputs": [],
   "source": [
    "import os\n",
    "import calendar\n",
    "import netCDF4\n",
    "import numpy as np\n",
    "import matplotlib.pyplot as plt\n",
    "import cartopy.crs as ccrs\n",
    "import cartopy.feature as cfeature \n",
    "import cartopy.mpl.ticker as cartopyticker\n",
    "import toml\n",
    "coast = cfeature.GSHHSFeature(scale=\"high\")\n",
    "lon_formatter = cartopyticker.LongitudeFormatter()\n",
    "lat_formatter = cartopyticker.LatitudeFormatter()\n",
    "plt.style.use(\"calanus.mplstyle\")"
   ]
  },
  {
   "cell_type": "markdown",
   "metadata": {},
   "source": [
    "## Read configuration from config.ini"
   ]
  },
  {
   "cell_type": "code",
   "execution_count": null,
   "metadata": {},
   "outputs": [],
   "source": [
    "config = toml.load(\"config.ini\")\n",
    "config"
   ]
  },
  {
   "cell_type": "markdown",
   "metadata": {},
   "source": [
    "## Set Cartopy projection"
   ]
  },
  {
   "cell_type": "code",
   "execution_count": null,
   "metadata": {},
   "outputs": [],
   "source": [
    "dom = config[\"domain\"]\n",
    "mainproj = ccrs.Mercator(central_longitude=0.5*(dom[0] + dom[1]),\n",
    "    min_latitude=dom[2], max_latitude=dom[3])\n",
    "datacrs = ccrs.PlateCarree();\n",
    "mainproj"
   ]
  },
  {
   "cell_type": "markdown",
   "metadata": {},
   "source": [
    "### Directories and files"
   ]
  },
  {
   "cell_type": "code",
   "execution_count": null,
   "metadata": {},
   "outputs": [],
   "source": [
    "datadir = config[\"directories\"][\"datadir\"]\n",
    "figdir = config[\"directories\"][\"figdir\"]\n",
    "resdir = config[\"directories\"][\"resdir\"]\n",
    "resfigdir = config[\"directories\"][\"resfigdir\"]\n",
    "datafile = os.path.join(datadir, \"MBA_CPRdata_Emodnet_21Jan22.csv\")\n",
    "woafile = os.path.join(datadir, \"WOD/temperature_surface_WOD2.nc\")\n",
    "bathfile = os.path.join(datadir, \"gebco_30sec_16.nc\")\n",
    "outputfile1 = os.path.join(resdir, \"calanus_finmarchicus_year_month.nc\")\n",
    "outputfile2 = os.path.join(resdir, \"calanus_helgolandicus_year_month.nc\")\n",
    "os.path.isfile(woafile)"
   ]
  },
  {
   "cell_type": "markdown",
   "metadata": {},
   "source": [
    "## Read the fields and observations"
   ]
  },
  {
   "cell_type": "code",
   "execution_count": null,
   "metadata": {},
   "outputs": [],
   "source": [
    "def read_results_netcdf(outputfile):\n",
    "    with netCDF4.Dataset(outputfile) as nc:\n",
    "        lon = nc.get_variables_by_attributes(standard_name=\"longitude\")[0][:]\n",
    "        lat = nc.get_variables_by_attributes(standard_name=\"latitude\")[0][:]\n",
    "        time = nc.get_variables_by_attributes(standard_name=\"time\")[0]\n",
    "        dates = netCDF4.num2date(time[:], time.units, only_use_cftime_datetimes=False)\n",
    "        field = nc.variables[\"abundance\"][:]\n",
    "        error = nc.variables[\"error\"][:]\n",
    "        \n",
    "    return lon, lat, dates, field, error"
   ]
  },
  {
   "cell_type": "code",
   "execution_count": null,
   "metadata": {},
   "outputs": [],
   "source": [
    "lon1, lat1, dates1, field1, error1 = read_results_netcdf(outputfile1)\n",
    "lon2, lat2, dates2, field2, error2 = read_results_netcdf(outputfile2)"
   ]
  },
  {
   "cell_type": "markdown",
   "metadata": {},
   "source": [
    "## Plots"
   ]
  },
  {
   "cell_type": "code",
   "execution_count": null,
   "metadata": {},
   "outputs": [],
   "source": [
    "resolution = str(config['dlon']).replace(\".\", \"\")\n",
    "resolution"
   ]
  },
  {
   "cell_type": "markdown",
   "metadata": {},
   "source": [
    "### Analysis\n",
    "#### Canalus finmarchicus"
   ]
  },
  {
   "cell_type": "code",
   "execution_count": null,
   "metadata": {},
   "outputs": [],
   "source": [
    "ntimes = len(dates1)\n",
    "for ii in range(490, 510):\n",
    "    \n",
    "    fig = plt.figure(figsize=(12, 8))\n",
    "    ax = plt.subplot(111, projection=mainproj)\n",
    "    pcm = ax.pcolormesh(lon1, lat1, field1[ii,:,:], shading='auto',\n",
    "                       cmap=plt.cm.hot_r, vmin=0., vmax=25., transform=datacrs)\n",
    "\n",
    "    cb = plt.colorbar(pcm, extend=\"max\")\n",
    "\n",
    "    ax.add_feature(coast, facecolor=\"#363636\", edgecolor=\"k\", zorder=5)\n",
    "    ax.set_extent(dom)\n",
    "    gl = ax.gridlines(crs=ccrs.PlateCarree(), draw_labels=True,\n",
    "                          linewidth=.5, color=\"gray\", alpha=1, linestyle=\"--\")\n",
    "    gl.top_labels = False\n",
    "    gl.right_labels = False\n",
    "    gl.xformatter = lon_formatter\n",
    "    gl.yformatter = lat_formatter\n",
    "    ax.set_title(f\"Canalus finmarchicus\\n{calendar.month_name[dates1[ii].month]} {dates1[ii].year}\")\n",
    "    \n",
    "    figname = f\"Canalus_finmarchicus_L{resolution}_{dates1[ii].year}{str(dates1[ii].month).zfill(2)}\"\n",
    "    plt.savefig(os.path.join(resfigdir, figname))\n",
    "    plt.close()"
   ]
  },
  {
   "cell_type": "markdown",
   "metadata": {},
   "source": [
    "#### Canalus helgolandicus"
   ]
  },
  {
   "cell_type": "code",
   "execution_count": null,
   "metadata": {},
   "outputs": [],
   "source": [
    "for ii in range(490, 510):\n",
    "    \n",
    "    fig = plt.figure(figsize=(12, 8))\n",
    "    ax = plt.subplot(111, projection=mainproj)\n",
    "    pcm = ax.pcolormesh(lon2, lat2, field2[ii,:,:], shading='auto',\n",
    "                       cmap=plt.cm.hot_r, vmin=0., vmax=25., transform=datacrs)\n",
    "\n",
    "    cb = plt.colorbar(pcm, extend=\"max\")\n",
    "\n",
    "    ax.add_feature(coast, facecolor=\"#363636\", edgecolor=\"k\", zorder=5)\n",
    "    ax.set_extent(dom)\n",
    "    gl = ax.gridlines(crs=ccrs.PlateCarree(), draw_labels=True,\n",
    "                          linewidth=.5, color=\"gray\", alpha=1, linestyle=\"--\")\n",
    "    gl.top_labels = False\n",
    "    gl.right_labels = False\n",
    "    gl.xformatter = lon_formatter\n",
    "    gl.yformatter = lat_formatter\n",
    "    ax.set_title(f\"Canalus helgolandicus\\n{calendar.month_name[dates1[ii].month]} {dates1[ii].year}\")\n",
    "    \n",
    "    figname = f\"Canalus_helgolandicus_L{resolution}_{dates1[ii].year}{str(dates1[ii].month).zfill(2)}\"\n",
    "    plt.savefig(os.path.join(resfigdir, figname))\n",
    "    plt.close()"
   ]
  },
  {
   "cell_type": "markdown",
   "metadata": {},
   "source": [
    "#### Error field\n",
    "The field is the same for both species as the data distribution is the same."
   ]
  },
  {
   "cell_type": "code",
   "execution_count": null,
   "metadata": {},
   "outputs": [],
   "source": [
    "for ii in range(490, 510):\n",
    "    \n",
    "    fig = plt.figure(figsize=(12, 8))\n",
    "    ax = plt.subplot(111, projection=mainproj)\n",
    "    pcm = ax.pcolormesh(lon1, lat1, error1[ii,:,:], shading=\"auto\",\n",
    "                       cmap=plt.cm.RdYlGn_r, vmin=0., vmax=1., transform=datacrs)\n",
    "\n",
    "    cb = plt.colorbar(pcm)\n",
    "\n",
    "    ax.add_feature(coast, facecolor=\"#363636\", edgecolor=\"k\", zorder=5)\n",
    "    ax.set_extent(dom)\n",
    "    gl = ax.gridlines(crs=ccrs.PlateCarree(), draw_labels=True,\n",
    "                          linewidth=.5, color=\"gray\", alpha=1, linestyle=\"--\")\n",
    "    gl.top_labels = False\n",
    "    gl.right_labels = False\n",
    "    gl.xformatter = lon_formatter\n",
    "    gl.yformatter = lat_formatter\n",
    "    ax.set_title(f\"Error field, {calendar.month_name[dates1[ii].month]} {dates1[ii].year}\")\n",
    "    \n",
    "    figname = f\"Canalus_error_L{resolution}_{dates1[ii].year}{str(dates1[ii].month).zfill(2)}\"\n",
    "    plt.savefig(os.path.join(resfigdir, figname))\n",
    "    plt.close()"
   ]
  }
 ],
 "metadata": {
  "@webio": {
   "lastCommId": null,
   "lastKernelId": null
  },
  "kernelspec": {
   "display_name": "Rando GC",
   "language": "python",
   "name": "randogc"
  },
  "language_info": {
   "codemirror_mode": {
    "name": "ipython",
    "version": 3
   },
   "file_extension": ".py",
   "mimetype": "text/x-python",
   "name": "python",
   "nbconvert_exporter": "python",
   "pygments_lexer": "ipython3",
   "version": "3.8.0"
  }
 },
 "nbformat": 4,
 "nbformat_minor": 4
}
