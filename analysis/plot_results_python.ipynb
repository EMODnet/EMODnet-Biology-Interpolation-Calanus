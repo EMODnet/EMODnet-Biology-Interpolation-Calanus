{
 "cells": [
  {
   "cell_type": "code",
   "execution_count": 1,
   "metadata": {},
   "outputs": [],
   "source": [
    "import os\n",
    "import calendar\n",
    "import netCDF4\n",
    "import numpy as np\n",
    "import matplotlib.pyplot as plt\n",
    "import cartopy.crs as ccrs\n",
    "import cmocean\n",
    "import csv\n",
    "import matplotlib.colors as colors\n",
    "import cartopy.feature as cfeature \n",
    "import matplotlib.ticker as mticker\n",
    "import cartopy.mpl.ticker as cartopyticker\n",
    "coast = cfeature.GSHHSFeature(scale=\"full\")\n",
    "lon_formatter = cartopyticker.LongitudeFormatter()\n",
    "lat_formatter = cartopyticker.LatitudeFormatter()\n",
    "plt.rcParams.update({'font.size': 14})"
   ]
  },
  {
   "cell_type": "code",
   "execution_count": 2,
   "metadata": {},
   "outputs": [],
   "source": [
    "mycolor = \"#6667AB\"\n",
    "mycolor2 = \"#456A30\" # Green treetop\n",
    "dom = [-20.5, 11.75, 41.25, 67.]\n",
    "mainproj = ccrs.Mercator(central_longitude=0.5*(dom[0] + dom[1]),\n",
    "    min_latitude=dom[2], max_latitude=dom[3])\n",
    "datacrs = ccrs.PlateCarree();"
   ]
  },
  {
   "cell_type": "code",
   "execution_count": 4,
   "metadata": {},
   "outputs": [],
   "source": [
    "datadir = \"../data/\"\n",
    "figdir = \"../figures/L05/\"\n",
    "resdir = \"../results/L05/\"\n",
    "datafile = os.path.join(datadir, \"MBA_CPRdata_Emodnet_21Jan22.csv\")\n",
    "woafile = \"../data/WOD/temperature_surface_WOD2.nc\"\n",
    "bathfile = os.path.join(datadir, \"gebco_30sec_16.nc\")\n",
    "outputfile1 = os.path.join(resdir, \"calanus_finmarchicus_year_month.nc\")\n",
    "outputfile2 = os.path.join(resdir, \"calanus_helgolandicus_year_month.nc\")"
   ]
  },
  {
   "cell_type": "markdown",
   "metadata": {},
   "source": [
    "## Read WOD data"
   ]
  },
  {
   "cell_type": "code",
   "execution_count": 10,
   "metadata": {},
   "outputs": [
    {
     "name": "stdout",
     "output_type": "stream",
     "text": [
      "<class 'netCDF4._netCDF4.Dataset'>\n",
      "root group (NETCDF4 data model, file format HDF5):\n",
      "    dimensions(sizes): observations(529985), idlen(14)\n",
      "    variables(dimensions): float32 obslon(observations), float32 obslat(observations), float64 obstime(observations), float32 obsdepth(observations), |S1 obsid(observations, idlen), float32 Temperature(observations)\n",
      "    groups: \n"
     ]
    }
   ],
   "source": [
    "with netCDF4.Dataset(woafile, \"r\") as nc:\n",
    "    print(nc)\n",
    "    lonWOA = nc.get_variables_by_attributes(standard_name=\"longitude\")[0][:]\n",
    "    latWOA = nc.get_variables_by_attributes(standard_name=\"latitude\")[0][:]\n",
    "    time = nc.get_variables_by_attributes(standard_name=\"time\")[0]\n",
    "    T = nc.variables[\"Temperature\"][:]\n",
    "    datesWOA = netCDF4.num2date(time[:], time.units, only_use_cftime_datetimes=False)"
   ]
  },
  {
   "cell_type": "markdown",
   "metadata": {},
   "source": [
    "## Load observations"
   ]
  },
  {
   "cell_type": "code",
   "execution_count": 26,
   "metadata": {},
   "outputs": [],
   "source": [
    "def read_data_csv(datafile):\n",
    "    lon = []\n",
    "    lat = []\n",
    "    year = []\n",
    "    month = []\n",
    "    calanusfinmarchicus = []\n",
    "    calanushelgolandicus = []\n",
    "    with open(datafile, \"r\") as df:\n",
    "        df.readline()\n",
    "        for lines in df:\n",
    "            lsplit = lines.rstrip().split(',')\n",
    "            lat.append(float(lsplit[1]))\n",
    "            lon.append(float(lsplit[2]))\n",
    "            year.append(int(lsplit[3]))\n",
    "            month.append(int(lsplit[4]))\n",
    "            calanusfinmarchicus.append(float(lsplit[5]))\n",
    "            calanushelgolandicus.append(float(lsplit[6]))\n",
    "            \n",
    "    return np.array(lon), np.array(lat), np.array(year), np.array(month), np.array(calanusfinmarchicus), np.array(calanushelgolandicus)"
   ]
  },
  {
   "cell_type": "code",
   "execution_count": 27,
   "metadata": {},
   "outputs": [],
   "source": [
    "lonobs, latobs, yearobs, monthobs, calanusfinmarchicus, calanushelgolandicus = read_data_csv(datafile)"
   ]
  },
  {
   "cell_type": "markdown",
   "metadata": {},
   "source": [
    "## Load results"
   ]
  },
  {
   "cell_type": "code",
   "execution_count": 13,
   "metadata": {},
   "outputs": [],
   "source": [
    "def get_results(outputfile):\n",
    "    with netCDF4.Dataset(outputfile) as nc:\n",
    "        lon = nc.get_variables_by_attributes(standard_name=\"longitude\")[0][:]\n",
    "        lat = nc.get_variables_by_attributes(standard_name=\"latitude\")[0][:]\n",
    "        time = nc.get_variables_by_attributes(standard_name=\"time\")[0]\n",
    "        dates = netCDF4.num2date(time[:], time.units, only_use_cftime_datetimes=False)\n",
    "        field = nc.variables[\"abundance\"][:]\n",
    "        error = nc.variables[\"error\"][:]\n",
    "        \n",
    "    return lon, lat, dates, field, error"
   ]
  },
  {
   "cell_type": "code",
   "execution_count": 14,
   "metadata": {},
   "outputs": [],
   "source": [
    "lon1, lat1, dates1, field1, error1 = get_results(outputfile1)\n",
    "_, _, _, field2, error2 = get_results(outputfile2)"
   ]
  },
  {
   "cell_type": "code",
   "execution_count": 15,
   "metadata": {},
   "outputs": [],
   "source": [
    "ntimes = len(dates1)\n",
    "for ii in range(490, 510):\n",
    "    \n",
    "    fig = plt.figure(figsize=(12, 8))\n",
    "    ax = plt.subplot(111, projection=mainproj)\n",
    "    pcm = ax.pcolormesh(lon1, lat1, field1[ii,:,:],\n",
    "                       cmap=plt.cm.hot_r, vmin=0., vmax=25., transform=datacrs)\n",
    "\n",
    "    cb = plt.colorbar(pcm, extend=\"max\")\n",
    "\n",
    "    ax.add_feature(coast, facecolor=\"#363636\", edgecolor=\"k\", zorder=5)\n",
    "    ax.set_extent(dom)\n",
    "    gl = ax.gridlines(crs=ccrs.PlateCarree(), draw_labels=True,\n",
    "                          linewidth=.5, color=\"gray\", alpha=1, linestyle=\"--\")\n",
    "    gl.top_labels = False\n",
    "    gl.right_labels = False\n",
    "    gl.xformatter = lon_formatter\n",
    "    gl.yformatter = lat_formatter\n",
    "    ax.set_title(f\"Canalus finmarchicus, {calendar.month_name[dates1[ii].month]} {dates1[ii].year}\")\n",
    "    \n",
    "    figname = f\"Canalus_finmarchicus_L05_{dates1[ii].year}{str(dates1[ii].month).zfill(2)}.jpg\"\n",
    "    plt.savefig(os.path.join(figdir, figname), dpi=300, bbox_inches=\"tight\")\n",
    "    plt.close()"
   ]
  },
  {
   "cell_type": "code",
   "execution_count": 16,
   "metadata": {},
   "outputs": [],
   "source": [
    "for ii in range(490, 510):\n",
    "    \n",
    "    fig = plt.figure(figsize=(12, 8))\n",
    "    ax = plt.subplot(111, projection=mainproj)\n",
    "    pcm = ax.pcolormesh(lon1, lat1, field2[ii,:,:],\n",
    "                       cmap=plt.cm.hot_r, vmin=0., vmax=25., transform=datacrs)\n",
    "\n",
    "    cb = plt.colorbar(pcm, extend=\"max\")\n",
    "\n",
    "    ax.add_feature(coast, facecolor=\"#363636\", edgecolor=\"k\", zorder=5)\n",
    "    ax.set_extent(dom)\n",
    "    gl = ax.gridlines(crs=ccrs.PlateCarree(), draw_labels=True,\n",
    "                          linewidth=.5, color=\"gray\", alpha=1, linestyle=\"--\")\n",
    "    gl.top_labels = False\n",
    "    gl.right_labels = False\n",
    "    gl.xformatter = lon_formatter\n",
    "    gl.yformatter = lat_formatter\n",
    "    ax.set_title(f\"Canalus helgolandicus, {calendar.month_name[dates1[ii].month]} {dates1[ii].year}\")\n",
    "    \n",
    "    figname = f\"Canalus_helgolandicus_L05_{dates1[ii].year}{str(dates1[ii].month).zfill(2)}.jpg\"\n",
    "    plt.savefig(os.path.join(figdir, figname), dpi=300, bbox_inches=\"tight\")\n",
    "    plt.close()"
   ]
  },
  {
   "cell_type": "code",
   "execution_count": 17,
   "metadata": {},
   "outputs": [],
   "source": [
    "for ii in range(490, 510):\n",
    "    \n",
    "    fig = plt.figure(figsize=(12, 8))\n",
    "    ax = plt.subplot(111, projection=mainproj)\n",
    "    pcm = ax.pcolormesh(lon1, lat1, error1[ii,:,:],\n",
    "                       cmap=plt.cm.RdYlGn_r, vmin=0., vmax=1., transform=datacrs)\n",
    "\n",
    "    cb = plt.colorbar(pcm)\n",
    "\n",
    "    ax.add_feature(coast, facecolor=\"#363636\", edgecolor=\"k\", zorder=5)\n",
    "    ax.set_extent(dom)\n",
    "    gl = ax.gridlines(crs=ccrs.PlateCarree(), draw_labels=True,\n",
    "                          linewidth=.5, color=\"gray\", alpha=1, linestyle=\"--\")\n",
    "    gl.top_labels = False\n",
    "    gl.right_labels = False\n",
    "    gl.xformatter = lon_formatter\n",
    "    gl.yformatter = lat_formatter\n",
    "    ax.set_title(f\"Error field, {calendar.month_name[dates1[ii].month]} {dates1[ii].year}\")\n",
    "    \n",
    "    figname = f\"Canalus_finmarchicus_L05_error_{dates1[ii].year}{str(dates1[ii].month).zfill(2)}.jpg\"\n",
    "    plt.savefig(os.path.join(figdir, figname), dpi=300, bbox_inches=\"tight\")\n",
    "    plt.close()"
   ]
  },
  {
   "cell_type": "code",
   "execution_count": 29,
   "metadata": {},
   "outputs": [],
   "source": [
    "for yyyy in range(2001, 2002):\n",
    "    \n",
    "    for mm in range(1, 5):\n",
    "        \n",
    "        goodtime = np.where((yearobs == yyyy) & (monthobs == mm))[0]\n",
    "    \n",
    "        fig = plt.figure(figsize=(12, 8))\n",
    "        ax = plt.subplot(111, projection=mainproj)\n",
    "        \n",
    "        ax.plot(lonobs[goodtime], latobs[goodtime], \"ko\", ms=.25, transform=datacrs, zorder=3)\n",
    "        sca = ax.scatter(lonobs[goodtime], latobs[goodtime], s=8, c=calanusfinmarchicus[goodtime],\n",
    "                           cmap=plt.cm.hot_r, vmin=0., vmax=25., transform=datacrs, zorder=2)\n",
    "\n",
    "        cb = plt.colorbar(sca, extend=\"max\")\n",
    "\n",
    "        ax.add_feature(coast, facecolor=\"#363636\", edgecolor=\"k\", zorder=5)\n",
    "        ax.set_extent(dom)\n",
    "        gl = ax.gridlines(crs=ccrs.PlateCarree(), draw_labels=True,\n",
    "                              linewidth=.5, color=\"gray\", alpha=1, linestyle=\"--\")\n",
    "        gl.top_labels = False\n",
    "        gl.right_labels = False\n",
    "        gl.xformatter = lon_formatter\n",
    "        gl.yformatter = lat_formatter\n",
    "        ax.set_title(f\"Canalus finmarchicus observations, {calendar.month_name[mm]} {yyyy}\")\n",
    "\n",
    "        figname = f\"Canalus_finmarchicus_obs_{yyyy}{str(mm).zfill(2)}.jpg\"\n",
    "        plt.savefig(os.path.join(figdir, figname), dpi=300, bbox_inches=\"tight\")\n",
    "        plt.close()"
   ]
  },
  {
   "cell_type": "code",
   "execution_count": 17,
   "metadata": {},
   "outputs": [],
   "source": [
    "yearsWOA = np.array([dd.year for dd in datesWOA])\n",
    "monthWOA = np.array([dd.month for dd in datesWOA])"
   ]
  },
  {
   "cell_type": "code",
   "execution_count": 24,
   "metadata": {},
   "outputs": [],
   "source": [
    "for yyyy in range(2001, 2002):\n",
    "    \n",
    "    for mm in range(1, 13):\n",
    "        \n",
    "        goodtime = np.where((yearsWOA == yyyy) & (monthWOA == mm))[0]\n",
    "    \n",
    "        fig = plt.figure(figsize=(12, 8))\n",
    "        ax = plt.subplot(111, projection=mainproj)\n",
    "        sca = ax.scatter(lonWOA[goodtime], latWOA[goodtime], s=8, c=T[goodtime],\n",
    "                           cmap=plt.cm.RdYlBu_r, vmin=2., vmax=15., transform=datacrs)\n",
    "\n",
    "        cb = plt.colorbar(sca, extend=\"both\")\n",
    "\n",
    "        ax.add_feature(coast, facecolor=\"#363636\", edgecolor=\"k\", zorder=5)\n",
    "        ax.set_extent(dom)\n",
    "        gl = ax.gridlines(crs=ccrs.PlateCarree(), draw_labels=True,\n",
    "                              linewidth=.5, color=\"gray\", alpha=1, linestyle=\"--\")\n",
    "        gl.top_labels = False\n",
    "        gl.right_labels = False\n",
    "        gl.xformatter = lon_formatter\n",
    "        gl.yformatter = lat_formatter\n",
    "        ax.set_title(f\"Temperature observations, {calendar.month_name[mm]} {yyyy}\")\n",
    "\n",
    "        figname = f\"temperature_obs_{yyyy}{str(mm).zfill(2)}.jpg\"\n",
    "        plt.savefig(os.path.join(figdir, figname), dpi=300, bbox_inches=\"tight\")\n",
    "        plt.close()"
   ]
  },
  {
   "cell_type": "code",
   "execution_count": 22,
   "metadata": {},
   "outputs": [
    {
     "data": {
      "text/plain": [
       "29.98"
      ]
     },
     "execution_count": 22,
     "metadata": {},
     "output_type": "execute_result"
    }
   ],
   "source": [
    "np.max(T)"
   ]
  },
  {
   "cell_type": "code",
   "execution_count": null,
   "metadata": {},
   "outputs": [],
   "source": []
  }
 ],
 "metadata": {
  "@webio": {
   "lastCommId": null,
   "lastKernelId": null
  },
  "kernelspec": {
   "display_name": "EMODnetPlot",
   "language": "python",
   "name": "emodnetplot"
  },
  "language_info": {
   "codemirror_mode": {
    "name": "ipython",
    "version": 3
   },
   "file_extension": ".py",
   "mimetype": "text/x-python",
   "name": "python",
   "nbconvert_exporter": "python",
   "pygments_lexer": "ipython3",
   "version": "3.8.0"
  }
 },
 "nbformat": 4,
 "nbformat_minor": 4
}
