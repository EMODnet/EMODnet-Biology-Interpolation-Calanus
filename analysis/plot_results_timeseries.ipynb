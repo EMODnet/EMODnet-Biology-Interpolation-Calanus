{
 "cells": [
  {
   "cell_type": "markdown",
   "metadata": {},
   "source": [
    "# Plot times series based the gridded fields "
   ]
  },
  {
   "cell_type": "code",
   "execution_count": 38,
   "metadata": {},
   "outputs": [
    {
     "name": "stderr",
     "output_type": "stream",
     "text": [
      "WARNING: replacing module InterpCalanus.\n"
     ]
    },
    {
     "data": {
      "text/plain": [
       "\"#456A30\""
      ]
     },
     "execution_count": 38,
     "metadata": {},
     "output_type": "execute_result"
    }
   ],
   "source": [
    "using Dates\n",
    "using DelimitedFiles \n",
    "using NCDatasets\n",
    "using PyPlot\n",
    "using DIVAnd\n",
    "const plt=PyPlot\n",
    "using PyCall\n",
    "cmocean = PyCall.pyimport(\"cmocean\")\n",
    "include(\"../src/InterpCalanus.jl\")\n",
    "include(\"../src/config.jl\")"
   ]
  },
  {
   "cell_type": "markdown",
   "metadata": {},
   "source": [
    "## Files and directories"
   ]
  },
  {
   "cell_type": "code",
   "execution_count": 42,
   "metadata": {},
   "outputs": [],
   "source": [
    "isdir(resdir) ? @debug(\"already there\") : mkpath(resdir)\n",
    "isdir(figdir) ? @debug(\"already there\") : mkpath(figdir)\n",
    "isdir(resfigdir) ? @debug(\"already there\") : mkpath(resfigdir)\n",
    "isfile(datafile) ? @debug(\"already downloaded\") : download(datafileURL, datafile)"
   ]
  },
  {
   "cell_type": "markdown",
   "metadata": {},
   "source": [
    "## Reading monthly and yearly results"
   ]
  },
  {
   "cell_type": "code",
   "execution_count": 32,
   "metadata": {},
   "outputs": [
    {
     "data": {
      "text/plain": [
       "true"
      ]
     },
     "execution_count": 32,
     "metadata": {},
     "output_type": "execute_result"
    }
   ],
   "source": [
    "resfile_yearmonth_fidmarchicus = joinpath(resdir, \"calanus_finmarchicus_year_month.nc\")\n",
    "resfile_yearmonth_helgolandicus = joinpath(resdir, \"calanus_helgolandicus_year_month.nc\")\n",
    "resfile_year_fidmarchicus = joinpath(resdir, \"calanus_finmarchicus_year.nc\")\n",
    "resfile_year_helgolandicus = joinpath(resdir, \"calanus_helgolandicus_year.nc\")\n",
    "\n",
    "isfile(resfile_yearmonth_fidmarchicus) & isfile(resfile_yearmonth_helgolandicus) & \n",
    "isfile(resfile_year_fidmarchicus) & isfile(resfile_year_helgolandicus)"
   ]
  },
  {
   "cell_type": "code",
   "execution_count": 33,
   "metadata": {},
   "outputs": [],
   "source": [
    "lonyear_fid, lat_year_fid, times_year, field_year_fid, error_year = InterpCalanus.read_results(resfile_year_fidmarchicus)\n",
    "_, _, _, field_year_helgo, _ = InterpCalanus.read_results(resfile_year_helgolandicus);\n",
    "_, _, times_month, field_yearmonth_fid, error_month = InterpCalanus.read_results(resfile_yearmonth_fidmarchicus);\n",
    "_, _, _, field_yearmonth_helgo, _ = InterpCalanus.read_results(resfile_yearmonth_helgolandicus);"
   ]
  },
  {
   "cell_type": "code",
   "execution_count": 34,
   "metadata": {},
   "outputs": [],
   "source": [
    "yearlist = Dates.year.(times_year);"
   ]
  },
  {
   "cell_type": "markdown",
   "metadata": {},
   "source": [
    "### Compute mean for the time series"
   ]
  },
  {
   "cell_type": "code",
   "execution_count": 35,
   "metadata": {},
   "outputs": [],
   "source": [
    "fmean1 = InterpCalanus.compute_time_mean(field_year_fid)\n",
    "fmean2 = InterpCalanus.compute_time_mean(field_year_helgo)\n",
    "fmean3 = InterpCalanus.compute_time_mean(field_yearmonth_fid)\n",
    "fmean4 = InterpCalanus.compute_time_mean(field_yearmonth_helgo);"
   ]
  },
  {
   "cell_type": "markdown",
   "metadata": {},
   "source": [
    "## Make plots\n",
    "### Years"
   ]
  },
  {
   "cell_type": "code",
   "execution_count": 55,
   "metadata": {},
   "outputs": [
    {
     "data": {
      "text/plain": [
       "Dict{String, Any} with 3 entries:\n",
       "  \"facecolor\" => \"white\"\n",
       "  \"edgecolor\" => \".85\"\n",
       "  \"alpha\"     => 0.85"
      ]
     },
     "execution_count": 55,
     "metadata": {},
     "output_type": "execute_result"
    }
   ],
   "source": [
    "textdict = Dict(\"facecolor\"=>\"white\", \"alpha\"=>0.85, \"edgecolor\"=>\".85\")"
   ]
  },
  {
   "cell_type": "code",
   "execution_count": 58,
   "metadata": {},
   "outputs": [],
   "source": [
    "fig = plt.figure()\n",
    "ax = plt.subplot(111)\n",
    "ax.spines[\"top\"].set_visible(false)\n",
    "ax.spines[\"right\"].set_visible(false)\n",
    "ax.plot(times_year, fmean1, \"ko-\", markersize=2, label=\"Calanus finmarchicus\", zorder=3)\n",
    "ax.plot(times_year, fmean2, \"o-\", linewidth=2, color=mycolor, markersize=2, label=\"Calanus helgolandicus\", zorder=3)\n",
    "ax.plot(times_year[argmax(fmean1)], maximum(fmean1), \"ko\", ms=7, zorder=5)\n",
    "ax.plot(times_year[argmax(fmean2)], maximum(fmean2), \"o\", color=mycolor, ms=7, zorder=5)\n",
    "\n",
    "\n",
    "text1 = ax.text(Dates.Year(1) + times_year[argmax(fmean1)], maximum(fmean1), ha=\"left\", va=\"bottom\", \n",
    "    \" $(round(maximum(fmean1), digits=1))\\n($(yearlist[argmax(fmean1)]))\",\n",
    "    zorder=4)\n",
    "text1.set_bbox(textdict)\n",
    "\n",
    "text2 = ax.text(Dates.Year(1) + times_year[argmax(fmean2)], maximum(fmean2), ha=\"left\", va=\"bottom\", \n",
    "    \" $(round(maximum(fmean2), digits=1))\\n($(yearlist[argmax(fmean2)]))\", color=mycolor,\n",
    "    zorder=4)\n",
    "text2.set_bbox(textdict)\n",
    "\n",
    "\n",
    "ax.text(times_year[end], fmean1[end], \" Calanus finmarchicus\", va=\"center\")\n",
    "ax.text(times_year[end], fmean2[end], \" Calanus helgolandicus\", color=mycolor, va=\"center\")\n",
    "ax.set_ylabel(\"Mean\\nabundance\", rotation=0, ha=\"right\", fontsize=18)\n",
    "plt.savefig(joinpath(resfigdir, \"time_series_year.png\"))\n",
    "plt.close()"
   ]
  },
  {
   "cell_type": "markdown",
   "metadata": {},
   "source": [
    "### Months"
   ]
  },
  {
   "cell_type": "code",
   "execution_count": 62,
   "metadata": {},
   "outputs": [],
   "source": [
    "fig = plt.figure()\n",
    "ax = plt.subplot(111)\n",
    "ax.spines[\"top\"].set_visible(false)\n",
    "ax.spines[\"right\"].set_visible(false)\n",
    "ax.plot(times_month, fmean3, \"ko-\", markersize=2, label=\"Calanus fidmarchicus\")\n",
    "ax.plot(times_month, fmean4, \"o-\", markersize=2, label=\"Calanus helgolandicus\", color=mycolor)\n",
    "plt.legend()\n",
    "ax.set_ylabel(\"Mean\\nabundance\", rotation=0, ha=\"right\", fontsize=18)\n",
    "plt.savefig(joinpath(resfigdir, \"time_series_month\"))\n",
    "plt.close()"
   ]
  },
  {
   "cell_type": "markdown",
   "metadata": {},
   "source": [
    "## Error field"
   ]
  },
  {
   "cell_type": "code",
   "execution_count": 64,
   "metadata": {},
   "outputs": [],
   "source": [
    "mean_error_year = InterpCalanus.compute_time_mean(error_year)\n",
    "mean_error_month = InterpCalanus.compute_time_mean(error_month);"
   ]
  },
  {
   "cell_type": "code",
   "execution_count": 66,
   "metadata": {},
   "outputs": [],
   "source": [
    "fig = plt.figure()\n",
    "ax = plt.subplot(111)\n",
    "ax.spines[\"top\"].set_visible(false)\n",
    "ax.spines[\"right\"].set_visible(false)\n",
    "ax.plot(times_year, mean_error_year, \"ko-\", markersize=2)\n",
    "ax.set_ylabel(\"Mean\\nerror\", rotation=0, ha=\"right\", fontsize=18)\n",
    "plt.savefig(joinpath(resfigdir, \"time_series_error_year\"))\n",
    "plt.close()"
   ]
  },
  {
   "cell_type": "code",
   "execution_count": null,
   "metadata": {},
   "outputs": [],
   "source": []
  }
 ],
 "metadata": {
  "@webio": {
   "lastCommId": null,
   "lastKernelId": null
  },
  "kernelspec": {
   "display_name": "Julia 1.8.5",
   "language": "julia",
   "name": "julia-1.8"
  },
  "language_info": {
   "file_extension": ".jl",
   "mimetype": "application/julia",
   "name": "julia",
   "version": "1.8.5"
  }
 },
 "nbformat": 4,
 "nbformat_minor": 5
}
