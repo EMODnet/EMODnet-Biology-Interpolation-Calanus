{
 "cells": [
  {
   "cell_type": "markdown",
   "metadata": {},
   "source": [
    "Preparation of the World Ocean Database data for the period and depth of interest.     \n",
    "The domain is defined in the variable `dom` (tuple)."
   ]
  },
  {
   "cell_type": "code",
   "execution_count": null,
   "metadata": {},
   "outputs": [],
   "source": [
    "using NCDatasets\n",
    "using PhysOcean\n",
    "using DIVAnd\n",
    "using PyPlot\n",
    "using Dates\n",
    "using Statistics\n",
    "const plt = PyPlot\n",
    "using PyCall\n",
    "using TOML\n",
    "mpl = PyCall.pyimport(\"matplotlib\")\n",
    "mpl.style.use(\"calanus.mplstyle\")\n",
    "include(\"../src/InterpCalanus.jl\")\n",
    "usecartopy = false"
   ]
  },
  {
   "cell_type": "code",
   "execution_count": null,
   "metadata": {},
   "outputs": [],
   "source": [
    "config = TOML.parsefile(\"./config.ini\")\n",
    "dom = config[\"domain\"]"
   ]
  },
  {
   "cell_type": "code",
   "execution_count": null,
   "metadata": {},
   "outputs": [],
   "source": [
    "if usecartopy\n",
    "    \n",
    "    ccrs = PyCall.pyimport(\"cartopy.crs\")\n",
    "    cfeature = PyCall.pyimport(\"cartopy.feature\")\n",
    "    coast = cfeature.GSHHSFeature(scale=\"full\");\n",
    "    cartopyticker = PyCall.pyimport(\"cartopy.mpl.ticker\")\n",
    "    lon_formatter = cartopyticker.LongitudeFormatter()\n",
    "    lat_formatter = cartopyticker.LatitudeFormatter()\n",
    "    mainproj = ccrs.Mercator(central_longitude=0.5*(dom[1] + dom[2]),\n",
    "        min_latitude=dom[3], max_latitude=dom[4])\n",
    "    datacrs = ccrs.PlateCarree();\n",
    "end"
   ]
  },
  {
   "cell_type": "code",
   "execution_count": null,
   "metadata": {},
   "outputs": [],
   "source": [
    "datadir = \"/media/ctroupin/My Passport/data/WOD/NorthSea-EMODnetBio\"\n",
    "outputdir = \"../data/WOD\"\n",
    "figdir = config[\"directories\"][\"wodfigdir\"]\n",
    "varname = \"Temperature\"\n",
    "mycolor = \"#6667AB\"\n",
    "isdir(outputdir) ? @debug(\"ok\") : mkpath(outputdir)\n",
    "isdir(figdir) ? @debug(\"ok\") : mkpath(figdir);"
   ]
  },
  {
   "cell_type": "code",
   "execution_count": null,
   "metadata": {},
   "outputs": [],
   "source": [
    "outputfile = joinpath(outputdir, \"temperature_surface_WOD2.nc\")\n",
    "\n",
    "if isfile(outputfile)\n",
    "    @info(\"Already read the data from WOD\");\n",
    "    @time obsvalue, obslon, obslat, obsdepth, obstime, obsids = loadobs(Float64, outputfile, varname);\n",
    "    \n",
    "else\n",
    "    @info(\"Reading data from WOD and re-writing in a new netCDF\");\n",
    "    \n",
    "    #@time obsvalue, obslon, obslat, obsdepth, obstime, obsid = \n",
    "    #WorldOceanDatabase.load(Float64, datadir, varname);\n",
    "\n",
    "    #@time DIVAnd.saveobs(outputfile, \n",
    "    #        varname, obsvalue[gooddepth], \n",
    "    #        (obslon[gooddepth], obslat[gooddepth], obsdepth[gooddepth], obstime[gooddepth]), \n",
    "    #        obsid[gooddepth]);\n",
    "end"
   ]
  },
  {
   "cell_type": "markdown",
   "metadata": {},
   "source": [
    "### Select near-surface observations"
   ]
  },
  {
   "cell_type": "code",
   "execution_count": null,
   "metadata": {},
   "outputs": [],
   "source": [
    "gooddepth = findall(obsdepth .< 5.);\n",
    "@info(length(gooddepth));"
   ]
  },
  {
   "cell_type": "markdown",
   "metadata": {},
   "source": [
    "## Time histogram\n",
    "Get the years and months for the observations near surface (i.e., shallower than 5 m)."
   ]
  },
  {
   "cell_type": "markdown",
   "metadata": {},
   "source": [
    "### Monthly histogram"
   ]
  },
  {
   "cell_type": "code",
   "execution_count": null,
   "metadata": {},
   "outputs": [],
   "source": [
    "yearcount, monthcount = InterpCalanus.count_years_months(obstime[gooddepth]);"
   ]
  },
  {
   "cell_type": "code",
   "execution_count": null,
   "metadata": {},
   "outputs": [],
   "source": [
    "fig = plt.figure()\n",
    "ax = plt.subplot(111)\n",
    "plt.bar(1:12, monthcount, color=mycolor)\n",
    "ax.set_xticks(collect(1:12))\n",
    "ax.set_xticklabels(Dates.monthname.(1:12))\n",
    "ax.set_xlim(0.5, 12.5)\n",
    "ax.spines[\"right\"].set_visible(false)\n",
    "ax.spines[\"top\"].set_visible(false)\n",
    "ax.spines[\"bottom\"].set_visible(false)\n",
    "fig.autofmt_xdate()\n",
    "ax.set_title(\"Monthly distribution of observations from WOD\")\n",
    "plt.savefig(joinpath(figdir, \"WOD_time_histogram_month\"))\n",
    "# plt.show()\n",
    "plt.close()"
   ]
  },
  {
   "cell_type": "markdown",
   "metadata": {},
   "source": [
    "### Month polar"
   ]
  },
  {
   "cell_type": "code",
   "execution_count": null,
   "metadata": {},
   "outputs": [],
   "source": [
    "N = 12\n",
    "theta = LinRange(0, 2 * π - π/6, N)\n",
    "width = (1.8 * π) / N\n",
    "fig = plt.figure(figsize=(10, 10))\n",
    "ax = plt.subplot(111, polar=true)\n",
    "ax.set_thetagrids(collect(0:30:330), Dates.monthname.(1:12))\n",
    "ax.set_theta_zero_location(\"N\")\n",
    "bars = ax.bar(theta, monthcount, width=width, color=mycolor)\n",
    "plt.savefig(joinpath(figdir, \"WOD_time_histogram_month_polar\"))\n",
    "plt.close()"
   ]
  },
  {
   "cell_type": "markdown",
   "metadata": {},
   "source": [
    "### Year"
   ]
  },
  {
   "cell_type": "code",
   "execution_count": null,
   "metadata": {},
   "outputs": [],
   "source": [
    "fig = plt.figure()\n",
    "ax = plt.subplot(111)\n",
    "plt.bar(minimum(years):maximum(years), yearcount, color=mycolor)\n",
    "ax.spines[\"right\"].set_visible(false)\n",
    "ax.spines[\"top\"].set_visible(false)\n",
    "ax.spines[\"bottom\"].set_visible(false)\n",
    "ax.set_title(\"Yearly distribution of observations from WOD\")\n",
    "\n",
    "plt.savefig(joinpath(figdir, \"WOD_time_histogram_year\"))\n",
    "# plt.show()\n",
    "plt.close()"
   ]
  },
  {
   "cell_type": "markdown",
   "metadata": {},
   "source": [
    "## Spatial distribution"
   ]
  },
  {
   "cell_type": "code",
   "execution_count": null,
   "metadata": {},
   "outputs": [],
   "source": [
    "fig = plt.figure()\n",
    "ax = plt.subplot(111, projection=mainproj)\n",
    "ax.set_extent(dom)\n",
    "ax.plot(obslon, obslat, \"ko\", markersize=1, transform=datacrs)\n",
    "ax.add_feature(coast, facecolor=\"#363636\", edgecolor=\"k\", zorder=5)\n",
    "\n",
    "gl = ax.gridlines(crs=ccrs.PlateCarree(), draw_labels=true,\n",
    "                      linewidth=.5, color=\"gray\", alpha=1, linestyle=\"--\")\n",
    "gl.top_labels = false\n",
    "gl.right_labels = false\n",
    "gl.xformatter = lon_formatter\n",
    "gl.yformatter = lat_formatter\n",
    "gl.xlabel_style = Dict(\"size\" => 10)\n",
    "gl.ylabel_style = Dict(\"size\" => 10)\n",
    "ax.set_title(\"Locations of the observations\")\n",
    "plt.savefig(joinpath(figdir, \"location_obs\"))\n",
    "plt.show()\n",
    "#plt.close()"
   ]
  },
  {
   "cell_type": "code",
   "execution_count": null,
   "metadata": {},
   "outputs": [],
   "source": []
  }
 ],
 "metadata": {
  "@webio": {
   "lastCommId": null,
   "lastKernelId": null
  },
  "kernelspec": {
   "display_name": "Julia 1.8.5",
   "language": "julia",
   "name": "julia-1.8"
  },
  "language_info": {
   "file_extension": ".jl",
   "mimetype": "application/julia",
   "name": "julia",
   "version": "1.8.5"
  }
 },
 "nbformat": 4,
 "nbformat_minor": 4
}
