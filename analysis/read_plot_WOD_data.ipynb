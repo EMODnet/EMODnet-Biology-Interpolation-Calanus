{
 "cells": [
  {
   "cell_type": "markdown",
   "metadata": {},
   "source": [
    "Preparation of the World Ocean Database data for the period and depth of interest.     \n",
    "The domain is defined in the variable `dom` (tuple)."
   ]
  },
  {
   "cell_type": "code",
   "execution_count": 12,
   "metadata": {},
   "outputs": [
    {
     "data": {
      "text/plain": [
       "PyObject <module 'cmocean' from '/home/ctroupin/.julia/conda/3/lib/python3.7/site-packages/cmocean/__init__.py'>"
      ]
     },
     "execution_count": 12,
     "metadata": {},
     "output_type": "execute_result"
    }
   ],
   "source": [
    "using NCDatasets\n",
    "using PhysOcean\n",
    "using DIVAnd\n",
    "using PyPlot\n",
    "using Dates\n",
    "using Statistics\n",
    "const plt = PyPlot\n",
    "\n",
    "using PyCall\n",
    "colors = PyCall.pyimport(\"matplotlib.colors\")\n",
    "ccrs = PyCall.pyimport(\"cartopy.crs\")\n",
    "cfeature = PyCall.pyimport(\"cartopy.feature\")\n",
    "mticker = PyCall.pyimport(\"matplotlib.ticker\")\n",
    "coast = cfeature.GSHHSFeature(scale=\"full\");\n",
    "cartopyticker = PyCall.pyimport(\"cartopy.mpl.ticker\")\n",
    "lon_formatter = cartopyticker.LongitudeFormatter()\n",
    "lat_formatter = cartopyticker.LatitudeFormatter()\n",
    "cmocean = PyCall.pyimport(\"cmocean\")"
   ]
  },
  {
   "cell_type": "code",
   "execution_count": 13,
   "metadata": {},
   "outputs": [],
   "source": [
    "mycolor = \"#6667AB\"\n",
    "mycolor2 = \"#456A30\" # Green treetop\n",
    "dom = [-20.5, 11.75, 41.25, 67.]\n",
    "mainproj = ccrs.Mercator(central_longitude=0.5*(dom[1] + dom[2]),\n",
    "    min_latitude=dom[3], max_latitude=dom[4])\n",
    "datacrs = ccrs.PlateCarree();"
   ]
  },
  {
   "cell_type": "code",
   "execution_count": 14,
   "metadata": {},
   "outputs": [],
   "source": [
    "datadir = \"/media/ctroupin/My Passport/data/WOD/NorthSea-EMODnetBio\"\n",
    "outputdir = \"../data/WOD\"\n",
    "figdir = \"../figures/WOD\"\n",
    "varname = \"Temperature\"\n",
    "mycolor = \"#6667AB\"\n",
    "mycolor2 = \"#456A30\" # Green treetop\n",
    "isdir(outputdir) ? @debug(\"ok\") : mkpath(outputdir)\n",
    "isdir(figdir) ? @debug(\"ok\") : mkpath(figdir);"
   ]
  },
  {
   "cell_type": "code",
   "execution_count": 16,
   "metadata": {},
   "outputs": [
    {
     "name": "stdout",
     "output_type": "stream",
     "text": [
      "  2.291502 seconds (4.74 M allocations: 313.105 MiB, 8.57% gc time, 89.88% compilation time)\n"
     ]
    },
    {
     "name": "stderr",
     "output_type": "stream",
     "text": [
      "┌ Info: Already read the data from WOD\n",
      "└ @ Main In[16]:4\n"
     ]
    },
    {
     "data": {
      "text/plain": [
       "([12.770000457763672, 12.65999984741211, 12.380000114440918, 12.550000190734863, 12.100000381469727, 12.640000343322754, 12.6899995803833, 12.739999771118164, 12.170000076293945, 12.5  …  9.729999542236328, 9.779999732971191, 9.779999732971191, 9.720000267028809, 9.680000305175781, 9.680000305175781, 9.640000343322754, 9.369999885559082, 9.369999885559082, 9.300000190734863], [-19.941667556762695, -19.941667556762695, -19.941667556762695, -19.886667251586914, -19.886667251586914, -19.831666946411133, -19.856666564941406, -19.836666107177734, -19.91666603088379, -19.78333282470703  …  -1.9299999475479126, -1.7999999523162842, -1.7999999523162842, -1.5, -1.1699999570846558, -1.1699999570846558, -1.0, -0.6700000166893005, -0.6700000166893005, -0.33000001311302185], [52.59166717529297, 52.59166717529297, 52.59166717529297, 52.599998474121094, 52.599998474121094, 52.606666564941406, 52.60333251953125, 52.61166763305664, 52.58333206176758, 52.61666488647461  …  59.279998779296875, 59.279998779296875, 59.279998779296875, 59.279998779296875, 59.279998779296875, 59.279998779296875, 59.279998779296875, 59.279998779296875, 59.279998779296875, 59.279998779296875], [0.0, 0.0, 2.0, 0.0, 3.0, 0.0, 0.0, 0.0, 0.0, 0.0  …  4.0, 3.0, 4.0, 4.0, 3.0, 4.0, 4.0, 3.0, 4.0, 4.0], [DateTime(\"1970-06-11T19:14:59.998\"), DateTime(\"1970-06-11T20:02:59.996\"), DateTime(\"1970-06-11T20:02:59.996\"), DateTime(\"1970-06-11T20:50:00.002\"), DateTime(\"1970-06-11T20:50:00.002\"), DateTime(\"1970-06-11T21:29:59.998\"), DateTime(\"1970-06-11T22:55:59.995\"), DateTime(\"1970-06-11T22:00:00.002\"), DateTime(\"1970-06-12T00:33:00\"), DateTime(\"1970-06-12T00:03:00\")  …  DateTime(\"2020-12-19T07:16:00.002\"), DateTime(\"2020-12-19T08:10:59.999\"), DateTime(\"2020-12-19T08:10:59.999\"), DateTime(\"2020-12-19T10:04:59.998\"), DateTime(\"2020-12-19T12:08:00.001\"), DateTime(\"2020-12-19T12:08:00.001\"), DateTime(\"2020-12-19T13:33:59.998\"), DateTime(\"2020-12-19T15:03:00.002\"), DateTime(\"2020-12-19T15:03:00.002\"), DateTime(\"2020-12-19T16:32:59.997\")], [\"wod_010959661O\", \"wod_010959662O\", \"wod_010959662O\", \"wod_010959663O\", \"wod_010959663O\", \"wod_010959664O\", \"wod_010959665O\", \"wod_010959667O\", \"wod_010959668O\", \"wod_010959669O\"  …  \"wod_020388395O\", \"wod_020388396O\", \"wod_020388396O\", \"wod_020388398O\", \"wod_020388400O\", \"wod_020388400O\", \"wod_020388401O\", \"wod_020388402O\", \"wod_020388402O\", \"wod_020388403O\"])"
      ]
     },
     "execution_count": 16,
     "metadata": {},
     "output_type": "execute_result"
    }
   ],
   "source": [
    "outputfile = joinpath(outputdir, \"temperature_surface_WOD2.nc\")\n",
    "\n",
    "if isfile(outputfile)\n",
    "    @info(\"Already read the data from WOD\");\n",
    "    \n",
    "    @time obsvalue, obslon, obslat, obsdepth, obstime, obsids = loadobs(Float64, outputfile, varname);\n",
    "    \n",
    "else\n",
    "    @info(\"Reading data from WOD and re-writing in a new netCDF\");\n",
    "    \n",
    "    #@time obsvalue, obslon, obslat, obsdepth, obstime, obsid = \n",
    "    #WorldOceanDatabase.load(Float64, datadir, varname);\n",
    "\n",
    "    #@time DIVAnd.saveobs(outputfile, \n",
    "    #        varname, obsvalue[gooddepth], \n",
    "    #        (obslon[gooddepth], obslat[gooddepth], obsdepth[gooddepth], obstime[gooddepth]), \n",
    "    #        obsid[gooddepth]);\n",
    "end"
   ]
  },
  {
   "cell_type": "code",
   "execution_count": 15,
   "metadata": {},
   "outputs": [
    {
     "ename": "LoadError",
     "evalue": "UndefVarError: obsdepth not defined",
     "output_type": "error",
     "traceback": [
      "UndefVarError: obsdepth not defined",
      "",
      "Stacktrace:",
      " [1] top-level scope",
      "   @ In[15]:1",
      " [2] eval",
      "   @ ./boot.jl:373 [inlined]",
      " [3] include_string(mapexpr::typeof(REPL.softscope), mod::Module, code::String, filename::String)",
      "   @ Base ./loading.jl:1196"
     ]
    }
   ],
   "source": [
    "gooddepth = findall(obsdepth .< 5.);\n",
    "@info(length(gooddepth));"
   ]
  },
  {
   "cell_type": "markdown",
   "metadata": {},
   "source": [
    "## Time histogram\n",
    "Get the years and months for the observations near surface (i.e., shallower than 5 m)."
   ]
  },
  {
   "cell_type": "code",
   "execution_count": 17,
   "metadata": {},
   "outputs": [
    {
     "name": "stderr",
     "output_type": "stream",
     "text": [
      "┌ Info: 51\n",
      "└ @ Main In[17]:7\n"
     ]
    }
   ],
   "source": [
    "years = Dates.year.(obstime);\n",
    "months = Dates.month.(obstime);\n",
    "\n",
    "function count_years_months(year::Array, month::Array)\n",
    "    \n",
    "    nyears = maximum(year) - minimum(year) + 1\n",
    "    @info(nyears)\n",
    "    yearcount = zeros(nyears)\n",
    "    monthcount = zeros(12)\n",
    "    \n",
    "    ii = 0\n",
    "    for yyyy in minimum(year):maximum(year)\n",
    "        ii += 1\n",
    "        yearcount[ii] = sum(year .== yyyy)\n",
    "    end\n",
    "    \n",
    "    for mm in 1:12\n",
    "        monthcount[mm] = sum(month .== mm)\n",
    "    end\n",
    "       \n",
    "    return yearcount, monthcount\n",
    "end\n",
    "\n",
    "yearcount, monthcount = count_years_months(years, months);"
   ]
  },
  {
   "cell_type": "markdown",
   "metadata": {},
   "source": [
    "### Month"
   ]
  },
  {
   "cell_type": "code",
   "execution_count": 18,
   "metadata": {},
   "outputs": [
    {
     "name": "stderr",
     "output_type": "stream",
     "text": [
      "┌ Warning: `vendor()` is deprecated, use `BLAS.get_config()` and inspect the output instead\n",
      "│   caller = npyinitialize() at numpy.jl:67\n",
      "└ @ PyCall /home/ctroupin/.julia/packages/PyCall/3fwVL/src/numpy.jl:67\n"
     ]
    }
   ],
   "source": [
    "fig = plt.figure(figsize=(12, 8))\n",
    "ax = plt.subplot(111)\n",
    "plt.bar(1:12, monthcount, color=mycolor)\n",
    "ax.set_xticks(collect(1:12))\n",
    "ax.set_xticklabels(Dates.monthname.(1:12))\n",
    "ax.set_xlim(0.5, 12.5)\n",
    "ax.spines[\"right\"].set_visible(false)\n",
    "ax.spines[\"top\"].set_visible(false)\n",
    "ax.spines[\"bottom\"].set_visible(false)\n",
    "\n",
    "fig.autofmt_xdate()\n",
    "ax.set_title(\"Monthly distribution of observations from WOD\")\n",
    "plt.savefig(joinpath(figdir, \"WOD_time_histogram_month\"), dpi=300, bbox_inches=\"tight\")\n",
    "#plt.show()\n",
    "plt.close()"
   ]
  },
  {
   "cell_type": "markdown",
   "metadata": {},
   "source": [
    "### Month polar"
   ]
  },
  {
   "cell_type": "code",
   "execution_count": 19,
   "metadata": {},
   "outputs": [],
   "source": [
    "N = 12\n",
    "theta = LinRange(0, 2 * π - π/6, N)\n",
    "width = (1.8 * π) / N\n",
    "fig = plt.figure(figsize=(10, 10))\n",
    "ax = plt.subplot(111, polar=true)\n",
    "ax.set_thetagrids(collect(0:30:330), Dates.monthname.(1:12))\n",
    "ax.set_theta_zero_location(\"N\")\n",
    "bars = ax.bar(theta, monthcount, width=width, color=mycolor)\n",
    "plt.savefig(joinpath(figdir, \"WOD_time_histogram_month_polar\"), dpi=300, bbox_inches=\"tight\")\n",
    "plt.close()"
   ]
  },
  {
   "cell_type": "markdown",
   "metadata": {},
   "source": [
    "### Year"
   ]
  },
  {
   "cell_type": "code",
   "execution_count": 20,
   "metadata": {},
   "outputs": [],
   "source": [
    "fig = plt.figure(figsize=(12, 8))\n",
    "ax = plt.subplot(111)\n",
    "plt.bar(minimum(years):maximum(years), yearcount, color=mycolor)\n",
    "ax.spines[\"right\"].set_visible(false)\n",
    "ax.spines[\"top\"].set_visible(false)\n",
    "ax.spines[\"bottom\"].set_visible(false)\n",
    "ax.set_title(\"Yearly distribution of observations from WOD\")\n",
    "\n",
    "plt.savefig(joinpath(figdir, \"WOD_time_histogram_year\"), dpi=300, bbox_inches=\"tight\")\n",
    "# plt.show()\n",
    "plt.close()"
   ]
  },
  {
   "cell_type": "markdown",
   "metadata": {},
   "source": [
    "## Spatial distribution"
   ]
  },
  {
   "cell_type": "code",
   "execution_count": 23,
   "metadata": {},
   "outputs": [
    {
     "ename": "LoadError",
     "evalue": "PyError ($(Expr(:escape, :(ccall(#= /home/ctroupin/.julia/packages/PyCall/3fwVL/src/pyfncall.jl:43 =# @pysym(:PyObject_Call), PyPtr, (PyPtr, PyPtr, PyPtr), o, pyargsptr, kw))))) <class 'AttributeError'>\nAttributeError(\"'NoneType' object has no attribute 'axes'\")\n  File \"/home/ctroupin/.julia/conda/3/lib/python3.7/site-packages/matplotlib/pyplot.py\", line 729, in savefig\n    res = fig.savefig(*args, **kwargs)\n  File \"/home/ctroupin/.julia/conda/3/lib/python3.7/site-packages/matplotlib/figure.py\", line 2180, in savefig\n    self.canvas.print_figure(fname, **kwargs)\n  File \"/home/ctroupin/.julia/conda/3/lib/python3.7/site-packages/matplotlib/backend_bases.py\", line 2065, in print_figure\n    **kwargs)\n  File \"/home/ctroupin/.julia/conda/3/lib/python3.7/site-packages/matplotlib/backends/backend_agg.py\", line 527, in print_png\n    FigureCanvasAgg.draw(self)\n  File \"/home/ctroupin/.julia/conda/3/lib/python3.7/site-packages/matplotlib/backends/backend_agg.py\", line 388, in draw\n    self.figure.draw(self.renderer)\n  File \"/home/ctroupin/.julia/conda/3/lib/python3.7/site-packages/matplotlib/artist.py\", line 38, in draw_wrapper\n    return draw(artist, renderer, *args, **kwargs)\n  File \"/home/ctroupin/.julia/conda/3/lib/python3.7/site-packages/matplotlib/figure.py\", line 1709, in draw\n    renderer, self, artists, self.suppressComposite)\n  File \"/home/ctroupin/.julia/conda/3/lib/python3.7/site-packages/matplotlib/image.py\", line 135, in _draw_list_compositing_images\n    a.draw(renderer)\n  File \"/home/ctroupin/.julia/conda/3/lib/python3.7/site-packages/matplotlib/artist.py\", line 38, in draw_wrapper\n    return draw(artist, renderer, *args, **kwargs)\n  File \"/home/ctroupin/.julia/conda/3/lib/python3.7/site-packages/cartopy/mpl/geoaxes.py\", line 369, in draw\n    gl._draw_gridliner(background_patch=self.background_patch)\n  File \"/home/ctroupin/.julia/conda/3/lib/python3.7/site-packages/cartopy/mpl/gridliner.py\", line 370, in _draw_gridliner\n    self._add_gridline_label(x, axis='x', upper_end=False)\n  File \"/home/ctroupin/.julia/conda/3/lib/python3.7/site-packages/cartopy/mpl/gridliner.py\", line 254, in _add_gridline_label\n    str_value = self.xformatter(value)\n  File \"/home/ctroupin/.julia/conda/3/lib/python3.7/site-packages/cartopy/mpl/ticker.py\", line 48, in __call__\n    if not isinstance(self.axis.axes, GeoAxes):\n",
     "output_type": "error",
     "traceback": [
      "PyError ($(Expr(:escape, :(ccall(#= /home/ctroupin/.julia/packages/PyCall/3fwVL/src/pyfncall.jl:43 =# @pysym(:PyObject_Call), PyPtr, (PyPtr, PyPtr, PyPtr), o, pyargsptr, kw))))) <class 'AttributeError'>\nAttributeError(\"'NoneType' object has no attribute 'axes'\")\n  File \"/home/ctroupin/.julia/conda/3/lib/python3.7/site-packages/matplotlib/pyplot.py\", line 729, in savefig\n    res = fig.savefig(*args, **kwargs)\n  File \"/home/ctroupin/.julia/conda/3/lib/python3.7/site-packages/matplotlib/figure.py\", line 2180, in savefig\n    self.canvas.print_figure(fname, **kwargs)\n  File \"/home/ctroupin/.julia/conda/3/lib/python3.7/site-packages/matplotlib/backend_bases.py\", line 2065, in print_figure\n    **kwargs)\n  File \"/home/ctroupin/.julia/conda/3/lib/python3.7/site-packages/matplotlib/backends/backend_agg.py\", line 527, in print_png\n    FigureCanvasAgg.draw(self)\n  File \"/home/ctroupin/.julia/conda/3/lib/python3.7/site-packages/matplotlib/backends/backend_agg.py\", line 388, in draw\n    self.figure.draw(self.renderer)\n  File \"/home/ctroupin/.julia/conda/3/lib/python3.7/site-packages/matplotlib/artist.py\", line 38, in draw_wrapper\n    return draw(artist, renderer, *args, **kwargs)\n  File \"/home/ctroupin/.julia/conda/3/lib/python3.7/site-packages/matplotlib/figure.py\", line 1709, in draw\n    renderer, self, artists, self.suppressComposite)\n  File \"/home/ctroupin/.julia/conda/3/lib/python3.7/site-packages/matplotlib/image.py\", line 135, in _draw_list_compositing_images\n    a.draw(renderer)\n  File \"/home/ctroupin/.julia/conda/3/lib/python3.7/site-packages/matplotlib/artist.py\", line 38, in draw_wrapper\n    return draw(artist, renderer, *args, **kwargs)\n  File \"/home/ctroupin/.julia/conda/3/lib/python3.7/site-packages/cartopy/mpl/geoaxes.py\", line 369, in draw\n    gl._draw_gridliner(background_patch=self.background_patch)\n  File \"/home/ctroupin/.julia/conda/3/lib/python3.7/site-packages/cartopy/mpl/gridliner.py\", line 370, in _draw_gridliner\n    self._add_gridline_label(x, axis='x', upper_end=False)\n  File \"/home/ctroupin/.julia/conda/3/lib/python3.7/site-packages/cartopy/mpl/gridliner.py\", line 254, in _add_gridline_label\n    str_value = self.xformatter(value)\n  File \"/home/ctroupin/.julia/conda/3/lib/python3.7/site-packages/cartopy/mpl/ticker.py\", line 48, in __call__\n    if not isinstance(self.axis.axes, GeoAxes):\n",
      "",
      "Stacktrace:",
      "  [1] pyerr_check",
      "    @ ~/.julia/packages/PyCall/3fwVL/src/exception.jl:62 [inlined]",
      "  [2] pyerr_check",
      "    @ ~/.julia/packages/PyCall/3fwVL/src/exception.jl:66 [inlined]",
      "  [3] _handle_error(msg::String)",
      "    @ PyCall ~/.julia/packages/PyCall/3fwVL/src/exception.jl:83",
      "  [4] macro expansion",
      "    @ ~/.julia/packages/PyCall/3fwVL/src/exception.jl:97 [inlined]",
      "  [5] #107",
      "    @ ~/.julia/packages/PyCall/3fwVL/src/pyfncall.jl:43 [inlined]",
      "  [6] disable_sigint",
      "    @ ./c.jl:458 [inlined]",
      "  [7] __pycall!",
      "    @ ~/.julia/packages/PyCall/3fwVL/src/pyfncall.jl:42 [inlined]",
      "  [8] _pycall!(ret::PyObject, o::PyObject, args::Tuple{String}, nargs::Int64, kw::PyObject)",
      "    @ PyCall ~/.julia/packages/PyCall/3fwVL/src/pyfncall.jl:29",
      "  [9] _pycall!(ret::PyObject, o::PyObject, args::Tuple{String}, kwargs::Base.Pairs{Symbol, Any, Tuple{Symbol, Symbol}, NamedTuple{(:dpi, :bbox_inches), Tuple{Int64, String}}})",
      "    @ PyCall ~/.julia/packages/PyCall/3fwVL/src/pyfncall.jl:11",
      " [10] #pycall#113",
      "    @ ~/.julia/packages/PyCall/3fwVL/src/pyfncall.jl:83 [inlined]",
      " [11] savefig(args::String; kws::Base.Pairs{Symbol, Any, Tuple{Symbol, Symbol}, NamedTuple{(:dpi, :bbox_inches), Tuple{Int64, String}}})",
      "    @ PyPlot ~/.julia/packages/PyPlot/XHEG0/src/PyPlot.jl:177",
      " [12] top-level scope",
      "    @ In[23]:15",
      " [13] eval",
      "    @ ./boot.jl:373 [inlined]",
      " [14] include_string(mapexpr::typeof(REPL.softscope), mod::Module, code::String, filename::String)",
      "    @ Base ./loading.jl:1196"
     ]
    }
   ],
   "source": [
    "fig = plt.figure(figsize=(12, 12))\n",
    "ax = plt.subplot(111, projection=mainproj)\n",
    "ax.plot(obslon, obslat, \"ko\", markersize=1, transform=datacrs)\n",
    "ax.add_feature(coast, facecolor=\"#363636\", edgecolor=\"k\", zorder=5)\n",
    "\n",
    "gl = ax.gridlines(crs=ccrs.PlateCarree(), draw_labels=true,\n",
    "                      linewidth=.5, color=\"gray\", alpha=1, linestyle=\"--\")\n",
    "gl.top_labels = false\n",
    "gl.right_labels = false\n",
    "gl.xformatter = lon_formatter\n",
    "gl.yformatter = lat_formatter\n",
    "gl.xlabel_style = Dict(\"size\" => 10)\n",
    "gl.ylabel_style = Dict(\"size\" => 10)\n",
    "ax.set_title(\"Locations of the observations\")\n",
    "plt.savefig(joinpath(figdir, \"location_obs\"), dpi=300, bbox_inches=\"tight\")\n",
    "plt.show()\n",
    "#plt.close()"
   ]
  },
  {
   "cell_type": "code",
   "execution_count": null,
   "metadata": {},
   "outputs": [],
   "source": []
  }
 ],
 "metadata": {
  "@webio": {
   "lastCommId": null,
   "lastKernelId": null
  },
  "kernelspec": {
   "display_name": "Julia 1.7.0",
   "language": "julia",
   "name": "julia-1.7"
  },
  "language_info": {
   "file_extension": ".jl",
   "mimetype": "application/julia",
   "name": "julia",
   "version": "1.7.0"
  }
 },
 "nbformat": 4,
 "nbformat_minor": 4
}
